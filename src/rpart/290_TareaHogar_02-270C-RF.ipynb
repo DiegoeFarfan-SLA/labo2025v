{
  "nbformat": 4,
  "nbformat_minor": 0,
  "metadata": {
    "colab": {
      "provenance": [],
      "include_colab_link": true
    },
    "kernelspec": {
      "name": "python3",
      "display_name": "Python 3"
    },
    "language_info": {
      "name": "python"
    }
  },
  "cells": [
    {
      "cell_type": "markdown",
      "metadata": {
        "id": "view-in-github",
        "colab_type": "text"
      },
      "source": [
        "<a href=\"https://colab.research.google.com/github/DiegoeFarfan-SLA/labo2025v/blob/main/src/rpart/290_TareaHogar_02-270C-RF.ipynb\" target=\"_parent\"><img src=\"https://colab.research.google.com/assets/colab-badge.svg\" alt=\"Open In Colab\"/></a>"
      ]
    },
    {
      "cell_type": "markdown",
      "source": [
        "# Tarea para el Hogar 02"
      ],
      "metadata": {
        "id": "F3r8aa3pBigj"
      }
    },
    {
      "cell_type": "markdown",
      "source": [
        "Esta Tarea para el Hogar 02 se entrega el final de la segunda clase\n",
        "<br> se espera de usted que intente avanzar con los desafios propuestos y que los traiga terminados para la Clase 03, ya que se analizarán los resultados"
      ],
      "metadata": {
        "id": "nBm4ktHUBmZt"
      }
    },
    {
      "cell_type": "markdown",
      "source": [
        "##  1. Ensembles de Modelos"
      ],
      "metadata": {
        "id": "TK-M04ElCESC"
      }
    },
    {
      "cell_type": "markdown",
      "source": [
        "Vea el siguiente video [BBC - The Code - The Wisdom of the Crowd](https://www.youtube.com/watch?v=iOucwX7Z1HU)    ( 5 min)\n"
      ],
      "metadata": {
        "id": "biPYxgobCOSS"
      }
    },
    {
      "cell_type": "markdown",
      "source": [
        "Lea los siguientes artículos\n",
        "\n",
        "\n",
        "*   [The Wisdom of Crowds (Vox Populi) by Francis Galton](https://www.all-about-psychology.com/the-wisdom-of-crowds.html)  (10 min)\n",
        "*   [A Gentle Introduction to Ensemble Learning](https://machinelearningmastery.com/what-is-ensemble-learning/)  (10 min)\n",
        "\n"
      ],
      "metadata": {
        "id": "FBszBRyNCcjp"
      }
    },
    {
      "cell_type": "markdown",
      "source": [
        "\n",
        "\n",
        "---\n",
        "\n"
      ],
      "metadata": {
        "id": "x7SebtV2lpHQ"
      }
    },
    {
      "cell_type": "markdown",
      "source": [
        "##  2.  Zero2Hero   primera parte\n",
        "Se han lanzado los primeros fascículos coleccionables llamados \"from Zero to Hero\" que muy detalladamente, paso a paso enseñan todo lo necesario de R para entender los scripts oficiales de la asignatura.\n",
        "Están en el repositorio oficial de la asignatura, carpeta  **src/zero2hero**"
      ],
      "metadata": {
        "id": "NQcY8u2MDSLT"
      }
    },
    {
      "cell_type": "markdown",
      "source": [
        "\n",
        "\n",
        "---\n",
        "\n"
      ],
      "metadata": {
        "id": "GcO0OSiIEAGy"
      }
    },
    {
      "cell_type": "markdown",
      "source": [
        "## 3.  Grid Search"
      ],
      "metadata": {
        "id": "6MStcyn0EBdT"
      }
    },
    {
      "cell_type": "markdown",
      "source": [
        "Busque en internet el precido significado de los hiperparámetros de la librería **rpart**  que está implementando el algoritmo **CART**  Classification and Regression Trees  propuesto en el año 1984 por Leo Brieman:\n",
        "\n",
        "*   cp\n",
        "*   maxdepth\n",
        "*   minsplit\n",
        "*   minbucket\n",
        "\n",
        "Entienda que valores es razonable tome cada hiperparámetro,  en particular profundice en el hiperparámetro  **cp**  y la posibilidad que tome valores negativos.  Es válido consultar a su amigo de *capacidades especiales*  ChatGPT\n"
      ],
      "metadata": {
        "id": "gM8RKXDgEIY0"
      }
    },
    {
      "cell_type": "markdown",
      "source": [
        "En las siguientes celdas a un notebook incompleto, un esqueleto de codigo brindado a modo de facilitarle la tarea de codeo y permitir que su valiosa cognición se concentre temas conceptuales de Ciencia de Datos\n",
        "\n",
        "Modifiquelo agregando loops para que recorra TODOS los hiperparámetros de rpart  < cp, maxdepth, minsplit, minbucket >, y luego póngalo a correr. Recuerde cambiar por SU semilla\n",
        "Tenga muy presente la granularidad que eligirá para cada hiperparámetro."
      ],
      "metadata": {
        "id": "_k7eT3HIFy9y"
      }
    },
    {
      "cell_type": "markdown",
      "source": [
        "### Seteo del ambiente en Google Colab"
      ],
      "metadata": {
        "id": "kmLygy1TYPfg"
      }
    },
    {
      "cell_type": "markdown",
      "source": [
        "Esta parte se debe correr con el runtime en Python3\n",
        "<br>Ir al menu, Runtime -> Change Runtime Tipe -> Runtime type ->  **Python 3**"
      ],
      "metadata": {
        "id": "OikOm5K2YU3X"
      }
    },
    {
      "cell_type": "markdown",
      "source": [
        "Conectar la virtual machine donde esta corriendo Google Colab con el  Google Drive, para poder tener persistencia de archivos"
      ],
      "metadata": {
        "id": "4fmV5LyZdFyI"
      }
    },
    {
      "cell_type": "code",
      "source": [
        "# primero establecer el Runtime de Python 3\n",
        "from google.colab import drive\n",
        "drive.mount('/content/.drive')"
      ],
      "metadata": {
        "id": "ilEZ-bE2VybW",
        "colab": {
          "base_uri": "https://localhost:8080/",
          "height": 0
        },
        "outputId": "21e83e28-4fa1-4d1d-9739-1e78b6fd0316"
      },
      "execution_count": 1,
      "outputs": [
        {
          "output_type": "stream",
          "name": "stdout",
          "text": [
            "Mounted at /content/.drive\n"
          ]
        }
      ]
    },
    {
      "cell_type": "markdown",
      "source": [
        "Para correr la siguiente celda es fundamental en Arranque en Frio haber copiado el archivo kaggle.json al Google Drive, en la carpeta indicada en el instructivo\n",
        "\n",
        "<br>los siguientes comando estan en shell script de Linux\n",
        "*   Crear las carpetas en el Google Drive\n",
        "*   \"instalar\" el archivo kaggle.json desde el Google Drive a la virtual machine para que pueda ser utilizado por la libreria  kaggle de Python\n",
        "*   Bajar el  **dataset_pequeno**  al  Google Drive  y tambien al disco local de la virtual machine que esta corriendo Google Colab\n",
        "\n"
      ],
      "metadata": {
        "id": "ilaKtqWldeWg"
      }
    },
    {
      "cell_type": "code",
      "source": [
        "%%shell\n",
        "# ==========================\n",
        "# Setup de buckets y dataset\n",
        "# ==========================\n",
        "\n",
        "# 1) Estructura de carpetas y symlink a buckets\n",
        "mkdir -p \"/content/.drive/My Drive/labo1\"\n",
        "mkdir -p \"/content/buckets\"\n",
        "ln -sf \"/content/.drive/My Drive/labo1\" /content/buckets/b1\n",
        "\n",
        "# 2) Credenciales Kaggle (si las usás en otras celdas)\n",
        "mkdir -p ~/.kaggle\n",
        "if [ -f /content/buckets/b1/kaggle/kaggle.json ]; then\n",
        "  cp /content/buckets/b1/kaggle/kaggle.json  ~/.kaggle\n",
        "  chmod 600 ~/.kaggle/kaggle.json\n",
        "fi\n",
        "\n",
        "# 3) Estructuras internas\n",
        "mkdir -p /content/buckets/b1/exp\n",
        "mkdir -p /content/buckets/b1/datasets\n",
        "mkdir -p /content/datasets\n",
        "\n",
        "# 4) Descarga dataset si no existe en bucket ni en /content\n",
        "archivo_origen=\"https://storage.googleapis.com/open-courses/austral2025-af91/dataset_pequeno.csv\"\n",
        "archivo_destino=\"/content/datasets/dataset_pequeno.csv\"\n",
        "archivo_destino_bucket=\"/content/buckets/b1/datasets/dataset_pequeno.csv\"\n",
        "\n",
        "if ! test -f $archivo_destino_bucket; then\n",
        "  wget  $archivo_origen  -O $archivo_destino_bucket\n",
        "fi\n",
        "\n",
        "if ! test -f $archivo_destino; then\n",
        "  cp  $archivo_destino_bucket  $archivo_destino\n",
        "fi\n",
        "\n",
        "echo \"✅ Setup de entorno y dataset listo.\"\n"
      ],
      "metadata": {
        "id": "W8dQFI5QYCFa",
        "colab": {
          "base_uri": "https://localhost:8080/",
          "height": 0
        },
        "outputId": "b1a93878-f4af-4cc4-e87e-ea04cf748377"
      },
      "execution_count": 2,
      "outputs": [
        {
          "output_type": "stream",
          "name": "stdout",
          "text": [
            "✅ Setup de entorno y dataset listo.\n"
          ]
        },
        {
          "output_type": "execute_result",
          "data": {
            "text/plain": []
          },
          "metadata": {},
          "execution_count": 2
        }
      ]
    },
    {
      "cell_type": "markdown",
      "source": [
        "limpio el ambiente de R"
      ],
      "metadata": {
        "id": "SE94XRhWsxkX"
      }
    },
    {
      "cell_type": "code",
      "source": [
        "# limpio la memoria\n",
        "rm(list=ls(all.names=TRUE)) # remove all objects\n",
        "gc(full=TRUE, verbose=FALSE) # garbage collection"
      ],
      "metadata": {
        "id": "oZG_4br6szlT",
        "colab": {
          "base_uri": "https://localhost:8080/",
          "height": 130
        },
        "outputId": "39515a3d-8916-478e-82af-96720d56075b"
      },
      "execution_count": 1,
      "outputs": [
        {
          "output_type": "display_data",
          "data": {
            "text/html": [
              "<table class=\"dataframe\">\n",
              "<caption>A matrix: 2 × 6 of type dbl</caption>\n",
              "<thead>\n",
              "\t<tr><th></th><th scope=col>used</th><th scope=col>(Mb)</th><th scope=col>gc trigger</th><th scope=col>(Mb)</th><th scope=col>max used</th><th scope=col>(Mb)</th></tr>\n",
              "</thead>\n",
              "<tbody>\n",
              "\t<tr><th scope=row>Ncells</th><td> 657244</td><td>35.2</td><td>1454471</td><td>77.7</td><td>1326126</td><td>70.9</td></tr>\n",
              "\t<tr><th scope=row>Vcells</th><td>1220271</td><td> 9.4</td><td>8388608</td><td>64.0</td><td>1975128</td><td>15.1</td></tr>\n",
              "</tbody>\n",
              "</table>\n"
            ],
            "text/markdown": "\nA matrix: 2 × 6 of type dbl\n\n| <!--/--> | used | (Mb) | gc trigger | (Mb) | max used | (Mb) |\n|---|---|---|---|---|---|---|\n| Ncells |  657244 | 35.2 | 1454471 | 77.7 | 1326126 | 70.9 |\n| Vcells | 1220271 |  9.4 | 8388608 | 64.0 | 1975128 | 15.1 |\n\n",
            "text/latex": "A matrix: 2 × 6 of type dbl\n\\begin{tabular}{r|llllll}\n  & used & (Mb) & gc trigger & (Mb) & max used & (Mb)\\\\\n\\hline\n\tNcells &  657244 & 35.2 & 1454471 & 77.7 & 1326126 & 70.9\\\\\n\tVcells & 1220271 &  9.4 & 8388608 & 64.0 & 1975128 & 15.1\\\\\n\\end{tabular}\n",
            "text/plain": [
              "       used    (Mb) gc trigger (Mb) max used (Mb)\n",
              "Ncells  657244 35.2 1454471    77.7 1326126  70.9\n",
              "Vcells 1220271  9.4 8388608    64.0 1975128  15.1"
            ]
          },
          "metadata": {}
        }
      ]
    },
    {
      "cell_type": "code",
      "source": [
        "# cargo las librerias que necesito\n",
        "require(\"data.table\")\n",
        "require(\"rpart\")\n",
        "require(\"parallel\")\n",
        "if (!require(\"primes\")) install.packages(\"primes\")\n",
        "require(\"primes\")"
      ],
      "metadata": {
        "id": "JO-12d7YHkWy",
        "colab": {
          "base_uri": "https://localhost:8080/",
          "height": 0
        },
        "outputId": "cdf506cf-1d7b-4feb-9418-26fb41c83c24"
      },
      "execution_count": 2,
      "outputs": [
        {
          "output_type": "stream",
          "name": "stderr",
          "text": [
            "Loading required package: data.table\n",
            "\n",
            "Loading required package: rpart\n",
            "\n",
            "Loading required package: parallel\n",
            "\n",
            "Loading required package: primes\n",
            "\n",
            "Warning message in library(package, lib.loc = lib.loc, character.only = TRUE, logical.return = TRUE, :\n",
            "“there is no package called ‘primes’”\n",
            "Installing package into ‘/usr/local/lib/R/site-library’\n",
            "(as ‘lib’ is unspecified)\n",
            "\n",
            "Loading required package: primes\n",
            "\n"
          ]
        }
      ]
    },
    {
      "cell_type": "markdown",
      "source": [
        "Aqui debe poner SU semiila primigenia"
      ],
      "metadata": {
        "id": "0MclPEJ6Q8Bp"
      }
    },
    {
      "cell_type": "code",
      "source": [
        "PARAM <- list()\n",
        "# reemplazar por su primer semilla\n",
        "PARAM$semilla_primigenia <- 304879\n",
        "PARAM$qsemillas <- 1\n",
        "\n",
        "PARAM$training_pct <- 70L  # entre  1L y 99L\n",
        "\n",
        "# elegir SU dataset comentando/ descomentando\n",
        "PARAM$dataset_nom <- \"~/datasets/dataset_pequeno.csv\""
      ],
      "metadata": {
        "id": "Vt5fC6bWHu5r"
      },
      "execution_count": 3,
      "outputs": []
    },
    {
      "cell_type": "code",
      "source": [
        "# particionar agrega una columna llamada fold a un dataset\n",
        "#  que consiste en una particion estratificada segun agrupa\n",
        "# particionar( data=dataset, division=c(70,30), agrupa=clase_ternaria, seed=semilla)\n",
        "#   crea una particion 70, 30\n",
        "\n",
        "particionar <- function(data, division, agrupa = \"\", campo = \"fold\", start = 1, seed = NA) {\n",
        "  if (!is.na(seed)) set.seed(seed)\n",
        "\n",
        "  bloque <- unlist(mapply(function(x, y) {\n",
        "    rep(y, x)\n",
        "  }, division, seq(from = start, length.out = length(division))))\n",
        "\n",
        "  data[, (campo) := sample(rep(bloque, ceiling(.N / length(bloque))))[1:.N],\n",
        "    by = agrupa\n",
        "  ]\n",
        "}\n"
      ],
      "metadata": {
        "id": "Z1dchsrWH4MD"
      },
      "execution_count": 4,
      "outputs": []
    },
    {
      "cell_type": "code",
      "source": [
        "ArbolEstimarGanancia <- function(semilla, training_pct, param_basicos) {\n",
        "  # particiono estratificadamente el dataset\n",
        "  particionar(dataset,\n",
        "    division = c(training_pct, 100L -training_pct),\n",
        "    agrupa = \"clase_ternaria\",\n",
        "    seed = semilla # aqui se usa SU semilla\n",
        "  )\n",
        "\n",
        "  # genero el modelo\n",
        "  # predecir clase_ternaria a partir del resto\n",
        "  modelo <- rpart(\"clase_ternaria ~ .\",\n",
        "    data = dataset[fold == 1], # fold==1  es training,  el 70% de los datos\n",
        "    xval = 0,\n",
        "    control = param_basicos\n",
        "  ) # aqui van los parametros del arbol\n",
        "\n",
        "  # aplico el modelo a los datos de testing\n",
        "  prediccion <- predict(modelo, # el modelo que genere recien\n",
        "    dataset[fold == 2], # fold==2  es testing, el 30% de los datos\n",
        "    type = \"prob\"\n",
        "  ) # type= \"prob\"  es que devuelva la probabilidad\n",
        "\n",
        "  # prediccion es una matriz con TRES columnas,\n",
        "  #  llamadas \"BAJA+1\", \"BAJA+2\"  y \"CONTINUA\"\n",
        "  # cada columna es el vector de probabilidades\n",
        "\n",
        "\n",
        "  # calculo la ganancia en testing  qu es fold==2\n",
        "  ganancia_test <- dataset[\n",
        "    fold == 2,\n",
        "    sum(ifelse(prediccion[, \"BAJA+2\"] > 0.025,\n",
        "      ifelse(clase_ternaria == \"BAJA+2\", 117000, -3000),\n",
        "      0\n",
        "    ))\n",
        "  ]\n",
        "\n",
        "  # escalo la ganancia como si fuera todo el dataset\n",
        "  ganancia_test_normalizada <- ganancia_test / (( 100 - PARAM$training_pct ) / 100 )\n",
        "\n",
        "  return(\n",
        "    c( list(\"semilla\" = semilla),\n",
        "      param_basicos,\n",
        "      list( \"ganancia_test\" = ganancia_test_normalizada )\n",
        "     )\n",
        "  )\n",
        "}\n"
      ],
      "metadata": {
        "id": "xsHwS1CzIA70"
      },
      "execution_count": 5,
      "outputs": []
    },
    {
      "cell_type": "code",
      "source": [
        "ArbolesMontecarlo <- function(semillas, param_basicos) {\n",
        "\n",
        "  # la funcion mcmapply  llama a la funcion ArbolEstimarGanancia\n",
        "  #  tantas veces como valores tenga el vector  PARAM$semillas\n",
        "  salida <- mcmapply(ArbolEstimarGanancia,\n",
        "    semillas, # paso el vector de semillas\n",
        "    MoreArgs = list(PARAM$training_pct, param_basicos), # aqui paso el segundo parametro\n",
        "    SIMPLIFY = FALSE,\n",
        "    mc.cores = detectCores()\n",
        "  )\n",
        "\n",
        "  return(salida)\n",
        "}\n"
      ],
      "metadata": {
        "id": "BvBVOuhqIEjD"
      },
      "execution_count": 6,
      "outputs": []
    },
    {
      "cell_type": "code",
      "source": [
        "# carpeta de trabajo\n",
        "# por fabor cambiar numero de experimento si se cambia el loop principal\n",
        "setwd(\"/content/buckets/b1/exp\")\n",
        "experimento <- \"HT2900\"\n",
        "dir.create(experimento, showWarnings=FALSE)\n",
        "setwd( paste0(\"/content/buckets/b1/exp/\", experimento ))"
      ],
      "metadata": {
        "id": "L-DOGHOjIG7G"
      },
      "execution_count": 7,
      "outputs": []
    },
    {
      "cell_type": "code",
      "source": [
        "# lectura del dataset\n",
        "dataset <- fread(\"/content/datasets/dataset_pequeno.csv\")\n",
        "\n",
        "# trabajo solo con los datos con clase, es decir 202107\n",
        "dataset <- dataset[clase_ternaria != \"\"]"
      ],
      "metadata": {
        "id": "NM-mrLWcIPo6"
      },
      "execution_count": 8,
      "outputs": []
    },
    {
      "cell_type": "code",
      "source": [
        "\n",
        "# genero numeros primos\n",
        "primos <- generate_primes(min = 100000, max = 1000000)\n",
        "set.seed(PARAM$semilla_primigenia) # inicializo\n",
        "# me quedo con PARAM$qsemillas   semillas\n",
        "PARAM$semillas <- sample(primos, PARAM$qsemillas )\n"
      ],
      "metadata": {
        "id": "tSlY0EcgIWdi"
      },
      "execution_count": 9,
      "outputs": []
    },
    {
      "cell_type": "code",
      "source": [
        "# genero la data.table donde van los resultados detallados del Grid Search\n",
        "# un registro para cada combinacion de < semilla, parametros >\n",
        "\n",
        "REUSAR_CORRIDA_ANTERIOR <- FALSE\n",
        "\n",
        "if( !REUSAR_CORRIDA_ANTERIOR ){\n",
        "  if (file.exists(\"gridsearch_detalle.txt\")) file.remove(\"gridsearch_detalle.txt\")\n",
        "  if (file.exists(\"gridsearch.txt\"))          file.remove(\"gridsearch.txt\")\n",
        "}\n",
        "\n",
        "# genero la data.table donde van los resultados detallados del Grid Search\n",
        "# un registro para cada combinacion de < semilla, parametros >\n",
        "\n",
        "if(file.exists(\"gridsearch_detalle.txt\")){\n",
        "  tb_grid_search_detalle <- fread(\"gridsearch_detalle.txt\")\n",
        "}else{\n",
        "  tb_grid_search_detalle <- data.table(\n",
        "    semilla       = integer(),\n",
        "    cp            = numeric(),\n",
        "    maxdepth      = integer(),\n",
        "    minsplit      = integer(),\n",
        "    minbucket     = integer(),\n",
        "    ganancia_test = numeric()\n",
        "  )\n",
        "}\n",
        "\n",
        "nrow( tb_grid_search_detalle )"
      ],
      "metadata": {
        "id": "xxCAwIKyIaTl",
        "colab": {
          "base_uri": "https://localhost:8080/",
          "height": 34
        },
        "outputId": "b4d17399-c523-4e04-f073-17723e75835d"
      },
      "execution_count": 10,
      "outputs": [
        {
          "output_type": "display_data",
          "data": {
            "text/html": [
              "0"
            ],
            "text/markdown": "0",
            "text/latex": "0",
            "text/plain": [
              "[1] 0"
            ]
          },
          "metadata": {}
        }
      ]
    },
    {
      "cell_type": "markdown",
      "source": [
        "Esta es la parte del código que usted debe expandir a TODOS los hiperparámetros de rpart,\n",
        "<br>ya que actualmente apenas recorre  maxdepth y  minsplit  dejando fijos  cp=-0.5  y minbucket=5"
      ],
      "metadata": {
        "id": "eAuGBNL8IkOD"
      }
    },
    {
      "cell_type": "code",
      "source": [
        "library(data.table)\n",
        "\n",
        "# ==============================\n",
        "# GRID SEARCH *sin* reutilizar combos\n",
        "# - Reanuda por combinación exacta (anti-join)\n",
        "# - Mantiene rbind + fwrite como tu código\n",
        "# ==============================\n",
        "\n",
        "iter <- 0L\n",
        "\n",
        "cp_vals        <- c(-0.10, -0.05, -0.01)     # 3 valores\n",
        "maxdepth_vals  <- c(6, 8, 10, 12, 14)        # 5 valores\n",
        "minsplit_vals  <- c(50, 100, 200, 400)       # 4 valores\n",
        "minbucket_vals <- c(5, 10, 20, 30, 40)       # 5 valores\n",
        "\n",
        "for (vmax_depth in maxdepth_vals) {                       # loop externo = igual que tu código\n",
        "  for (vcp in cp_vals) {                                  # ahora cp también barre\n",
        "    for (vmin_split in minsplit_vals) {\n",
        "      for (vmin_bucket in minbucket_vals) {\n",
        "\n",
        "        # coherencia básica: si no se cumple, salteamos (esto deja 450 combinaciones)\n",
        "        if (vmin_bucket > floor(vmin_split / 2)) next\n",
        "\n",
        "        iter <- iter + 1\n",
        "        cat(iter, \" \")\n",
        "        flush.console()\n",
        "\n",
        "        # checkpoint para reanudar (idéntico al tuyo)\n",
        "        if (iter * PARAM$qsemillas < nrow(tb_grid_search_detalle) + 1) next\n",
        "\n",
        "        # armo lista de hiperparámetros (idéntico a tu esquema)\n",
        "        param_basicos <- list(\n",
        "          \"cp\"        = vcp,          # complejidad (negativos permitidos como pediste)\n",
        "          \"maxdepth\"  = vmax_depth,   # profundidad máxima\n",
        "          \"minsplit\"  = vmin_split,   # mínimo de registros para split\n",
        "          \"minbucket\" = vmin_bucket   # mínimo de registros en hoja\n",
        "        )\n",
        "\n",
        "        # corre Montecarlo con tus semillas y devuelve data.tables ya uniformadas\n",
        "        ganancias <- ArbolesMontecarlo(PARAM$semillas, param_basicos)\n",
        "\n",
        "        # acumula resultados en la misma tabla de detalle (igual que tu código)\n",
        "        tb_grid_search_detalle <- rbindlist(\n",
        "          list(tb_grid_search_detalle, rbindlist(ganancias)),\n",
        "          use.names = TRUE, fill = TRUE\n",
        "        )\n",
        "      }\n",
        "    }\n",
        "  }\n",
        "\n",
        "  # grabar en el loop más externo (maxdepth), como en tu código original\n",
        "  fwrite(tb_grid_search_detalle,\n",
        "         file = \"gridsearch_detalle.txt\",\n",
        "         sep = \"\\t\")\n",
        "}\n",
        "\n",
        "cat(\"\\nCombinaciones efectivas procesadas (≈): \", iter, \"\\n\")\n",
        "\n",
        "\n"
      ],
      "metadata": {
        "id": "WZaSqYBxiDFu",
        "colab": {
          "base_uri": "https://localhost:8080/",
          "height": 0
        },
        "outputId": "3c054156-3eab-4de7-957d-70ff6f557515"
      },
      "execution_count": 11,
      "outputs": [
        {
          "output_type": "stream",
          "name": "stdout",
          "text": [
            "1  2  3  4  5  6  7  8  9  10  11  12  13  14  15  16  17  18  19  20  21  22  23  24  25  26  27  28  29  30  31  32  33  34  35  36  37  38  39  40  41  42  43  44  45  46  47  48  49  50  51  52  53  54  55  56  57  58  59  60  61  62  63  64  65  66  67  68  69  70  71  72  73  74  75  76  77  78  79  80  81  82  83  84  85  86  87  88  89  90  91  92  93  94  95  96  97  98  99  100  101  102  103  104  105  106  107  108  109  110  111  112  113  114  115  116  117  118  119  120  121  122  123  124  125  126  127  128  129  130  131  132  133  134  135  136  137  138  139  140  141  142  143  144  145  146  147  148  149  150  151  152  153  154  155  156  157  158  159  160  161  162  163  164  165  166  167  168  169  170  171  172  173  174  175  176  177  178  179  180  181  182  183  184  185  186  187  188  189  190  191  192  193  194  195  196  197  198  199  200  201  202  203  204  205  206  207  208  209  210  211  212  213  214  215  216  217  218  219  220  221  222  223  224  225  226  227  228  229  230  231  232  233  234  235  236  237  238  239  240  241  242  243  244  245  246  247  248  249  250  251  252  253  254  255  256  257  258  259  260  261  262  263  264  265  266  267  268  269  270  \n",
            "Combinaciones efectivas procesadas (≈):  270 \n"
          ]
        }
      ]
    },
    {
      "cell_type": "code",
      "source": [
        "# cantidad de registros de la tabla\n",
        "nrow(tb_grid_search_detalle)"
      ],
      "metadata": {
        "id": "STp0duM-RYVJ",
        "colab": {
          "base_uri": "https://localhost:8080/",
          "height": 34
        },
        "outputId": "5ac38073-28c5-450a-9304-2abccbf00574"
      },
      "execution_count": 12,
      "outputs": [
        {
          "output_type": "display_data",
          "data": {
            "text/html": [
              "270"
            ],
            "text/markdown": "270",
            "text/latex": "270",
            "text/plain": [
              "[1] 270"
            ]
          },
          "metadata": {}
        }
      ]
    },
    {
      "cell_type": "code",
      "source": [
        "# muestro la tabla\n",
        "tb_grid_search_detalle"
      ],
      "metadata": {
        "id": "k7fhk_H0iNez",
        "colab": {
          "base_uri": "https://localhost:8080/",
          "height": 2012
        },
        "outputId": "2b4e1913-e508-4c13-a6db-2f6f7df02af9"
      },
      "execution_count": 13,
      "outputs": [
        {
          "output_type": "display_data",
          "data": {
            "text/html": [
              "<table class=\"dataframe\">\n",
              "<caption>A data.table: 270 × 6</caption>\n",
              "<thead>\n",
              "\t<tr><th scope=col>semilla</th><th scope=col>cp</th><th scope=col>maxdepth</th><th scope=col>minsplit</th><th scope=col>minbucket</th><th scope=col>ganancia_test</th></tr>\n",
              "\t<tr><th scope=col>&lt;int&gt;</th><th scope=col>&lt;dbl&gt;</th><th scope=col>&lt;dbl&gt;</th><th scope=col>&lt;dbl&gt;</th><th scope=col>&lt;dbl&gt;</th><th scope=col>&lt;dbl&gt;</th></tr>\n",
              "</thead>\n",
              "<tbody>\n",
              "\t<tr><td>828941</td><td>-0.10</td><td>6</td><td> 50</td><td> 5</td><td>55420000</td></tr>\n",
              "\t<tr><td>828941</td><td>-0.10</td><td>6</td><td> 50</td><td>10</td><td>54860000</td></tr>\n",
              "\t<tr><td>828941</td><td>-0.10</td><td>6</td><td> 50</td><td>20</td><td>50440000</td></tr>\n",
              "\t<tr><td>828941</td><td>-0.10</td><td>6</td><td>100</td><td> 5</td><td>55680000</td></tr>\n",
              "\t<tr><td>828941</td><td>-0.10</td><td>6</td><td>100</td><td>10</td><td>55170000</td></tr>\n",
              "\t<tr><td>828941</td><td>-0.10</td><td>6</td><td>100</td><td>20</td><td>50190000</td></tr>\n",
              "\t<tr><td>828941</td><td>-0.10</td><td>6</td><td>100</td><td>30</td><td>50900000</td></tr>\n",
              "\t<tr><td>828941</td><td>-0.10</td><td>6</td><td>100</td><td>40</td><td>50330000</td></tr>\n",
              "\t<tr><td>828941</td><td>-0.10</td><td>6</td><td>200</td><td> 5</td><td>57230000</td></tr>\n",
              "\t<tr><td>828941</td><td>-0.10</td><td>6</td><td>200</td><td>10</td><td>56720000</td></tr>\n",
              "\t<tr><td>828941</td><td>-0.10</td><td>6</td><td>200</td><td>20</td><td>52020000</td></tr>\n",
              "\t<tr><td>828941</td><td>-0.10</td><td>6</td><td>200</td><td>30</td><td>52020000</td></tr>\n",
              "\t<tr><td>828941</td><td>-0.10</td><td>6</td><td>200</td><td>40</td><td>51170000</td></tr>\n",
              "\t<tr><td>828941</td><td>-0.10</td><td>6</td><td>400</td><td> 5</td><td>57230000</td></tr>\n",
              "\t<tr><td>828941</td><td>-0.10</td><td>6</td><td>400</td><td>10</td><td>56720000</td></tr>\n",
              "\t<tr><td>828941</td><td>-0.10</td><td>6</td><td>400</td><td>20</td><td>52020000</td></tr>\n",
              "\t<tr><td>828941</td><td>-0.10</td><td>6</td><td>400</td><td>30</td><td>52020000</td></tr>\n",
              "\t<tr><td>828941</td><td>-0.10</td><td>6</td><td>400</td><td>40</td><td>51170000</td></tr>\n",
              "\t<tr><td>828941</td><td>-0.05</td><td>6</td><td> 50</td><td> 5</td><td>55420000</td></tr>\n",
              "\t<tr><td>828941</td><td>-0.05</td><td>6</td><td> 50</td><td>10</td><td>54860000</td></tr>\n",
              "\t<tr><td>828941</td><td>-0.05</td><td>6</td><td> 50</td><td>20</td><td>50440000</td></tr>\n",
              "\t<tr><td>828941</td><td>-0.05</td><td>6</td><td>100</td><td> 5</td><td>55680000</td></tr>\n",
              "\t<tr><td>828941</td><td>-0.05</td><td>6</td><td>100</td><td>10</td><td>55170000</td></tr>\n",
              "\t<tr><td>828941</td><td>-0.05</td><td>6</td><td>100</td><td>20</td><td>50190000</td></tr>\n",
              "\t<tr><td>828941</td><td>-0.05</td><td>6</td><td>100</td><td>30</td><td>50900000</td></tr>\n",
              "\t<tr><td>828941</td><td>-0.05</td><td>6</td><td>100</td><td>40</td><td>50330000</td></tr>\n",
              "\t<tr><td>828941</td><td>-0.05</td><td>6</td><td>200</td><td> 5</td><td>57230000</td></tr>\n",
              "\t<tr><td>828941</td><td>-0.05</td><td>6</td><td>200</td><td>10</td><td>56720000</td></tr>\n",
              "\t<tr><td>828941</td><td>-0.05</td><td>6</td><td>200</td><td>20</td><td>52020000</td></tr>\n",
              "\t<tr><td>828941</td><td>-0.05</td><td>6</td><td>200</td><td>30</td><td>52020000</td></tr>\n",
              "\t<tr><td>⋮</td><td>⋮</td><td>⋮</td><td>⋮</td><td>⋮</td><td>⋮</td></tr>\n",
              "\t<tr><td>828941</td><td>-0.05</td><td>14</td><td>100</td><td>30</td><td>45610000</td></tr>\n",
              "\t<tr><td>828941</td><td>-0.05</td><td>14</td><td>100</td><td>40</td><td>47120000</td></tr>\n",
              "\t<tr><td>828941</td><td>-0.05</td><td>14</td><td>200</td><td> 5</td><td>49950000</td></tr>\n",
              "\t<tr><td>828941</td><td>-0.05</td><td>14</td><td>200</td><td>10</td><td>50560000</td></tr>\n",
              "\t<tr><td>828941</td><td>-0.05</td><td>14</td><td>200</td><td>20</td><td>48940000</td></tr>\n",
              "\t<tr><td>828941</td><td>-0.05</td><td>14</td><td>200</td><td>30</td><td>47620000</td></tr>\n",
              "\t<tr><td>828941</td><td>-0.05</td><td>14</td><td>200</td><td>40</td><td>47660000</td></tr>\n",
              "\t<tr><td>828941</td><td>-0.05</td><td>14</td><td>400</td><td> 5</td><td>53410000</td></tr>\n",
              "\t<tr><td>828941</td><td>-0.05</td><td>14</td><td>400</td><td>10</td><td>51330000</td></tr>\n",
              "\t<tr><td>828941</td><td>-0.05</td><td>14</td><td>400</td><td>20</td><td>48590000</td></tr>\n",
              "\t<tr><td>828941</td><td>-0.05</td><td>14</td><td>400</td><td>30</td><td>48360000</td></tr>\n",
              "\t<tr><td>828941</td><td>-0.05</td><td>14</td><td>400</td><td>40</td><td>49660000</td></tr>\n",
              "\t<tr><td>828941</td><td>-0.01</td><td>14</td><td> 50</td><td> 5</td><td>42140000</td></tr>\n",
              "\t<tr><td>828941</td><td>-0.01</td><td>14</td><td> 50</td><td>10</td><td>42660000</td></tr>\n",
              "\t<tr><td>828941</td><td>-0.01</td><td>14</td><td> 50</td><td>20</td><td>44480000</td></tr>\n",
              "\t<tr><td>828941</td><td>-0.01</td><td>14</td><td>100</td><td> 5</td><td>45670000</td></tr>\n",
              "\t<tr><td>828941</td><td>-0.01</td><td>14</td><td>100</td><td>10</td><td>44940000</td></tr>\n",
              "\t<tr><td>828941</td><td>-0.01</td><td>14</td><td>100</td><td>20</td><td>45270000</td></tr>\n",
              "\t<tr><td>828941</td><td>-0.01</td><td>14</td><td>100</td><td>30</td><td>45610000</td></tr>\n",
              "\t<tr><td>828941</td><td>-0.01</td><td>14</td><td>100</td><td>40</td><td>47120000</td></tr>\n",
              "\t<tr><td>828941</td><td>-0.01</td><td>14</td><td>200</td><td> 5</td><td>49950000</td></tr>\n",
              "\t<tr><td>828941</td><td>-0.01</td><td>14</td><td>200</td><td>10</td><td>50560000</td></tr>\n",
              "\t<tr><td>828941</td><td>-0.01</td><td>14</td><td>200</td><td>20</td><td>48940000</td></tr>\n",
              "\t<tr><td>828941</td><td>-0.01</td><td>14</td><td>200</td><td>30</td><td>47620000</td></tr>\n",
              "\t<tr><td>828941</td><td>-0.01</td><td>14</td><td>200</td><td>40</td><td>47660000</td></tr>\n",
              "\t<tr><td>828941</td><td>-0.01</td><td>14</td><td>400</td><td> 5</td><td>53410000</td></tr>\n",
              "\t<tr><td>828941</td><td>-0.01</td><td>14</td><td>400</td><td>10</td><td>51330000</td></tr>\n",
              "\t<tr><td>828941</td><td>-0.01</td><td>14</td><td>400</td><td>20</td><td>48590000</td></tr>\n",
              "\t<tr><td>828941</td><td>-0.01</td><td>14</td><td>400</td><td>30</td><td>48360000</td></tr>\n",
              "\t<tr><td>828941</td><td>-0.01</td><td>14</td><td>400</td><td>40</td><td>49660000</td></tr>\n",
              "</tbody>\n",
              "</table>\n"
            ],
            "text/markdown": "\nA data.table: 270 × 6\n\n| semilla &lt;int&gt; | cp &lt;dbl&gt; | maxdepth &lt;dbl&gt; | minsplit &lt;dbl&gt; | minbucket &lt;dbl&gt; | ganancia_test &lt;dbl&gt; |\n|---|---|---|---|---|---|\n| 828941 | -0.10 | 6 |  50 |  5 | 55420000 |\n| 828941 | -0.10 | 6 |  50 | 10 | 54860000 |\n| 828941 | -0.10 | 6 |  50 | 20 | 50440000 |\n| 828941 | -0.10 | 6 | 100 |  5 | 55680000 |\n| 828941 | -0.10 | 6 | 100 | 10 | 55170000 |\n| 828941 | -0.10 | 6 | 100 | 20 | 50190000 |\n| 828941 | -0.10 | 6 | 100 | 30 | 50900000 |\n| 828941 | -0.10 | 6 | 100 | 40 | 50330000 |\n| 828941 | -0.10 | 6 | 200 |  5 | 57230000 |\n| 828941 | -0.10 | 6 | 200 | 10 | 56720000 |\n| 828941 | -0.10 | 6 | 200 | 20 | 52020000 |\n| 828941 | -0.10 | 6 | 200 | 30 | 52020000 |\n| 828941 | -0.10 | 6 | 200 | 40 | 51170000 |\n| 828941 | -0.10 | 6 | 400 |  5 | 57230000 |\n| 828941 | -0.10 | 6 | 400 | 10 | 56720000 |\n| 828941 | -0.10 | 6 | 400 | 20 | 52020000 |\n| 828941 | -0.10 | 6 | 400 | 30 | 52020000 |\n| 828941 | -0.10 | 6 | 400 | 40 | 51170000 |\n| 828941 | -0.05 | 6 |  50 |  5 | 55420000 |\n| 828941 | -0.05 | 6 |  50 | 10 | 54860000 |\n| 828941 | -0.05 | 6 |  50 | 20 | 50440000 |\n| 828941 | -0.05 | 6 | 100 |  5 | 55680000 |\n| 828941 | -0.05 | 6 | 100 | 10 | 55170000 |\n| 828941 | -0.05 | 6 | 100 | 20 | 50190000 |\n| 828941 | -0.05 | 6 | 100 | 30 | 50900000 |\n| 828941 | -0.05 | 6 | 100 | 40 | 50330000 |\n| 828941 | -0.05 | 6 | 200 |  5 | 57230000 |\n| 828941 | -0.05 | 6 | 200 | 10 | 56720000 |\n| 828941 | -0.05 | 6 | 200 | 20 | 52020000 |\n| 828941 | -0.05 | 6 | 200 | 30 | 52020000 |\n| ⋮ | ⋮ | ⋮ | ⋮ | ⋮ | ⋮ |\n| 828941 | -0.05 | 14 | 100 | 30 | 45610000 |\n| 828941 | -0.05 | 14 | 100 | 40 | 47120000 |\n| 828941 | -0.05 | 14 | 200 |  5 | 49950000 |\n| 828941 | -0.05 | 14 | 200 | 10 | 50560000 |\n| 828941 | -0.05 | 14 | 200 | 20 | 48940000 |\n| 828941 | -0.05 | 14 | 200 | 30 | 47620000 |\n| 828941 | -0.05 | 14 | 200 | 40 | 47660000 |\n| 828941 | -0.05 | 14 | 400 |  5 | 53410000 |\n| 828941 | -0.05 | 14 | 400 | 10 | 51330000 |\n| 828941 | -0.05 | 14 | 400 | 20 | 48590000 |\n| 828941 | -0.05 | 14 | 400 | 30 | 48360000 |\n| 828941 | -0.05 | 14 | 400 | 40 | 49660000 |\n| 828941 | -0.01 | 14 |  50 |  5 | 42140000 |\n| 828941 | -0.01 | 14 |  50 | 10 | 42660000 |\n| 828941 | -0.01 | 14 |  50 | 20 | 44480000 |\n| 828941 | -0.01 | 14 | 100 |  5 | 45670000 |\n| 828941 | -0.01 | 14 | 100 | 10 | 44940000 |\n| 828941 | -0.01 | 14 | 100 | 20 | 45270000 |\n| 828941 | -0.01 | 14 | 100 | 30 | 45610000 |\n| 828941 | -0.01 | 14 | 100 | 40 | 47120000 |\n| 828941 | -0.01 | 14 | 200 |  5 | 49950000 |\n| 828941 | -0.01 | 14 | 200 | 10 | 50560000 |\n| 828941 | -0.01 | 14 | 200 | 20 | 48940000 |\n| 828941 | -0.01 | 14 | 200 | 30 | 47620000 |\n| 828941 | -0.01 | 14 | 200 | 40 | 47660000 |\n| 828941 | -0.01 | 14 | 400 |  5 | 53410000 |\n| 828941 | -0.01 | 14 | 400 | 10 | 51330000 |\n| 828941 | -0.01 | 14 | 400 | 20 | 48590000 |\n| 828941 | -0.01 | 14 | 400 | 30 | 48360000 |\n| 828941 | -0.01 | 14 | 400 | 40 | 49660000 |\n\n",
            "text/latex": "A data.table: 270 × 6\n\\begin{tabular}{llllll}\n semilla & cp & maxdepth & minsplit & minbucket & ganancia\\_test\\\\\n <int> & <dbl> & <dbl> & <dbl> & <dbl> & <dbl>\\\\\n\\hline\n\t 828941 & -0.10 & 6 &  50 &  5 & 55420000\\\\\n\t 828941 & -0.10 & 6 &  50 & 10 & 54860000\\\\\n\t 828941 & -0.10 & 6 &  50 & 20 & 50440000\\\\\n\t 828941 & -0.10 & 6 & 100 &  5 & 55680000\\\\\n\t 828941 & -0.10 & 6 & 100 & 10 & 55170000\\\\\n\t 828941 & -0.10 & 6 & 100 & 20 & 50190000\\\\\n\t 828941 & -0.10 & 6 & 100 & 30 & 50900000\\\\\n\t 828941 & -0.10 & 6 & 100 & 40 & 50330000\\\\\n\t 828941 & -0.10 & 6 & 200 &  5 & 57230000\\\\\n\t 828941 & -0.10 & 6 & 200 & 10 & 56720000\\\\\n\t 828941 & -0.10 & 6 & 200 & 20 & 52020000\\\\\n\t 828941 & -0.10 & 6 & 200 & 30 & 52020000\\\\\n\t 828941 & -0.10 & 6 & 200 & 40 & 51170000\\\\\n\t 828941 & -0.10 & 6 & 400 &  5 & 57230000\\\\\n\t 828941 & -0.10 & 6 & 400 & 10 & 56720000\\\\\n\t 828941 & -0.10 & 6 & 400 & 20 & 52020000\\\\\n\t 828941 & -0.10 & 6 & 400 & 30 & 52020000\\\\\n\t 828941 & -0.10 & 6 & 400 & 40 & 51170000\\\\\n\t 828941 & -0.05 & 6 &  50 &  5 & 55420000\\\\\n\t 828941 & -0.05 & 6 &  50 & 10 & 54860000\\\\\n\t 828941 & -0.05 & 6 &  50 & 20 & 50440000\\\\\n\t 828941 & -0.05 & 6 & 100 &  5 & 55680000\\\\\n\t 828941 & -0.05 & 6 & 100 & 10 & 55170000\\\\\n\t 828941 & -0.05 & 6 & 100 & 20 & 50190000\\\\\n\t 828941 & -0.05 & 6 & 100 & 30 & 50900000\\\\\n\t 828941 & -0.05 & 6 & 100 & 40 & 50330000\\\\\n\t 828941 & -0.05 & 6 & 200 &  5 & 57230000\\\\\n\t 828941 & -0.05 & 6 & 200 & 10 & 56720000\\\\\n\t 828941 & -0.05 & 6 & 200 & 20 & 52020000\\\\\n\t 828941 & -0.05 & 6 & 200 & 30 & 52020000\\\\\n\t ⋮ & ⋮ & ⋮ & ⋮ & ⋮ & ⋮\\\\\n\t 828941 & -0.05 & 14 & 100 & 30 & 45610000\\\\\n\t 828941 & -0.05 & 14 & 100 & 40 & 47120000\\\\\n\t 828941 & -0.05 & 14 & 200 &  5 & 49950000\\\\\n\t 828941 & -0.05 & 14 & 200 & 10 & 50560000\\\\\n\t 828941 & -0.05 & 14 & 200 & 20 & 48940000\\\\\n\t 828941 & -0.05 & 14 & 200 & 30 & 47620000\\\\\n\t 828941 & -0.05 & 14 & 200 & 40 & 47660000\\\\\n\t 828941 & -0.05 & 14 & 400 &  5 & 53410000\\\\\n\t 828941 & -0.05 & 14 & 400 & 10 & 51330000\\\\\n\t 828941 & -0.05 & 14 & 400 & 20 & 48590000\\\\\n\t 828941 & -0.05 & 14 & 400 & 30 & 48360000\\\\\n\t 828941 & -0.05 & 14 & 400 & 40 & 49660000\\\\\n\t 828941 & -0.01 & 14 &  50 &  5 & 42140000\\\\\n\t 828941 & -0.01 & 14 &  50 & 10 & 42660000\\\\\n\t 828941 & -0.01 & 14 &  50 & 20 & 44480000\\\\\n\t 828941 & -0.01 & 14 & 100 &  5 & 45670000\\\\\n\t 828941 & -0.01 & 14 & 100 & 10 & 44940000\\\\\n\t 828941 & -0.01 & 14 & 100 & 20 & 45270000\\\\\n\t 828941 & -0.01 & 14 & 100 & 30 & 45610000\\\\\n\t 828941 & -0.01 & 14 & 100 & 40 & 47120000\\\\\n\t 828941 & -0.01 & 14 & 200 &  5 & 49950000\\\\\n\t 828941 & -0.01 & 14 & 200 & 10 & 50560000\\\\\n\t 828941 & -0.01 & 14 & 200 & 20 & 48940000\\\\\n\t 828941 & -0.01 & 14 & 200 & 30 & 47620000\\\\\n\t 828941 & -0.01 & 14 & 200 & 40 & 47660000\\\\\n\t 828941 & -0.01 & 14 & 400 &  5 & 53410000\\\\\n\t 828941 & -0.01 & 14 & 400 & 10 & 51330000\\\\\n\t 828941 & -0.01 & 14 & 400 & 20 & 48590000\\\\\n\t 828941 & -0.01 & 14 & 400 & 30 & 48360000\\\\\n\t 828941 & -0.01 & 14 & 400 & 40 & 49660000\\\\\n\\end{tabular}\n",
            "text/plain": [
              "    semilla cp    maxdepth minsplit minbucket ganancia_test\n",
              "1   828941  -0.10 6         50       5        55420000     \n",
              "2   828941  -0.10 6         50      10        54860000     \n",
              "3   828941  -0.10 6         50      20        50440000     \n",
              "4   828941  -0.10 6        100       5        55680000     \n",
              "5   828941  -0.10 6        100      10        55170000     \n",
              "6   828941  -0.10 6        100      20        50190000     \n",
              "7   828941  -0.10 6        100      30        50900000     \n",
              "8   828941  -0.10 6        100      40        50330000     \n",
              "9   828941  -0.10 6        200       5        57230000     \n",
              "10  828941  -0.10 6        200      10        56720000     \n",
              "11  828941  -0.10 6        200      20        52020000     \n",
              "12  828941  -0.10 6        200      30        52020000     \n",
              "13  828941  -0.10 6        200      40        51170000     \n",
              "14  828941  -0.10 6        400       5        57230000     \n",
              "15  828941  -0.10 6        400      10        56720000     \n",
              "16  828941  -0.10 6        400      20        52020000     \n",
              "17  828941  -0.10 6        400      30        52020000     \n",
              "18  828941  -0.10 6        400      40        51170000     \n",
              "19  828941  -0.05 6         50       5        55420000     \n",
              "20  828941  -0.05 6         50      10        54860000     \n",
              "21  828941  -0.05 6         50      20        50440000     \n",
              "22  828941  -0.05 6        100       5        55680000     \n",
              "23  828941  -0.05 6        100      10        55170000     \n",
              "24  828941  -0.05 6        100      20        50190000     \n",
              "25  828941  -0.05 6        100      30        50900000     \n",
              "26  828941  -0.05 6        100      40        50330000     \n",
              "27  828941  -0.05 6        200       5        57230000     \n",
              "28  828941  -0.05 6        200      10        56720000     \n",
              "29  828941  -0.05 6        200      20        52020000     \n",
              "30  828941  -0.05 6        200      30        52020000     \n",
              "⋮   ⋮       ⋮     ⋮        ⋮        ⋮         ⋮            \n",
              "241 828941  -0.05 14       100      30        45610000     \n",
              "242 828941  -0.05 14       100      40        47120000     \n",
              "243 828941  -0.05 14       200       5        49950000     \n",
              "244 828941  -0.05 14       200      10        50560000     \n",
              "245 828941  -0.05 14       200      20        48940000     \n",
              "246 828941  -0.05 14       200      30        47620000     \n",
              "247 828941  -0.05 14       200      40        47660000     \n",
              "248 828941  -0.05 14       400       5        53410000     \n",
              "249 828941  -0.05 14       400      10        51330000     \n",
              "250 828941  -0.05 14       400      20        48590000     \n",
              "251 828941  -0.05 14       400      30        48360000     \n",
              "252 828941  -0.05 14       400      40        49660000     \n",
              "253 828941  -0.01 14        50       5        42140000     \n",
              "254 828941  -0.01 14        50      10        42660000     \n",
              "255 828941  -0.01 14        50      20        44480000     \n",
              "256 828941  -0.01 14       100       5        45670000     \n",
              "257 828941  -0.01 14       100      10        44940000     \n",
              "258 828941  -0.01 14       100      20        45270000     \n",
              "259 828941  -0.01 14       100      30        45610000     \n",
              "260 828941  -0.01 14       100      40        47120000     \n",
              "261 828941  -0.01 14       200       5        49950000     \n",
              "262 828941  -0.01 14       200      10        50560000     \n",
              "263 828941  -0.01 14       200      20        48940000     \n",
              "264 828941  -0.01 14       200      30        47620000     \n",
              "265 828941  -0.01 14       200      40        47660000     \n",
              "266 828941  -0.01 14       400       5        53410000     \n",
              "267 828941  -0.01 14       400      10        51330000     \n",
              "268 828941  -0.01 14       400      20        48590000     \n",
              "269 828941  -0.01 14       400      30        48360000     \n",
              "270 828941  -0.01 14       400      40        49660000     "
            ]
          },
          "metadata": {}
        }
      ]
    },
    {
      "cell_type": "code",
      "source": [
        "# genero y grabo el resumen\n",
        "tb_grid_search <- tb_grid_search_detalle[,\n",
        "  list( \"ganancia_mean\" = mean(ganancia_test),\n",
        "    \"qty\" = .N ),\n",
        "  list( cp, maxdepth, minsplit, minbucket )\n",
        "]\n"
      ],
      "metadata": {
        "id": "DjCxtx8bIsgl"
      },
      "execution_count": 14,
      "outputs": []
    },
    {
      "cell_type": "code",
      "source": [
        "# ordeno descendente por ganancia\n",
        "setorder( tb_grid_search, -ganancia_mean )\n"
      ],
      "metadata": {
        "id": "LU29UhL1Ivg5"
      },
      "execution_count": 15,
      "outputs": []
    },
    {
      "cell_type": "code",
      "source": [
        "# veo los 10 mejores hiperparámetros\n",
        "tb_grid_search[1:10]"
      ],
      "metadata": {
        "id": "g-EjGY7aIyWL",
        "colab": {
          "base_uri": "https://localhost:8080/",
          "height": 412
        },
        "outputId": "620940e4-0082-4791-e3db-104baee500ef"
      },
      "execution_count": 16,
      "outputs": [
        {
          "output_type": "display_data",
          "data": {
            "text/html": [
              "<table class=\"dataframe\">\n",
              "<caption>A data.table: 10 × 6</caption>\n",
              "<thead>\n",
              "\t<tr><th scope=col>cp</th><th scope=col>maxdepth</th><th scope=col>minsplit</th><th scope=col>minbucket</th><th scope=col>ganancia_mean</th><th scope=col>qty</th></tr>\n",
              "\t<tr><th scope=col>&lt;dbl&gt;</th><th scope=col>&lt;dbl&gt;</th><th scope=col>&lt;dbl&gt;</th><th scope=col>&lt;dbl&gt;</th><th scope=col>&lt;dbl&gt;</th><th scope=col>&lt;int&gt;</th></tr>\n",
              "</thead>\n",
              "<tbody>\n",
              "\t<tr><td>-0.10</td><td> 8</td><td>200</td><td>30</td><td>58870000</td><td>1</td></tr>\n",
              "\t<tr><td>-0.05</td><td> 8</td><td>200</td><td>30</td><td>58870000</td><td>1</td></tr>\n",
              "\t<tr><td>-0.01</td><td> 8</td><td>200</td><td>30</td><td>58870000</td><td>1</td></tr>\n",
              "\t<tr><td>-0.10</td><td> 8</td><td>400</td><td>30</td><td>58760000</td><td>1</td></tr>\n",
              "\t<tr><td>-0.05</td><td> 8</td><td>400</td><td>30</td><td>58760000</td><td>1</td></tr>\n",
              "\t<tr><td>-0.01</td><td> 8</td><td>400</td><td>30</td><td>58760000</td><td>1</td></tr>\n",
              "\t<tr><td>-0.10</td><td>10</td><td>400</td><td> 5</td><td>58510000</td><td>1</td></tr>\n",
              "\t<tr><td>-0.05</td><td>10</td><td>400</td><td> 5</td><td>58510000</td><td>1</td></tr>\n",
              "\t<tr><td>-0.01</td><td>10</td><td>400</td><td> 5</td><td>58510000</td><td>1</td></tr>\n",
              "\t<tr><td>-0.10</td><td> 8</td><td>200</td><td>20</td><td>58140000</td><td>1</td></tr>\n",
              "</tbody>\n",
              "</table>\n"
            ],
            "text/markdown": "\nA data.table: 10 × 6\n\n| cp &lt;dbl&gt; | maxdepth &lt;dbl&gt; | minsplit &lt;dbl&gt; | minbucket &lt;dbl&gt; | ganancia_mean &lt;dbl&gt; | qty &lt;int&gt; |\n|---|---|---|---|---|---|\n| -0.10 |  8 | 200 | 30 | 58870000 | 1 |\n| -0.05 |  8 | 200 | 30 | 58870000 | 1 |\n| -0.01 |  8 | 200 | 30 | 58870000 | 1 |\n| -0.10 |  8 | 400 | 30 | 58760000 | 1 |\n| -0.05 |  8 | 400 | 30 | 58760000 | 1 |\n| -0.01 |  8 | 400 | 30 | 58760000 | 1 |\n| -0.10 | 10 | 400 |  5 | 58510000 | 1 |\n| -0.05 | 10 | 400 |  5 | 58510000 | 1 |\n| -0.01 | 10 | 400 |  5 | 58510000 | 1 |\n| -0.10 |  8 | 200 | 20 | 58140000 | 1 |\n\n",
            "text/latex": "A data.table: 10 × 6\n\\begin{tabular}{llllll}\n cp & maxdepth & minsplit & minbucket & ganancia\\_mean & qty\\\\\n <dbl> & <dbl> & <dbl> & <dbl> & <dbl> & <int>\\\\\n\\hline\n\t -0.10 &  8 & 200 & 30 & 58870000 & 1\\\\\n\t -0.05 &  8 & 200 & 30 & 58870000 & 1\\\\\n\t -0.01 &  8 & 200 & 30 & 58870000 & 1\\\\\n\t -0.10 &  8 & 400 & 30 & 58760000 & 1\\\\\n\t -0.05 &  8 & 400 & 30 & 58760000 & 1\\\\\n\t -0.01 &  8 & 400 & 30 & 58760000 & 1\\\\\n\t -0.10 & 10 & 400 &  5 & 58510000 & 1\\\\\n\t -0.05 & 10 & 400 &  5 & 58510000 & 1\\\\\n\t -0.01 & 10 & 400 &  5 & 58510000 & 1\\\\\n\t -0.10 &  8 & 200 & 20 & 58140000 & 1\\\\\n\\end{tabular}\n",
            "text/plain": [
              "   cp    maxdepth minsplit minbucket ganancia_mean qty\n",
              "1  -0.10  8       200      30        58870000      1  \n",
              "2  -0.05  8       200      30        58870000      1  \n",
              "3  -0.01  8       200      30        58870000      1  \n",
              "4  -0.10  8       400      30        58760000      1  \n",
              "5  -0.05  8       400      30        58760000      1  \n",
              "6  -0.01  8       400      30        58760000      1  \n",
              "7  -0.10 10       400       5        58510000      1  \n",
              "8  -0.05 10       400       5        58510000      1  \n",
              "9  -0.01 10       400       5        58510000      1  \n",
              "10 -0.10  8       200      20        58140000      1  "
            ]
          },
          "metadata": {}
        }
      ]
    },
    {
      "cell_type": "code",
      "source": [
        "# genero un id a la tabla\n",
        "tb_grid_search[, id := .I ]\n",
        "\n",
        "fwrite( tb_grid_search,\n",
        "  file = \"gridsearch.txt\",\n",
        "  sep = \"\\t\"\n",
        ")\n"
      ],
      "metadata": {
        "id": "K3S-I2PTI5ZE"
      },
      "execution_count": 17,
      "outputs": []
    },
    {
      "cell_type": "markdown",
      "source": [
        "# 4.  Análisis de resultados de Grid Search"
      ],
      "metadata": {
        "id": "1rYHk1YkI_9k"
      }
    },
    {
      "cell_type": "markdown",
      "source": [
        "La salida de la corrida anterior queda en ~/buckets/b1/exp/HT2900  que corresponde a su Google Drive\n",
        "<br>HT significa Hyperparameter Tuning\n",
        "<br>El Grid Search es un método de fuerza bruta de un altísimo costo computacional.\n",
        "<br>Queremos ver si es posible crear un algoritmo de optimización de hiperparámetros que se ahorre recorrer ciertas porciones muy malas del espacio de búsqueda. Algo del estilo “cada vez que pruebo una combinación de hiperparámetros donde  cp > 1 , la ganancia es muy mala, con lo cual ni vale la pena perder el tiempo explorando en esa region”\n"
      ],
      "metadata": {
        "id": "ZTJgPhMWJHTk"
      }
    },
    {
      "cell_type": "markdown",
      "source": [
        "<br>Levante el archivo de salida gridsearch.txt  a una planilla tipo Excel y analícelo detenidamente\n",
        "<br>Ordene por ganancia_mean descendente\n",
        "<br>\n",
        "<br>El de mayor ganancia_mean  decimos que es el primero del ranking\n",
        "En Zulip, correspondiente channel  #Tarea Hogar 02 , topic Analisis Grid Search   intente contestar estas preguntas:\n",
        "\n",
        "* ¿Qué combinaciones de hiperparámetros poseen una ganancia muy buena?\n",
        "* ¿Hay algun hiperparámetro que para cierto valor siempre genera una ganancia muy mala, a independientemente de lo que valgan los otros hiperparámetros ?\n",
        "* ¿Que combinaciones de hiperparámetros es pésima y hubiera sido bueno ahorrarse esas corridas ?\n",
        "\n",
        "( tiempo estimado 30 minutos, dificultad media )"
      ],
      "metadata": {
        "id": "IaVgMu4tPwyB"
      }
    },
    {
      "cell_type": "code",
      "source": [
        "from google.colab import drive\n",
        "drive.mount('/content/drive')\n",
        "\n",
        "# Definí la ruta a tu archivo en Drive:\n",
        "PATH_FILE = \"/content/drive/MyDrive/labo1/exp/HT2900/gridsearch.txt\"\n",
        "# o, si querés usar el otro:\n",
        "# PATH_FILE = \"/content/drive/MyDrive/exp/HT2900/gridsearch_detalle.txt\"\n"
      ],
      "metadata": {
        "colab": {
          "base_uri": "https://localhost:8080/",
          "height": 0
        },
        "id": "IDr-b2o31KFv",
        "outputId": "c2c858c9-35ad-4ab6-c2e8-1346302479d0"
      },
      "execution_count": 1,
      "outputs": [
        {
          "output_type": "stream",
          "name": "stdout",
          "text": [
            "Mounted at /content/drive\n"
          ]
        }
      ]
    },
    {
      "cell_type": "code",
      "source": [
        "!pip install plotly pandas\n",
        "import pandas as pd\n",
        "import plotly.graph_objs as go\n",
        "import plotly.io as pio\n",
        "from IPython.display import IFrame, HTML, display\n"
      ],
      "metadata": {
        "colab": {
          "base_uri": "https://localhost:8080/",
          "height": 0
        },
        "id": "X51JmS5QJ6CP",
        "outputId": "8730a503-a388-4819-9068-8a6874903b43"
      },
      "execution_count": 2,
      "outputs": [
        {
          "output_type": "stream",
          "name": "stdout",
          "text": [
            "Requirement already satisfied: plotly in /usr/local/lib/python3.12/dist-packages (5.24.1)\n",
            "Requirement already satisfied: pandas in /usr/local/lib/python3.12/dist-packages (2.2.2)\n",
            "Requirement already satisfied: tenacity>=6.2.0 in /usr/local/lib/python3.12/dist-packages (from plotly) (8.5.0)\n",
            "Requirement already satisfied: packaging in /usr/local/lib/python3.12/dist-packages (from plotly) (25.0)\n",
            "Requirement already satisfied: numpy>=1.26.0 in /usr/local/lib/python3.12/dist-packages (from pandas) (2.0.2)\n",
            "Requirement already satisfied: python-dateutil>=2.8.2 in /usr/local/lib/python3.12/dist-packages (from pandas) (2.9.0.post0)\n",
            "Requirement already satisfied: pytz>=2020.1 in /usr/local/lib/python3.12/dist-packages (from pandas) (2025.2)\n",
            "Requirement already satisfied: tzdata>=2022.7 in /usr/local/lib/python3.12/dist-packages (from pandas) (2025.2)\n",
            "Requirement already satisfied: six>=1.5 in /usr/local/lib/python3.12/dist-packages (from python-dateutil>=2.8.2->pandas) (1.17.0)\n"
          ]
        }
      ]
    },
    {
      "cell_type": "code",
      "source": [
        "df = pd.read_csv(PATH_FILE, sep=\"\\t\")\n",
        "\n",
        "# Aseguramos los tipos numéricos\n",
        "for col in [\"cp\",\"maxdepth\",\"minsplit\",\"minbucket\",\"ganancia_mean\",\"qty\"]:\n",
        "    if col in df.columns:\n",
        "        df[col] = pd.to_numeric(df[col], errors=\"coerce\")\n",
        "\n",
        "# Agregamos combinaciones (si hay múltiples corridas por semilla)\n",
        "agg = (\n",
        "    df.groupby([\"cp\",\"maxdepth\",\"minsplit\",\"minbucket\"], as_index=False)\n",
        "      .agg(ganancia_mean=(\"ganancia_mean\",\"mean\"),\n",
        "           ganancia_sd=(\"ganancia_mean\",\"std\"),\n",
        "           n_runs=(\"ganancia_mean\",\"size\"))\n",
        ")\n",
        "\n",
        "cp_levels    = sorted(agg[\"cp\"].dropna().unique().tolist())\n",
        "depth_levels = sorted(agg[\"maxdepth\"].dropna().unique().tolist())\n",
        "\n",
        "print(f\"Archivo leído correctamente. Total de combinaciones: {len(agg)}\")\n"
      ],
      "metadata": {
        "colab": {
          "base_uri": "https://localhost:8080/",
          "height": 0
        },
        "id": "pAVzImtWKB9j",
        "outputId": "74a8db27-bd20-48e7-f569-b3bbc2b76aab"
      },
      "execution_count": 3,
      "outputs": [
        {
          "output_type": "stream",
          "name": "stdout",
          "text": [
            "Archivo leído correctamente. Total de combinaciones: 270\n"
          ]
        }
      ]
    },
    {
      "cell_type": "code",
      "source": [
        "# ===========================================\n",
        "# Guardar en /content/drive/labo1/exp/HT2900/\n",
        "# (o fallback a /content/drive/MyDrive/labo1/exp/HT2900/ si no existe)\n",
        "# Mostrar inline + IFrame en Colab\n",
        "# ===========================================\n",
        "import os, glob, pandas as pd\n",
        "import plotly.graph_objs as go\n",
        "import plotly.io as pio\n",
        "from IPython.display import HTML, IFrame, display\n",
        "\n",
        "# ---------- helpers ----------\n",
        "def ensure_drive_mounted():\n",
        "    # Colab crea /content/drive cuando el Drive está montado\n",
        "    if not os.path.exists(\"/content/drive\"):\n",
        "        from google.colab import drive\n",
        "        drive.mount(\"/content/drive\")\n",
        "\n",
        "def find_grid_file():\n",
        "    # Usa PATH_FILE si está definido y existe\n",
        "    if \"PATH_FILE\" in globals() and isinstance(PATH_FILE, str) and os.path.exists(PATH_FILE):\n",
        "        print(\"Usando PATH_FILE definido:\", PATH_FILE)\n",
        "        return PATH_FILE\n",
        "    # Busca en todo el drive y en /content\n",
        "    patt = \"gridsearch*.txt\"\n",
        "    cands = glob.glob(\"/content/drive/**/\" + patt, recursive=True)\n",
        "    cands += glob.glob(\"/content/\" + patt, recursive=False)\n",
        "    if not cands:\n",
        "        raise FileNotFoundError(\"No encontré ningún gridsearch*.txt. Definí PATH_FILE o verificá el montaje de Drive.\")\n",
        "    cands.sort(key=lambda p: os.path.getmtime(p), reverse=True)\n",
        "    print(\"Usando archivo detectado:\", cands[0])\n",
        "    return cands[0]\n",
        "\n",
        "def ensure_agg():\n",
        "    global agg, cp_levels, depth_levels\n",
        "    if \"agg\" in globals() and isinstance(agg, pd.DataFrame) and len(agg):\n",
        "        return\n",
        "    path = find_grid_file()\n",
        "    df = pd.read_csv(path, sep=\"\\t\")\n",
        "    for c in [\"cp\",\"maxdepth\",\"minsplit\",\"minbucket\",\"ganancia_mean\",\"qty\"]:\n",
        "        if c in df.columns:\n",
        "            df[c] = pd.to_numeric(df[c], errors=\"coerce\")\n",
        "    agg = (\n",
        "        df.groupby([\"cp\",\"maxdepth\",\"minsplit\",\"minbucket\"], as_index=False)\n",
        "          .agg(ganancia_mean=(\"ganancia_mean\",\"mean\"),\n",
        "               ganancia_sd=(\"ganancia_mean\",\"std\"),\n",
        "               n_runs=(\"ganancia_mean\",\"size\"))\n",
        "    ).sort_values([\"cp\",\"maxdepth\",\"minsplit\",\"minbucket\"])\n",
        "    cp_levels    = sorted(agg[\"cp\"].dropna().unique().tolist())\n",
        "    depth_levels = sorted(agg[\"maxdepth\"].dropna().unique().tolist())\n",
        "    print(\"Combinaciones agregadas:\", len(agg))\n",
        "\n",
        "def ensure_figs():\n",
        "    global fig3d, parcoords\n",
        "    # 3D\n",
        "    if \"fig3d\" not in globals():\n",
        "        traces = []\n",
        "        for cpi in cp_levels:\n",
        "            for di in depth_levels:\n",
        "                sub = agg[(agg[\"cp\"]==cpi) & (agg[\"maxdepth\"]==di)]\n",
        "                if sub.empty:\n",
        "                    continue\n",
        "                traces.append(go.Scatter3d(\n",
        "                    x=sub[\"minsplit\"], y=sub[\"minbucket\"], z=sub[\"ganancia_mean\"],\n",
        "                    mode=\"markers\", marker=dict(size=6),\n",
        "                    name=f\"cp={cpi} | depth={di}\",\n",
        "                    hovertemplate=\"<b>Ganancia</b>: %{z:.0f}<br>\"\n",
        "                                  \"minsplit: %{x}<br>\"\n",
        "                                  \"minbucket: %{y}<br>\"\n",
        "                                  f\"cp: {cpi}<br>depth: {di}<extra></extra>\"\n",
        "                ))\n",
        "        fig3d = go.Figure(traces)\n",
        "        fig3d.update_layout(\n",
        "            title=\"Grid Search — 3D interactivo (toggle por cp y depth)\",\n",
        "            scene=dict(xaxis_title=\"minsplit\", yaxis_title=\"minbucket\", zaxis_title=\"ganancia_mean\"),\n",
        "            height=650\n",
        "        )\n",
        "    # Parallel Coordinates\n",
        "    if \"parcoords\" not in globals():\n",
        "        parcoords = go.Figure([go.Parcoords(\n",
        "            line=dict(color=agg[\"ganancia_mean\"], showscale=True),\n",
        "            dimensions=[\n",
        "                dict(label=\"cp\",        values=agg[\"cp\"]),\n",
        "                dict(label=\"depth\",     values=agg[\"maxdepth\"]),\n",
        "                dict(label=\"minsplit\",  values=agg[\"minsplit\"]),\n",
        "                dict(label=\"minbucket\", values=agg[\"minbucket\"]),\n",
        "                dict(label=\"ganancia\",  values=agg[\"ganancia_mean\"])\n",
        "            ]\n",
        "        )])\n",
        "        parcoords.update_layout(title=\"Grid Search — Parallel Coordinates\", height=520)\n",
        "\n",
        "def resolve_target_dir():\n",
        "    \"\"\"\n",
        "    Intenta guardar en /content/drive/labo1/exp/HT2900/ exactamente.\n",
        "    Si no existe ese árbol (porque el Drive real es MyDrive/Mi unidad/etc.),\n",
        "    cae a /content/drive/MyDrive/labo1/exp/HT2900/ (lo crea).\n",
        "    \"\"\"\n",
        "    requested = \"/content/drive/labo1/exp/HT2900/\"\n",
        "    if os.path.isdir(requested):\n",
        "        print(\"Guardando en:\", requested)\n",
        "        return requested\n",
        "    # si no existe, probamos en MyDrive\n",
        "    fallback = \"/content/drive/MyDrive/labo1/exp/HT2900/\"\n",
        "    os.makedirs(fallback, exist_ok=True)\n",
        "    print(\"Ruta solicitada no existe -> usando:\", fallback)\n",
        "    return fallback\n",
        "\n",
        "# ---------- flujo ----------\n",
        "ensure_drive_mounted()\n",
        "ensure_agg()\n",
        "ensure_figs()\n",
        "\n",
        "# Crear HTML combinado (inline + IFrame)\n",
        "html3d   = pio.to_html(fig3d, include_plotlyjs=False, full_html=False)\n",
        "htmlpara = pio.to_html(parcoords, include_plotlyjs=False, full_html=False)\n",
        "html_page = f\"\"\"\n",
        "<!DOCTYPE html><html lang='es'><head>\n",
        "<meta charset='utf-8'><title>Dashboard Grid Search</title>\n",
        "<script src='https://cdn.plot.ly/plotly-latest.min.js'></script>\n",
        "<style>body{{font-family:Arial,sans-serif;margin:20px}} .section{{margin-top:26px}}</style>\n",
        "</head><body>\n",
        "<h1>Dashboard — Grid Search</h1>\n",
        "<p>3D: filtrá por <b>cp</b> desde el menú. En Parallel Coordinates, arrastrá rangos en los ejes.</p>\n",
        "<div class=\"section\"><h3>3D</h3>{html3d}</div>\n",
        "<div class=\"section\"><h3>Parallel Coordinates</h3>{htmlpara}</div>\n",
        "</body></html>\n",
        "\"\"\"\n",
        "\n",
        "# Guardar primero en /content (para mostrar vía /files)\n",
        "LOCAL_DASH = \"/content/gridsearch_dashboard_interactivo.html\"\n",
        "with open(LOCAL_DASH, \"w\", encoding=\"utf-8\") as f:\n",
        "    f.write(html_page)\n",
        "\n",
        "# Mostrar inline + IFrame\n",
        "display(HTML(\"<h3>Dashboard (inline)</h3>\"))\n",
        "display(HTML(html_page))\n",
        "display(HTML(\"<h3>Dashboard (IFrame desde /content)</h3>\"))\n",
        "display(IFrame(src=f\"/files{LOCAL_DASH}\", width=\"100%\", height=\"640\"))\n",
        "\n",
        "# Guardar los 3 HTML también por separado\n",
        "LOCAL_3D  = \"/content/gridsearch_3d_interactivo.html\"\n",
        "LOCAL_PAR = \"/content/gridsearch_parcoords_interactivo.html\"\n",
        "pio.write_html(fig3d,    file=LOCAL_3D,  include_plotlyjs=\"cdn\", full_html=True)\n",
        "pio.write_html(parcoords,file=LOCAL_PAR, include_plotlyjs=\"cdn\", full_html=True)\n",
        "\n",
        "# Copiar a la carpeta destino solicitada (o fallback a MyDrive si no existe)\n",
        "TARGET_DIR = resolve_target_dir()\n",
        "with open(os.path.join(TARGET_DIR, \"gridsearch_dashboard_interactivo.html\"), \"w\", encoding=\"utf-8\") as f:\n",
        "    f.write(html_page)\n",
        "import shutil\n",
        "shutil.copy2(LOCAL_3D,  os.path.join(TARGET_DIR, \"gridsearch_3d_interactivo.html\"))\n",
        "shutil.copy2(LOCAL_PAR, os.path.join(TARGET_DIR, \"gridsearch_parcoords_interactivo.html\"))\n",
        "\n",
        "print(\"\\n✅ Guardado en:\", TARGET_DIR)\n",
        "print(\"   - gridsearch_dashboard_interactivo.html\")\n",
        "print(\"   - gridsearch_3d_interactivo.html\")\n",
        "print(\"   - gridsearch_parcoords_interactivo.html\")\n"
      ],
      "metadata": {
        "colab": {
          "base_uri": "https://localhost:8080/",
          "height": 2190
        },
        "id": "PIZAnG5Uc58E",
        "outputId": "cc52bc85-cabb-4f99-9feb-ac01cf1f5a20"
      },
      "execution_count": 4,
      "outputs": [
        {
          "output_type": "display_data",
          "data": {
            "text/plain": [
              "<IPython.core.display.HTML object>"
            ],
            "text/html": [
              "<h3>Dashboard (inline)</h3>"
            ]
          },
          "metadata": {}
        },
        {
          "output_type": "display_data",
          "data": {
            "text/plain": [
              "<IPython.core.display.HTML object>"
            ],
            "text/html": [
              "\n",
              "<!DOCTYPE html><html lang='es'><head>\n",
              "<meta charset='utf-8'><title>Dashboard Grid Search</title>\n",
              "<script src='https://cdn.plot.ly/plotly-latest.min.js'></script>\n",
              "<style>body{font-family:Arial,sans-serif;margin:20px} .section{margin-top:26px}</style>\n",
              "</head><body>\n",
              "<h1>Dashboard — Grid Search</h1>\n",
              "<p>3D: filtrá por <b>cp</b> desde el menú. En Parallel Coordinates, arrastrá rangos en los ejes.</p>\n",
              "<div class=\"section\"><h3>3D</h3><div>                            <div id=\"5037f619-12c7-47e1-8a74-ebacb35bcd93\" class=\"plotly-graph-div\" style=\"height:650px; width:100%;\"></div>            <script type=\"text/javascript\">                                    window.PLOTLYENV=window.PLOTLYENV || {};                                    if (document.getElementById(\"5037f619-12c7-47e1-8a74-ebacb35bcd93\")) {                    Plotly.newPlot(                        \"5037f619-12c7-47e1-8a74-ebacb35bcd93\",                        [{\"hovertemplate\":\"\\u003cb\\u003eGanancia\\u003c\\u002fb\\u003e: %{z:.0f}\\u003cbr\\u003eminsplit: %{x}\\u003cbr\\u003eminbucket: %{y}\\u003cbr\\u003ecp: -0.1\\u003cbr\\u003edepth: 6\\u003cextra\\u003e\\u003c\\u002fextra\\u003e\",\"marker\":{\"size\":6},\"mode\":\"markers\",\"name\":\"cp=-0.1 | depth=6\",\"x\":[50,50,50,100,100,100,100,100,200,200,200,200,200,400,400,400,400,400],\"y\":[5,10,20,5,10,20,30,40,5,10,20,30,40,5,10,20,30,40],\"z\":[55420000.0,54860000.0,50440000.0,55680000.0,55170000.0,50190000.0,50900000.0,50330000.0,57230000.0,56720000.0,52020000.0,52020000.0,51170000.0,57230000.0,56720000.0,52020000.0,52020000.0,51170000.0],\"type\":\"scatter3d\"},{\"hovertemplate\":\"\\u003cb\\u003eGanancia\\u003c\\u002fb\\u003e: %{z:.0f}\\u003cbr\\u003eminsplit: %{x}\\u003cbr\\u003eminbucket: %{y}\\u003cbr\\u003ecp: -0.1\\u003cbr\\u003edepth: 8\\u003cextra\\u003e\\u003c\\u002fextra\\u003e\",\"marker\":{\"size\":6},\"mode\":\"markers\",\"name\":\"cp=-0.1 | depth=8\",\"x\":[50,50,50,100,100,100,100,100,200,200,200,200,200,400,400,400,400,400],\"y\":[5,10,20,5,10,20,30,40,5,10,20,30,40,5,10,20,30,40],\"z\":[50970000.0,54040000.0,55580000.0,51170000.0,54350000.0,56180000.0,57100000.0,55380000.0,53420000.0,56720000.0,58140000.0,58870000.0,56470000.0,53430000.0,57230000.0,58030000.0,58760000.0,56330000.0],\"type\":\"scatter3d\"},{\"hovertemplate\":\"\\u003cb\\u003eGanancia\\u003c\\u002fb\\u003e: %{z:.0f}\\u003cbr\\u003eminsplit: %{x}\\u003cbr\\u003eminbucket: %{y}\\u003cbr\\u003ecp: -0.1\\u003cbr\\u003edepth: 10\\u003cextra\\u003e\\u003c\\u002fextra\\u003e\",\"marker\":{\"size\":6},\"mode\":\"markers\",\"name\":\"cp=-0.1 | depth=10\",\"x\":[50,50,50,100,100,100,100,100,200,200,200,200,200,400,400,400,400,400],\"y\":[5,10,20,5,10,20,30,40,5,10,20,30,40,5,10,20,30,40],\"z\":[54710000.0,51770000.0,48260000.0,54960000.0,52730000.0,49940000.0,50690000.0,48310000.0,57900000.0,55090000.0,52410000.0,51970000.0,49020000.0,58510000.0,55750000.0,51910000.0,52520000.0,51810000.0],\"type\":\"scatter3d\"},{\"hovertemplate\":\"\\u003cb\\u003eGanancia\\u003c\\u002fb\\u003e: %{z:.0f}\\u003cbr\\u003eminsplit: %{x}\\u003cbr\\u003eminbucket: %{y}\\u003cbr\\u003ecp: -0.1\\u003cbr\\u003edepth: 12\\u003cextra\\u003e\\u003c\\u002fextra\\u003e\",\"marker\":{\"size\":6},\"mode\":\"markers\",\"name\":\"cp=-0.1 | depth=12\",\"x\":[50,50,50,100,100,100,100,100,200,200,200,200,200,400,400,400,400,400],\"y\":[5,10,20,5,10,20,30,40,5,10,20,30,40,5,10,20,30,40],\"z\":[47340000.0,49540000.0,45290000.0,48890000.0,50350000.0,46870000.0,48780000.0,47820000.0,53430000.0,54040000.0,50790000.0,51520000.0,48100000.0,54060000.0,53230000.0,51500000.0,51740000.0,50460000.0],\"type\":\"scatter3d\"},{\"hovertemplate\":\"\\u003cb\\u003eGanancia\\u003c\\u002fb\\u003e: %{z:.0f}\\u003cbr\\u003eminsplit: %{x}\\u003cbr\\u003eminbucket: %{y}\\u003cbr\\u003ecp: -0.1\\u003cbr\\u003edepth: 14\\u003cextra\\u003e\\u003c\\u002fextra\\u003e\",\"marker\":{\"size\":6},\"mode\":\"markers\",\"name\":\"cp=-0.1 | depth=14\",\"x\":[50,50,50,100,100,100,100,100,200,200,200,200,200,400,400,400,400,400],\"y\":[5,10,20,5,10,20,30,40,5,10,20,30,40,5,10,20,30,40],\"z\":[42140000.0,42660000.0,44480000.0,45670000.0,44940000.0,45270000.0,45610000.0,47120000.0,49950000.0,50560000.0,48940000.0,47620000.0,47660000.0,53410000.0,51330000.0,48590000.0,48360000.0,49660000.0],\"type\":\"scatter3d\"},{\"hovertemplate\":\"\\u003cb\\u003eGanancia\\u003c\\u002fb\\u003e: %{z:.0f}\\u003cbr\\u003eminsplit: %{x}\\u003cbr\\u003eminbucket: %{y}\\u003cbr\\u003ecp: -0.05\\u003cbr\\u003edepth: 6\\u003cextra\\u003e\\u003c\\u002fextra\\u003e\",\"marker\":{\"size\":6},\"mode\":\"markers\",\"name\":\"cp=-0.05 | depth=6\",\"x\":[50,50,50,100,100,100,100,100,200,200,200,200,200,400,400,400,400,400],\"y\":[5,10,20,5,10,20,30,40,5,10,20,30,40,5,10,20,30,40],\"z\":[55420000.0,54860000.0,50440000.0,55680000.0,55170000.0,50190000.0,50900000.0,50330000.0,57230000.0,56720000.0,52020000.0,52020000.0,51170000.0,57230000.0,56720000.0,52020000.0,52020000.0,51170000.0],\"type\":\"scatter3d\"},{\"hovertemplate\":\"\\u003cb\\u003eGanancia\\u003c\\u002fb\\u003e: %{z:.0f}\\u003cbr\\u003eminsplit: %{x}\\u003cbr\\u003eminbucket: %{y}\\u003cbr\\u003ecp: -0.05\\u003cbr\\u003edepth: 8\\u003cextra\\u003e\\u003c\\u002fextra\\u003e\",\"marker\":{\"size\":6},\"mode\":\"markers\",\"name\":\"cp=-0.05 | depth=8\",\"x\":[50,50,50,100,100,100,100,100,200,200,200,200,200,400,400,400,400,400],\"y\":[5,10,20,5,10,20,30,40,5,10,20,30,40,5,10,20,30,40],\"z\":[50970000.0,54040000.0,55580000.0,51170000.0,54350000.0,56180000.0,57100000.0,55380000.0,53420000.0,56720000.0,58140000.0,58870000.0,56470000.0,53430000.0,57230000.0,58030000.0,58760000.0,56330000.0],\"type\":\"scatter3d\"},{\"hovertemplate\":\"\\u003cb\\u003eGanancia\\u003c\\u002fb\\u003e: %{z:.0f}\\u003cbr\\u003eminsplit: %{x}\\u003cbr\\u003eminbucket: %{y}\\u003cbr\\u003ecp: -0.05\\u003cbr\\u003edepth: 10\\u003cextra\\u003e\\u003c\\u002fextra\\u003e\",\"marker\":{\"size\":6},\"mode\":\"markers\",\"name\":\"cp=-0.05 | depth=10\",\"x\":[50,50,50,100,100,100,100,100,200,200,200,200,200,400,400,400,400,400],\"y\":[5,10,20,5,10,20,30,40,5,10,20,30,40,5,10,20,30,40],\"z\":[54710000.0,51770000.0,48260000.0,54960000.0,52730000.0,49940000.0,50690000.0,48310000.0,57900000.0,55090000.0,52410000.0,51970000.0,49020000.0,58510000.0,55750000.0,51910000.0,52520000.0,51810000.0],\"type\":\"scatter3d\"},{\"hovertemplate\":\"\\u003cb\\u003eGanancia\\u003c\\u002fb\\u003e: %{z:.0f}\\u003cbr\\u003eminsplit: %{x}\\u003cbr\\u003eminbucket: %{y}\\u003cbr\\u003ecp: -0.05\\u003cbr\\u003edepth: 12\\u003cextra\\u003e\\u003c\\u002fextra\\u003e\",\"marker\":{\"size\":6},\"mode\":\"markers\",\"name\":\"cp=-0.05 | depth=12\",\"x\":[50,50,50,100,100,100,100,100,200,200,200,200,200,400,400,400,400,400],\"y\":[5,10,20,5,10,20,30,40,5,10,20,30,40,5,10,20,30,40],\"z\":[47340000.0,49540000.0,45290000.0,48890000.0,50350000.0,46870000.0,48780000.0,47820000.0,53430000.0,54040000.0,50790000.0,51520000.0,48100000.0,54060000.0,53230000.0,51500000.0,51740000.0,50460000.0],\"type\":\"scatter3d\"},{\"hovertemplate\":\"\\u003cb\\u003eGanancia\\u003c\\u002fb\\u003e: %{z:.0f}\\u003cbr\\u003eminsplit: %{x}\\u003cbr\\u003eminbucket: %{y}\\u003cbr\\u003ecp: -0.05\\u003cbr\\u003edepth: 14\\u003cextra\\u003e\\u003c\\u002fextra\\u003e\",\"marker\":{\"size\":6},\"mode\":\"markers\",\"name\":\"cp=-0.05 | depth=14\",\"x\":[50,50,50,100,100,100,100,100,200,200,200,200,200,400,400,400,400,400],\"y\":[5,10,20,5,10,20,30,40,5,10,20,30,40,5,10,20,30,40],\"z\":[42140000.0,42660000.0,44480000.0,45670000.0,44940000.0,45270000.0,45610000.0,47120000.0,49950000.0,50560000.0,48940000.0,47620000.0,47660000.0,53410000.0,51330000.0,48590000.0,48360000.0,49660000.0],\"type\":\"scatter3d\"},{\"hovertemplate\":\"\\u003cb\\u003eGanancia\\u003c\\u002fb\\u003e: %{z:.0f}\\u003cbr\\u003eminsplit: %{x}\\u003cbr\\u003eminbucket: %{y}\\u003cbr\\u003ecp: -0.01\\u003cbr\\u003edepth: 6\\u003cextra\\u003e\\u003c\\u002fextra\\u003e\",\"marker\":{\"size\":6},\"mode\":\"markers\",\"name\":\"cp=-0.01 | depth=6\",\"x\":[50,50,50,100,100,100,100,100,200,200,200,200,200,400,400,400,400,400],\"y\":[5,10,20,5,10,20,30,40,5,10,20,30,40,5,10,20,30,40],\"z\":[55420000.0,54860000.0,50440000.0,55680000.0,55170000.0,50190000.0,50900000.0,50330000.0,57230000.0,56720000.0,52020000.0,52020000.0,51170000.0,57230000.0,56720000.0,52020000.0,52020000.0,51170000.0],\"type\":\"scatter3d\"},{\"hovertemplate\":\"\\u003cb\\u003eGanancia\\u003c\\u002fb\\u003e: %{z:.0f}\\u003cbr\\u003eminsplit: %{x}\\u003cbr\\u003eminbucket: %{y}\\u003cbr\\u003ecp: -0.01\\u003cbr\\u003edepth: 8\\u003cextra\\u003e\\u003c\\u002fextra\\u003e\",\"marker\":{\"size\":6},\"mode\":\"markers\",\"name\":\"cp=-0.01 | depth=8\",\"x\":[50,50,50,100,100,100,100,100,200,200,200,200,200,400,400,400,400,400],\"y\":[5,10,20,5,10,20,30,40,5,10,20,30,40,5,10,20,30,40],\"z\":[50970000.0,54040000.0,55580000.0,51170000.0,54350000.0,56180000.0,57100000.0,55380000.0,53420000.0,56720000.0,58140000.0,58870000.0,56470000.0,53430000.0,57230000.0,58030000.0,58760000.0,56330000.0],\"type\":\"scatter3d\"},{\"hovertemplate\":\"\\u003cb\\u003eGanancia\\u003c\\u002fb\\u003e: %{z:.0f}\\u003cbr\\u003eminsplit: %{x}\\u003cbr\\u003eminbucket: %{y}\\u003cbr\\u003ecp: -0.01\\u003cbr\\u003edepth: 10\\u003cextra\\u003e\\u003c\\u002fextra\\u003e\",\"marker\":{\"size\":6},\"mode\":\"markers\",\"name\":\"cp=-0.01 | depth=10\",\"x\":[50,50,50,100,100,100,100,100,200,200,200,200,200,400,400,400,400,400],\"y\":[5,10,20,5,10,20,30,40,5,10,20,30,40,5,10,20,30,40],\"z\":[54710000.0,51770000.0,48260000.0,54960000.0,52730000.0,49940000.0,50690000.0,48310000.0,57900000.0,55090000.0,52410000.0,51970000.0,49020000.0,58510000.0,55750000.0,51910000.0,52520000.0,51810000.0],\"type\":\"scatter3d\"},{\"hovertemplate\":\"\\u003cb\\u003eGanancia\\u003c\\u002fb\\u003e: %{z:.0f}\\u003cbr\\u003eminsplit: %{x}\\u003cbr\\u003eminbucket: %{y}\\u003cbr\\u003ecp: -0.01\\u003cbr\\u003edepth: 12\\u003cextra\\u003e\\u003c\\u002fextra\\u003e\",\"marker\":{\"size\":6},\"mode\":\"markers\",\"name\":\"cp=-0.01 | depth=12\",\"x\":[50,50,50,100,100,100,100,100,200,200,200,200,200,400,400,400,400,400],\"y\":[5,10,20,5,10,20,30,40,5,10,20,30,40,5,10,20,30,40],\"z\":[47340000.0,49540000.0,45290000.0,48890000.0,50350000.0,46870000.0,48780000.0,47820000.0,53430000.0,54040000.0,50790000.0,51520000.0,48100000.0,54060000.0,53230000.0,51500000.0,51740000.0,50460000.0],\"type\":\"scatter3d\"},{\"hovertemplate\":\"\\u003cb\\u003eGanancia\\u003c\\u002fb\\u003e: %{z:.0f}\\u003cbr\\u003eminsplit: %{x}\\u003cbr\\u003eminbucket: %{y}\\u003cbr\\u003ecp: -0.01\\u003cbr\\u003edepth: 14\\u003cextra\\u003e\\u003c\\u002fextra\\u003e\",\"marker\":{\"size\":6},\"mode\":\"markers\",\"name\":\"cp=-0.01 | depth=14\",\"x\":[50,50,50,100,100,100,100,100,200,200,200,200,200,400,400,400,400,400],\"y\":[5,10,20,5,10,20,30,40,5,10,20,30,40,5,10,20,30,40],\"z\":[42140000.0,42660000.0,44480000.0,45670000.0,44940000.0,45270000.0,45610000.0,47120000.0,49950000.0,50560000.0,48940000.0,47620000.0,47660000.0,53410000.0,51330000.0,48590000.0,48360000.0,49660000.0],\"type\":\"scatter3d\"}],                        {\"template\":{\"data\":{\"histogram2dcontour\":[{\"type\":\"histogram2dcontour\",\"colorbar\":{\"outlinewidth\":0,\"ticks\":\"\"},\"colorscale\":[[0.0,\"#0d0887\"],[0.1111111111111111,\"#46039f\"],[0.2222222222222222,\"#7201a8\"],[0.3333333333333333,\"#9c179e\"],[0.4444444444444444,\"#bd3786\"],[0.5555555555555556,\"#d8576b\"],[0.6666666666666666,\"#ed7953\"],[0.7777777777777778,\"#fb9f3a\"],[0.8888888888888888,\"#fdca26\"],[1.0,\"#f0f921\"]]}],\"choropleth\":[{\"type\":\"choropleth\",\"colorbar\":{\"outlinewidth\":0,\"ticks\":\"\"}}],\"histogram2d\":[{\"type\":\"histogram2d\",\"colorbar\":{\"outlinewidth\":0,\"ticks\":\"\"},\"colorscale\":[[0.0,\"#0d0887\"],[0.1111111111111111,\"#46039f\"],[0.2222222222222222,\"#7201a8\"],[0.3333333333333333,\"#9c179e\"],[0.4444444444444444,\"#bd3786\"],[0.5555555555555556,\"#d8576b\"],[0.6666666666666666,\"#ed7953\"],[0.7777777777777778,\"#fb9f3a\"],[0.8888888888888888,\"#fdca26\"],[1.0,\"#f0f921\"]]}],\"heatmap\":[{\"type\":\"heatmap\",\"colorbar\":{\"outlinewidth\":0,\"ticks\":\"\"},\"colorscale\":[[0.0,\"#0d0887\"],[0.1111111111111111,\"#46039f\"],[0.2222222222222222,\"#7201a8\"],[0.3333333333333333,\"#9c179e\"],[0.4444444444444444,\"#bd3786\"],[0.5555555555555556,\"#d8576b\"],[0.6666666666666666,\"#ed7953\"],[0.7777777777777778,\"#fb9f3a\"],[0.8888888888888888,\"#fdca26\"],[1.0,\"#f0f921\"]]}],\"heatmapgl\":[{\"type\":\"heatmapgl\",\"colorbar\":{\"outlinewidth\":0,\"ticks\":\"\"},\"colorscale\":[[0.0,\"#0d0887\"],[0.1111111111111111,\"#46039f\"],[0.2222222222222222,\"#7201a8\"],[0.3333333333333333,\"#9c179e\"],[0.4444444444444444,\"#bd3786\"],[0.5555555555555556,\"#d8576b\"],[0.6666666666666666,\"#ed7953\"],[0.7777777777777778,\"#fb9f3a\"],[0.8888888888888888,\"#fdca26\"],[1.0,\"#f0f921\"]]}],\"contourcarpet\":[{\"type\":\"contourcarpet\",\"colorbar\":{\"outlinewidth\":0,\"ticks\":\"\"}}],\"contour\":[{\"type\":\"contour\",\"colorbar\":{\"outlinewidth\":0,\"ticks\":\"\"},\"colorscale\":[[0.0,\"#0d0887\"],[0.1111111111111111,\"#46039f\"],[0.2222222222222222,\"#7201a8\"],[0.3333333333333333,\"#9c179e\"],[0.4444444444444444,\"#bd3786\"],[0.5555555555555556,\"#d8576b\"],[0.6666666666666666,\"#ed7953\"],[0.7777777777777778,\"#fb9f3a\"],[0.8888888888888888,\"#fdca26\"],[1.0,\"#f0f921\"]]}],\"surface\":[{\"type\":\"surface\",\"colorbar\":{\"outlinewidth\":0,\"ticks\":\"\"},\"colorscale\":[[0.0,\"#0d0887\"],[0.1111111111111111,\"#46039f\"],[0.2222222222222222,\"#7201a8\"],[0.3333333333333333,\"#9c179e\"],[0.4444444444444444,\"#bd3786\"],[0.5555555555555556,\"#d8576b\"],[0.6666666666666666,\"#ed7953\"],[0.7777777777777778,\"#fb9f3a\"],[0.8888888888888888,\"#fdca26\"],[1.0,\"#f0f921\"]]}],\"mesh3d\":[{\"type\":\"mesh3d\",\"colorbar\":{\"outlinewidth\":0,\"ticks\":\"\"}}],\"scatter\":[{\"fillpattern\":{\"fillmode\":\"overlay\",\"size\":10,\"solidity\":0.2},\"type\":\"scatter\"}],\"parcoords\":[{\"type\":\"parcoords\",\"line\":{\"colorbar\":{\"outlinewidth\":0,\"ticks\":\"\"}}}],\"scatterpolargl\":[{\"type\":\"scatterpolargl\",\"marker\":{\"colorbar\":{\"outlinewidth\":0,\"ticks\":\"\"}}}],\"bar\":[{\"error_x\":{\"color\":\"#2a3f5f\"},\"error_y\":{\"color\":\"#2a3f5f\"},\"marker\":{\"line\":{\"color\":\"#E5ECF6\",\"width\":0.5},\"pattern\":{\"fillmode\":\"overlay\",\"size\":10,\"solidity\":0.2}},\"type\":\"bar\"}],\"scattergeo\":[{\"type\":\"scattergeo\",\"marker\":{\"colorbar\":{\"outlinewidth\":0,\"ticks\":\"\"}}}],\"scatterpolar\":[{\"type\":\"scatterpolar\",\"marker\":{\"colorbar\":{\"outlinewidth\":0,\"ticks\":\"\"}}}],\"histogram\":[{\"marker\":{\"pattern\":{\"fillmode\":\"overlay\",\"size\":10,\"solidity\":0.2}},\"type\":\"histogram\"}],\"scattergl\":[{\"type\":\"scattergl\",\"marker\":{\"colorbar\":{\"outlinewidth\":0,\"ticks\":\"\"}}}],\"scatter3d\":[{\"type\":\"scatter3d\",\"line\":{\"colorbar\":{\"outlinewidth\":0,\"ticks\":\"\"}},\"marker\":{\"colorbar\":{\"outlinewidth\":0,\"ticks\":\"\"}}}],\"scattermapbox\":[{\"type\":\"scattermapbox\",\"marker\":{\"colorbar\":{\"outlinewidth\":0,\"ticks\":\"\"}}}],\"scatterternary\":[{\"type\":\"scatterternary\",\"marker\":{\"colorbar\":{\"outlinewidth\":0,\"ticks\":\"\"}}}],\"scattercarpet\":[{\"type\":\"scattercarpet\",\"marker\":{\"colorbar\":{\"outlinewidth\":0,\"ticks\":\"\"}}}],\"carpet\":[{\"aaxis\":{\"endlinecolor\":\"#2a3f5f\",\"gridcolor\":\"white\",\"linecolor\":\"white\",\"minorgridcolor\":\"white\",\"startlinecolor\":\"#2a3f5f\"},\"baxis\":{\"endlinecolor\":\"#2a3f5f\",\"gridcolor\":\"white\",\"linecolor\":\"white\",\"minorgridcolor\":\"white\",\"startlinecolor\":\"#2a3f5f\"},\"type\":\"carpet\"}],\"table\":[{\"cells\":{\"fill\":{\"color\":\"#EBF0F8\"},\"line\":{\"color\":\"white\"}},\"header\":{\"fill\":{\"color\":\"#C8D4E3\"},\"line\":{\"color\":\"white\"}},\"type\":\"table\"}],\"barpolar\":[{\"marker\":{\"line\":{\"color\":\"#E5ECF6\",\"width\":0.5},\"pattern\":{\"fillmode\":\"overlay\",\"size\":10,\"solidity\":0.2}},\"type\":\"barpolar\"}],\"pie\":[{\"automargin\":true,\"type\":\"pie\"}]},\"layout\":{\"autotypenumbers\":\"strict\",\"colorway\":[\"#636efa\",\"#EF553B\",\"#00cc96\",\"#ab63fa\",\"#FFA15A\",\"#19d3f3\",\"#FF6692\",\"#B6E880\",\"#FF97FF\",\"#FECB52\"],\"font\":{\"color\":\"#2a3f5f\"},\"hovermode\":\"closest\",\"hoverlabel\":{\"align\":\"left\"},\"paper_bgcolor\":\"white\",\"plot_bgcolor\":\"#E5ECF6\",\"polar\":{\"bgcolor\":\"#E5ECF6\",\"angularaxis\":{\"gridcolor\":\"white\",\"linecolor\":\"white\",\"ticks\":\"\"},\"radialaxis\":{\"gridcolor\":\"white\",\"linecolor\":\"white\",\"ticks\":\"\"}},\"ternary\":{\"bgcolor\":\"#E5ECF6\",\"aaxis\":{\"gridcolor\":\"white\",\"linecolor\":\"white\",\"ticks\":\"\"},\"baxis\":{\"gridcolor\":\"white\",\"linecolor\":\"white\",\"ticks\":\"\"},\"caxis\":{\"gridcolor\":\"white\",\"linecolor\":\"white\",\"ticks\":\"\"}},\"coloraxis\":{\"colorbar\":{\"outlinewidth\":0,\"ticks\":\"\"}},\"colorscale\":{\"sequential\":[[0.0,\"#0d0887\"],[0.1111111111111111,\"#46039f\"],[0.2222222222222222,\"#7201a8\"],[0.3333333333333333,\"#9c179e\"],[0.4444444444444444,\"#bd3786\"],[0.5555555555555556,\"#d8576b\"],[0.6666666666666666,\"#ed7953\"],[0.7777777777777778,\"#fb9f3a\"],[0.8888888888888888,\"#fdca26\"],[1.0,\"#f0f921\"]],\"sequentialminus\":[[0.0,\"#0d0887\"],[0.1111111111111111,\"#46039f\"],[0.2222222222222222,\"#7201a8\"],[0.3333333333333333,\"#9c179e\"],[0.4444444444444444,\"#bd3786\"],[0.5555555555555556,\"#d8576b\"],[0.6666666666666666,\"#ed7953\"],[0.7777777777777778,\"#fb9f3a\"],[0.8888888888888888,\"#fdca26\"],[1.0,\"#f0f921\"]],\"diverging\":[[0,\"#8e0152\"],[0.1,\"#c51b7d\"],[0.2,\"#de77ae\"],[0.3,\"#f1b6da\"],[0.4,\"#fde0ef\"],[0.5,\"#f7f7f7\"],[0.6,\"#e6f5d0\"],[0.7,\"#b8e186\"],[0.8,\"#7fbc41\"],[0.9,\"#4d9221\"],[1,\"#276419\"]]},\"xaxis\":{\"gridcolor\":\"white\",\"linecolor\":\"white\",\"ticks\":\"\",\"title\":{\"standoff\":15},\"zerolinecolor\":\"white\",\"automargin\":true,\"zerolinewidth\":2},\"yaxis\":{\"gridcolor\":\"white\",\"linecolor\":\"white\",\"ticks\":\"\",\"title\":{\"standoff\":15},\"zerolinecolor\":\"white\",\"automargin\":true,\"zerolinewidth\":2},\"scene\":{\"xaxis\":{\"backgroundcolor\":\"#E5ECF6\",\"gridcolor\":\"white\",\"linecolor\":\"white\",\"showbackground\":true,\"ticks\":\"\",\"zerolinecolor\":\"white\",\"gridwidth\":2},\"yaxis\":{\"backgroundcolor\":\"#E5ECF6\",\"gridcolor\":\"white\",\"linecolor\":\"white\",\"showbackground\":true,\"ticks\":\"\",\"zerolinecolor\":\"white\",\"gridwidth\":2},\"zaxis\":{\"backgroundcolor\":\"#E5ECF6\",\"gridcolor\":\"white\",\"linecolor\":\"white\",\"showbackground\":true,\"ticks\":\"\",\"zerolinecolor\":\"white\",\"gridwidth\":2}},\"shapedefaults\":{\"line\":{\"color\":\"#2a3f5f\"}},\"annotationdefaults\":{\"arrowcolor\":\"#2a3f5f\",\"arrowhead\":0,\"arrowwidth\":1},\"geo\":{\"bgcolor\":\"white\",\"landcolor\":\"#E5ECF6\",\"subunitcolor\":\"white\",\"showland\":true,\"showlakes\":true,\"lakecolor\":\"white\"},\"title\":{\"x\":0.05},\"mapbox\":{\"style\":\"light\"}}},\"title\":{\"text\":\"Grid Search — 3D interactivo (toggle por cp y depth)\"},\"scene\":{\"xaxis\":{\"title\":{\"text\":\"minsplit\"}},\"yaxis\":{\"title\":{\"text\":\"minbucket\"}},\"zaxis\":{\"title\":{\"text\":\"ganancia_mean\"}}},\"height\":650},                        {\"responsive\": true}                    )                };                            </script>        </div></div>\n",
              "<div class=\"section\"><h3>Parallel Coordinates</h3><div>                            <div id=\"8d430622-0e84-4ab7-a2ab-44509641c741\" class=\"plotly-graph-div\" style=\"height:520px; width:100%;\"></div>            <script type=\"text/javascript\">                                    window.PLOTLYENV=window.PLOTLYENV || {};                                    if (document.getElementById(\"8d430622-0e84-4ab7-a2ab-44509641c741\")) {                    Plotly.newPlot(                        \"8d430622-0e84-4ab7-a2ab-44509641c741\",                        [{\"dimensions\":[{\"label\":\"cp\",\"values\":[-0.1,-0.1,-0.1,-0.1,-0.1,-0.1,-0.1,-0.1,-0.1,-0.1,-0.1,-0.1,-0.1,-0.1,-0.1,-0.1,-0.1,-0.1,-0.1,-0.1,-0.1,-0.1,-0.1,-0.1,-0.1,-0.1,-0.1,-0.1,-0.1,-0.1,-0.1,-0.1,-0.1,-0.1,-0.1,-0.1,-0.1,-0.1,-0.1,-0.1,-0.1,-0.1,-0.1,-0.1,-0.1,-0.1,-0.1,-0.1,-0.1,-0.1,-0.1,-0.1,-0.1,-0.1,-0.1,-0.1,-0.1,-0.1,-0.1,-0.1,-0.1,-0.1,-0.1,-0.1,-0.1,-0.1,-0.1,-0.1,-0.1,-0.1,-0.1,-0.1,-0.1,-0.1,-0.1,-0.1,-0.1,-0.1,-0.1,-0.1,-0.1,-0.1,-0.1,-0.1,-0.1,-0.1,-0.1,-0.1,-0.1,-0.1,-0.05,-0.05,-0.05,-0.05,-0.05,-0.05,-0.05,-0.05,-0.05,-0.05,-0.05,-0.05,-0.05,-0.05,-0.05,-0.05,-0.05,-0.05,-0.05,-0.05,-0.05,-0.05,-0.05,-0.05,-0.05,-0.05,-0.05,-0.05,-0.05,-0.05,-0.05,-0.05,-0.05,-0.05,-0.05,-0.05,-0.05,-0.05,-0.05,-0.05,-0.05,-0.05,-0.05,-0.05,-0.05,-0.05,-0.05,-0.05,-0.05,-0.05,-0.05,-0.05,-0.05,-0.05,-0.05,-0.05,-0.05,-0.05,-0.05,-0.05,-0.05,-0.05,-0.05,-0.05,-0.05,-0.05,-0.05,-0.05,-0.05,-0.05,-0.05,-0.05,-0.05,-0.05,-0.05,-0.05,-0.05,-0.05,-0.05,-0.05,-0.05,-0.05,-0.05,-0.05,-0.05,-0.05,-0.05,-0.05,-0.05,-0.05,-0.01,-0.01,-0.01,-0.01,-0.01,-0.01,-0.01,-0.01,-0.01,-0.01,-0.01,-0.01,-0.01,-0.01,-0.01,-0.01,-0.01,-0.01,-0.01,-0.01,-0.01,-0.01,-0.01,-0.01,-0.01,-0.01,-0.01,-0.01,-0.01,-0.01,-0.01,-0.01,-0.01,-0.01,-0.01,-0.01,-0.01,-0.01,-0.01,-0.01,-0.01,-0.01,-0.01,-0.01,-0.01,-0.01,-0.01,-0.01,-0.01,-0.01,-0.01,-0.01,-0.01,-0.01,-0.01,-0.01,-0.01,-0.01,-0.01,-0.01,-0.01,-0.01,-0.01,-0.01,-0.01,-0.01,-0.01,-0.01,-0.01,-0.01,-0.01,-0.01,-0.01,-0.01,-0.01,-0.01,-0.01,-0.01,-0.01,-0.01,-0.01,-0.01,-0.01,-0.01,-0.01,-0.01,-0.01,-0.01,-0.01,-0.01]},{\"label\":\"depth\",\"values\":[6,6,6,6,6,6,6,6,6,6,6,6,6,6,6,6,6,6,8,8,8,8,8,8,8,8,8,8,8,8,8,8,8,8,8,8,10,10,10,10,10,10,10,10,10,10,10,10,10,10,10,10,10,10,12,12,12,12,12,12,12,12,12,12,12,12,12,12,12,12,12,12,14,14,14,14,14,14,14,14,14,14,14,14,14,14,14,14,14,14,6,6,6,6,6,6,6,6,6,6,6,6,6,6,6,6,6,6,8,8,8,8,8,8,8,8,8,8,8,8,8,8,8,8,8,8,10,10,10,10,10,10,10,10,10,10,10,10,10,10,10,10,10,10,12,12,12,12,12,12,12,12,12,12,12,12,12,12,12,12,12,12,14,14,14,14,14,14,14,14,14,14,14,14,14,14,14,14,14,14,6,6,6,6,6,6,6,6,6,6,6,6,6,6,6,6,6,6,8,8,8,8,8,8,8,8,8,8,8,8,8,8,8,8,8,8,10,10,10,10,10,10,10,10,10,10,10,10,10,10,10,10,10,10,12,12,12,12,12,12,12,12,12,12,12,12,12,12,12,12,12,12,14,14,14,14,14,14,14,14,14,14,14,14,14,14,14,14,14,14]},{\"label\":\"minsplit\",\"values\":[50,50,50,100,100,100,100,100,200,200,200,200,200,400,400,400,400,400,50,50,50,100,100,100,100,100,200,200,200,200,200,400,400,400,400,400,50,50,50,100,100,100,100,100,200,200,200,200,200,400,400,400,400,400,50,50,50,100,100,100,100,100,200,200,200,200,200,400,400,400,400,400,50,50,50,100,100,100,100,100,200,200,200,200,200,400,400,400,400,400,50,50,50,100,100,100,100,100,200,200,200,200,200,400,400,400,400,400,50,50,50,100,100,100,100,100,200,200,200,200,200,400,400,400,400,400,50,50,50,100,100,100,100,100,200,200,200,200,200,400,400,400,400,400,50,50,50,100,100,100,100,100,200,200,200,200,200,400,400,400,400,400,50,50,50,100,100,100,100,100,200,200,200,200,200,400,400,400,400,400,50,50,50,100,100,100,100,100,200,200,200,200,200,400,400,400,400,400,50,50,50,100,100,100,100,100,200,200,200,200,200,400,400,400,400,400,50,50,50,100,100,100,100,100,200,200,200,200,200,400,400,400,400,400,50,50,50,100,100,100,100,100,200,200,200,200,200,400,400,400,400,400,50,50,50,100,100,100,100,100,200,200,200,200,200,400,400,400,400,400]},{\"label\":\"minbucket\",\"values\":[5,10,20,5,10,20,30,40,5,10,20,30,40,5,10,20,30,40,5,10,20,5,10,20,30,40,5,10,20,30,40,5,10,20,30,40,5,10,20,5,10,20,30,40,5,10,20,30,40,5,10,20,30,40,5,10,20,5,10,20,30,40,5,10,20,30,40,5,10,20,30,40,5,10,20,5,10,20,30,40,5,10,20,30,40,5,10,20,30,40,5,10,20,5,10,20,30,40,5,10,20,30,40,5,10,20,30,40,5,10,20,5,10,20,30,40,5,10,20,30,40,5,10,20,30,40,5,10,20,5,10,20,30,40,5,10,20,30,40,5,10,20,30,40,5,10,20,5,10,20,30,40,5,10,20,30,40,5,10,20,30,40,5,10,20,5,10,20,30,40,5,10,20,30,40,5,10,20,30,40,5,10,20,5,10,20,30,40,5,10,20,30,40,5,10,20,30,40,5,10,20,5,10,20,30,40,5,10,20,30,40,5,10,20,30,40,5,10,20,5,10,20,30,40,5,10,20,30,40,5,10,20,30,40,5,10,20,5,10,20,30,40,5,10,20,30,40,5,10,20,30,40,5,10,20,5,10,20,30,40,5,10,20,30,40,5,10,20,30,40]},{\"label\":\"ganancia\",\"values\":[55420000.0,54860000.0,50440000.0,55680000.0,55170000.0,50190000.0,50900000.0,50330000.0,57230000.0,56720000.0,52020000.0,52020000.0,51170000.0,57230000.0,56720000.0,52020000.0,52020000.0,51170000.0,50970000.0,54040000.0,55580000.0,51170000.0,54350000.0,56180000.0,57100000.0,55380000.0,53420000.0,56720000.0,58140000.0,58870000.0,56470000.0,53430000.0,57230000.0,58030000.0,58760000.0,56330000.0,54710000.0,51770000.0,48260000.0,54960000.0,52730000.0,49940000.0,50690000.0,48310000.0,57900000.0,55090000.0,52410000.0,51970000.0,49020000.0,58510000.0,55750000.0,51910000.0,52520000.0,51810000.0,47340000.0,49540000.0,45290000.0,48890000.0,50350000.0,46870000.0,48780000.0,47820000.0,53430000.0,54040000.0,50790000.0,51520000.0,48100000.0,54060000.0,53230000.0,51500000.0,51740000.0,50460000.0,42140000.0,42660000.0,44480000.0,45670000.0,44940000.0,45270000.0,45610000.0,47120000.0,49950000.0,50560000.0,48940000.0,47620000.0,47660000.0,53410000.0,51330000.0,48590000.0,48360000.0,49660000.0,55420000.0,54860000.0,50440000.0,55680000.0,55170000.0,50190000.0,50900000.0,50330000.0,57230000.0,56720000.0,52020000.0,52020000.0,51170000.0,57230000.0,56720000.0,52020000.0,52020000.0,51170000.0,50970000.0,54040000.0,55580000.0,51170000.0,54350000.0,56180000.0,57100000.0,55380000.0,53420000.0,56720000.0,58140000.0,58870000.0,56470000.0,53430000.0,57230000.0,58030000.0,58760000.0,56330000.0,54710000.0,51770000.0,48260000.0,54960000.0,52730000.0,49940000.0,50690000.0,48310000.0,57900000.0,55090000.0,52410000.0,51970000.0,49020000.0,58510000.0,55750000.0,51910000.0,52520000.0,51810000.0,47340000.0,49540000.0,45290000.0,48890000.0,50350000.0,46870000.0,48780000.0,47820000.0,53430000.0,54040000.0,50790000.0,51520000.0,48100000.0,54060000.0,53230000.0,51500000.0,51740000.0,50460000.0,42140000.0,42660000.0,44480000.0,45670000.0,44940000.0,45270000.0,45610000.0,47120000.0,49950000.0,50560000.0,48940000.0,47620000.0,47660000.0,53410000.0,51330000.0,48590000.0,48360000.0,49660000.0,55420000.0,54860000.0,50440000.0,55680000.0,55170000.0,50190000.0,50900000.0,50330000.0,57230000.0,56720000.0,52020000.0,52020000.0,51170000.0,57230000.0,56720000.0,52020000.0,52020000.0,51170000.0,50970000.0,54040000.0,55580000.0,51170000.0,54350000.0,56180000.0,57100000.0,55380000.0,53420000.0,56720000.0,58140000.0,58870000.0,56470000.0,53430000.0,57230000.0,58030000.0,58760000.0,56330000.0,54710000.0,51770000.0,48260000.0,54960000.0,52730000.0,49940000.0,50690000.0,48310000.0,57900000.0,55090000.0,52410000.0,51970000.0,49020000.0,58510000.0,55750000.0,51910000.0,52520000.0,51810000.0,47340000.0,49540000.0,45290000.0,48890000.0,50350000.0,46870000.0,48780000.0,47820000.0,53430000.0,54040000.0,50790000.0,51520000.0,48100000.0,54060000.0,53230000.0,51500000.0,51740000.0,50460000.0,42140000.0,42660000.0,44480000.0,45670000.0,44940000.0,45270000.0,45610000.0,47120000.0,49950000.0,50560000.0,48940000.0,47620000.0,47660000.0,53410000.0,51330000.0,48590000.0,48360000.0,49660000.0]}],\"line\":{\"color\":[55420000.0,54860000.0,50440000.0,55680000.0,55170000.0,50190000.0,50900000.0,50330000.0,57230000.0,56720000.0,52020000.0,52020000.0,51170000.0,57230000.0,56720000.0,52020000.0,52020000.0,51170000.0,50970000.0,54040000.0,55580000.0,51170000.0,54350000.0,56180000.0,57100000.0,55380000.0,53420000.0,56720000.0,58140000.0,58870000.0,56470000.0,53430000.0,57230000.0,58030000.0,58760000.0,56330000.0,54710000.0,51770000.0,48260000.0,54960000.0,52730000.0,49940000.0,50690000.0,48310000.0,57900000.0,55090000.0,52410000.0,51970000.0,49020000.0,58510000.0,55750000.0,51910000.0,52520000.0,51810000.0,47340000.0,49540000.0,45290000.0,48890000.0,50350000.0,46870000.0,48780000.0,47820000.0,53430000.0,54040000.0,50790000.0,51520000.0,48100000.0,54060000.0,53230000.0,51500000.0,51740000.0,50460000.0,42140000.0,42660000.0,44480000.0,45670000.0,44940000.0,45270000.0,45610000.0,47120000.0,49950000.0,50560000.0,48940000.0,47620000.0,47660000.0,53410000.0,51330000.0,48590000.0,48360000.0,49660000.0,55420000.0,54860000.0,50440000.0,55680000.0,55170000.0,50190000.0,50900000.0,50330000.0,57230000.0,56720000.0,52020000.0,52020000.0,51170000.0,57230000.0,56720000.0,52020000.0,52020000.0,51170000.0,50970000.0,54040000.0,55580000.0,51170000.0,54350000.0,56180000.0,57100000.0,55380000.0,53420000.0,56720000.0,58140000.0,58870000.0,56470000.0,53430000.0,57230000.0,58030000.0,58760000.0,56330000.0,54710000.0,51770000.0,48260000.0,54960000.0,52730000.0,49940000.0,50690000.0,48310000.0,57900000.0,55090000.0,52410000.0,51970000.0,49020000.0,58510000.0,55750000.0,51910000.0,52520000.0,51810000.0,47340000.0,49540000.0,45290000.0,48890000.0,50350000.0,46870000.0,48780000.0,47820000.0,53430000.0,54040000.0,50790000.0,51520000.0,48100000.0,54060000.0,53230000.0,51500000.0,51740000.0,50460000.0,42140000.0,42660000.0,44480000.0,45670000.0,44940000.0,45270000.0,45610000.0,47120000.0,49950000.0,50560000.0,48940000.0,47620000.0,47660000.0,53410000.0,51330000.0,48590000.0,48360000.0,49660000.0,55420000.0,54860000.0,50440000.0,55680000.0,55170000.0,50190000.0,50900000.0,50330000.0,57230000.0,56720000.0,52020000.0,52020000.0,51170000.0,57230000.0,56720000.0,52020000.0,52020000.0,51170000.0,50970000.0,54040000.0,55580000.0,51170000.0,54350000.0,56180000.0,57100000.0,55380000.0,53420000.0,56720000.0,58140000.0,58870000.0,56470000.0,53430000.0,57230000.0,58030000.0,58760000.0,56330000.0,54710000.0,51770000.0,48260000.0,54960000.0,52730000.0,49940000.0,50690000.0,48310000.0,57900000.0,55090000.0,52410000.0,51970000.0,49020000.0,58510000.0,55750000.0,51910000.0,52520000.0,51810000.0,47340000.0,49540000.0,45290000.0,48890000.0,50350000.0,46870000.0,48780000.0,47820000.0,53430000.0,54040000.0,50790000.0,51520000.0,48100000.0,54060000.0,53230000.0,51500000.0,51740000.0,50460000.0,42140000.0,42660000.0,44480000.0,45670000.0,44940000.0,45270000.0,45610000.0,47120000.0,49950000.0,50560000.0,48940000.0,47620000.0,47660000.0,53410000.0,51330000.0,48590000.0,48360000.0,49660000.0],\"showscale\":true},\"type\":\"parcoords\"}],                        {\"template\":{\"data\":{\"histogram2dcontour\":[{\"type\":\"histogram2dcontour\",\"colorbar\":{\"outlinewidth\":0,\"ticks\":\"\"},\"colorscale\":[[0.0,\"#0d0887\"],[0.1111111111111111,\"#46039f\"],[0.2222222222222222,\"#7201a8\"],[0.3333333333333333,\"#9c179e\"],[0.4444444444444444,\"#bd3786\"],[0.5555555555555556,\"#d8576b\"],[0.6666666666666666,\"#ed7953\"],[0.7777777777777778,\"#fb9f3a\"],[0.8888888888888888,\"#fdca26\"],[1.0,\"#f0f921\"]]}],\"choropleth\":[{\"type\":\"choropleth\",\"colorbar\":{\"outlinewidth\":0,\"ticks\":\"\"}}],\"histogram2d\":[{\"type\":\"histogram2d\",\"colorbar\":{\"outlinewidth\":0,\"ticks\":\"\"},\"colorscale\":[[0.0,\"#0d0887\"],[0.1111111111111111,\"#46039f\"],[0.2222222222222222,\"#7201a8\"],[0.3333333333333333,\"#9c179e\"],[0.4444444444444444,\"#bd3786\"],[0.5555555555555556,\"#d8576b\"],[0.6666666666666666,\"#ed7953\"],[0.7777777777777778,\"#fb9f3a\"],[0.8888888888888888,\"#fdca26\"],[1.0,\"#f0f921\"]]}],\"heatmap\":[{\"type\":\"heatmap\",\"colorbar\":{\"outlinewidth\":0,\"ticks\":\"\"},\"colorscale\":[[0.0,\"#0d0887\"],[0.1111111111111111,\"#46039f\"],[0.2222222222222222,\"#7201a8\"],[0.3333333333333333,\"#9c179e\"],[0.4444444444444444,\"#bd3786\"],[0.5555555555555556,\"#d8576b\"],[0.6666666666666666,\"#ed7953\"],[0.7777777777777778,\"#fb9f3a\"],[0.8888888888888888,\"#fdca26\"],[1.0,\"#f0f921\"]]}],\"heatmapgl\":[{\"type\":\"heatmapgl\",\"colorbar\":{\"outlinewidth\":0,\"ticks\":\"\"},\"colorscale\":[[0.0,\"#0d0887\"],[0.1111111111111111,\"#46039f\"],[0.2222222222222222,\"#7201a8\"],[0.3333333333333333,\"#9c179e\"],[0.4444444444444444,\"#bd3786\"],[0.5555555555555556,\"#d8576b\"],[0.6666666666666666,\"#ed7953\"],[0.7777777777777778,\"#fb9f3a\"],[0.8888888888888888,\"#fdca26\"],[1.0,\"#f0f921\"]]}],\"contourcarpet\":[{\"type\":\"contourcarpet\",\"colorbar\":{\"outlinewidth\":0,\"ticks\":\"\"}}],\"contour\":[{\"type\":\"contour\",\"colorbar\":{\"outlinewidth\":0,\"ticks\":\"\"},\"colorscale\":[[0.0,\"#0d0887\"],[0.1111111111111111,\"#46039f\"],[0.2222222222222222,\"#7201a8\"],[0.3333333333333333,\"#9c179e\"],[0.4444444444444444,\"#bd3786\"],[0.5555555555555556,\"#d8576b\"],[0.6666666666666666,\"#ed7953\"],[0.7777777777777778,\"#fb9f3a\"],[0.8888888888888888,\"#fdca26\"],[1.0,\"#f0f921\"]]}],\"surface\":[{\"type\":\"surface\",\"colorbar\":{\"outlinewidth\":0,\"ticks\":\"\"},\"colorscale\":[[0.0,\"#0d0887\"],[0.1111111111111111,\"#46039f\"],[0.2222222222222222,\"#7201a8\"],[0.3333333333333333,\"#9c179e\"],[0.4444444444444444,\"#bd3786\"],[0.5555555555555556,\"#d8576b\"],[0.6666666666666666,\"#ed7953\"],[0.7777777777777778,\"#fb9f3a\"],[0.8888888888888888,\"#fdca26\"],[1.0,\"#f0f921\"]]}],\"mesh3d\":[{\"type\":\"mesh3d\",\"colorbar\":{\"outlinewidth\":0,\"ticks\":\"\"}}],\"scatter\":[{\"fillpattern\":{\"fillmode\":\"overlay\",\"size\":10,\"solidity\":0.2},\"type\":\"scatter\"}],\"parcoords\":[{\"type\":\"parcoords\",\"line\":{\"colorbar\":{\"outlinewidth\":0,\"ticks\":\"\"}}}],\"scatterpolargl\":[{\"type\":\"scatterpolargl\",\"marker\":{\"colorbar\":{\"outlinewidth\":0,\"ticks\":\"\"}}}],\"bar\":[{\"error_x\":{\"color\":\"#2a3f5f\"},\"error_y\":{\"color\":\"#2a3f5f\"},\"marker\":{\"line\":{\"color\":\"#E5ECF6\",\"width\":0.5},\"pattern\":{\"fillmode\":\"overlay\",\"size\":10,\"solidity\":0.2}},\"type\":\"bar\"}],\"scattergeo\":[{\"type\":\"scattergeo\",\"marker\":{\"colorbar\":{\"outlinewidth\":0,\"ticks\":\"\"}}}],\"scatterpolar\":[{\"type\":\"scatterpolar\",\"marker\":{\"colorbar\":{\"outlinewidth\":0,\"ticks\":\"\"}}}],\"histogram\":[{\"marker\":{\"pattern\":{\"fillmode\":\"overlay\",\"size\":10,\"solidity\":0.2}},\"type\":\"histogram\"}],\"scattergl\":[{\"type\":\"scattergl\",\"marker\":{\"colorbar\":{\"outlinewidth\":0,\"ticks\":\"\"}}}],\"scatter3d\":[{\"type\":\"scatter3d\",\"line\":{\"colorbar\":{\"outlinewidth\":0,\"ticks\":\"\"}},\"marker\":{\"colorbar\":{\"outlinewidth\":0,\"ticks\":\"\"}}}],\"scattermapbox\":[{\"type\":\"scattermapbox\",\"marker\":{\"colorbar\":{\"outlinewidth\":0,\"ticks\":\"\"}}}],\"scatterternary\":[{\"type\":\"scatterternary\",\"marker\":{\"colorbar\":{\"outlinewidth\":0,\"ticks\":\"\"}}}],\"scattercarpet\":[{\"type\":\"scattercarpet\",\"marker\":{\"colorbar\":{\"outlinewidth\":0,\"ticks\":\"\"}}}],\"carpet\":[{\"aaxis\":{\"endlinecolor\":\"#2a3f5f\",\"gridcolor\":\"white\",\"linecolor\":\"white\",\"minorgridcolor\":\"white\",\"startlinecolor\":\"#2a3f5f\"},\"baxis\":{\"endlinecolor\":\"#2a3f5f\",\"gridcolor\":\"white\",\"linecolor\":\"white\",\"minorgridcolor\":\"white\",\"startlinecolor\":\"#2a3f5f\"},\"type\":\"carpet\"}],\"table\":[{\"cells\":{\"fill\":{\"color\":\"#EBF0F8\"},\"line\":{\"color\":\"white\"}},\"header\":{\"fill\":{\"color\":\"#C8D4E3\"},\"line\":{\"color\":\"white\"}},\"type\":\"table\"}],\"barpolar\":[{\"marker\":{\"line\":{\"color\":\"#E5ECF6\",\"width\":0.5},\"pattern\":{\"fillmode\":\"overlay\",\"size\":10,\"solidity\":0.2}},\"type\":\"barpolar\"}],\"pie\":[{\"automargin\":true,\"type\":\"pie\"}]},\"layout\":{\"autotypenumbers\":\"strict\",\"colorway\":[\"#636efa\",\"#EF553B\",\"#00cc96\",\"#ab63fa\",\"#FFA15A\",\"#19d3f3\",\"#FF6692\",\"#B6E880\",\"#FF97FF\",\"#FECB52\"],\"font\":{\"color\":\"#2a3f5f\"},\"hovermode\":\"closest\",\"hoverlabel\":{\"align\":\"left\"},\"paper_bgcolor\":\"white\",\"plot_bgcolor\":\"#E5ECF6\",\"polar\":{\"bgcolor\":\"#E5ECF6\",\"angularaxis\":{\"gridcolor\":\"white\",\"linecolor\":\"white\",\"ticks\":\"\"},\"radialaxis\":{\"gridcolor\":\"white\",\"linecolor\":\"white\",\"ticks\":\"\"}},\"ternary\":{\"bgcolor\":\"#E5ECF6\",\"aaxis\":{\"gridcolor\":\"white\",\"linecolor\":\"white\",\"ticks\":\"\"},\"baxis\":{\"gridcolor\":\"white\",\"linecolor\":\"white\",\"ticks\":\"\"},\"caxis\":{\"gridcolor\":\"white\",\"linecolor\":\"white\",\"ticks\":\"\"}},\"coloraxis\":{\"colorbar\":{\"outlinewidth\":0,\"ticks\":\"\"}},\"colorscale\":{\"sequential\":[[0.0,\"#0d0887\"],[0.1111111111111111,\"#46039f\"],[0.2222222222222222,\"#7201a8\"],[0.3333333333333333,\"#9c179e\"],[0.4444444444444444,\"#bd3786\"],[0.5555555555555556,\"#d8576b\"],[0.6666666666666666,\"#ed7953\"],[0.7777777777777778,\"#fb9f3a\"],[0.8888888888888888,\"#fdca26\"],[1.0,\"#f0f921\"]],\"sequentialminus\":[[0.0,\"#0d0887\"],[0.1111111111111111,\"#46039f\"],[0.2222222222222222,\"#7201a8\"],[0.3333333333333333,\"#9c179e\"],[0.4444444444444444,\"#bd3786\"],[0.5555555555555556,\"#d8576b\"],[0.6666666666666666,\"#ed7953\"],[0.7777777777777778,\"#fb9f3a\"],[0.8888888888888888,\"#fdca26\"],[1.0,\"#f0f921\"]],\"diverging\":[[0,\"#8e0152\"],[0.1,\"#c51b7d\"],[0.2,\"#de77ae\"],[0.3,\"#f1b6da\"],[0.4,\"#fde0ef\"],[0.5,\"#f7f7f7\"],[0.6,\"#e6f5d0\"],[0.7,\"#b8e186\"],[0.8,\"#7fbc41\"],[0.9,\"#4d9221\"],[1,\"#276419\"]]},\"xaxis\":{\"gridcolor\":\"white\",\"linecolor\":\"white\",\"ticks\":\"\",\"title\":{\"standoff\":15},\"zerolinecolor\":\"white\",\"automargin\":true,\"zerolinewidth\":2},\"yaxis\":{\"gridcolor\":\"white\",\"linecolor\":\"white\",\"ticks\":\"\",\"title\":{\"standoff\":15},\"zerolinecolor\":\"white\",\"automargin\":true,\"zerolinewidth\":2},\"scene\":{\"xaxis\":{\"backgroundcolor\":\"#E5ECF6\",\"gridcolor\":\"white\",\"linecolor\":\"white\",\"showbackground\":true,\"ticks\":\"\",\"zerolinecolor\":\"white\",\"gridwidth\":2},\"yaxis\":{\"backgroundcolor\":\"#E5ECF6\",\"gridcolor\":\"white\",\"linecolor\":\"white\",\"showbackground\":true,\"ticks\":\"\",\"zerolinecolor\":\"white\",\"gridwidth\":2},\"zaxis\":{\"backgroundcolor\":\"#E5ECF6\",\"gridcolor\":\"white\",\"linecolor\":\"white\",\"showbackground\":true,\"ticks\":\"\",\"zerolinecolor\":\"white\",\"gridwidth\":2}},\"shapedefaults\":{\"line\":{\"color\":\"#2a3f5f\"}},\"annotationdefaults\":{\"arrowcolor\":\"#2a3f5f\",\"arrowhead\":0,\"arrowwidth\":1},\"geo\":{\"bgcolor\":\"white\",\"landcolor\":\"#E5ECF6\",\"subunitcolor\":\"white\",\"showland\":true,\"showlakes\":true,\"lakecolor\":\"white\"},\"title\":{\"x\":0.05},\"mapbox\":{\"style\":\"light\"}}},\"title\":{\"text\":\"Grid Search — Parallel Coordinates\"},\"height\":520},                        {\"responsive\": true}                    )                };                            </script>        </div></div>\n",
              "</body></html>\n"
            ]
          },
          "metadata": {}
        },
        {
          "output_type": "display_data",
          "data": {
            "text/plain": [
              "<IPython.core.display.HTML object>"
            ],
            "text/html": [
              "<h3>Dashboard (IFrame desde /content)</h3>"
            ]
          },
          "metadata": {}
        },
        {
          "output_type": "display_data",
          "data": {
            "text/plain": [
              "<IPython.lib.display.IFrame at 0x7b95966e69f0>"
            ],
            "text/html": [
              "\n",
              "        <iframe\n",
              "            width=\"100%\"\n",
              "            height=\"640\"\n",
              "            src=\"/files/content/gridsearch_dashboard_interactivo.html\"\n",
              "            frameborder=\"0\"\n",
              "            allowfullscreen\n",
              "            \n",
              "        ></iframe>\n",
              "        "
            ]
          },
          "metadata": {}
        },
        {
          "output_type": "stream",
          "name": "stdout",
          "text": [
            "Ruta solicitada no existe -> usando: /content/drive/MyDrive/labo1/exp/HT2900/\n",
            "\n",
            "✅ Guardado en: /content/drive/MyDrive/labo1/exp/HT2900/\n",
            "   - gridsearch_dashboard_interactivo.html\n",
            "   - gridsearch_3d_interactivo.html\n",
            "   - gridsearch_parcoords_interactivo.html\n"
          ]
        }
      ]
    }
  ]
}