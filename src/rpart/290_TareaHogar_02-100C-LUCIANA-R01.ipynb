{
  "nbformat": 4,
  "nbformat_minor": 0,
  "metadata": {
    "colab": {
      "provenance": [],
      "include_colab_link": true
    },
    "kernelspec": {
      "name": "python3",
      "display_name": "Python 3"
    },
    "language_info": {
      "name": "python"
    }
  },
  "cells": [
    {
      "cell_type": "markdown",
      "metadata": {
        "id": "view-in-github",
        "colab_type": "text"
      },
      "source": [
        "<a href=\"https://colab.research.google.com/github/DiegoeFarfan-SLA/labo2025v/blob/main/src/rpart/290_TareaHogar_02-100C-LUCIANA-R01.ipynb\" target=\"_parent\"><img src=\"https://colab.research.google.com/assets/colab-badge.svg\" alt=\"Open In Colab\"/></a>"
      ]
    },
    {
      "cell_type": "markdown",
      "source": [
        "# Tarea para el Hogar 02"
      ],
      "metadata": {
        "id": "F3r8aa3pBigj"
      }
    },
    {
      "cell_type": "markdown",
      "source": [
        "Esta Tarea para el Hogar 02 se entrega el final de la segunda clase\n",
        "<br> se espera de usted que intente avanzar con los desafios propuestos y que los traiga terminados para la Clase 03, ya que se analizarán los resultados"
      ],
      "metadata": {
        "id": "nBm4ktHUBmZt"
      }
    },
    {
      "cell_type": "markdown",
      "source": [
        "##  1. Ensembles de Modelos"
      ],
      "metadata": {
        "id": "TK-M04ElCESC"
      }
    },
    {
      "cell_type": "markdown",
      "source": [
        "Vea el siguiente video [BBC - The Code - The Wisdom of the Crowd](https://www.youtube.com/watch?v=iOucwX7Z1HU)    ( 5 min)\n"
      ],
      "metadata": {
        "id": "biPYxgobCOSS"
      }
    },
    {
      "cell_type": "markdown",
      "source": [
        "Lea los siguientes artículos\n",
        "\n",
        "\n",
        "*   [The Wisdom of Crowds (Vox Populi) by Francis Galton](https://www.all-about-psychology.com/the-wisdom-of-crowds.html)  (10 min)\n",
        "*   [A Gentle Introduction to Ensemble Learning](https://machinelearningmastery.com/what-is-ensemble-learning/)  (10 min)\n",
        "\n"
      ],
      "metadata": {
        "id": "FBszBRyNCcjp"
      }
    },
    {
      "cell_type": "markdown",
      "source": [
        "\n",
        "\n",
        "---\n",
        "\n"
      ],
      "metadata": {
        "id": "x7SebtV2lpHQ"
      }
    },
    {
      "cell_type": "markdown",
      "source": [
        "##  2.  Zero2Hero   primera parte\n",
        "Se han lanzado los primeros fascículos coleccionables llamados \"from Zero to Hero\" que muy detalladamente, paso a paso enseñan todo lo necesario de R para entender los scripts oficiales de la asignatura.\n",
        "Están en el repositorio oficial de la asignatura, carpeta  **src/zero2hero**"
      ],
      "metadata": {
        "id": "NQcY8u2MDSLT"
      }
    },
    {
      "cell_type": "markdown",
      "source": [
        "\n",
        "\n",
        "---\n",
        "\n"
      ],
      "metadata": {
        "id": "GcO0OSiIEAGy"
      }
    },
    {
      "cell_type": "markdown",
      "source": [
        "## 3.  Grid Search"
      ],
      "metadata": {
        "id": "6MStcyn0EBdT"
      }
    },
    {
      "cell_type": "markdown",
      "source": [
        "Busque en internet el precido significado de los hiperparámetros de la librería **rpart**  que está implementando el algoritmo **CART**  Classification and Regression Trees  propuesto en el año 1984 por Leo Brieman:\n",
        "\n",
        "*   cp\n",
        "*   maxdepth\n",
        "*   minsplit\n",
        "*   minbucket\n",
        "\n",
        "Entienda que valores es razonable tome cada hiperparámetro,  en particular profundice en el hiperparámetro  **cp**  y la posibilidad que tome valores negativos.  Es válido consultar a su amigo de *capacidades especiales*  ChatGPT\n"
      ],
      "metadata": {
        "id": "gM8RKXDgEIY0"
      }
    },
    {
      "cell_type": "markdown",
      "source": [
        "En las siguientes celdas a un notebook incompleto, un esqueleto de codigo brindado a modo de facilitarle la tarea de codeo y permitir que su valiosa cognición se concentre temas conceptuales de Ciencia de Datos\n",
        "\n",
        "Modifiquelo agregando loops para que recorra TODOS los hiperparámetros de rpart  < cp, maxdepth, minsplit, minbucket >, y luego póngalo a correr. Recuerde cambiar por SU semilla\n",
        "Tenga muy presente la granularidad que eligirá para cada hiperparámetro."
      ],
      "metadata": {
        "id": "_k7eT3HIFy9y"
      }
    },
    {
      "cell_type": "markdown",
      "source": [
        "### Seteo del ambiente en Google Colab"
      ],
      "metadata": {
        "id": "kmLygy1TYPfg"
      }
    },
    {
      "cell_type": "markdown",
      "source": [
        "Esta parte se debe correr con el runtime en Python3\n",
        "<br>Ir al menu, Runtime -> Change Runtime Tipe -> Runtime type ->  **Python 3**"
      ],
      "metadata": {
        "id": "OikOm5K2YU3X"
      }
    },
    {
      "cell_type": "markdown",
      "source": [
        "Conectar la virtual machine donde esta corriendo Google Colab con el  Google Drive, para poder tener persistencia de archivos"
      ],
      "metadata": {
        "id": "4fmV5LyZdFyI"
      }
    },
    {
      "cell_type": "code",
      "source": [
        "# primero establecer el Runtime de Python 3\n",
        "from google.colab import drive\n",
        "drive.mount('/content/.drive')"
      ],
      "metadata": {
        "id": "ilEZ-bE2VybW",
        "colab": {
          "base_uri": "https://localhost:8080/",
          "height": 0
        },
        "outputId": "1ad069f7-47de-4bb8-fa97-f094565619b8"
      },
      "execution_count": 1,
      "outputs": [
        {
          "output_type": "stream",
          "name": "stdout",
          "text": [
            "Mounted at /content/.drive\n"
          ]
        }
      ]
    },
    {
      "cell_type": "markdown",
      "source": [
        "Para correr la siguiente celda es fundamental en Arranque en Frio haber copiado el archivo kaggle.json al Google Drive, en la carpeta indicada en el instructivo\n",
        "\n",
        "<br>los siguientes comando estan en shell script de Linux\n",
        "*   Crear las carpetas en el Google Drive\n",
        "*   \"instalar\" el archivo kaggle.json desde el Google Drive a la virtual machine para que pueda ser utilizado por la libreria  kaggle de Python\n",
        "*   Bajar el  **dataset_pequeno**  al  Google Drive  y tambien al disco local de la virtual machine que esta corriendo Google Colab\n",
        "\n"
      ],
      "metadata": {
        "id": "ilaKtqWldeWg"
      }
    },
    {
      "cell_type": "code",
      "source": [
        "%%shell\n",
        "\n",
        "mkdir -p \"/content/.drive/My Drive/labo1\"\n",
        "mkdir -p \"/content/buckets\"\n",
        "ln -s \"/content/.drive/My Drive/labo1\" /content/buckets/b1\n",
        "\n",
        "mkdir -p ~/.kaggle\n",
        "cp /content/buckets/b1/kaggle/kaggle.json  ~/.kaggle\n",
        "chmod 600 ~/.kaggle/kaggle.json\n",
        "\n",
        "\n",
        "mkdir -p /content/buckets/b1/exp\n",
        "mkdir -p /content/buckets/b1/datasets\n",
        "mkdir -p /content/datasets\n",
        "\n",
        "\n",
        "\n",
        "archivo_origen=\"https://storage.googleapis.com/open-courses/austral2025-af91/dataset_pequeno.csv\"\n",
        "archivo_destino=\"/content/datasets/dataset_pequeno.csv\"\n",
        "archivo_destino_bucket=\"/content/buckets/b1/datasets/dataset_pequeno.csv\"\n",
        "\n",
        "if ! test -f $archivo_destino_bucket; then\n",
        "  wget  $archivo_origen  -O $archivo_destino_bucket\n",
        "fi\n",
        "\n",
        "\n",
        "if ! test -f $archivo_destino; then\n",
        "  cp  $archivo_destino_bucket  $archivo_destino\n",
        "fi\n",
        "\n"
      ],
      "metadata": {
        "id": "W8dQFI5QYCFa",
        "colab": {
          "base_uri": "https://localhost:8080/",
          "height": 0
        },
        "outputId": "0d71d150-952b-488f-8f54-ca5d9344eaa7"
      },
      "execution_count": 2,
      "outputs": [
        {
          "output_type": "execute_result",
          "data": {
            "text/plain": []
          },
          "metadata": {},
          "execution_count": 2
        }
      ]
    },
    {
      "cell_type": "markdown",
      "source": [
        "limpio el ambiente de R"
      ],
      "metadata": {
        "id": "SE94XRhWsxkX"
      }
    },
    {
      "cell_type": "code",
      "source": [
        "# limpio la memoria\n",
        "rm(list=ls(all.names=TRUE)) # remove all objects\n",
        "gc(full=TRUE, verbose=FALSE) # garbage collection"
      ],
      "metadata": {
        "id": "oZG_4br6szlT",
        "colab": {
          "base_uri": "https://localhost:8080/",
          "height": 130
        },
        "outputId": "a603fcba-3659-4a60-cc0e-63c00f88023f"
      },
      "execution_count": 1,
      "outputs": [
        {
          "output_type": "display_data",
          "data": {
            "text/html": [
              "<table class=\"dataframe\">\n",
              "<caption>A matrix: 2 × 6 of type dbl</caption>\n",
              "<thead>\n",
              "\t<tr><th></th><th scope=col>used</th><th scope=col>(Mb)</th><th scope=col>gc trigger</th><th scope=col>(Mb)</th><th scope=col>max used</th><th scope=col>(Mb)</th></tr>\n",
              "</thead>\n",
              "<tbody>\n",
              "\t<tr><th scope=row>Ncells</th><td> 657244</td><td>35.2</td><td>1454465</td><td>77.7</td><td>1326123</td><td>70.9</td></tr>\n",
              "\t<tr><th scope=row>Vcells</th><td>1220271</td><td> 9.4</td><td>8388608</td><td>64.0</td><td>1975128</td><td>15.1</td></tr>\n",
              "</tbody>\n",
              "</table>\n"
            ],
            "text/markdown": "\nA matrix: 2 × 6 of type dbl\n\n| <!--/--> | used | (Mb) | gc trigger | (Mb) | max used | (Mb) |\n|---|---|---|---|---|---|---|\n| Ncells |  657244 | 35.2 | 1454465 | 77.7 | 1326123 | 70.9 |\n| Vcells | 1220271 |  9.4 | 8388608 | 64.0 | 1975128 | 15.1 |\n\n",
            "text/latex": "A matrix: 2 × 6 of type dbl\n\\begin{tabular}{r|llllll}\n  & used & (Mb) & gc trigger & (Mb) & max used & (Mb)\\\\\n\\hline\n\tNcells &  657244 & 35.2 & 1454465 & 77.7 & 1326123 & 70.9\\\\\n\tVcells & 1220271 &  9.4 & 8388608 & 64.0 & 1975128 & 15.1\\\\\n\\end{tabular}\n",
            "text/plain": [
              "       used    (Mb) gc trigger (Mb) max used (Mb)\n",
              "Ncells  657244 35.2 1454465    77.7 1326123  70.9\n",
              "Vcells 1220271  9.4 8388608    64.0 1975128  15.1"
            ]
          },
          "metadata": {}
        }
      ]
    },
    {
      "cell_type": "code",
      "source": [
        "# cargo las librerias que necesito\n",
        "require(\"data.table\")\n",
        "require(\"rpart\")\n",
        "require(\"parallel\")\n",
        "if (!require(\"primes\")) install.packages(\"primes\")\n",
        "require(\"primes\")"
      ],
      "metadata": {
        "id": "JO-12d7YHkWy",
        "colab": {
          "base_uri": "https://localhost:8080/",
          "height": 0
        },
        "outputId": "8d5fca2f-eca5-4c9f-8b76-d62b6426bac5"
      },
      "execution_count": 2,
      "outputs": [
        {
          "output_type": "stream",
          "name": "stderr",
          "text": [
            "Loading required package: data.table\n",
            "\n",
            "Loading required package: rpart\n",
            "\n",
            "Loading required package: parallel\n",
            "\n",
            "Loading required package: primes\n",
            "\n",
            "Warning message in library(package, lib.loc = lib.loc, character.only = TRUE, logical.return = TRUE, :\n",
            "“there is no package called ‘primes’”\n",
            "Installing package into ‘/usr/local/lib/R/site-library’\n",
            "(as ‘lib’ is unspecified)\n",
            "\n",
            "Loading required package: primes\n",
            "\n"
          ]
        }
      ]
    },
    {
      "cell_type": "markdown",
      "source": [
        "Aqui debe poner SU semiila primigenia"
      ],
      "metadata": {
        "id": "0MclPEJ6Q8Bp"
      }
    },
    {
      "cell_type": "code",
      "source": [
        "PARAM <- list()\n",
        "# reemplazar por su primer semilla\n",
        "PARAM$semilla_primigenia <- 120539\n",
        "PARAM$qsemillas <- 1\n",
        "\n",
        "PARAM$training_pct <- 70L  # entre  1L y 99L\n",
        "\n",
        "# elegir SU dataset comentando/ descomentando\n",
        "PARAM$dataset_nom <- \"~/datasets/dataset_pequeno.csv\""
      ],
      "metadata": {
        "id": "Vt5fC6bWHu5r"
      },
      "execution_count": 3,
      "outputs": []
    },
    {
      "cell_type": "code",
      "source": [
        "# particionar agrega una columna llamada fold a un dataset\n",
        "#  que consiste en una particion estratificada segun agrupa\n",
        "# particionar( data=dataset, division=c(70,30), agrupa=clase_ternaria, seed=semilla)\n",
        "#   crea una particion 70, 30\n",
        "\n",
        "particionar <- function(data, division, agrupa = \"\", campo = \"fold\", start = 1, seed = NA) {\n",
        "  if (!is.na(seed)) set.seed(seed)\n",
        "\n",
        "  bloque <- unlist(mapply(function(x, y) {\n",
        "    rep(y, x)\n",
        "  }, division, seq(from = start, length.out = length(division))))\n",
        "\n",
        "  data[, (campo) := sample(rep(bloque, ceiling(.N / length(bloque))))[1:.N],\n",
        "    by = agrupa\n",
        "  ]\n",
        "}\n"
      ],
      "metadata": {
        "id": "Z1dchsrWH4MD"
      },
      "execution_count": 4,
      "outputs": []
    },
    {
      "cell_type": "code",
      "source": [
        "ArbolEstimarGanancia <- function(semilla, training_pct, param_basicos) {\n",
        "  # particiono estratificadamente el dataset\n",
        "  particionar(dataset,\n",
        "    division = c(training_pct, 100L -training_pct),\n",
        "    agrupa = \"clase_ternaria\",\n",
        "    seed = semilla # aqui se usa SU semilla\n",
        "  )\n",
        "\n",
        "  # genero el modelo\n",
        "  # predecir clase_ternaria a partir del resto\n",
        "  modelo <- rpart(\"clase_ternaria ~ .\",\n",
        "    data = dataset[fold == 1], # fold==1  es training,  el 70% de los datos\n",
        "    xval = 0,\n",
        "    control = param_basicos\n",
        "  ) # aqui van los parametros del arbol\n",
        "\n",
        "  # aplico el modelo a los datos de testing\n",
        "  prediccion <- predict(modelo, # el modelo que genere recien\n",
        "    dataset[fold == 2], # fold==2  es testing, el 30% de los datos\n",
        "    type = \"prob\"\n",
        "  ) # type= \"prob\"  es que devuelva la probabilidad\n",
        "\n",
        "  # prediccion es una matriz con TRES columnas,\n",
        "  #  llamadas \"BAJA+1\", \"BAJA+2\"  y \"CONTINUA\"\n",
        "  # cada columna es el vector de probabilidades\n",
        "\n",
        "\n",
        "  # calculo la ganancia en testing  qu es fold==2\n",
        "  ganancia_test <- dataset[\n",
        "    fold == 2,\n",
        "    sum(ifelse(prediccion[, \"BAJA+2\"] > 0.025,\n",
        "      ifelse(clase_ternaria == \"BAJA+2\", 117000, -3000),\n",
        "      0\n",
        "    ))\n",
        "  ]\n",
        "\n",
        "  # escalo la ganancia como si fuera todo el dataset\n",
        "  ganancia_test_normalizada <- ganancia_test / (( 100 - PARAM$training_pct ) / 100 )\n",
        "\n",
        "  return(\n",
        "    c( list(\"semilla\" = semilla),\n",
        "      param_basicos,\n",
        "      list( \"ganancia_test\" = ganancia_test_normalizada )\n",
        "     )\n",
        "  )\n",
        "}\n"
      ],
      "metadata": {
        "id": "xsHwS1CzIA70"
      },
      "execution_count": 5,
      "outputs": []
    },
    {
      "cell_type": "code",
      "source": [
        "ArbolesMontecarlo <- function(semillas, param_basicos) {\n",
        "\n",
        "  # la funcion mcmapply  llama a la funcion ArbolEstimarGanancia\n",
        "  #  tantas veces como valores tenga el vector  PARAM$semillas\n",
        "  salida <- mcmapply(ArbolEstimarGanancia,\n",
        "    semillas, # paso el vector de semillas\n",
        "    MoreArgs = list(PARAM$training_pct, param_basicos), # aqui paso el segundo parametro\n",
        "    SIMPLIFY = FALSE,\n",
        "    mc.cores = detectCores()\n",
        "  )\n",
        "\n",
        "  return(salida)\n",
        "}\n"
      ],
      "metadata": {
        "id": "BvBVOuhqIEjD"
      },
      "execution_count": 6,
      "outputs": []
    },
    {
      "cell_type": "code",
      "source": [
        "# carpeta de trabajo\n",
        "# por fabor cambiar numero de experimento si se cambia el loop principal\n",
        "setwd(\"/content/buckets/b1/exp\")\n",
        "experimento <- \"HT2900\"\n",
        "dir.create(experimento, showWarnings=FALSE)\n",
        "setwd( paste0(\"/content/buckets/b1/exp/\", experimento ))"
      ],
      "metadata": {
        "id": "L-DOGHOjIG7G"
      },
      "execution_count": 7,
      "outputs": []
    },
    {
      "cell_type": "code",
      "source": [
        "# lectura del dataset\n",
        "dataset <- fread(\"/content/datasets/dataset_pequeno.csv\")\n",
        "\n",
        "# trabajo solo con los datos con clase, es decir 202107\n",
        "dataset <- dataset[clase_ternaria != \"\"]"
      ],
      "metadata": {
        "id": "NM-mrLWcIPo6"
      },
      "execution_count": 8,
      "outputs": []
    },
    {
      "cell_type": "code",
      "source": [
        "\n",
        "# genero numeros primos\n",
        "primos <- generate_primes(min = 100000, max = 1000000)\n",
        "set.seed(PARAM$semilla_primigenia) # inicializo\n",
        "# me quedo con PARAM$qsemillas   semillas\n",
        "PARAM$semillas <- sample(primos, PARAM$qsemillas )\n"
      ],
      "metadata": {
        "id": "tSlY0EcgIWdi"
      },
      "execution_count": 9,
      "outputs": []
    },
    {
      "cell_type": "code",
      "source": [
        "# genero la data.table donde van los resultados detallados del Grid Search\n",
        "# un registro para cada combinacion de < semilla, parametros >\n",
        "\n",
        "if(file.exists(\"gridsearch_detalle.txt\")){\n",
        "  tb_grid_search_detalle <- fread(\"gridsearch_detalle.txt\")\n",
        "}else{\n",
        "  tb_grid_search_detalle <- data.table(\n",
        "    semilla = integer(),\n",
        "    cp = numeric(),\n",
        "    maxdepth = integer(),\n",
        "   minsplit = integer(),\n",
        "    minbucket = integer(),\n",
        "    ganancia_test = numeric()\n",
        "  )\n",
        "}\n",
        "\n",
        "nrow( tb_grid_search_detalle )"
      ],
      "metadata": {
        "id": "xxCAwIKyIaTl",
        "colab": {
          "base_uri": "https://localhost:8080/",
          "height": 34
        },
        "outputId": "c55b741a-d079-43d8-81bc-332043c564b8"
      },
      "execution_count": 10,
      "outputs": [
        {
          "output_type": "display_data",
          "data": {
            "text/html": [
              "0"
            ],
            "text/markdown": "0",
            "text/latex": "0",
            "text/plain": [
              "[1] 0"
            ]
          },
          "metadata": {}
        }
      ]
    },
    {
      "cell_type": "markdown",
      "source": [
        "Esta es la parte del código que usted debe expandir a TODOS los hiperparámetros de rpart,\n",
        "<br>ya que actualmente apenas recorre  maxdepth y  minsplit  dejando fijos  cp=-0.5  y minbucket=5"
      ],
      "metadata": {
        "id": "eAuGBNL8IkOD"
      }
    },
    {
      "cell_type": "code",
      "source": [
        "# ======================================================\n",
        "# GRID SEARCH con 4 hiperparámetros y misma salida que tu código\n",
        "# - Mantiene: iter, cat/flush, checkpoint con PARAM$qsemillas,\n",
        "#   acumulación en tb_grid_search_detalle y fwrite por loop externo (maxdepth)\n",
        "# - Tamaño de grilla: 500 brutas -> 450 válidas (coherencia minbucket<=minsplit/2)\n",
        "# ======================================================\n",
        "\n",
        "iter <- 0\n",
        "\n",
        "cp_vals        <- c(-0.10, -0.05, -0.01)   # 5 valores (incluye negativos)\n",
        "maxdepth_vals  <- c(6, 8, 10, 12, 14)               # 5 valores\n",
        "minsplit_vals  <- c(100, 200)              # 4 valores\n",
        "minbucket_vals <- c(5, 10, 20, 30, 40)              # 5 valores\n",
        "\n",
        "for (vmax_depth in maxdepth_vals) {                       # loop externo = igual que tu código\n",
        "  for (vcp in cp_vals) {                                  # ahora cp también barre\n",
        "    for (vmin_split in minsplit_vals) {\n",
        "      for (vmin_bucket in minbucket_vals) {\n",
        "\n",
        "        # coherencia básica: si no se cumple, salteamos (esto deja 450 combinaciones)\n",
        "        if (vmin_bucket > floor(vmin_split / 2)) next\n",
        "\n",
        "        iter <- iter + 1\n",
        "        cat(iter, \" \")\n",
        "        flush.console()\n",
        "\n",
        "        # checkpoint para reanudar (idéntico al tuyo)\n",
        "        if (iter * PARAM$qsemillas < nrow(tb_grid_search_detalle) + 1) next\n",
        "\n",
        "        # armo lista de hiperparámetros (idéntico a tu esquema)\n",
        "        param_basicos <- list(\n",
        "          \"cp\"        = vcp,          # complejidad (negativos permitidos como pediste)\n",
        "          \"maxdepth\"  = vmax_depth,   # profundidad máxima\n",
        "          \"minsplit\"  = vmin_split,   # mínimo de registros para split\n",
        "          \"minbucket\" = vmin_bucket   # mínimo de registros en hoja\n",
        "        )\n",
        "\n",
        "        # corre Montecarlo con tus semillas y devuelve data.tables ya uniformadas\n",
        "        ganancias <- ArbolesMontecarlo(PARAM$semillas, param_basicos)\n",
        "\n",
        "        # acumula resultados en la misma tabla de detalle (igual que tu código)\n",
        "        tb_grid_search_detalle <- rbindlist(\n",
        "          list(tb_grid_search_detalle, rbindlist(ganancias)),\n",
        "          use.names = TRUE, fill = TRUE\n",
        "        )\n",
        "      }\n",
        "    }\n",
        "  }\n",
        "\n",
        "  # grabar en el loop más externo (maxdepth), como en tu código original\n",
        "  fwrite(tb_grid_search_detalle,\n",
        "         file = \"gridsearch_detalle.txt\",\n",
        "         sep = \"\\t\")\n",
        "}\n",
        "\n",
        "cat(\"\\nCombinaciones efectivas procesadas (≈): \", iter, \"\\n\")\n",
        "\n"
      ],
      "metadata": {
        "id": "WZaSqYBxiDFu",
        "colab": {
          "base_uri": "https://localhost:8080/",
          "height": 0
        },
        "outputId": "56799cd9-e8b2-473a-c1f9-89eb51076c42"
      },
      "execution_count": 11,
      "outputs": [
        {
          "output_type": "stream",
          "name": "stdout",
          "text": [
            "1  2  3  4  5  6  7  8  9  10  11  12  13  14  15  16  17  18  19  20  21  22  23  24  25  26  27  28  29  30  31  32  33  34  35  36  37  38  39  40  41  42  43  44  45  46  47  48  49  50  51  52  53  54  55  56  57  58  59  60  61  62  63  64  65  66  67  68  69  70  71  72  73  74  75  76  77  78  79  80  81  82  83  84  85  86  87  88  89  90  91  92  93  94  95  96  97  98  99  100  101  102  103  104  105  106  107  108  109  110  111  112  113  114  115  116  117  118  119  120  121  122  123  124  125  126  127  128  129  130  131  132  133  134  135  136  137  138  139  140  141  142  143  144  145  146  147  148  149  150  \n",
            "Combinaciones efectivas procesadas (≈):  150 \n"
          ]
        }
      ]
    },
    {
      "cell_type": "code",
      "source": [
        "# cantidad de registros de la tabla\n",
        "nrow(tb_grid_search_detalle)"
      ],
      "metadata": {
        "id": "STp0duM-RYVJ",
        "outputId": "2e239511-d146-419c-ea18-2d5629823086",
        "colab": {
          "base_uri": "https://localhost:8080/",
          "height": 34
        }
      },
      "execution_count": 12,
      "outputs": [
        {
          "output_type": "display_data",
          "data": {
            "text/html": [
              "150"
            ],
            "text/markdown": "150",
            "text/latex": "150",
            "text/plain": [
              "[1] 150"
            ]
          },
          "metadata": {}
        }
      ]
    },
    {
      "cell_type": "code",
      "source": [
        "# muestro la tabla\n",
        "tb_grid_search_detalle"
      ],
      "metadata": {
        "id": "k7fhk_H0iNez",
        "outputId": "b25dc5d9-4b58-4c96-e056-202d0c4e2781",
        "colab": {
          "base_uri": "https://localhost:8080/",
          "height": 2012
        }
      },
      "execution_count": 13,
      "outputs": [
        {
          "output_type": "display_data",
          "data": {
            "text/html": [
              "<table class=\"dataframe\">\n",
              "<caption>A data.table: 150 × 6</caption>\n",
              "<thead>\n",
              "\t<tr><th scope=col>semilla</th><th scope=col>cp</th><th scope=col>maxdepth</th><th scope=col>minsplit</th><th scope=col>minbucket</th><th scope=col>ganancia_test</th></tr>\n",
              "\t<tr><th scope=col>&lt;int&gt;</th><th scope=col>&lt;dbl&gt;</th><th scope=col>&lt;dbl&gt;</th><th scope=col>&lt;dbl&gt;</th><th scope=col>&lt;dbl&gt;</th><th scope=col>&lt;dbl&gt;</th></tr>\n",
              "</thead>\n",
              "<tbody>\n",
              "\t<tr><td>915223</td><td>-0.10</td><td>6</td><td>100</td><td> 5</td><td>55520000</td></tr>\n",
              "\t<tr><td>915223</td><td>-0.10</td><td>6</td><td>100</td><td>10</td><td>56060000</td></tr>\n",
              "\t<tr><td>915223</td><td>-0.10</td><td>6</td><td>100</td><td>20</td><td>57610000</td></tr>\n",
              "\t<tr><td>915223</td><td>-0.10</td><td>6</td><td>100</td><td>30</td><td>55460000</td></tr>\n",
              "\t<tr><td>915223</td><td>-0.10</td><td>6</td><td>100</td><td>40</td><td>54470000</td></tr>\n",
              "\t<tr><td>915223</td><td>-0.10</td><td>6</td><td>200</td><td> 5</td><td>55520000</td></tr>\n",
              "\t<tr><td>915223</td><td>-0.10</td><td>6</td><td>200</td><td>10</td><td>56060000</td></tr>\n",
              "\t<tr><td>915223</td><td>-0.10</td><td>6</td><td>200</td><td>20</td><td>57520000</td></tr>\n",
              "\t<tr><td>915223</td><td>-0.10</td><td>6</td><td>200</td><td>30</td><td>57330000</td></tr>\n",
              "\t<tr><td>915223</td><td>-0.10</td><td>6</td><td>200</td><td>40</td><td>56240000</td></tr>\n",
              "\t<tr><td>915223</td><td>-0.05</td><td>6</td><td>100</td><td> 5</td><td>55520000</td></tr>\n",
              "\t<tr><td>915223</td><td>-0.05</td><td>6</td><td>100</td><td>10</td><td>56060000</td></tr>\n",
              "\t<tr><td>915223</td><td>-0.05</td><td>6</td><td>100</td><td>20</td><td>57610000</td></tr>\n",
              "\t<tr><td>915223</td><td>-0.05</td><td>6</td><td>100</td><td>30</td><td>55460000</td></tr>\n",
              "\t<tr><td>915223</td><td>-0.05</td><td>6</td><td>100</td><td>40</td><td>54470000</td></tr>\n",
              "\t<tr><td>915223</td><td>-0.05</td><td>6</td><td>200</td><td> 5</td><td>55520000</td></tr>\n",
              "\t<tr><td>915223</td><td>-0.05</td><td>6</td><td>200</td><td>10</td><td>56060000</td></tr>\n",
              "\t<tr><td>915223</td><td>-0.05</td><td>6</td><td>200</td><td>20</td><td>57520000</td></tr>\n",
              "\t<tr><td>915223</td><td>-0.05</td><td>6</td><td>200</td><td>30</td><td>57330000</td></tr>\n",
              "\t<tr><td>915223</td><td>-0.05</td><td>6</td><td>200</td><td>40</td><td>56240000</td></tr>\n",
              "\t<tr><td>915223</td><td>-0.01</td><td>6</td><td>100</td><td> 5</td><td>55520000</td></tr>\n",
              "\t<tr><td>915223</td><td>-0.01</td><td>6</td><td>100</td><td>10</td><td>56060000</td></tr>\n",
              "\t<tr><td>915223</td><td>-0.01</td><td>6</td><td>100</td><td>20</td><td>57610000</td></tr>\n",
              "\t<tr><td>915223</td><td>-0.01</td><td>6</td><td>100</td><td>30</td><td>55460000</td></tr>\n",
              "\t<tr><td>915223</td><td>-0.01</td><td>6</td><td>100</td><td>40</td><td>54470000</td></tr>\n",
              "\t<tr><td>915223</td><td>-0.01</td><td>6</td><td>200</td><td> 5</td><td>55520000</td></tr>\n",
              "\t<tr><td>915223</td><td>-0.01</td><td>6</td><td>200</td><td>10</td><td>56060000</td></tr>\n",
              "\t<tr><td>915223</td><td>-0.01</td><td>6</td><td>200</td><td>20</td><td>57520000</td></tr>\n",
              "\t<tr><td>915223</td><td>-0.01</td><td>6</td><td>200</td><td>30</td><td>57330000</td></tr>\n",
              "\t<tr><td>915223</td><td>-0.01</td><td>6</td><td>200</td><td>40</td><td>56240000</td></tr>\n",
              "\t<tr><td>⋮</td><td>⋮</td><td>⋮</td><td>⋮</td><td>⋮</td><td>⋮</td></tr>\n",
              "\t<tr><td>915223</td><td>-0.10</td><td>14</td><td>100</td><td> 5</td><td>45170000</td></tr>\n",
              "\t<tr><td>915223</td><td>-0.10</td><td>14</td><td>100</td><td>10</td><td>44270000</td></tr>\n",
              "\t<tr><td>915223</td><td>-0.10</td><td>14</td><td>100</td><td>20</td><td>40150000</td></tr>\n",
              "\t<tr><td>915223</td><td>-0.10</td><td>14</td><td>100</td><td>30</td><td>44750000</td></tr>\n",
              "\t<tr><td>915223</td><td>-0.10</td><td>14</td><td>100</td><td>40</td><td>44130000</td></tr>\n",
              "\t<tr><td>915223</td><td>-0.10</td><td>14</td><td>200</td><td> 5</td><td>50360000</td></tr>\n",
              "\t<tr><td>915223</td><td>-0.10</td><td>14</td><td>200</td><td>10</td><td>47820000</td></tr>\n",
              "\t<tr><td>915223</td><td>-0.10</td><td>14</td><td>200</td><td>20</td><td>42470000</td></tr>\n",
              "\t<tr><td>915223</td><td>-0.10</td><td>14</td><td>200</td><td>30</td><td>43680000</td></tr>\n",
              "\t<tr><td>915223</td><td>-0.10</td><td>14</td><td>200</td><td>40</td><td>45080000</td></tr>\n",
              "\t<tr><td>915223</td><td>-0.05</td><td>14</td><td>100</td><td> 5</td><td>45170000</td></tr>\n",
              "\t<tr><td>915223</td><td>-0.05</td><td>14</td><td>100</td><td>10</td><td>44270000</td></tr>\n",
              "\t<tr><td>915223</td><td>-0.05</td><td>14</td><td>100</td><td>20</td><td>40150000</td></tr>\n",
              "\t<tr><td>915223</td><td>-0.05</td><td>14</td><td>100</td><td>30</td><td>44750000</td></tr>\n",
              "\t<tr><td>915223</td><td>-0.05</td><td>14</td><td>100</td><td>40</td><td>44130000</td></tr>\n",
              "\t<tr><td>915223</td><td>-0.05</td><td>14</td><td>200</td><td> 5</td><td>50360000</td></tr>\n",
              "\t<tr><td>915223</td><td>-0.05</td><td>14</td><td>200</td><td>10</td><td>47820000</td></tr>\n",
              "\t<tr><td>915223</td><td>-0.05</td><td>14</td><td>200</td><td>20</td><td>42470000</td></tr>\n",
              "\t<tr><td>915223</td><td>-0.05</td><td>14</td><td>200</td><td>30</td><td>43680000</td></tr>\n",
              "\t<tr><td>915223</td><td>-0.05</td><td>14</td><td>200</td><td>40</td><td>45080000</td></tr>\n",
              "\t<tr><td>915223</td><td>-0.01</td><td>14</td><td>100</td><td> 5</td><td>45170000</td></tr>\n",
              "\t<tr><td>915223</td><td>-0.01</td><td>14</td><td>100</td><td>10</td><td>44270000</td></tr>\n",
              "\t<tr><td>915223</td><td>-0.01</td><td>14</td><td>100</td><td>20</td><td>40150000</td></tr>\n",
              "\t<tr><td>915223</td><td>-0.01</td><td>14</td><td>100</td><td>30</td><td>44750000</td></tr>\n",
              "\t<tr><td>915223</td><td>-0.01</td><td>14</td><td>100</td><td>40</td><td>44130000</td></tr>\n",
              "\t<tr><td>915223</td><td>-0.01</td><td>14</td><td>200</td><td> 5</td><td>50360000</td></tr>\n",
              "\t<tr><td>915223</td><td>-0.01</td><td>14</td><td>200</td><td>10</td><td>47820000</td></tr>\n",
              "\t<tr><td>915223</td><td>-0.01</td><td>14</td><td>200</td><td>20</td><td>42470000</td></tr>\n",
              "\t<tr><td>915223</td><td>-0.01</td><td>14</td><td>200</td><td>30</td><td>43680000</td></tr>\n",
              "\t<tr><td>915223</td><td>-0.01</td><td>14</td><td>200</td><td>40</td><td>45080000</td></tr>\n",
              "</tbody>\n",
              "</table>\n"
            ],
            "text/markdown": "\nA data.table: 150 × 6\n\n| semilla &lt;int&gt; | cp &lt;dbl&gt; | maxdepth &lt;dbl&gt; | minsplit &lt;dbl&gt; | minbucket &lt;dbl&gt; | ganancia_test &lt;dbl&gt; |\n|---|---|---|---|---|---|\n| 915223 | -0.10 | 6 | 100 |  5 | 55520000 |\n| 915223 | -0.10 | 6 | 100 | 10 | 56060000 |\n| 915223 | -0.10 | 6 | 100 | 20 | 57610000 |\n| 915223 | -0.10 | 6 | 100 | 30 | 55460000 |\n| 915223 | -0.10 | 6 | 100 | 40 | 54470000 |\n| 915223 | -0.10 | 6 | 200 |  5 | 55520000 |\n| 915223 | -0.10 | 6 | 200 | 10 | 56060000 |\n| 915223 | -0.10 | 6 | 200 | 20 | 57520000 |\n| 915223 | -0.10 | 6 | 200 | 30 | 57330000 |\n| 915223 | -0.10 | 6 | 200 | 40 | 56240000 |\n| 915223 | -0.05 | 6 | 100 |  5 | 55520000 |\n| 915223 | -0.05 | 6 | 100 | 10 | 56060000 |\n| 915223 | -0.05 | 6 | 100 | 20 | 57610000 |\n| 915223 | -0.05 | 6 | 100 | 30 | 55460000 |\n| 915223 | -0.05 | 6 | 100 | 40 | 54470000 |\n| 915223 | -0.05 | 6 | 200 |  5 | 55520000 |\n| 915223 | -0.05 | 6 | 200 | 10 | 56060000 |\n| 915223 | -0.05 | 6 | 200 | 20 | 57520000 |\n| 915223 | -0.05 | 6 | 200 | 30 | 57330000 |\n| 915223 | -0.05 | 6 | 200 | 40 | 56240000 |\n| 915223 | -0.01 | 6 | 100 |  5 | 55520000 |\n| 915223 | -0.01 | 6 | 100 | 10 | 56060000 |\n| 915223 | -0.01 | 6 | 100 | 20 | 57610000 |\n| 915223 | -0.01 | 6 | 100 | 30 | 55460000 |\n| 915223 | -0.01 | 6 | 100 | 40 | 54470000 |\n| 915223 | -0.01 | 6 | 200 |  5 | 55520000 |\n| 915223 | -0.01 | 6 | 200 | 10 | 56060000 |\n| 915223 | -0.01 | 6 | 200 | 20 | 57520000 |\n| 915223 | -0.01 | 6 | 200 | 30 | 57330000 |\n| 915223 | -0.01 | 6 | 200 | 40 | 56240000 |\n| ⋮ | ⋮ | ⋮ | ⋮ | ⋮ | ⋮ |\n| 915223 | -0.10 | 14 | 100 |  5 | 45170000 |\n| 915223 | -0.10 | 14 | 100 | 10 | 44270000 |\n| 915223 | -0.10 | 14 | 100 | 20 | 40150000 |\n| 915223 | -0.10 | 14 | 100 | 30 | 44750000 |\n| 915223 | -0.10 | 14 | 100 | 40 | 44130000 |\n| 915223 | -0.10 | 14 | 200 |  5 | 50360000 |\n| 915223 | -0.10 | 14 | 200 | 10 | 47820000 |\n| 915223 | -0.10 | 14 | 200 | 20 | 42470000 |\n| 915223 | -0.10 | 14 | 200 | 30 | 43680000 |\n| 915223 | -0.10 | 14 | 200 | 40 | 45080000 |\n| 915223 | -0.05 | 14 | 100 |  5 | 45170000 |\n| 915223 | -0.05 | 14 | 100 | 10 | 44270000 |\n| 915223 | -0.05 | 14 | 100 | 20 | 40150000 |\n| 915223 | -0.05 | 14 | 100 | 30 | 44750000 |\n| 915223 | -0.05 | 14 | 100 | 40 | 44130000 |\n| 915223 | -0.05 | 14 | 200 |  5 | 50360000 |\n| 915223 | -0.05 | 14 | 200 | 10 | 47820000 |\n| 915223 | -0.05 | 14 | 200 | 20 | 42470000 |\n| 915223 | -0.05 | 14 | 200 | 30 | 43680000 |\n| 915223 | -0.05 | 14 | 200 | 40 | 45080000 |\n| 915223 | -0.01 | 14 | 100 |  5 | 45170000 |\n| 915223 | -0.01 | 14 | 100 | 10 | 44270000 |\n| 915223 | -0.01 | 14 | 100 | 20 | 40150000 |\n| 915223 | -0.01 | 14 | 100 | 30 | 44750000 |\n| 915223 | -0.01 | 14 | 100 | 40 | 44130000 |\n| 915223 | -0.01 | 14 | 200 |  5 | 50360000 |\n| 915223 | -0.01 | 14 | 200 | 10 | 47820000 |\n| 915223 | -0.01 | 14 | 200 | 20 | 42470000 |\n| 915223 | -0.01 | 14 | 200 | 30 | 43680000 |\n| 915223 | -0.01 | 14 | 200 | 40 | 45080000 |\n\n",
            "text/latex": "A data.table: 150 × 6\n\\begin{tabular}{llllll}\n semilla & cp & maxdepth & minsplit & minbucket & ganancia\\_test\\\\\n <int> & <dbl> & <dbl> & <dbl> & <dbl> & <dbl>\\\\\n\\hline\n\t 915223 & -0.10 & 6 & 100 &  5 & 55520000\\\\\n\t 915223 & -0.10 & 6 & 100 & 10 & 56060000\\\\\n\t 915223 & -0.10 & 6 & 100 & 20 & 57610000\\\\\n\t 915223 & -0.10 & 6 & 100 & 30 & 55460000\\\\\n\t 915223 & -0.10 & 6 & 100 & 40 & 54470000\\\\\n\t 915223 & -0.10 & 6 & 200 &  5 & 55520000\\\\\n\t 915223 & -0.10 & 6 & 200 & 10 & 56060000\\\\\n\t 915223 & -0.10 & 6 & 200 & 20 & 57520000\\\\\n\t 915223 & -0.10 & 6 & 200 & 30 & 57330000\\\\\n\t 915223 & -0.10 & 6 & 200 & 40 & 56240000\\\\\n\t 915223 & -0.05 & 6 & 100 &  5 & 55520000\\\\\n\t 915223 & -0.05 & 6 & 100 & 10 & 56060000\\\\\n\t 915223 & -0.05 & 6 & 100 & 20 & 57610000\\\\\n\t 915223 & -0.05 & 6 & 100 & 30 & 55460000\\\\\n\t 915223 & -0.05 & 6 & 100 & 40 & 54470000\\\\\n\t 915223 & -0.05 & 6 & 200 &  5 & 55520000\\\\\n\t 915223 & -0.05 & 6 & 200 & 10 & 56060000\\\\\n\t 915223 & -0.05 & 6 & 200 & 20 & 57520000\\\\\n\t 915223 & -0.05 & 6 & 200 & 30 & 57330000\\\\\n\t 915223 & -0.05 & 6 & 200 & 40 & 56240000\\\\\n\t 915223 & -0.01 & 6 & 100 &  5 & 55520000\\\\\n\t 915223 & -0.01 & 6 & 100 & 10 & 56060000\\\\\n\t 915223 & -0.01 & 6 & 100 & 20 & 57610000\\\\\n\t 915223 & -0.01 & 6 & 100 & 30 & 55460000\\\\\n\t 915223 & -0.01 & 6 & 100 & 40 & 54470000\\\\\n\t 915223 & -0.01 & 6 & 200 &  5 & 55520000\\\\\n\t 915223 & -0.01 & 6 & 200 & 10 & 56060000\\\\\n\t 915223 & -0.01 & 6 & 200 & 20 & 57520000\\\\\n\t 915223 & -0.01 & 6 & 200 & 30 & 57330000\\\\\n\t 915223 & -0.01 & 6 & 200 & 40 & 56240000\\\\\n\t ⋮ & ⋮ & ⋮ & ⋮ & ⋮ & ⋮\\\\\n\t 915223 & -0.10 & 14 & 100 &  5 & 45170000\\\\\n\t 915223 & -0.10 & 14 & 100 & 10 & 44270000\\\\\n\t 915223 & -0.10 & 14 & 100 & 20 & 40150000\\\\\n\t 915223 & -0.10 & 14 & 100 & 30 & 44750000\\\\\n\t 915223 & -0.10 & 14 & 100 & 40 & 44130000\\\\\n\t 915223 & -0.10 & 14 & 200 &  5 & 50360000\\\\\n\t 915223 & -0.10 & 14 & 200 & 10 & 47820000\\\\\n\t 915223 & -0.10 & 14 & 200 & 20 & 42470000\\\\\n\t 915223 & -0.10 & 14 & 200 & 30 & 43680000\\\\\n\t 915223 & -0.10 & 14 & 200 & 40 & 45080000\\\\\n\t 915223 & -0.05 & 14 & 100 &  5 & 45170000\\\\\n\t 915223 & -0.05 & 14 & 100 & 10 & 44270000\\\\\n\t 915223 & -0.05 & 14 & 100 & 20 & 40150000\\\\\n\t 915223 & -0.05 & 14 & 100 & 30 & 44750000\\\\\n\t 915223 & -0.05 & 14 & 100 & 40 & 44130000\\\\\n\t 915223 & -0.05 & 14 & 200 &  5 & 50360000\\\\\n\t 915223 & -0.05 & 14 & 200 & 10 & 47820000\\\\\n\t 915223 & -0.05 & 14 & 200 & 20 & 42470000\\\\\n\t 915223 & -0.05 & 14 & 200 & 30 & 43680000\\\\\n\t 915223 & -0.05 & 14 & 200 & 40 & 45080000\\\\\n\t 915223 & -0.01 & 14 & 100 &  5 & 45170000\\\\\n\t 915223 & -0.01 & 14 & 100 & 10 & 44270000\\\\\n\t 915223 & -0.01 & 14 & 100 & 20 & 40150000\\\\\n\t 915223 & -0.01 & 14 & 100 & 30 & 44750000\\\\\n\t 915223 & -0.01 & 14 & 100 & 40 & 44130000\\\\\n\t 915223 & -0.01 & 14 & 200 &  5 & 50360000\\\\\n\t 915223 & -0.01 & 14 & 200 & 10 & 47820000\\\\\n\t 915223 & -0.01 & 14 & 200 & 20 & 42470000\\\\\n\t 915223 & -0.01 & 14 & 200 & 30 & 43680000\\\\\n\t 915223 & -0.01 & 14 & 200 & 40 & 45080000\\\\\n\\end{tabular}\n",
            "text/plain": [
              "    semilla cp    maxdepth minsplit minbucket ganancia_test\n",
              "1   915223  -0.10 6        100       5        55520000     \n",
              "2   915223  -0.10 6        100      10        56060000     \n",
              "3   915223  -0.10 6        100      20        57610000     \n",
              "4   915223  -0.10 6        100      30        55460000     \n",
              "5   915223  -0.10 6        100      40        54470000     \n",
              "6   915223  -0.10 6        200       5        55520000     \n",
              "7   915223  -0.10 6        200      10        56060000     \n",
              "8   915223  -0.10 6        200      20        57520000     \n",
              "9   915223  -0.10 6        200      30        57330000     \n",
              "10  915223  -0.10 6        200      40        56240000     \n",
              "11  915223  -0.05 6        100       5        55520000     \n",
              "12  915223  -0.05 6        100      10        56060000     \n",
              "13  915223  -0.05 6        100      20        57610000     \n",
              "14  915223  -0.05 6        100      30        55460000     \n",
              "15  915223  -0.05 6        100      40        54470000     \n",
              "16  915223  -0.05 6        200       5        55520000     \n",
              "17  915223  -0.05 6        200      10        56060000     \n",
              "18  915223  -0.05 6        200      20        57520000     \n",
              "19  915223  -0.05 6        200      30        57330000     \n",
              "20  915223  -0.05 6        200      40        56240000     \n",
              "21  915223  -0.01 6        100       5        55520000     \n",
              "22  915223  -0.01 6        100      10        56060000     \n",
              "23  915223  -0.01 6        100      20        57610000     \n",
              "24  915223  -0.01 6        100      30        55460000     \n",
              "25  915223  -0.01 6        100      40        54470000     \n",
              "26  915223  -0.01 6        200       5        55520000     \n",
              "27  915223  -0.01 6        200      10        56060000     \n",
              "28  915223  -0.01 6        200      20        57520000     \n",
              "29  915223  -0.01 6        200      30        57330000     \n",
              "30  915223  -0.01 6        200      40        56240000     \n",
              "⋮   ⋮       ⋮     ⋮        ⋮        ⋮         ⋮            \n",
              "121 915223  -0.10 14       100       5        45170000     \n",
              "122 915223  -0.10 14       100      10        44270000     \n",
              "123 915223  -0.10 14       100      20        40150000     \n",
              "124 915223  -0.10 14       100      30        44750000     \n",
              "125 915223  -0.10 14       100      40        44130000     \n",
              "126 915223  -0.10 14       200       5        50360000     \n",
              "127 915223  -0.10 14       200      10        47820000     \n",
              "128 915223  -0.10 14       200      20        42470000     \n",
              "129 915223  -0.10 14       200      30        43680000     \n",
              "130 915223  -0.10 14       200      40        45080000     \n",
              "131 915223  -0.05 14       100       5        45170000     \n",
              "132 915223  -0.05 14       100      10        44270000     \n",
              "133 915223  -0.05 14       100      20        40150000     \n",
              "134 915223  -0.05 14       100      30        44750000     \n",
              "135 915223  -0.05 14       100      40        44130000     \n",
              "136 915223  -0.05 14       200       5        50360000     \n",
              "137 915223  -0.05 14       200      10        47820000     \n",
              "138 915223  -0.05 14       200      20        42470000     \n",
              "139 915223  -0.05 14       200      30        43680000     \n",
              "140 915223  -0.05 14       200      40        45080000     \n",
              "141 915223  -0.01 14       100       5        45170000     \n",
              "142 915223  -0.01 14       100      10        44270000     \n",
              "143 915223  -0.01 14       100      20        40150000     \n",
              "144 915223  -0.01 14       100      30        44750000     \n",
              "145 915223  -0.01 14       100      40        44130000     \n",
              "146 915223  -0.01 14       200       5        50360000     \n",
              "147 915223  -0.01 14       200      10        47820000     \n",
              "148 915223  -0.01 14       200      20        42470000     \n",
              "149 915223  -0.01 14       200      30        43680000     \n",
              "150 915223  -0.01 14       200      40        45080000     "
            ]
          },
          "metadata": {}
        }
      ]
    },
    {
      "cell_type": "code",
      "source": [
        "# genero y grabo el resumen\n",
        "tb_grid_search <- tb_grid_search_detalle[,\n",
        "  list( \"ganancia_mean\" = mean(ganancia_test),\n",
        "    \"qty\" = .N ),\n",
        "  list( cp, maxdepth, minsplit, minbucket )\n",
        "]\n"
      ],
      "metadata": {
        "id": "DjCxtx8bIsgl"
      },
      "execution_count": 14,
      "outputs": []
    },
    {
      "cell_type": "code",
      "source": [
        "# ordeno descendente por ganancia\n",
        "setorder( tb_grid_search, -ganancia_mean )\n"
      ],
      "metadata": {
        "id": "LU29UhL1Ivg5"
      },
      "execution_count": 15,
      "outputs": []
    },
    {
      "cell_type": "code",
      "source": [
        "# veo los 10 mejores hiperparámetros\n",
        "tb_grid_search[1:10]"
      ],
      "metadata": {
        "id": "g-EjGY7aIyWL",
        "outputId": "1228a0b8-9613-4506-983a-0a74304a63a4",
        "colab": {
          "base_uri": "https://localhost:8080/",
          "height": 412
        }
      },
      "execution_count": 16,
      "outputs": [
        {
          "output_type": "display_data",
          "data": {
            "text/html": [
              "<table class=\"dataframe\">\n",
              "<caption>A data.table: 10 × 6</caption>\n",
              "<thead>\n",
              "\t<tr><th scope=col>cp</th><th scope=col>maxdepth</th><th scope=col>minsplit</th><th scope=col>minbucket</th><th scope=col>ganancia_mean</th><th scope=col>qty</th></tr>\n",
              "\t<tr><th scope=col>&lt;dbl&gt;</th><th scope=col>&lt;dbl&gt;</th><th scope=col>&lt;dbl&gt;</th><th scope=col>&lt;dbl&gt;</th><th scope=col>&lt;dbl&gt;</th><th scope=col>&lt;int&gt;</th></tr>\n",
              "</thead>\n",
              "<tbody>\n",
              "\t<tr><td>-0.10</td><td>6</td><td>100</td><td>20</td><td>57610000</td><td>1</td></tr>\n",
              "\t<tr><td>-0.05</td><td>6</td><td>100</td><td>20</td><td>57610000</td><td>1</td></tr>\n",
              "\t<tr><td>-0.01</td><td>6</td><td>100</td><td>20</td><td>57610000</td><td>1</td></tr>\n",
              "\t<tr><td>-0.10</td><td>6</td><td>200</td><td>20</td><td>57520000</td><td>1</td></tr>\n",
              "\t<tr><td>-0.05</td><td>6</td><td>200</td><td>20</td><td>57520000</td><td>1</td></tr>\n",
              "\t<tr><td>-0.01</td><td>6</td><td>200</td><td>20</td><td>57520000</td><td>1</td></tr>\n",
              "\t<tr><td>-0.10</td><td>6</td><td>200</td><td>30</td><td>57330000</td><td>1</td></tr>\n",
              "\t<tr><td>-0.05</td><td>6</td><td>200</td><td>30</td><td>57330000</td><td>1</td></tr>\n",
              "\t<tr><td>-0.01</td><td>6</td><td>200</td><td>30</td><td>57330000</td><td>1</td></tr>\n",
              "\t<tr><td>-0.10</td><td>6</td><td>200</td><td>40</td><td>56240000</td><td>1</td></tr>\n",
              "</tbody>\n",
              "</table>\n"
            ],
            "text/markdown": "\nA data.table: 10 × 6\n\n| cp &lt;dbl&gt; | maxdepth &lt;dbl&gt; | minsplit &lt;dbl&gt; | minbucket &lt;dbl&gt; | ganancia_mean &lt;dbl&gt; | qty &lt;int&gt; |\n|---|---|---|---|---|---|\n| -0.10 | 6 | 100 | 20 | 57610000 | 1 |\n| -0.05 | 6 | 100 | 20 | 57610000 | 1 |\n| -0.01 | 6 | 100 | 20 | 57610000 | 1 |\n| -0.10 | 6 | 200 | 20 | 57520000 | 1 |\n| -0.05 | 6 | 200 | 20 | 57520000 | 1 |\n| -0.01 | 6 | 200 | 20 | 57520000 | 1 |\n| -0.10 | 6 | 200 | 30 | 57330000 | 1 |\n| -0.05 | 6 | 200 | 30 | 57330000 | 1 |\n| -0.01 | 6 | 200 | 30 | 57330000 | 1 |\n| -0.10 | 6 | 200 | 40 | 56240000 | 1 |\n\n",
            "text/latex": "A data.table: 10 × 6\n\\begin{tabular}{llllll}\n cp & maxdepth & minsplit & minbucket & ganancia\\_mean & qty\\\\\n <dbl> & <dbl> & <dbl> & <dbl> & <dbl> & <int>\\\\\n\\hline\n\t -0.10 & 6 & 100 & 20 & 57610000 & 1\\\\\n\t -0.05 & 6 & 100 & 20 & 57610000 & 1\\\\\n\t -0.01 & 6 & 100 & 20 & 57610000 & 1\\\\\n\t -0.10 & 6 & 200 & 20 & 57520000 & 1\\\\\n\t -0.05 & 6 & 200 & 20 & 57520000 & 1\\\\\n\t -0.01 & 6 & 200 & 20 & 57520000 & 1\\\\\n\t -0.10 & 6 & 200 & 30 & 57330000 & 1\\\\\n\t -0.05 & 6 & 200 & 30 & 57330000 & 1\\\\\n\t -0.01 & 6 & 200 & 30 & 57330000 & 1\\\\\n\t -0.10 & 6 & 200 & 40 & 56240000 & 1\\\\\n\\end{tabular}\n",
            "text/plain": [
              "   cp    maxdepth minsplit minbucket ganancia_mean qty\n",
              "1  -0.10 6        100      20        57610000      1  \n",
              "2  -0.05 6        100      20        57610000      1  \n",
              "3  -0.01 6        100      20        57610000      1  \n",
              "4  -0.10 6        200      20        57520000      1  \n",
              "5  -0.05 6        200      20        57520000      1  \n",
              "6  -0.01 6        200      20        57520000      1  \n",
              "7  -0.10 6        200      30        57330000      1  \n",
              "8  -0.05 6        200      30        57330000      1  \n",
              "9  -0.01 6        200      30        57330000      1  \n",
              "10 -0.10 6        200      40        56240000      1  "
            ]
          },
          "metadata": {}
        }
      ]
    },
    {
      "cell_type": "code",
      "source": [
        "# genero un id a la tabla\n",
        "tb_grid_search[, id := .I ]\n",
        "\n",
        "fwrite( tb_grid_search,\n",
        "  file = \"gridsearch.txt\",\n",
        "  sep = \"\\t\"\n",
        ")\n"
      ],
      "metadata": {
        "id": "K3S-I2PTI5ZE"
      },
      "execution_count": 17,
      "outputs": []
    },
    {
      "cell_type": "markdown",
      "source": [
        "# 4.  Análisis de resultados de Grid Search"
      ],
      "metadata": {
        "id": "1rYHk1YkI_9k"
      }
    },
    {
      "cell_type": "markdown",
      "source": [
        "La salida de la corrida anterior queda en ~/buckets/b1/exp/HT2900  que corresponde a su Google Drive\n",
        "<br>HT significa Hyperparameter Tuning\n",
        "<br>El Grid Search es un método de fuerza bruta de un altísimo costo computacional.\n",
        "<br>Queremos ver si es posible crear un algoritmo de optimización de hiperparámetros que se ahorre recorrer ciertas porciones muy malas del espacio de búsqueda. Algo del estilo “cada vez que pruebo una combinación de hiperparámetros donde  cp > 1 , la ganancia es muy mala, con lo cual ni vale la pena perder el tiempo explorando en esa region”\n"
      ],
      "metadata": {
        "id": "ZTJgPhMWJHTk"
      }
    },
    {
      "cell_type": "markdown",
      "source": [
        "<br>Levante el archivo de salida gridsearch.txt  a una planilla tipo Excel y analícelo detenidamente\n",
        "<br>Ordene por ganancia_mean descendente\n",
        "<br>\n",
        "<br>El de mayor ganancia_mean  decimos que es el primero del ranking\n",
        "En Zulip, correspondiente channel  #Tarea Hogar 02 , topic Analisis Grid Search   intente contestar estas preguntas:\n",
        "\n",
        "* ¿Qué combinaciones de hiperparámetros poseen una ganancia muy buena?\n",
        "* ¿Hay algun hiperparámetro que para cierto valor siempre genera una ganancia muy mala, a independientemente de lo que valgan los otros hiperparámetros ?\n",
        "* ¿Que combinaciones de hiperparámetros es pésima y hubiera sido bueno ahorrarse esas corridas ?\n",
        "\n",
        "( tiempo estimado 30 minutos, dificultad media )"
      ],
      "metadata": {
        "id": "IaVgMu4tPwyB"
      }
    },
    {
      "cell_type": "code",
      "source": [
        "from google.colab import drive\n",
        "drive.mount('/content/drive')\n",
        "\n",
        "# Definí la ruta a tu archivo en Drive:\n",
        "PATH_FILE = \"/content/drive/MyDrive/labo1/exp/HT2900/gridsearch.txt\"\n",
        "# o, si querés usar el otro:\n",
        "# PATH_FILE = \"/content/drive/MyDrive/exp/HT2900/gridsearch_detalle.txt\"\n"
      ],
      "metadata": {
        "colab": {
          "base_uri": "https://localhost:8080/",
          "height": 0
        },
        "id": "IDr-b2o31KFv",
        "outputId": "5d15c3bf-bbcc-46c0-db51-d1cc0a49ccf5"
      },
      "execution_count": 1,
      "outputs": [
        {
          "output_type": "stream",
          "name": "stdout",
          "text": [
            "Mounted at /content/drive\n"
          ]
        }
      ]
    },
    {
      "cell_type": "code",
      "source": [
        "!pip install plotly pandas\n",
        "import pandas as pd\n",
        "import plotly.graph_objs as go\n",
        "import plotly.io as pio\n",
        "from IPython.display import IFrame, HTML, display\n"
      ],
      "metadata": {
        "colab": {
          "base_uri": "https://localhost:8080/",
          "height": 0
        },
        "id": "X51JmS5QJ6CP",
        "outputId": "2aea8cf6-37da-4d50-9824-baf80fcdc086"
      },
      "execution_count": 7,
      "outputs": [
        {
          "output_type": "stream",
          "name": "stdout",
          "text": [
            "Requirement already satisfied: plotly in /usr/local/lib/python3.12/dist-packages (5.24.1)\n",
            "Requirement already satisfied: pandas in /usr/local/lib/python3.12/dist-packages (2.2.2)\n",
            "Requirement already satisfied: tenacity>=6.2.0 in /usr/local/lib/python3.12/dist-packages (from plotly) (8.5.0)\n",
            "Requirement already satisfied: packaging in /usr/local/lib/python3.12/dist-packages (from plotly) (25.0)\n",
            "Requirement already satisfied: numpy>=1.26.0 in /usr/local/lib/python3.12/dist-packages (from pandas) (2.0.2)\n",
            "Requirement already satisfied: python-dateutil>=2.8.2 in /usr/local/lib/python3.12/dist-packages (from pandas) (2.9.0.post0)\n",
            "Requirement already satisfied: pytz>=2020.1 in /usr/local/lib/python3.12/dist-packages (from pandas) (2025.2)\n",
            "Requirement already satisfied: tzdata>=2022.7 in /usr/local/lib/python3.12/dist-packages (from pandas) (2025.2)\n",
            "Requirement already satisfied: six>=1.5 in /usr/local/lib/python3.12/dist-packages (from python-dateutil>=2.8.2->pandas) (1.17.0)\n"
          ]
        }
      ]
    },
    {
      "cell_type": "code",
      "source": [
        "df = pd.read_csv(PATH_FILE, sep=\"\\t\")\n",
        "\n",
        "# Aseguramos los tipos numéricos\n",
        "for col in [\"cp\",\"maxdepth\",\"minsplit\",\"minbucket\",\"ganancia_mean\",\"qty\"]:\n",
        "    if col in df.columns:\n",
        "        df[col] = pd.to_numeric(df[col], errors=\"coerce\")\n",
        "\n",
        "# Agregamos combinaciones (si hay múltiples corridas por semilla)\n",
        "agg = (\n",
        "    df.groupby([\"cp\",\"maxdepth\",\"minsplit\",\"minbucket\"], as_index=False)\n",
        "      .agg(ganancia_mean=(\"ganancia_mean\",\"mean\"),\n",
        "           ganancia_sd=(\"ganancia_mean\",\"std\"),\n",
        "           n_runs=(\"ganancia_mean\",\"size\"))\n",
        ")\n",
        "\n",
        "cp_levels    = sorted(agg[\"cp\"].dropna().unique().tolist())\n",
        "depth_levels = sorted(agg[\"maxdepth\"].dropna().unique().tolist())\n",
        "\n",
        "print(f\"Archivo leído correctamente. Total de combinaciones: {len(agg)}\")\n"
      ],
      "metadata": {
        "colab": {
          "base_uri": "https://localhost:8080/"
        },
        "id": "pAVzImtWKB9j",
        "outputId": "51261261-3d26-4c52-8de6-bd7d66cb9e97"
      },
      "execution_count": 13,
      "outputs": [
        {
          "output_type": "stream",
          "name": "stdout",
          "text": [
            "Archivo leído correctamente. Total de combinaciones: 150\n"
          ]
        }
      ]
    },
    {
      "cell_type": "code",
      "source": [
        "\n",
        "# ==== DASHBOARD HTML con FIX de visualización en Colab ====\n",
        "import os, shutil\n",
        "from IPython.display import IFrame, HTML, display\n",
        "import plotly.io as pio\n",
        "\n",
        "\n",
        "# 1) Generar el HTML del dashboard (inline)\n",
        "html3d   = pio.to_html(fig3d, include_plotlyjs=False, full_html=False)\n",
        "htmlpara = pio.to_html(parcoords, include_plotlyjs=False, full_html=False)\n",
        "\n",
        "html_page = f\"\"\"\n",
        "<!DOCTYPE html>\n",
        "<html lang='es'>\n",
        "<head>\n",
        "<meta charset='utf-8'>\n",
        "<title>Dashboard Grid Search</title>\n",
        "<script src='https://cdn.plot.ly/plotly-latest.min.js'></script>\n",
        "<style>\n",
        "  body {{ font-family: Arial, sans-serif; margin: 20px; }}\n",
        "  h1 {{ margin-bottom: 0; }}\n",
        "  .caption {{ color:#555; margin-bottom: 20px; }}\n",
        "  .section {{ margin-top: 26px; }}\n",
        "</style>\n",
        "</head>\n",
        "<body>\n",
        "<h1>Dashboard — Grid Search (Árbol de decisión)</h1>\n",
        "<p class=\"caption\">Menú del 3D para filtrar por <b>cp</b>. En Parallel Coordinates arrastrá en los ejes para filtrar rangos.</p>\n",
        "\n",
        "<div class=\"section\">\n",
        "  <h2>3D interactivo</h2>\n",
        "  {html3d}\n",
        "</div>\n",
        "\n",
        "<div class=\"section\">\n",
        "  <h2>Parallel Coordinates</h2>\n",
        "  {htmlpara}\n",
        "</div>\n",
        "\n",
        "<hr/>\n",
        "<p class=\"caption\">Generado automáticamente.</p>\n",
        "</body>\n",
        "</html>\n",
        "\"\"\"\n",
        "\n",
        "# 2) Guardar a /content (local) y mostrar desde allí\n",
        "LOCAL_FOLDER = \"/content\"  # <- servido por /files\n",
        "os.makedirs(LOCAL_FOLDER, exist_ok=True)\n",
        "LOCAL_DASH = os.path.join(LOCAL_FOLDER, \"gridsearch_dashboard_interactivo.html\")\n",
        "LOCAL_3D   = os.path.join(LOCAL_FOLDER, \"gridsearch_3d_interactivo.html\")\n",
        "LOCAL_PAR  = os.path.join(LOCAL_FOLDER, \"gridsearch_parcoords_interactivo.html\")\n",
        "\n",
        "with open(LOCAL_DASH, \"w\", encoding=\"utf-8\") as f:\n",
        "    f.write(html_page)\n",
        "\n",
        "# (Por si querés los individuales también en /content)\n",
        "pio.write_html(fig3d,    file=LOCAL_3D, include_plotlyjs=\"cdn\", full_html=True)\n",
        "pio.write_html(parcoords,file=LOCAL_PAR, include_plotlyjs=\"cdn\", full_html=True)\n",
        "\n",
        "# 3) Copiar a Drive para conservarlos\n",
        "OUTPUT_FOLDER = \"/content/drive/MyDrive/labo1/exp/HT2900/\"\n",
        "os.makedirs(OUTPUT_FOLDER, exist_ok=True)\n",
        "shutil.copy2(LOCAL_DASH, os.path.join(OUTPUT_FOLDER, \"gridsearch_dashboard_interactivo.html\"))\n",
        "shutil.copy2(LOCAL_3D,   os.path.join(OUTPUT_FOLDER, \"gridsearch_3d_interactivo.html\"))\n",
        "shutil.copy2(LOCAL_PAR,  os.path.join(OUTPUT_FOLDER, \"gridsearch_parcoords_interactivo.html\"))\n",
        "\n",
        "# 4) Mostrar: A) Inline (siempre funciona)\n",
        "display(HTML(\"<h3>Dashboard generado correctamente (inline):</h3>\"))\n",
        "display(HTML(html_page))\n",
        "\n",
        "# 4) Mostrar: B) IFrame servido por Colab desde /content (evita localhost:8080)\n",
        "display(HTML(\"<h3>Dashboard (IFrame desde /content):</h3>\"))\n",
        "display(IFrame(src=f\"/files{LOCAL_DASH}\", width=\"100%\", height=\"640\"))\n",
        "\n",
        "print(\"Archivos guardados en Drive:\")\n",
        "print(os.path.join(OUTPUT_FOLDER, \"gridsearch_dashboard_interactivo.html\"))\n",
        "print(os.path.join(OUTPUT_FOLDER, \"gridsearch_3d_interactivo.html\"))\n",
        "print(os.path.join(OUTPUT_FOLDER, \"gridsearch_parcoords_interactivo.html\"))\n"
      ],
      "metadata": {
        "colab": {
          "base_uri": "https://localhost:8080/",
          "height": 1000
        },
        "id": "DKg1pM5aMtn3",
        "outputId": "7fe2f755-a062-4a25-a32a-ad4633f8bcc6"
      },
      "execution_count": 14,
      "outputs": [
        {
          "output_type": "display_data",
          "data": {
            "text/plain": [
              "<IPython.core.display.HTML object>"
            ],
            "text/html": [
              "<h3>Dashboard generado correctamente (inline):</h3>"
            ]
          },
          "metadata": {}
        },
        {
          "output_type": "display_data",
          "data": {
            "text/plain": [
              "<IPython.core.display.HTML object>"
            ],
            "text/html": [
              "\n",
              "<!DOCTYPE html>\n",
              "<html lang='es'>\n",
              "<head>\n",
              "<meta charset='utf-8'>\n",
              "<title>Dashboard Grid Search</title>\n",
              "<script src='https://cdn.plot.ly/plotly-latest.min.js'></script>\n",
              "<style>\n",
              "  body { font-family: Arial, sans-serif; margin: 20px; }\n",
              "  h1 { margin-bottom: 0; }\n",
              "  .caption { color:#555; margin-bottom: 20px; }\n",
              "  .section { margin-top: 26px; }\n",
              "</style>\n",
              "</head>\n",
              "<body>\n",
              "<h1>Dashboard — Grid Search (Árbol de decisión)</h1>\n",
              "<p class=\"caption\">Menú del 3D para filtrar por <b>cp</b>. En Parallel Coordinates arrastrá en los ejes para filtrar rangos.</p>\n",
              "\n",
              "<div class=\"section\">\n",
              "  <h2>3D interactivo</h2>\n",
              "  <div>                            <div id=\"609b2fd8-151a-4fbc-967c-09285245fdc3\" class=\"plotly-graph-div\" style=\"height:100%; width:100%;\"></div>            <script type=\"text/javascript\">                                    window.PLOTLYENV=window.PLOTLYENV || {};                                    if (document.getElementById(\"609b2fd8-151a-4fbc-967c-09285245fdc3\")) {                    Plotly.newPlot(                        \"609b2fd8-151a-4fbc-967c-09285245fdc3\",                        [{\"hovertemplate\":\"maxdepth=%{x}\\u003cbr\\u003eminsplit=%{y}\\u003cbr\\u003eganancia_mean=%{marker.size}\\u003cbr\\u003ecp=%{marker.color}\\u003cextra\\u003e\\u003c\\u002fextra\\u003e\",\"legendgroup\":\"\",\"marker\":{\"color\":[-0.1,-0.05,-0.01,-0.1,-0.05,-0.01,-0.1,-0.05,-0.01,-0.1,-0.05,-0.01,-0.1,-0.1,-0.05,-0.05,-0.01,-0.01,-0.1,-0.1,-0.05,-0.05,-0.01,-0.01,-0.1,-0.05,-0.01,-0.1,-0.05,-0.01,-0.1,-0.05,-0.01,-0.1,-0.05,-0.01,-0.1,-0.05,-0.01,-0.1,-0.05,-0.01,-0.1,-0.05,-0.01,-0.1,-0.05,-0.01,-0.1,-0.05,-0.01,-0.1,-0.05,-0.01,-0.1,-0.05,-0.01,-0.1,-0.05,-0.01,-0.1,-0.05,-0.01,-0.1,-0.05,-0.01,-0.1,-0.05,-0.01,-0.1,-0.05,-0.01,-0.1,-0.05,-0.01,-0.1,-0.05,-0.01,-0.1,-0.05,-0.01,-0.1,-0.05,-0.01,-0.1,-0.05,-0.01,-0.1,-0.05,-0.01,-0.1,-0.05,-0.01,-0.1,-0.05,-0.01,-0.1,-0.05,-0.01,-0.1,-0.05,-0.01,-0.1,-0.05,-0.01,-0.1,-0.05,-0.01,-0.1,-0.05,-0.01,-0.1,-0.05,-0.01,-0.1,-0.05,-0.01,-0.1,-0.05,-0.01,-0.1,-0.05,-0.01,-0.1,-0.05,-0.01,-0.1,-0.05,-0.01,-0.1,-0.05,-0.01,-0.1,-0.05,-0.01,-0.1,-0.05,-0.01,-0.1,-0.05,-0.01,-0.1,-0.05,-0.01,-0.1,-0.05,-0.01,-0.1,-0.05,-0.01],\"coloraxis\":\"coloraxis\",\"size\":[57610000,57610000,57610000,57520000,57520000,57520000,57330000,57330000,57330000,56240000,56240000,56240000,56060000,56060000,56060000,56060000,56060000,56060000,55520000,55520000,55520000,55520000,55520000,55520000,55460000,55460000,55460000,55020000,55020000,55020000,54580000,54580000,54580000,54470000,54470000,54470000,54010000,54010000,54010000,52820000,52820000,52820000,52620000,52620000,52620000,51520000,51520000,51520000,51490000,51490000,51490000,51390000,51390000,51390000,51230000,51230000,51230000,50930000,50930000,50930000,50910000,50910000,50910000,50820000,50820000,50820000,50720000,50720000,50720000,50360000,50360000,50360000,50250000,50250000,50250000,50060000,50060000,50060000,49230000,49230000,49230000,49090000,49090000,49090000,48780000,48780000,48780000,47910000,47910000,47910000,47820000,47820000,47820000,47410000,47410000,47410000,47170000,47170000,47170000,46840000,46840000,46840000,46540000,46540000,46540000,46140000,46140000,46140000,46060000,46060000,46060000,45850000,45850000,45850000,45170000,45170000,45170000,45080000,45080000,45080000,45080000,45080000,45080000,44750000,44750000,44750000,44270000,44270000,44270000,44130000,44130000,44130000,43680000,43680000,43680000,43590000,43590000,43590000,42470000,42470000,42470000,41980000,41980000,41980000,41120000,41120000,41120000,40150000,40150000,40150000],\"sizemode\":\"area\",\"sizeref\":144025.0,\"symbol\":\"circle\"},\"mode\":\"markers\",\"name\":\"\",\"scene\":\"scene\",\"showlegend\":false,\"x\":[6,6,6,6,6,6,6,6,6,6,6,6,6,6,6,6,6,6,6,6,6,6,6,6,6,6,6,8,8,8,8,8,8,6,6,6,8,8,8,8,8,8,8,8,8,8,8,8,8,8,8,8,8,8,8,8,8,10,10,10,12,12,12,10,10,10,10,10,10,14,14,14,10,10,10,8,8,8,10,10,10,12,12,12,10,10,10,12,12,12,14,14,14,10,10,10,12,12,12,10,10,10,12,12,12,10,10,10,12,12,12,12,12,12,14,14,14,12,12,12,14,14,14,14,14,14,14,14,14,14,14,14,14,14,14,12,12,12,14,14,14,10,10,10,12,12,12,14,14,14],\"y\":[100,100,100,200,200,200,200,200,200,200,200,200,100,200,100,200,100,200,100,200,100,200,100,200,100,100,100,100,100,100,200,200,200,100,100,100,200,200,200,200,200,200,200,200,200,200,200,200,100,100,100,100,100,100,100,100,100,200,200,200,200,200,200,200,200,200,200,200,200,200,200,200,100,100,100,100,100,100,200,200,200,200,200,200,100,100,100,200,200,200,200,200,200,100,100,100,100,100,100,200,200,200,100,100,100,100,100,100,100,100,100,100,100,100,100,100,100,200,200,200,200,200,200,100,100,100,100,100,100,100,100,100,200,200,200,200,200,200,200,200,200,100,100,100,100,100,100,100,100,100],\"z\":[57610000,57610000,57610000,57520000,57520000,57520000,57330000,57330000,57330000,56240000,56240000,56240000,56060000,56060000,56060000,56060000,56060000,56060000,55520000,55520000,55520000,55520000,55520000,55520000,55460000,55460000,55460000,55020000,55020000,55020000,54580000,54580000,54580000,54470000,54470000,54470000,54010000,54010000,54010000,52820000,52820000,52820000,52620000,52620000,52620000,51520000,51520000,51520000,51490000,51490000,51490000,51390000,51390000,51390000,51230000,51230000,51230000,50930000,50930000,50930000,50910000,50910000,50910000,50820000,50820000,50820000,50720000,50720000,50720000,50360000,50360000,50360000,50250000,50250000,50250000,50060000,50060000,50060000,49230000,49230000,49230000,49090000,49090000,49090000,48780000,48780000,48780000,47910000,47910000,47910000,47820000,47820000,47820000,47410000,47410000,47410000,47170000,47170000,47170000,46840000,46840000,46840000,46540000,46540000,46540000,46140000,46140000,46140000,46060000,46060000,46060000,45850000,45850000,45850000,45170000,45170000,45170000,45080000,45080000,45080000,45080000,45080000,45080000,44750000,44750000,44750000,44270000,44270000,44270000,44130000,44130000,44130000,43680000,43680000,43680000,43590000,43590000,43590000,42470000,42470000,42470000,41980000,41980000,41980000,41120000,41120000,41120000,40150000,40150000,40150000],\"type\":\"scatter3d\"}],                        {\"template\":{\"data\":{\"histogram2dcontour\":[{\"type\":\"histogram2dcontour\",\"colorbar\":{\"outlinewidth\":0,\"ticks\":\"\"},\"colorscale\":[[0.0,\"#0d0887\"],[0.1111111111111111,\"#46039f\"],[0.2222222222222222,\"#7201a8\"],[0.3333333333333333,\"#9c179e\"],[0.4444444444444444,\"#bd3786\"],[0.5555555555555556,\"#d8576b\"],[0.6666666666666666,\"#ed7953\"],[0.7777777777777778,\"#fb9f3a\"],[0.8888888888888888,\"#fdca26\"],[1.0,\"#f0f921\"]]}],\"choropleth\":[{\"type\":\"choropleth\",\"colorbar\":{\"outlinewidth\":0,\"ticks\":\"\"}}],\"histogram2d\":[{\"type\":\"histogram2d\",\"colorbar\":{\"outlinewidth\":0,\"ticks\":\"\"},\"colorscale\":[[0.0,\"#0d0887\"],[0.1111111111111111,\"#46039f\"],[0.2222222222222222,\"#7201a8\"],[0.3333333333333333,\"#9c179e\"],[0.4444444444444444,\"#bd3786\"],[0.5555555555555556,\"#d8576b\"],[0.6666666666666666,\"#ed7953\"],[0.7777777777777778,\"#fb9f3a\"],[0.8888888888888888,\"#fdca26\"],[1.0,\"#f0f921\"]]}],\"heatmap\":[{\"type\":\"heatmap\",\"colorbar\":{\"outlinewidth\":0,\"ticks\":\"\"},\"colorscale\":[[0.0,\"#0d0887\"],[0.1111111111111111,\"#46039f\"],[0.2222222222222222,\"#7201a8\"],[0.3333333333333333,\"#9c179e\"],[0.4444444444444444,\"#bd3786\"],[0.5555555555555556,\"#d8576b\"],[0.6666666666666666,\"#ed7953\"],[0.7777777777777778,\"#fb9f3a\"],[0.8888888888888888,\"#fdca26\"],[1.0,\"#f0f921\"]]}],\"heatmapgl\":[{\"type\":\"heatmapgl\",\"colorbar\":{\"outlinewidth\":0,\"ticks\":\"\"},\"colorscale\":[[0.0,\"#0d0887\"],[0.1111111111111111,\"#46039f\"],[0.2222222222222222,\"#7201a8\"],[0.3333333333333333,\"#9c179e\"],[0.4444444444444444,\"#bd3786\"],[0.5555555555555556,\"#d8576b\"],[0.6666666666666666,\"#ed7953\"],[0.7777777777777778,\"#fb9f3a\"],[0.8888888888888888,\"#fdca26\"],[1.0,\"#f0f921\"]]}],\"contourcarpet\":[{\"type\":\"contourcarpet\",\"colorbar\":{\"outlinewidth\":0,\"ticks\":\"\"}}],\"contour\":[{\"type\":\"contour\",\"colorbar\":{\"outlinewidth\":0,\"ticks\":\"\"},\"colorscale\":[[0.0,\"#0d0887\"],[0.1111111111111111,\"#46039f\"],[0.2222222222222222,\"#7201a8\"],[0.3333333333333333,\"#9c179e\"],[0.4444444444444444,\"#bd3786\"],[0.5555555555555556,\"#d8576b\"],[0.6666666666666666,\"#ed7953\"],[0.7777777777777778,\"#fb9f3a\"],[0.8888888888888888,\"#fdca26\"],[1.0,\"#f0f921\"]]}],\"surface\":[{\"type\":\"surface\",\"colorbar\":{\"outlinewidth\":0,\"ticks\":\"\"},\"colorscale\":[[0.0,\"#0d0887\"],[0.1111111111111111,\"#46039f\"],[0.2222222222222222,\"#7201a8\"],[0.3333333333333333,\"#9c179e\"],[0.4444444444444444,\"#bd3786\"],[0.5555555555555556,\"#d8576b\"],[0.6666666666666666,\"#ed7953\"],[0.7777777777777778,\"#fb9f3a\"],[0.8888888888888888,\"#fdca26\"],[1.0,\"#f0f921\"]]}],\"mesh3d\":[{\"type\":\"mesh3d\",\"colorbar\":{\"outlinewidth\":0,\"ticks\":\"\"}}],\"scatter\":[{\"fillpattern\":{\"fillmode\":\"overlay\",\"size\":10,\"solidity\":0.2},\"type\":\"scatter\"}],\"parcoords\":[{\"type\":\"parcoords\",\"line\":{\"colorbar\":{\"outlinewidth\":0,\"ticks\":\"\"}}}],\"scatterpolargl\":[{\"type\":\"scatterpolargl\",\"marker\":{\"colorbar\":{\"outlinewidth\":0,\"ticks\":\"\"}}}],\"bar\":[{\"error_x\":{\"color\":\"#2a3f5f\"},\"error_y\":{\"color\":\"#2a3f5f\"},\"marker\":{\"line\":{\"color\":\"#E5ECF6\",\"width\":0.5},\"pattern\":{\"fillmode\":\"overlay\",\"size\":10,\"solidity\":0.2}},\"type\":\"bar\"}],\"scattergeo\":[{\"type\":\"scattergeo\",\"marker\":{\"colorbar\":{\"outlinewidth\":0,\"ticks\":\"\"}}}],\"scatterpolar\":[{\"type\":\"scatterpolar\",\"marker\":{\"colorbar\":{\"outlinewidth\":0,\"ticks\":\"\"}}}],\"histogram\":[{\"marker\":{\"pattern\":{\"fillmode\":\"overlay\",\"size\":10,\"solidity\":0.2}},\"type\":\"histogram\"}],\"scattergl\":[{\"type\":\"scattergl\",\"marker\":{\"colorbar\":{\"outlinewidth\":0,\"ticks\":\"\"}}}],\"scatter3d\":[{\"type\":\"scatter3d\",\"line\":{\"colorbar\":{\"outlinewidth\":0,\"ticks\":\"\"}},\"marker\":{\"colorbar\":{\"outlinewidth\":0,\"ticks\":\"\"}}}],\"scattermapbox\":[{\"type\":\"scattermapbox\",\"marker\":{\"colorbar\":{\"outlinewidth\":0,\"ticks\":\"\"}}}],\"scatterternary\":[{\"type\":\"scatterternary\",\"marker\":{\"colorbar\":{\"outlinewidth\":0,\"ticks\":\"\"}}}],\"scattercarpet\":[{\"type\":\"scattercarpet\",\"marker\":{\"colorbar\":{\"outlinewidth\":0,\"ticks\":\"\"}}}],\"carpet\":[{\"aaxis\":{\"endlinecolor\":\"#2a3f5f\",\"gridcolor\":\"white\",\"linecolor\":\"white\",\"minorgridcolor\":\"white\",\"startlinecolor\":\"#2a3f5f\"},\"baxis\":{\"endlinecolor\":\"#2a3f5f\",\"gridcolor\":\"white\",\"linecolor\":\"white\",\"minorgridcolor\":\"white\",\"startlinecolor\":\"#2a3f5f\"},\"type\":\"carpet\"}],\"table\":[{\"cells\":{\"fill\":{\"color\":\"#EBF0F8\"},\"line\":{\"color\":\"white\"}},\"header\":{\"fill\":{\"color\":\"#C8D4E3\"},\"line\":{\"color\":\"white\"}},\"type\":\"table\"}],\"barpolar\":[{\"marker\":{\"line\":{\"color\":\"#E5ECF6\",\"width\":0.5},\"pattern\":{\"fillmode\":\"overlay\",\"size\":10,\"solidity\":0.2}},\"type\":\"barpolar\"}],\"pie\":[{\"automargin\":true,\"type\":\"pie\"}]},\"layout\":{\"autotypenumbers\":\"strict\",\"colorway\":[\"#636efa\",\"#EF553B\",\"#00cc96\",\"#ab63fa\",\"#FFA15A\",\"#19d3f3\",\"#FF6692\",\"#B6E880\",\"#FF97FF\",\"#FECB52\"],\"font\":{\"color\":\"#2a3f5f\"},\"hovermode\":\"closest\",\"hoverlabel\":{\"align\":\"left\"},\"paper_bgcolor\":\"white\",\"plot_bgcolor\":\"#E5ECF6\",\"polar\":{\"bgcolor\":\"#E5ECF6\",\"angularaxis\":{\"gridcolor\":\"white\",\"linecolor\":\"white\",\"ticks\":\"\"},\"radialaxis\":{\"gridcolor\":\"white\",\"linecolor\":\"white\",\"ticks\":\"\"}},\"ternary\":{\"bgcolor\":\"#E5ECF6\",\"aaxis\":{\"gridcolor\":\"white\",\"linecolor\":\"white\",\"ticks\":\"\"},\"baxis\":{\"gridcolor\":\"white\",\"linecolor\":\"white\",\"ticks\":\"\"},\"caxis\":{\"gridcolor\":\"white\",\"linecolor\":\"white\",\"ticks\":\"\"}},\"coloraxis\":{\"colorbar\":{\"outlinewidth\":0,\"ticks\":\"\"}},\"colorscale\":{\"sequential\":[[0.0,\"#0d0887\"],[0.1111111111111111,\"#46039f\"],[0.2222222222222222,\"#7201a8\"],[0.3333333333333333,\"#9c179e\"],[0.4444444444444444,\"#bd3786\"],[0.5555555555555556,\"#d8576b\"],[0.6666666666666666,\"#ed7953\"],[0.7777777777777778,\"#fb9f3a\"],[0.8888888888888888,\"#fdca26\"],[1.0,\"#f0f921\"]],\"sequentialminus\":[[0.0,\"#0d0887\"],[0.1111111111111111,\"#46039f\"],[0.2222222222222222,\"#7201a8\"],[0.3333333333333333,\"#9c179e\"],[0.4444444444444444,\"#bd3786\"],[0.5555555555555556,\"#d8576b\"],[0.6666666666666666,\"#ed7953\"],[0.7777777777777778,\"#fb9f3a\"],[0.8888888888888888,\"#fdca26\"],[1.0,\"#f0f921\"]],\"diverging\":[[0,\"#8e0152\"],[0.1,\"#c51b7d\"],[0.2,\"#de77ae\"],[0.3,\"#f1b6da\"],[0.4,\"#fde0ef\"],[0.5,\"#f7f7f7\"],[0.6,\"#e6f5d0\"],[0.7,\"#b8e186\"],[0.8,\"#7fbc41\"],[0.9,\"#4d9221\"],[1,\"#276419\"]]},\"xaxis\":{\"gridcolor\":\"white\",\"linecolor\":\"white\",\"ticks\":\"\",\"title\":{\"standoff\":15},\"zerolinecolor\":\"white\",\"automargin\":true,\"zerolinewidth\":2},\"yaxis\":{\"gridcolor\":\"white\",\"linecolor\":\"white\",\"ticks\":\"\",\"title\":{\"standoff\":15},\"zerolinecolor\":\"white\",\"automargin\":true,\"zerolinewidth\":2},\"scene\":{\"xaxis\":{\"backgroundcolor\":\"#E5ECF6\",\"gridcolor\":\"white\",\"linecolor\":\"white\",\"showbackground\":true,\"ticks\":\"\",\"zerolinecolor\":\"white\",\"gridwidth\":2},\"yaxis\":{\"backgroundcolor\":\"#E5ECF6\",\"gridcolor\":\"white\",\"linecolor\":\"white\",\"showbackground\":true,\"ticks\":\"\",\"zerolinecolor\":\"white\",\"gridwidth\":2},\"zaxis\":{\"backgroundcolor\":\"#E5ECF6\",\"gridcolor\":\"white\",\"linecolor\":\"white\",\"showbackground\":true,\"ticks\":\"\",\"zerolinecolor\":\"white\",\"gridwidth\":2}},\"shapedefaults\":{\"line\":{\"color\":\"#2a3f5f\"}},\"annotationdefaults\":{\"arrowcolor\":\"#2a3f5f\",\"arrowhead\":0,\"arrowwidth\":1},\"geo\":{\"bgcolor\":\"white\",\"landcolor\":\"#E5ECF6\",\"subunitcolor\":\"white\",\"showland\":true,\"showlakes\":true,\"lakecolor\":\"white\"},\"title\":{\"x\":0.05},\"mapbox\":{\"style\":\"light\"}}},\"scene\":{\"domain\":{\"x\":[0.0,1.0],\"y\":[0.0,1.0]},\"xaxis\":{\"title\":{\"text\":\"maxdepth\"}},\"yaxis\":{\"title\":{\"text\":\"minsplit\"}},\"zaxis\":{\"title\":{\"text\":\"ganancia_mean\"}}},\"coloraxis\":{\"colorbar\":{\"title\":{\"text\":\"cp\"}},\"colorscale\":[[0.0,\"#0d0887\"],[0.1111111111111111,\"#46039f\"],[0.2222222222222222,\"#7201a8\"],[0.3333333333333333,\"#9c179e\"],[0.4444444444444444,\"#bd3786\"],[0.5555555555555556,\"#d8576b\"],[0.6666666666666666,\"#ed7953\"],[0.7777777777777778,\"#fb9f3a\"],[0.8888888888888888,\"#fdca26\"],[1.0,\"#f0f921\"]]},\"legend\":{\"tracegroupgap\":0,\"itemsizing\":\"constant\"},\"title\":{\"text\":\"Ganancia media por combinación de hiperparámetros\"}},                        {\"responsive\": true}                    )                };                            </script>        </div>\n",
              "</div>\n",
              "\n",
              "<div class=\"section\">\n",
              "  <h2>Parallel Coordinates</h2>\n",
              "  <div>                            <div id=\"c766ae4c-99a9-407b-8a26-39a2e736be0d\" class=\"plotly-graph-div\" style=\"height:100%; width:100%;\"></div>            <script type=\"text/javascript\">                                    window.PLOTLYENV=window.PLOTLYENV || {};                                    if (document.getElementById(\"c766ae4c-99a9-407b-8a26-39a2e736be0d\")) {                    Plotly.newPlot(                        \"c766ae4c-99a9-407b-8a26-39a2e736be0d\",                        [{\"dimensions\":[{\"label\":\"cp\",\"values\":[-0.1,-0.05,-0.01,-0.1,-0.05,-0.01,-0.1,-0.05,-0.01,-0.1,-0.05,-0.01,-0.1,-0.1,-0.05,-0.05,-0.01,-0.01,-0.1,-0.1,-0.05,-0.05,-0.01,-0.01,-0.1,-0.05,-0.01,-0.1,-0.05,-0.01,-0.1,-0.05,-0.01,-0.1,-0.05,-0.01,-0.1,-0.05,-0.01,-0.1,-0.05,-0.01,-0.1,-0.05,-0.01,-0.1,-0.05,-0.01,-0.1,-0.05,-0.01,-0.1,-0.05,-0.01,-0.1,-0.05,-0.01,-0.1,-0.05,-0.01,-0.1,-0.05,-0.01,-0.1,-0.05,-0.01,-0.1,-0.05,-0.01,-0.1,-0.05,-0.01,-0.1,-0.05,-0.01,-0.1,-0.05,-0.01,-0.1,-0.05,-0.01,-0.1,-0.05,-0.01,-0.1,-0.05,-0.01,-0.1,-0.05,-0.01,-0.1,-0.05,-0.01,-0.1,-0.05,-0.01,-0.1,-0.05,-0.01,-0.1,-0.05,-0.01,-0.1,-0.05,-0.01,-0.1,-0.05,-0.01,-0.1,-0.05,-0.01,-0.1,-0.05,-0.01,-0.1,-0.05,-0.01,-0.1,-0.05,-0.01,-0.1,-0.05,-0.01,-0.1,-0.05,-0.01,-0.1,-0.05,-0.01,-0.1,-0.05,-0.01,-0.1,-0.05,-0.01,-0.1,-0.05,-0.01,-0.1,-0.05,-0.01,-0.1,-0.05,-0.01,-0.1,-0.05,-0.01,-0.1,-0.05,-0.01]},{\"label\":\"maxdepth\",\"values\":[6,6,6,6,6,6,6,6,6,6,6,6,6,6,6,6,6,6,6,6,6,6,6,6,6,6,6,8,8,8,8,8,8,6,6,6,8,8,8,8,8,8,8,8,8,8,8,8,8,8,8,8,8,8,8,8,8,10,10,10,12,12,12,10,10,10,10,10,10,14,14,14,10,10,10,8,8,8,10,10,10,12,12,12,10,10,10,12,12,12,14,14,14,10,10,10,12,12,12,10,10,10,12,12,12,10,10,10,12,12,12,12,12,12,14,14,14,12,12,12,14,14,14,14,14,14,14,14,14,14,14,14,14,14,14,12,12,12,14,14,14,10,10,10,12,12,12,14,14,14]},{\"label\":\"minsplit\",\"values\":[100,100,100,200,200,200,200,200,200,200,200,200,100,200,100,200,100,200,100,200,100,200,100,200,100,100,100,100,100,100,200,200,200,100,100,100,200,200,200,200,200,200,200,200,200,200,200,200,100,100,100,100,100,100,100,100,100,200,200,200,200,200,200,200,200,200,200,200,200,200,200,200,100,100,100,100,100,100,200,200,200,200,200,200,100,100,100,200,200,200,200,200,200,100,100,100,100,100,100,200,200,200,100,100,100,100,100,100,100,100,100,100,100,100,100,100,100,200,200,200,200,200,200,100,100,100,100,100,100,100,100,100,200,200,200,200,200,200,200,200,200,100,100,100,100,100,100,100,100,100]},{\"label\":\"minbucket\",\"values\":[20,20,20,20,20,20,30,30,30,40,40,40,10,10,10,10,10,10,5,5,5,5,5,5,30,30,30,5,5,5,5,5,5,40,40,40,20,20,20,30,30,30,10,10,10,40,40,40,20,20,20,10,10,10,30,30,30,5,5,5,10,10,10,40,40,40,30,30,30,5,5,5,30,30,30,40,40,40,20,20,20,5,5,5,40,40,40,40,40,40,10,10,10,5,5,5,10,10,10,10,10,10,40,40,40,20,20,20,30,30,30,5,5,5,5,5,5,30,30,30,40,40,40,30,30,30,10,10,10,40,40,40,30,30,30,20,20,20,20,20,20,10,10,10,20,20,20,20,20,20]},{\"label\":\"ganancia_mean\",\"values\":[57610000,57610000,57610000,57520000,57520000,57520000,57330000,57330000,57330000,56240000,56240000,56240000,56060000,56060000,56060000,56060000,56060000,56060000,55520000,55520000,55520000,55520000,55520000,55520000,55460000,55460000,55460000,55020000,55020000,55020000,54580000,54580000,54580000,54470000,54470000,54470000,54010000,54010000,54010000,52820000,52820000,52820000,52620000,52620000,52620000,51520000,51520000,51520000,51490000,51490000,51490000,51390000,51390000,51390000,51230000,51230000,51230000,50930000,50930000,50930000,50910000,50910000,50910000,50820000,50820000,50820000,50720000,50720000,50720000,50360000,50360000,50360000,50250000,50250000,50250000,50060000,50060000,50060000,49230000,49230000,49230000,49090000,49090000,49090000,48780000,48780000,48780000,47910000,47910000,47910000,47820000,47820000,47820000,47410000,47410000,47410000,47170000,47170000,47170000,46840000,46840000,46840000,46540000,46540000,46540000,46140000,46140000,46140000,46060000,46060000,46060000,45850000,45850000,45850000,45170000,45170000,45170000,45080000,45080000,45080000,45080000,45080000,45080000,44750000,44750000,44750000,44270000,44270000,44270000,44130000,44130000,44130000,43680000,43680000,43680000,43590000,43590000,43590000,42470000,42470000,42470000,41980000,41980000,41980000,41120000,41120000,41120000,40150000,40150000,40150000]}],\"line\":{\"color\":[57610000,57610000,57610000,57520000,57520000,57520000,57330000,57330000,57330000,56240000,56240000,56240000,56060000,56060000,56060000,56060000,56060000,56060000,55520000,55520000,55520000,55520000,55520000,55520000,55460000,55460000,55460000,55020000,55020000,55020000,54580000,54580000,54580000,54470000,54470000,54470000,54010000,54010000,54010000,52820000,52820000,52820000,52620000,52620000,52620000,51520000,51520000,51520000,51490000,51490000,51490000,51390000,51390000,51390000,51230000,51230000,51230000,50930000,50930000,50930000,50910000,50910000,50910000,50820000,50820000,50820000,50720000,50720000,50720000,50360000,50360000,50360000,50250000,50250000,50250000,50060000,50060000,50060000,49230000,49230000,49230000,49090000,49090000,49090000,48780000,48780000,48780000,47910000,47910000,47910000,47820000,47820000,47820000,47410000,47410000,47410000,47170000,47170000,47170000,46840000,46840000,46840000,46540000,46540000,46540000,46140000,46140000,46140000,46060000,46060000,46060000,45850000,45850000,45850000,45170000,45170000,45170000,45080000,45080000,45080000,45080000,45080000,45080000,44750000,44750000,44750000,44270000,44270000,44270000,44130000,44130000,44130000,43680000,43680000,43680000,43590000,43590000,43590000,42470000,42470000,42470000,41980000,41980000,41980000,41120000,41120000,41120000,40150000,40150000,40150000],\"colorscale\":[[0.0,\"#440154\"],[0.1111111111111111,\"#482878\"],[0.2222222222222222,\"#3e4989\"],[0.3333333333333333,\"#31688e\"],[0.4444444444444444,\"#26828e\"],[0.5555555555555556,\"#1f9e89\"],[0.6666666666666666,\"#35b779\"],[0.7777777777777778,\"#6ece58\"],[0.8888888888888888,\"#b5de2b\"],[1.0,\"#fde725\"]]},\"type\":\"parcoords\"}],                        {\"template\":{\"data\":{\"histogram2dcontour\":[{\"type\":\"histogram2dcontour\",\"colorbar\":{\"outlinewidth\":0,\"ticks\":\"\"},\"colorscale\":[[0.0,\"#0d0887\"],[0.1111111111111111,\"#46039f\"],[0.2222222222222222,\"#7201a8\"],[0.3333333333333333,\"#9c179e\"],[0.4444444444444444,\"#bd3786\"],[0.5555555555555556,\"#d8576b\"],[0.6666666666666666,\"#ed7953\"],[0.7777777777777778,\"#fb9f3a\"],[0.8888888888888888,\"#fdca26\"],[1.0,\"#f0f921\"]]}],\"choropleth\":[{\"type\":\"choropleth\",\"colorbar\":{\"outlinewidth\":0,\"ticks\":\"\"}}],\"histogram2d\":[{\"type\":\"histogram2d\",\"colorbar\":{\"outlinewidth\":0,\"ticks\":\"\"},\"colorscale\":[[0.0,\"#0d0887\"],[0.1111111111111111,\"#46039f\"],[0.2222222222222222,\"#7201a8\"],[0.3333333333333333,\"#9c179e\"],[0.4444444444444444,\"#bd3786\"],[0.5555555555555556,\"#d8576b\"],[0.6666666666666666,\"#ed7953\"],[0.7777777777777778,\"#fb9f3a\"],[0.8888888888888888,\"#fdca26\"],[1.0,\"#f0f921\"]]}],\"heatmap\":[{\"type\":\"heatmap\",\"colorbar\":{\"outlinewidth\":0,\"ticks\":\"\"},\"colorscale\":[[0.0,\"#0d0887\"],[0.1111111111111111,\"#46039f\"],[0.2222222222222222,\"#7201a8\"],[0.3333333333333333,\"#9c179e\"],[0.4444444444444444,\"#bd3786\"],[0.5555555555555556,\"#d8576b\"],[0.6666666666666666,\"#ed7953\"],[0.7777777777777778,\"#fb9f3a\"],[0.8888888888888888,\"#fdca26\"],[1.0,\"#f0f921\"]]}],\"heatmapgl\":[{\"type\":\"heatmapgl\",\"colorbar\":{\"outlinewidth\":0,\"ticks\":\"\"},\"colorscale\":[[0.0,\"#0d0887\"],[0.1111111111111111,\"#46039f\"],[0.2222222222222222,\"#7201a8\"],[0.3333333333333333,\"#9c179e\"],[0.4444444444444444,\"#bd3786\"],[0.5555555555555556,\"#d8576b\"],[0.6666666666666666,\"#ed7953\"],[0.7777777777777778,\"#fb9f3a\"],[0.8888888888888888,\"#fdca26\"],[1.0,\"#f0f921\"]]}],\"contourcarpet\":[{\"type\":\"contourcarpet\",\"colorbar\":{\"outlinewidth\":0,\"ticks\":\"\"}}],\"contour\":[{\"type\":\"contour\",\"colorbar\":{\"outlinewidth\":0,\"ticks\":\"\"},\"colorscale\":[[0.0,\"#0d0887\"],[0.1111111111111111,\"#46039f\"],[0.2222222222222222,\"#7201a8\"],[0.3333333333333333,\"#9c179e\"],[0.4444444444444444,\"#bd3786\"],[0.5555555555555556,\"#d8576b\"],[0.6666666666666666,\"#ed7953\"],[0.7777777777777778,\"#fb9f3a\"],[0.8888888888888888,\"#fdca26\"],[1.0,\"#f0f921\"]]}],\"surface\":[{\"type\":\"surface\",\"colorbar\":{\"outlinewidth\":0,\"ticks\":\"\"},\"colorscale\":[[0.0,\"#0d0887\"],[0.1111111111111111,\"#46039f\"],[0.2222222222222222,\"#7201a8\"],[0.3333333333333333,\"#9c179e\"],[0.4444444444444444,\"#bd3786\"],[0.5555555555555556,\"#d8576b\"],[0.6666666666666666,\"#ed7953\"],[0.7777777777777778,\"#fb9f3a\"],[0.8888888888888888,\"#fdca26\"],[1.0,\"#f0f921\"]]}],\"mesh3d\":[{\"type\":\"mesh3d\",\"colorbar\":{\"outlinewidth\":0,\"ticks\":\"\"}}],\"scatter\":[{\"fillpattern\":{\"fillmode\":\"overlay\",\"size\":10,\"solidity\":0.2},\"type\":\"scatter\"}],\"parcoords\":[{\"type\":\"parcoords\",\"line\":{\"colorbar\":{\"outlinewidth\":0,\"ticks\":\"\"}}}],\"scatterpolargl\":[{\"type\":\"scatterpolargl\",\"marker\":{\"colorbar\":{\"outlinewidth\":0,\"ticks\":\"\"}}}],\"bar\":[{\"error_x\":{\"color\":\"#2a3f5f\"},\"error_y\":{\"color\":\"#2a3f5f\"},\"marker\":{\"line\":{\"color\":\"#E5ECF6\",\"width\":0.5},\"pattern\":{\"fillmode\":\"overlay\",\"size\":10,\"solidity\":0.2}},\"type\":\"bar\"}],\"scattergeo\":[{\"type\":\"scattergeo\",\"marker\":{\"colorbar\":{\"outlinewidth\":0,\"ticks\":\"\"}}}],\"scatterpolar\":[{\"type\":\"scatterpolar\",\"marker\":{\"colorbar\":{\"outlinewidth\":0,\"ticks\":\"\"}}}],\"histogram\":[{\"marker\":{\"pattern\":{\"fillmode\":\"overlay\",\"size\":10,\"solidity\":0.2}},\"type\":\"histogram\"}],\"scattergl\":[{\"type\":\"scattergl\",\"marker\":{\"colorbar\":{\"outlinewidth\":0,\"ticks\":\"\"}}}],\"scatter3d\":[{\"type\":\"scatter3d\",\"line\":{\"colorbar\":{\"outlinewidth\":0,\"ticks\":\"\"}},\"marker\":{\"colorbar\":{\"outlinewidth\":0,\"ticks\":\"\"}}}],\"scattermapbox\":[{\"type\":\"scattermapbox\",\"marker\":{\"colorbar\":{\"outlinewidth\":0,\"ticks\":\"\"}}}],\"scatterternary\":[{\"type\":\"scatterternary\",\"marker\":{\"colorbar\":{\"outlinewidth\":0,\"ticks\":\"\"}}}],\"scattercarpet\":[{\"type\":\"scattercarpet\",\"marker\":{\"colorbar\":{\"outlinewidth\":0,\"ticks\":\"\"}}}],\"carpet\":[{\"aaxis\":{\"endlinecolor\":\"#2a3f5f\",\"gridcolor\":\"white\",\"linecolor\":\"white\",\"minorgridcolor\":\"white\",\"startlinecolor\":\"#2a3f5f\"},\"baxis\":{\"endlinecolor\":\"#2a3f5f\",\"gridcolor\":\"white\",\"linecolor\":\"white\",\"minorgridcolor\":\"white\",\"startlinecolor\":\"#2a3f5f\"},\"type\":\"carpet\"}],\"table\":[{\"cells\":{\"fill\":{\"color\":\"#EBF0F8\"},\"line\":{\"color\":\"white\"}},\"header\":{\"fill\":{\"color\":\"#C8D4E3\"},\"line\":{\"color\":\"white\"}},\"type\":\"table\"}],\"barpolar\":[{\"marker\":{\"line\":{\"color\":\"#E5ECF6\",\"width\":0.5},\"pattern\":{\"fillmode\":\"overlay\",\"size\":10,\"solidity\":0.2}},\"type\":\"barpolar\"}],\"pie\":[{\"automargin\":true,\"type\":\"pie\"}]},\"layout\":{\"autotypenumbers\":\"strict\",\"colorway\":[\"#636efa\",\"#EF553B\",\"#00cc96\",\"#ab63fa\",\"#FFA15A\",\"#19d3f3\",\"#FF6692\",\"#B6E880\",\"#FF97FF\",\"#FECB52\"],\"font\":{\"color\":\"#2a3f5f\"},\"hovermode\":\"closest\",\"hoverlabel\":{\"align\":\"left\"},\"paper_bgcolor\":\"white\",\"plot_bgcolor\":\"#E5ECF6\",\"polar\":{\"bgcolor\":\"#E5ECF6\",\"angularaxis\":{\"gridcolor\":\"white\",\"linecolor\":\"white\",\"ticks\":\"\"},\"radialaxis\":{\"gridcolor\":\"white\",\"linecolor\":\"white\",\"ticks\":\"\"}},\"ternary\":{\"bgcolor\":\"#E5ECF6\",\"aaxis\":{\"gridcolor\":\"white\",\"linecolor\":\"white\",\"ticks\":\"\"},\"baxis\":{\"gridcolor\":\"white\",\"linecolor\":\"white\",\"ticks\":\"\"},\"caxis\":{\"gridcolor\":\"white\",\"linecolor\":\"white\",\"ticks\":\"\"}},\"coloraxis\":{\"colorbar\":{\"outlinewidth\":0,\"ticks\":\"\"}},\"colorscale\":{\"sequential\":[[0.0,\"#0d0887\"],[0.1111111111111111,\"#46039f\"],[0.2222222222222222,\"#7201a8\"],[0.3333333333333333,\"#9c179e\"],[0.4444444444444444,\"#bd3786\"],[0.5555555555555556,\"#d8576b\"],[0.6666666666666666,\"#ed7953\"],[0.7777777777777778,\"#fb9f3a\"],[0.8888888888888888,\"#fdca26\"],[1.0,\"#f0f921\"]],\"sequentialminus\":[[0.0,\"#0d0887\"],[0.1111111111111111,\"#46039f\"],[0.2222222222222222,\"#7201a8\"],[0.3333333333333333,\"#9c179e\"],[0.4444444444444444,\"#bd3786\"],[0.5555555555555556,\"#d8576b\"],[0.6666666666666666,\"#ed7953\"],[0.7777777777777778,\"#fb9f3a\"],[0.8888888888888888,\"#fdca26\"],[1.0,\"#f0f921\"]],\"diverging\":[[0,\"#8e0152\"],[0.1,\"#c51b7d\"],[0.2,\"#de77ae\"],[0.3,\"#f1b6da\"],[0.4,\"#fde0ef\"],[0.5,\"#f7f7f7\"],[0.6,\"#e6f5d0\"],[0.7,\"#b8e186\"],[0.8,\"#7fbc41\"],[0.9,\"#4d9221\"],[1,\"#276419\"]]},\"xaxis\":{\"gridcolor\":\"white\",\"linecolor\":\"white\",\"ticks\":\"\",\"title\":{\"standoff\":15},\"zerolinecolor\":\"white\",\"automargin\":true,\"zerolinewidth\":2},\"yaxis\":{\"gridcolor\":\"white\",\"linecolor\":\"white\",\"ticks\":\"\",\"title\":{\"standoff\":15},\"zerolinecolor\":\"white\",\"automargin\":true,\"zerolinewidth\":2},\"scene\":{\"xaxis\":{\"backgroundcolor\":\"#E5ECF6\",\"gridcolor\":\"white\",\"linecolor\":\"white\",\"showbackground\":true,\"ticks\":\"\",\"zerolinecolor\":\"white\",\"gridwidth\":2},\"yaxis\":{\"backgroundcolor\":\"#E5ECF6\",\"gridcolor\":\"white\",\"linecolor\":\"white\",\"showbackground\":true,\"ticks\":\"\",\"zerolinecolor\":\"white\",\"gridwidth\":2},\"zaxis\":{\"backgroundcolor\":\"#E5ECF6\",\"gridcolor\":\"white\",\"linecolor\":\"white\",\"showbackground\":true,\"ticks\":\"\",\"zerolinecolor\":\"white\",\"gridwidth\":2}},\"shapedefaults\":{\"line\":{\"color\":\"#2a3f5f\"}},\"annotationdefaults\":{\"arrowcolor\":\"#2a3f5f\",\"arrowhead\":0,\"arrowwidth\":1},\"geo\":{\"bgcolor\":\"white\",\"landcolor\":\"#E5ECF6\",\"subunitcolor\":\"white\",\"showland\":true,\"showlakes\":true,\"lakecolor\":\"white\"},\"title\":{\"x\":0.05},\"mapbox\":{\"style\":\"light\"}}}},                        {\"responsive\": true}                    )                };                            </script>        </div>\n",
              "</div>\n",
              "\n",
              "<hr/>\n",
              "<p class=\"caption\">Generado automáticamente.</p>\n",
              "</body>\n",
              "</html>\n"
            ]
          },
          "metadata": {}
        },
        {
          "output_type": "display_data",
          "data": {
            "text/plain": [
              "<IPython.core.display.HTML object>"
            ],
            "text/html": [
              "<h3>Dashboard (IFrame desde /content):</h3>"
            ]
          },
          "metadata": {}
        },
        {
          "output_type": "display_data",
          "data": {
            "text/plain": [
              "<IPython.lib.display.IFrame at 0x7f295c30dac0>"
            ],
            "text/html": [
              "\n",
              "        <iframe\n",
              "            width=\"100%\"\n",
              "            height=\"640\"\n",
              "            src=\"/files/content/gridsearch_dashboard_interactivo.html\"\n",
              "            frameborder=\"0\"\n",
              "            allowfullscreen\n",
              "            \n",
              "        ></iframe>\n",
              "        "
            ]
          },
          "metadata": {}
        },
        {
          "output_type": "stream",
          "name": "stdout",
          "text": [
            "Archivos guardados en Drive:\n",
            "/content/drive/MyDrive/labo1/exp/HT2900/gridsearch_dashboard_interactivo.html\n",
            "/content/drive/MyDrive/labo1/exp/HT2900/gridsearch_3d_interactivo.html\n",
            "/content/drive/MyDrive/labo1/exp/HT2900/gridsearch_parcoords_interactivo.html\n"
          ]
        }
      ]
    },
    {
      "cell_type": "code",
      "source": [
        "# ==== DESCARGAR DASHBOARD Y GRÁFICOS HTML ====\n",
        "from google.colab import files\n",
        "\n",
        "# Rutas locales generadas en la celda anterior\n",
        "files.download(\"/content/gridsearch_dashboard_interactivo.html\")\n",
        "files.download(\"/content/gridsearch_3d_interactivo.html\")\n",
        "files.download(\"/content/gridsearch_parcoords_interactivo.html\")\n",
        "\n",
        "print(\"✅ Archivos descargados correctamente. También se guardaron en tu Drive dentro de /labo1/exp/HT2900/\")\n"
      ],
      "metadata": {
        "colab": {
          "base_uri": "https://localhost:8080/",
          "height": 34
        },
        "id": "mWrgKOymZBDK",
        "outputId": "e0ed614d-75e0-4576-eacb-df9a1e60f02b"
      },
      "execution_count": null,
      "outputs": [
        {
          "output_type": "display_data",
          "data": {
            "text/plain": [
              "<IPython.core.display.Javascript object>"
            ],
            "application/javascript": [
              "\n",
              "    async function download(id, filename, size) {\n",
              "      if (!google.colab.kernel.accessAllowed) {\n",
              "        return;\n",
              "      }\n",
              "      const div = document.createElement('div');\n",
              "      const label = document.createElement('label');\n",
              "      label.textContent = `Downloading \"${filename}\": `;\n",
              "      div.appendChild(label);\n",
              "      const progress = document.createElement('progress');\n",
              "      progress.max = size;\n",
              "      div.appendChild(progress);\n",
              "      document.body.appendChild(div);\n",
              "\n",
              "      const buffers = [];\n",
              "      let downloaded = 0;\n",
              "\n",
              "      const channel = await google.colab.kernel.comms.open(id);\n",
              "      // Send a message to notify the kernel that we're ready.\n",
              "      channel.send({})\n",
              "\n",
              "      for await (const message of channel.messages) {\n",
              "        // Send a message to notify the kernel that we're ready.\n",
              "        channel.send({})\n",
              "        if (message.buffers) {\n",
              "          for (const buffer of message.buffers) {\n",
              "            buffers.push(buffer);\n",
              "            downloaded += buffer.byteLength;\n",
              "            progress.value = downloaded;\n",
              "          }\n",
              "        }\n",
              "      }\n",
              "      const blob = new Blob(buffers, {type: 'application/binary'});\n",
              "      const a = document.createElement('a');\n",
              "      a.href = window.URL.createObjectURL(blob);\n",
              "      a.download = filename;\n",
              "      div.appendChild(a);\n",
              "      a.click();\n",
              "      div.remove();\n",
              "    }\n",
              "  "
            ]
          },
          "metadata": {}
        },
        {
          "output_type": "display_data",
          "data": {
            "text/plain": [
              "<IPython.core.display.Javascript object>"
            ],
            "application/javascript": [
              "download(\"download_f200d0ee-6107-4c09-b898-901ec1f97021\", \"gridsearch_dashboard_interactivo.html\", 47365)"
            ]
          },
          "metadata": {}
        },
        {
          "output_type": "display_data",
          "data": {
            "text/plain": [
              "<IPython.core.display.Javascript object>"
            ],
            "application/javascript": [
              "\n",
              "    async function download(id, filename, size) {\n",
              "      if (!google.colab.kernel.accessAllowed) {\n",
              "        return;\n",
              "      }\n",
              "      const div = document.createElement('div');\n",
              "      const label = document.createElement('label');\n",
              "      label.textContent = `Downloading \"${filename}\": `;\n",
              "      div.appendChild(label);\n",
              "      const progress = document.createElement('progress');\n",
              "      progress.max = size;\n",
              "      div.appendChild(progress);\n",
              "      document.body.appendChild(div);\n",
              "\n",
              "      const buffers = [];\n",
              "      let downloaded = 0;\n",
              "\n",
              "      const channel = await google.colab.kernel.comms.open(id);\n",
              "      // Send a message to notify the kernel that we're ready.\n",
              "      channel.send({})\n",
              "\n",
              "      for await (const message of channel.messages) {\n",
              "        // Send a message to notify the kernel that we're ready.\n",
              "        channel.send({})\n",
              "        if (message.buffers) {\n",
              "          for (const buffer of message.buffers) {\n",
              "            buffers.push(buffer);\n",
              "            downloaded += buffer.byteLength;\n",
              "            progress.value = downloaded;\n",
              "          }\n",
              "        }\n",
              "      }\n",
              "      const blob = new Blob(buffers, {type: 'application/binary'});\n",
              "      const a = document.createElement('a');\n",
              "      a.href = window.URL.createObjectURL(blob);\n",
              "      a.download = filename;\n",
              "      div.appendChild(a);\n",
              "      a.click();\n",
              "      div.remove();\n",
              "    }\n",
              "  "
            ]
          },
          "metadata": {}
        },
        {
          "output_type": "display_data",
          "data": {
            "text/plain": [
              "<IPython.core.display.Javascript object>"
            ],
            "application/javascript": [
              "download(\"download_f73d4583-443f-4881-87a9-9350f8c8449c\", \"gridsearch_3d_interactivo.html\", 24290)"
            ]
          },
          "metadata": {}
        },
        {
          "output_type": "display_data",
          "data": {
            "text/plain": [
              "<IPython.core.display.Javascript object>"
            ],
            "application/javascript": [
              "\n",
              "    async function download(id, filename, size) {\n",
              "      if (!google.colab.kernel.accessAllowed) {\n",
              "        return;\n",
              "      }\n",
              "      const div = document.createElement('div');\n",
              "      const label = document.createElement('label');\n",
              "      label.textContent = `Downloading \"${filename}\": `;\n",
              "      div.appendChild(label);\n",
              "      const progress = document.createElement('progress');\n",
              "      progress.max = size;\n",
              "      div.appendChild(progress);\n",
              "      document.body.appendChild(div);\n",
              "\n",
              "      const buffers = [];\n",
              "      let downloaded = 0;\n",
              "\n",
              "      const channel = await google.colab.kernel.comms.open(id);\n",
              "      // Send a message to notify the kernel that we're ready.\n",
              "      channel.send({})\n",
              "\n",
              "      for await (const message of channel.messages) {\n",
              "        // Send a message to notify the kernel that we're ready.\n",
              "        channel.send({})\n",
              "        if (message.buffers) {\n",
              "          for (const buffer of message.buffers) {\n",
              "            buffers.push(buffer);\n",
              "            downloaded += buffer.byteLength;\n",
              "            progress.value = downloaded;\n",
              "          }\n",
              "        }\n",
              "      }\n",
              "      const blob = new Blob(buffers, {type: 'application/binary'});\n",
              "      const a = document.createElement('a');\n",
              "      a.href = window.URL.createObjectURL(blob);\n",
              "      a.download = filename;\n",
              "      div.appendChild(a);\n",
              "      a.click();\n",
              "      div.remove();\n",
              "    }\n",
              "  "
            ]
          },
          "metadata": {}
        },
        {
          "output_type": "display_data",
          "data": {
            "text/plain": [
              "<IPython.core.display.Javascript object>"
            ],
            "application/javascript": [
              "download(\"download_6ab2a49f-dd2c-4291-94de-46257b632b03\", \"gridsearch_parcoords_interactivo.html\", 22847)"
            ]
          },
          "metadata": {}
        },
        {
          "output_type": "stream",
          "name": "stdout",
          "text": [
            "✅ Archivos descargados correctamente. También se guardaron en tu Drive dentro de /labo1/exp/HT2900/\n"
          ]
        }
      ]
    },
    {
      "cell_type": "code",
      "source": [
        "# ==== DASHBOARD GRID SEARCH (UNA SOLA CELDA, ESTRUCTURA MANTENIDA) ====\n",
        "# - Monta Google Drive\n",
        "# - Lee gridsearch.txt\n",
        "# - Genera fig3d (toggle por cp) y parcoords\n",
        "# - GUARDA los HTML en la MISMA carpeta que gridsearch.txt (Drive)\n",
        "# - Muestra inline e IFrame\n",
        "\n",
        "# =========================\n",
        "# 0) MONTAJE DE DRIVE + RUTAS\n",
        "# =========================\n",
        "import os, shutil\n",
        "from IPython.display import IFrame, HTML, display\n",
        "\n",
        "# Montaje (si ya está montado, no falla)\n",
        "try:\n",
        "    from google.colab import drive\n",
        "    drive.mount('/content/drive', force_remount=False)\n",
        "except Exception:\n",
        "    pass  # si no estás en Colab, continuar\n",
        "\n",
        "# --- Ruta del archivo de entrada (AJUSTÁ si está en otra ubicación) ---\n",
        "PATH_FILE = \"/content/drive/MyDrive/labo1/exp/HT2900/gridsearch.txt\"\n",
        "\n",
        "# Carpeta base = misma carpeta donde está gridsearch.txt\n",
        "BASE_DIR = os.path.dirname(PATH_FILE) if os.path.isfile(PATH_FILE) or PATH_FILE.endswith(\".txt\") else PATH_FILE\n",
        "if not BASE_DIR:\n",
        "    BASE_DIR = \"/content/drive/MyDrive\"\n",
        "\n",
        "# Carpetas de trabajo\n",
        "LOCAL_FOLDER  = \"/content\"\n",
        "OUTPUT_FOLDER = BASE_DIR  # <- MISMA carpeta que gridsearch.txt\n",
        "\n",
        "os.makedirs(LOCAL_FOLDER, exist_ok=True)\n",
        "os.makedirs(OUTPUT_FOLDER, exist_ok=True)\n",
        "\n",
        "# =========================\n",
        "# 1) IMPORTS\n",
        "# =========================\n",
        "import numpy as np\n",
        "import pandas as pd\n",
        "import plotly.graph_objs as go\n",
        "import plotly.io as pio\n",
        "\n",
        "# =========================\n",
        "# 2) LECTURA Y AGREGADOS\n",
        "# =========================\n",
        "df = pd.read_csv(PATH_FILE, sep=\"\\t\")\n",
        "\n",
        "# Aseguro numéricos\n",
        "for col in [\"cp\",\"maxdepth\",\"minsplit\",\"minbucket\",\"ganancia_mean\",\"qty\"]:\n",
        "    if col in df.columns:\n",
        "        df[col] = pd.to_numeric(df[col], errors=\"coerce\")\n",
        "\n",
        "# Agrego por combinación (promedia si hay varias corridas/semillas)\n",
        "agg = (\n",
        "    df.groupby([\"cp\",\"maxdepth\",\"minsplit\",\"minbucket\"], as_index=False)\n",
        "      .agg(ganancia_mean=(\"ganancia_mean\",\"mean\"),\n",
        "           ganancia_sd=(\"ganancia_mean\",\"std\"),\n",
        "           n_runs=(\"ganancia_mean\",\"size\"))\n",
        ")\n",
        "\n",
        "cp_levels    = sorted(agg[\"cp\"].dropna().unique().tolist())\n",
        "depth_levels = sorted(agg[\"maxdepth\"].dropna().unique().tolist())\n",
        "\n",
        "# =========================\n",
        "# 3) FIGURA 3D (fig3d) — TOGGLE POR cp\n",
        "# =========================\n",
        "traces = []\n",
        "for c in cp_levels:\n",
        "    sub = agg[agg[\"cp\"] == c]\n",
        "    for d in depth_levels:\n",
        "        sd = sub[sub[\"maxdepth\"] == d]\n",
        "        if sd.empty:\n",
        "            continue\n",
        "        traces.append(\n",
        "            go.Scatter3d(\n",
        "                x=sd[\"minsplit\"],\n",
        "                y=sd[\"maxdepth\"],\n",
        "                z=sd[\"ganancia_mean\"],\n",
        "                mode=\"markers\",\n",
        "                name=f\"cp={c} | depth={d}\",\n",
        "                text=[f\"minbucket={mb}\" for mb in sd[\"minbucket\"]],\n",
        "                hovertemplate=(\n",
        "                    \"cp=%{customdata[0]}<br>\"\n",
        "                    \"depth=%{y}<br>\"\n",
        "                    \"minsplit=%{x}<br>\"\n",
        "                    \"%{text}<br>\"\n",
        "                    \"ganancia=%{z:,.0f}<extra></extra>\"\n",
        "                ),\n",
        "                customdata=np.column_stack([sd[\"cp\"]]),\n",
        "                marker=dict(size=5, opacity=0.9)\n",
        "            )\n",
        "        )\n",
        "\n",
        "fig3d = go.Figure(data=traces)\n",
        "\n",
        "# Visibilidad inicial (primer cp)\n",
        "n_depth = max(1, len(depth_levels))\n",
        "n_total = len(fig3d.data)\n",
        "visible_init = [False]*n_total\n",
        "if n_total > 0:\n",
        "    visible_init[0:min(n_depth, n_total)] = [True]*min(n_depth, n_total)\n",
        "\n",
        "# Dropdown (uno por cp)\n",
        "buttons = []\n",
        "for i, c in enumerate(cp_levels):\n",
        "    vis = [False]*n_total\n",
        "    start = i*n_depth\n",
        "    end   = min(start+n_depth, n_total)\n",
        "    for k in range(start, end):\n",
        "        vis[k] = True\n",
        "    buttons.append(dict(\n",
        "        label=str(c),\n",
        "        method=\"update\",\n",
        "        args=[{\"visible\": vis},\n",
        "              {\"title\": f\"Grid Search — 3D interactivo (toggle por cp y depth) — cp={c}\"}]\n",
        "    ))\n",
        "\n",
        "fig3d.update_layout(\n",
        "    title=\"Grid Search — 3D interactivo (toggle por cp y depth)\",\n",
        "    scene=dict(\n",
        "        xaxis_title=\"minsplit\",\n",
        "        yaxis_title=\"depth\",\n",
        "        zaxis_title=\"ganancia_mean\"\n",
        "    ),\n",
        "    legend=dict(itemsizing=\"trace\", orientation=\"v\"),\n",
        "    updatemenus=[dict(\n",
        "        type=\"dropdown\",\n",
        "        x=0.08, y=1.12,\n",
        "        xanchor=\"left\", yanchor=\"top\",\n",
        "        showactive=True,\n",
        "        direction=\"down\",\n",
        "        buttons=buttons\n",
        "    )]\n",
        ")\n",
        "for i, vis in enumerate(visible_init):\n",
        "    fig3d.data[i].visible = vis\n",
        "\n",
        "# =========================\n",
        "# 4) PARALLEL COORDINATES (parcoords)\n",
        "# =========================\n",
        "par_dims = [\n",
        "    dict(label=\"cp\",        values=agg[\"cp\"]),\n",
        "    dict(label=\"depth\",     values=agg[\"maxdepth\"]),\n",
        "    dict(label=\"minsplit\",  values=agg[\"minsplit\"]),\n",
        "    dict(label=\"minbucket\", values=agg[\"minbucket\"]),\n",
        "    dict(label=\"ganancia\",  values=agg[\"ganancia_mean\"])\n",
        "]\n",
        "\n",
        "parcoords = go.Figure(\n",
        "    data=[go.Parcoords(\n",
        "        line=dict(\n",
        "            color=agg[\"ganancia_mean\"],\n",
        "            colorscale=\"Viridis\",\n",
        "            showscale=True,\n",
        "            cmin=float(agg[\"ganancia_mean\"].min()),\n",
        "            cmax=float(agg[\"ganancia_mean\"].max())\n",
        "        ),\n",
        "        dimensions=par_dims\n",
        "    )]\n",
        ")\n",
        "parcoords.update_layout(title=\"Grid Search — Parallel Coordinates\")\n",
        "\n",
        "# =========================\n",
        "# 5) HTML INTEGRADO + GUARDADO (MISMA CARPETA QUE gridsearch.txt)\n",
        "# =========================\n",
        "html3d   = pio.to_html(fig3d,    include_plotlyjs=False, full_html=False)\n",
        "htmlpara = pio.to_html(parcoords,include_plotlyjs=False, full_html=False)\n",
        "\n",
        "html_page = f\"\"\"\n",
        "<!DOCTYPE html>\n",
        "<html lang='es'>\n",
        "<head>\n",
        "<meta charset='utf-8'>\n",
        "<title>Dashboard Grid Search</title>\n",
        "<script src='https://cdn.plot.ly/plotly-latest.min.js'></script>\n",
        "<style>\n",
        "  body {{ font-family: Arial, sans-serif; margin: 20px; }}\n",
        "  h1 {{ margin-bottom: 0; }}\n",
        "  .caption {{ color:#555; margin-bottom: 20px; }}\n",
        "  .section {{ margin-top: 26px; }}\n",
        "</style>\n",
        "</head>\n",
        "<body>\n",
        "<h1>Dashboard — Grid Search (Árbol de decisión)</h1>\n",
        "<p class=\"caption\">Menú del 3D para filtrar por <b>cp</b>. En Parallel Coordinates arrastrá en los ejes para filtrar rangos.</p>\n",
        "\n",
        "<div class=\"section\">\n",
        "  <h2>3D interactivo</h2>\n",
        "  {html3d}\n",
        "</div>\n",
        "\n",
        "<div class=\"section\">\n",
        "  <h2>Parallel Coordinates</h2>\n",
        "  {htmlpara}\n",
        "</div>\n",
        "\n",
        "<hr/>\n",
        "<p class=\"caption\">Generado automáticamente.</p>\n",
        "</body>\n",
        "</html>\n",
        "\"\"\"\n",
        "\n",
        "# Guardados locales\n",
        "LOCAL_DASH = os.path.join(LOCAL_FOLDER,  \"gridsearch_dashboard_interactivo.html\")\n",
        "LOCAL_3D   = os.path.join(LOCAL_FOLDER,  \"gridsearch_3d_interactivo.html\")\n",
        "LOCAL_PAR  = os.path.join(LOCAL_FOLDER,  \"gridsearch_parcoords_interactivo.html\")\n",
        "\n",
        "with open(LOCAL_DASH, \"w\", encoding=\"utf-8\") as f:\n",
        "    f.write(html_page)\n",
        "\n",
        "pio.write_html(fig3d,     file=LOCAL_3D,  include_plotlyjs=\"cdn\", full_html=True)\n",
        "pio.write_html(parcoords, file=LOCAL_PAR, include_plotlyjs=\"cdn\", full_html=True)\n",
        "\n",
        "# Copias a la MISMA carpeta que gridsearch.txt (Drive)\n",
        "shutil.copy2(LOCAL_DASH, os.path.join(OUTPUT_FOLDER, \"gridsearch_dashboard_interactivo.html\"))\n",
        "shutil.copy2(LOCAL_3D,   os.path.join(OUTPUT_FOLDER, \"gridsearch_3d_interactivo.html\"))\n",
        "shutil.copy2(LOCAL_PAR,  os.path.join(OUTPUT_FOLDER, \"gridsearch_parcoords_interactivo.html\"))\n",
        "\n",
        "# =========================\n",
        "# 6) MOSTRAR INLINE + IFRAME\n",
        "# =========================\n",
        "display(HTML(\"<h3>Dashboard generado correctamente (inline):</h3>\"))\n",
        "display(HTML(html_page))\n",
        "display(HTML(\"<h3>Dashboard (IFrame desde /content):</h3>\"))\n",
        "display(IFrame(src=\"/files/gridsearch_dashboard_interactivo.html\", width=\"100%\", height=\"680\"))\n"
      ],
      "metadata": {
        "id": "SmKEp-E6gLwn",
        "outputId": "cb6208ab-48fc-44ea-bcd0-4ca56949500c",
        "colab": {
          "base_uri": "https://localhost:8080/",
          "height": 1000
        }
      },
      "execution_count": 19,
      "outputs": [
        {
          "output_type": "stream",
          "name": "stdout",
          "text": [
            "Drive already mounted at /content/drive; to attempt to forcibly remount, call drive.mount(\"/content/drive\", force_remount=True).\n"
          ]
        },
        {
          "output_type": "display_data",
          "data": {
            "text/plain": [
              "<IPython.core.display.HTML object>"
            ],
            "text/html": [
              "<h3>Dashboard generado correctamente (inline):</h3>"
            ]
          },
          "metadata": {}
        },
        {
          "output_type": "display_data",
          "data": {
            "text/plain": [
              "<IPython.core.display.HTML object>"
            ],
            "text/html": [
              "\n",
              "<!DOCTYPE html>\n",
              "<html lang='es'>\n",
              "<head>\n",
              "<meta charset='utf-8'>\n",
              "<title>Dashboard Grid Search</title>\n",
              "<script src='https://cdn.plot.ly/plotly-latest.min.js'></script>\n",
              "<style>\n",
              "  body { font-family: Arial, sans-serif; margin: 20px; }\n",
              "  h1 { margin-bottom: 0; }\n",
              "  .caption { color:#555; margin-bottom: 20px; }\n",
              "  .section { margin-top: 26px; }\n",
              "</style>\n",
              "</head>\n",
              "<body>\n",
              "<h1>Dashboard — Grid Search (Árbol de decisión)</h1>\n",
              "<p class=\"caption\">Menú del 3D para filtrar por <b>cp</b>. En Parallel Coordinates arrastrá en los ejes para filtrar rangos.</p>\n",
              "\n",
              "<div class=\"section\">\n",
              "  <h2>3D interactivo</h2>\n",
              "  <div>                            <div id=\"15a879fc-769e-4423-a9e4-3b92669b9163\" class=\"plotly-graph-div\" style=\"height:100%; width:100%;\"></div>            <script type=\"text/javascript\">                                    window.PLOTLYENV=window.PLOTLYENV || {};                                    if (document.getElementById(\"15a879fc-769e-4423-a9e4-3b92669b9163\")) {                    Plotly.newPlot(                        \"15a879fc-769e-4423-a9e4-3b92669b9163\",                        [{\"customdata\":[[-0.1],[-0.1],[-0.1],[-0.1],[-0.1],[-0.1],[-0.1],[-0.1],[-0.1],[-0.1]],\"hovertemplate\":\"cp=%{customdata[0]}\\u003cbr\\u003edepth=%{y}\\u003cbr\\u003eminsplit=%{x}\\u003cbr\\u003e%{text}\\u003cbr\\u003eganancia=%{z:,.0f}\\u003cextra\\u003e\\u003c\\u002fextra\\u003e\",\"marker\":{\"opacity\":0.9,\"size\":5},\"mode\":\"markers\",\"name\":\"cp=-0.1 | depth=6\",\"text\":[\"minbucket=5\",\"minbucket=10\",\"minbucket=20\",\"minbucket=30\",\"minbucket=40\",\"minbucket=5\",\"minbucket=10\",\"minbucket=20\",\"minbucket=30\",\"minbucket=40\"],\"x\":[100,100,100,100,100,200,200,200,200,200],\"y\":[6,6,6,6,6,6,6,6,6,6],\"z\":[55520000.0,56060000.0,57610000.0,55460000.0,54470000.0,55520000.0,56060000.0,57520000.0,57330000.0,56240000.0],\"type\":\"scatter3d\",\"visible\":true},{\"customdata\":[[-0.1],[-0.1],[-0.1],[-0.1],[-0.1],[-0.1],[-0.1],[-0.1],[-0.1],[-0.1]],\"hovertemplate\":\"cp=%{customdata[0]}\\u003cbr\\u003edepth=%{y}\\u003cbr\\u003eminsplit=%{x}\\u003cbr\\u003e%{text}\\u003cbr\\u003eganancia=%{z:,.0f}\\u003cextra\\u003e\\u003c\\u002fextra\\u003e\",\"marker\":{\"opacity\":0.9,\"size\":5},\"mode\":\"markers\",\"name\":\"cp=-0.1 | depth=8\",\"text\":[\"minbucket=5\",\"minbucket=10\",\"minbucket=20\",\"minbucket=30\",\"minbucket=40\",\"minbucket=5\",\"minbucket=10\",\"minbucket=20\",\"minbucket=30\",\"minbucket=40\"],\"x\":[100,100,100,100,100,200,200,200,200,200],\"y\":[8,8,8,8,8,8,8,8,8,8],\"z\":[55020000.0,51390000.0,51490000.0,51230000.0,50060000.0,54580000.0,52620000.0,54010000.0,52820000.0,51520000.0],\"type\":\"scatter3d\",\"visible\":true},{\"customdata\":[[-0.1],[-0.1],[-0.1],[-0.1],[-0.1],[-0.1],[-0.1],[-0.1],[-0.1],[-0.1]],\"hovertemplate\":\"cp=%{customdata[0]}\\u003cbr\\u003edepth=%{y}\\u003cbr\\u003eminsplit=%{x}\\u003cbr\\u003e%{text}\\u003cbr\\u003eganancia=%{z:,.0f}\\u003cextra\\u003e\\u003c\\u002fextra\\u003e\",\"marker\":{\"opacity\":0.9,\"size\":5},\"mode\":\"markers\",\"name\":\"cp=-0.1 | depth=10\",\"text\":[\"minbucket=5\",\"minbucket=10\",\"minbucket=20\",\"minbucket=30\",\"minbucket=40\",\"minbucket=5\",\"minbucket=10\",\"minbucket=20\",\"minbucket=30\",\"minbucket=40\"],\"x\":[100,100,100,100,100,200,200,200,200,200],\"y\":[10,10,10,10,10,10,10,10,10,10],\"z\":[47410000.0,41980000.0,46140000.0,50250000.0,48780000.0,50930000.0,46840000.0,49230000.0,50720000.0,50820000.0],\"type\":\"scatter3d\",\"visible\":true},{\"customdata\":[[-0.1],[-0.1],[-0.1],[-0.1],[-0.1],[-0.1],[-0.1],[-0.1],[-0.1],[-0.1]],\"hovertemplate\":\"cp=%{customdata[0]}\\u003cbr\\u003edepth=%{y}\\u003cbr\\u003eminsplit=%{x}\\u003cbr\\u003e%{text}\\u003cbr\\u003eganancia=%{z:,.0f}\\u003cextra\\u003e\\u003c\\u002fextra\\u003e\",\"marker\":{\"opacity\":0.9,\"size\":5},\"mode\":\"markers\",\"name\":\"cp=-0.1 | depth=12\",\"text\":[\"minbucket=5\",\"minbucket=10\",\"minbucket=20\",\"minbucket=30\",\"minbucket=40\",\"minbucket=5\",\"minbucket=10\",\"minbucket=20\",\"minbucket=30\",\"minbucket=40\"],\"x\":[100,100,100,100,100,200,200,200,200,200],\"y\":[12,12,12,12,12,12,12,12,12,12],\"z\":[45850000.0,47170000.0,41120000.0,46060000.0,46540000.0,49090000.0,50910000.0,43590000.0,45080000.0,47910000.0],\"type\":\"scatter3d\",\"visible\":true},{\"customdata\":[[-0.1],[-0.1],[-0.1],[-0.1],[-0.1],[-0.1],[-0.1],[-0.1],[-0.1],[-0.1]],\"hovertemplate\":\"cp=%{customdata[0]}\\u003cbr\\u003edepth=%{y}\\u003cbr\\u003eminsplit=%{x}\\u003cbr\\u003e%{text}\\u003cbr\\u003eganancia=%{z:,.0f}\\u003cextra\\u003e\\u003c\\u002fextra\\u003e\",\"marker\":{\"opacity\":0.9,\"size\":5},\"mode\":\"markers\",\"name\":\"cp=-0.1 | depth=14\",\"text\":[\"minbucket=5\",\"minbucket=10\",\"minbucket=20\",\"minbucket=30\",\"minbucket=40\",\"minbucket=5\",\"minbucket=10\",\"minbucket=20\",\"minbucket=30\",\"minbucket=40\"],\"x\":[100,100,100,100,100,200,200,200,200,200],\"y\":[14,14,14,14,14,14,14,14,14,14],\"z\":[45170000.0,44270000.0,40150000.0,44750000.0,44130000.0,50360000.0,47820000.0,42470000.0,43680000.0,45080000.0],\"type\":\"scatter3d\",\"visible\":true},{\"customdata\":[[-0.05],[-0.05],[-0.05],[-0.05],[-0.05],[-0.05],[-0.05],[-0.05],[-0.05],[-0.05]],\"hovertemplate\":\"cp=%{customdata[0]}\\u003cbr\\u003edepth=%{y}\\u003cbr\\u003eminsplit=%{x}\\u003cbr\\u003e%{text}\\u003cbr\\u003eganancia=%{z:,.0f}\\u003cextra\\u003e\\u003c\\u002fextra\\u003e\",\"marker\":{\"opacity\":0.9,\"size\":5},\"mode\":\"markers\",\"name\":\"cp=-0.05 | depth=6\",\"text\":[\"minbucket=5\",\"minbucket=10\",\"minbucket=20\",\"minbucket=30\",\"minbucket=40\",\"minbucket=5\",\"minbucket=10\",\"minbucket=20\",\"minbucket=30\",\"minbucket=40\"],\"x\":[100,100,100,100,100,200,200,200,200,200],\"y\":[6,6,6,6,6,6,6,6,6,6],\"z\":[55520000.0,56060000.0,57610000.0,55460000.0,54470000.0,55520000.0,56060000.0,57520000.0,57330000.0,56240000.0],\"type\":\"scatter3d\",\"visible\":false},{\"customdata\":[[-0.05],[-0.05],[-0.05],[-0.05],[-0.05],[-0.05],[-0.05],[-0.05],[-0.05],[-0.05]],\"hovertemplate\":\"cp=%{customdata[0]}\\u003cbr\\u003edepth=%{y}\\u003cbr\\u003eminsplit=%{x}\\u003cbr\\u003e%{text}\\u003cbr\\u003eganancia=%{z:,.0f}\\u003cextra\\u003e\\u003c\\u002fextra\\u003e\",\"marker\":{\"opacity\":0.9,\"size\":5},\"mode\":\"markers\",\"name\":\"cp=-0.05 | depth=8\",\"text\":[\"minbucket=5\",\"minbucket=10\",\"minbucket=20\",\"minbucket=30\",\"minbucket=40\",\"minbucket=5\",\"minbucket=10\",\"minbucket=20\",\"minbucket=30\",\"minbucket=40\"],\"x\":[100,100,100,100,100,200,200,200,200,200],\"y\":[8,8,8,8,8,8,8,8,8,8],\"z\":[55020000.0,51390000.0,51490000.0,51230000.0,50060000.0,54580000.0,52620000.0,54010000.0,52820000.0,51520000.0],\"type\":\"scatter3d\",\"visible\":false},{\"customdata\":[[-0.05],[-0.05],[-0.05],[-0.05],[-0.05],[-0.05],[-0.05],[-0.05],[-0.05],[-0.05]],\"hovertemplate\":\"cp=%{customdata[0]}\\u003cbr\\u003edepth=%{y}\\u003cbr\\u003eminsplit=%{x}\\u003cbr\\u003e%{text}\\u003cbr\\u003eganancia=%{z:,.0f}\\u003cextra\\u003e\\u003c\\u002fextra\\u003e\",\"marker\":{\"opacity\":0.9,\"size\":5},\"mode\":\"markers\",\"name\":\"cp=-0.05 | depth=10\",\"text\":[\"minbucket=5\",\"minbucket=10\",\"minbucket=20\",\"minbucket=30\",\"minbucket=40\",\"minbucket=5\",\"minbucket=10\",\"minbucket=20\",\"minbucket=30\",\"minbucket=40\"],\"x\":[100,100,100,100,100,200,200,200,200,200],\"y\":[10,10,10,10,10,10,10,10,10,10],\"z\":[47410000.0,41980000.0,46140000.0,50250000.0,48780000.0,50930000.0,46840000.0,49230000.0,50720000.0,50820000.0],\"type\":\"scatter3d\",\"visible\":false},{\"customdata\":[[-0.05],[-0.05],[-0.05],[-0.05],[-0.05],[-0.05],[-0.05],[-0.05],[-0.05],[-0.05]],\"hovertemplate\":\"cp=%{customdata[0]}\\u003cbr\\u003edepth=%{y}\\u003cbr\\u003eminsplit=%{x}\\u003cbr\\u003e%{text}\\u003cbr\\u003eganancia=%{z:,.0f}\\u003cextra\\u003e\\u003c\\u002fextra\\u003e\",\"marker\":{\"opacity\":0.9,\"size\":5},\"mode\":\"markers\",\"name\":\"cp=-0.05 | depth=12\",\"text\":[\"minbucket=5\",\"minbucket=10\",\"minbucket=20\",\"minbucket=30\",\"minbucket=40\",\"minbucket=5\",\"minbucket=10\",\"minbucket=20\",\"minbucket=30\",\"minbucket=40\"],\"x\":[100,100,100,100,100,200,200,200,200,200],\"y\":[12,12,12,12,12,12,12,12,12,12],\"z\":[45850000.0,47170000.0,41120000.0,46060000.0,46540000.0,49090000.0,50910000.0,43590000.0,45080000.0,47910000.0],\"type\":\"scatter3d\",\"visible\":false},{\"customdata\":[[-0.05],[-0.05],[-0.05],[-0.05],[-0.05],[-0.05],[-0.05],[-0.05],[-0.05],[-0.05]],\"hovertemplate\":\"cp=%{customdata[0]}\\u003cbr\\u003edepth=%{y}\\u003cbr\\u003eminsplit=%{x}\\u003cbr\\u003e%{text}\\u003cbr\\u003eganancia=%{z:,.0f}\\u003cextra\\u003e\\u003c\\u002fextra\\u003e\",\"marker\":{\"opacity\":0.9,\"size\":5},\"mode\":\"markers\",\"name\":\"cp=-0.05 | depth=14\",\"text\":[\"minbucket=5\",\"minbucket=10\",\"minbucket=20\",\"minbucket=30\",\"minbucket=40\",\"minbucket=5\",\"minbucket=10\",\"minbucket=20\",\"minbucket=30\",\"minbucket=40\"],\"x\":[100,100,100,100,100,200,200,200,200,200],\"y\":[14,14,14,14,14,14,14,14,14,14],\"z\":[45170000.0,44270000.0,40150000.0,44750000.0,44130000.0,50360000.0,47820000.0,42470000.0,43680000.0,45080000.0],\"type\":\"scatter3d\",\"visible\":false},{\"customdata\":[[-0.01],[-0.01],[-0.01],[-0.01],[-0.01],[-0.01],[-0.01],[-0.01],[-0.01],[-0.01]],\"hovertemplate\":\"cp=%{customdata[0]}\\u003cbr\\u003edepth=%{y}\\u003cbr\\u003eminsplit=%{x}\\u003cbr\\u003e%{text}\\u003cbr\\u003eganancia=%{z:,.0f}\\u003cextra\\u003e\\u003c\\u002fextra\\u003e\",\"marker\":{\"opacity\":0.9,\"size\":5},\"mode\":\"markers\",\"name\":\"cp=-0.01 | depth=6\",\"text\":[\"minbucket=5\",\"minbucket=10\",\"minbucket=20\",\"minbucket=30\",\"minbucket=40\",\"minbucket=5\",\"minbucket=10\",\"minbucket=20\",\"minbucket=30\",\"minbucket=40\"],\"x\":[100,100,100,100,100,200,200,200,200,200],\"y\":[6,6,6,6,6,6,6,6,6,6],\"z\":[55520000.0,56060000.0,57610000.0,55460000.0,54470000.0,55520000.0,56060000.0,57520000.0,57330000.0,56240000.0],\"type\":\"scatter3d\",\"visible\":false},{\"customdata\":[[-0.01],[-0.01],[-0.01],[-0.01],[-0.01],[-0.01],[-0.01],[-0.01],[-0.01],[-0.01]],\"hovertemplate\":\"cp=%{customdata[0]}\\u003cbr\\u003edepth=%{y}\\u003cbr\\u003eminsplit=%{x}\\u003cbr\\u003e%{text}\\u003cbr\\u003eganancia=%{z:,.0f}\\u003cextra\\u003e\\u003c\\u002fextra\\u003e\",\"marker\":{\"opacity\":0.9,\"size\":5},\"mode\":\"markers\",\"name\":\"cp=-0.01 | depth=8\",\"text\":[\"minbucket=5\",\"minbucket=10\",\"minbucket=20\",\"minbucket=30\",\"minbucket=40\",\"minbucket=5\",\"minbucket=10\",\"minbucket=20\",\"minbucket=30\",\"minbucket=40\"],\"x\":[100,100,100,100,100,200,200,200,200,200],\"y\":[8,8,8,8,8,8,8,8,8,8],\"z\":[55020000.0,51390000.0,51490000.0,51230000.0,50060000.0,54580000.0,52620000.0,54010000.0,52820000.0,51520000.0],\"type\":\"scatter3d\",\"visible\":false},{\"customdata\":[[-0.01],[-0.01],[-0.01],[-0.01],[-0.01],[-0.01],[-0.01],[-0.01],[-0.01],[-0.01]],\"hovertemplate\":\"cp=%{customdata[0]}\\u003cbr\\u003edepth=%{y}\\u003cbr\\u003eminsplit=%{x}\\u003cbr\\u003e%{text}\\u003cbr\\u003eganancia=%{z:,.0f}\\u003cextra\\u003e\\u003c\\u002fextra\\u003e\",\"marker\":{\"opacity\":0.9,\"size\":5},\"mode\":\"markers\",\"name\":\"cp=-0.01 | depth=10\",\"text\":[\"minbucket=5\",\"minbucket=10\",\"minbucket=20\",\"minbucket=30\",\"minbucket=40\",\"minbucket=5\",\"minbucket=10\",\"minbucket=20\",\"minbucket=30\",\"minbucket=40\"],\"x\":[100,100,100,100,100,200,200,200,200,200],\"y\":[10,10,10,10,10,10,10,10,10,10],\"z\":[47410000.0,41980000.0,46140000.0,50250000.0,48780000.0,50930000.0,46840000.0,49230000.0,50720000.0,50820000.0],\"type\":\"scatter3d\",\"visible\":false},{\"customdata\":[[-0.01],[-0.01],[-0.01],[-0.01],[-0.01],[-0.01],[-0.01],[-0.01],[-0.01],[-0.01]],\"hovertemplate\":\"cp=%{customdata[0]}\\u003cbr\\u003edepth=%{y}\\u003cbr\\u003eminsplit=%{x}\\u003cbr\\u003e%{text}\\u003cbr\\u003eganancia=%{z:,.0f}\\u003cextra\\u003e\\u003c\\u002fextra\\u003e\",\"marker\":{\"opacity\":0.9,\"size\":5},\"mode\":\"markers\",\"name\":\"cp=-0.01 | depth=12\",\"text\":[\"minbucket=5\",\"minbucket=10\",\"minbucket=20\",\"minbucket=30\",\"minbucket=40\",\"minbucket=5\",\"minbucket=10\",\"minbucket=20\",\"minbucket=30\",\"minbucket=40\"],\"x\":[100,100,100,100,100,200,200,200,200,200],\"y\":[12,12,12,12,12,12,12,12,12,12],\"z\":[45850000.0,47170000.0,41120000.0,46060000.0,46540000.0,49090000.0,50910000.0,43590000.0,45080000.0,47910000.0],\"type\":\"scatter3d\",\"visible\":false},{\"customdata\":[[-0.01],[-0.01],[-0.01],[-0.01],[-0.01],[-0.01],[-0.01],[-0.01],[-0.01],[-0.01]],\"hovertemplate\":\"cp=%{customdata[0]}\\u003cbr\\u003edepth=%{y}\\u003cbr\\u003eminsplit=%{x}\\u003cbr\\u003e%{text}\\u003cbr\\u003eganancia=%{z:,.0f}\\u003cextra\\u003e\\u003c\\u002fextra\\u003e\",\"marker\":{\"opacity\":0.9,\"size\":5},\"mode\":\"markers\",\"name\":\"cp=-0.01 | depth=14\",\"text\":[\"minbucket=5\",\"minbucket=10\",\"minbucket=20\",\"minbucket=30\",\"minbucket=40\",\"minbucket=5\",\"minbucket=10\",\"minbucket=20\",\"minbucket=30\",\"minbucket=40\"],\"x\":[100,100,100,100,100,200,200,200,200,200],\"y\":[14,14,14,14,14,14,14,14,14,14],\"z\":[45170000.0,44270000.0,40150000.0,44750000.0,44130000.0,50360000.0,47820000.0,42470000.0,43680000.0,45080000.0],\"type\":\"scatter3d\",\"visible\":false}],                        {\"template\":{\"data\":{\"histogram2dcontour\":[{\"type\":\"histogram2dcontour\",\"colorbar\":{\"outlinewidth\":0,\"ticks\":\"\"},\"colorscale\":[[0.0,\"#0d0887\"],[0.1111111111111111,\"#46039f\"],[0.2222222222222222,\"#7201a8\"],[0.3333333333333333,\"#9c179e\"],[0.4444444444444444,\"#bd3786\"],[0.5555555555555556,\"#d8576b\"],[0.6666666666666666,\"#ed7953\"],[0.7777777777777778,\"#fb9f3a\"],[0.8888888888888888,\"#fdca26\"],[1.0,\"#f0f921\"]]}],\"choropleth\":[{\"type\":\"choropleth\",\"colorbar\":{\"outlinewidth\":0,\"ticks\":\"\"}}],\"histogram2d\":[{\"type\":\"histogram2d\",\"colorbar\":{\"outlinewidth\":0,\"ticks\":\"\"},\"colorscale\":[[0.0,\"#0d0887\"],[0.1111111111111111,\"#46039f\"],[0.2222222222222222,\"#7201a8\"],[0.3333333333333333,\"#9c179e\"],[0.4444444444444444,\"#bd3786\"],[0.5555555555555556,\"#d8576b\"],[0.6666666666666666,\"#ed7953\"],[0.7777777777777778,\"#fb9f3a\"],[0.8888888888888888,\"#fdca26\"],[1.0,\"#f0f921\"]]}],\"heatmap\":[{\"type\":\"heatmap\",\"colorbar\":{\"outlinewidth\":0,\"ticks\":\"\"},\"colorscale\":[[0.0,\"#0d0887\"],[0.1111111111111111,\"#46039f\"],[0.2222222222222222,\"#7201a8\"],[0.3333333333333333,\"#9c179e\"],[0.4444444444444444,\"#bd3786\"],[0.5555555555555556,\"#d8576b\"],[0.6666666666666666,\"#ed7953\"],[0.7777777777777778,\"#fb9f3a\"],[0.8888888888888888,\"#fdca26\"],[1.0,\"#f0f921\"]]}],\"heatmapgl\":[{\"type\":\"heatmapgl\",\"colorbar\":{\"outlinewidth\":0,\"ticks\":\"\"},\"colorscale\":[[0.0,\"#0d0887\"],[0.1111111111111111,\"#46039f\"],[0.2222222222222222,\"#7201a8\"],[0.3333333333333333,\"#9c179e\"],[0.4444444444444444,\"#bd3786\"],[0.5555555555555556,\"#d8576b\"],[0.6666666666666666,\"#ed7953\"],[0.7777777777777778,\"#fb9f3a\"],[0.8888888888888888,\"#fdca26\"],[1.0,\"#f0f921\"]]}],\"contourcarpet\":[{\"type\":\"contourcarpet\",\"colorbar\":{\"outlinewidth\":0,\"ticks\":\"\"}}],\"contour\":[{\"type\":\"contour\",\"colorbar\":{\"outlinewidth\":0,\"ticks\":\"\"},\"colorscale\":[[0.0,\"#0d0887\"],[0.1111111111111111,\"#46039f\"],[0.2222222222222222,\"#7201a8\"],[0.3333333333333333,\"#9c179e\"],[0.4444444444444444,\"#bd3786\"],[0.5555555555555556,\"#d8576b\"],[0.6666666666666666,\"#ed7953\"],[0.7777777777777778,\"#fb9f3a\"],[0.8888888888888888,\"#fdca26\"],[1.0,\"#f0f921\"]]}],\"surface\":[{\"type\":\"surface\",\"colorbar\":{\"outlinewidth\":0,\"ticks\":\"\"},\"colorscale\":[[0.0,\"#0d0887\"],[0.1111111111111111,\"#46039f\"],[0.2222222222222222,\"#7201a8\"],[0.3333333333333333,\"#9c179e\"],[0.4444444444444444,\"#bd3786\"],[0.5555555555555556,\"#d8576b\"],[0.6666666666666666,\"#ed7953\"],[0.7777777777777778,\"#fb9f3a\"],[0.8888888888888888,\"#fdca26\"],[1.0,\"#f0f921\"]]}],\"mesh3d\":[{\"type\":\"mesh3d\",\"colorbar\":{\"outlinewidth\":0,\"ticks\":\"\"}}],\"scatter\":[{\"fillpattern\":{\"fillmode\":\"overlay\",\"size\":10,\"solidity\":0.2},\"type\":\"scatter\"}],\"parcoords\":[{\"type\":\"parcoords\",\"line\":{\"colorbar\":{\"outlinewidth\":0,\"ticks\":\"\"}}}],\"scatterpolargl\":[{\"type\":\"scatterpolargl\",\"marker\":{\"colorbar\":{\"outlinewidth\":0,\"ticks\":\"\"}}}],\"bar\":[{\"error_x\":{\"color\":\"#2a3f5f\"},\"error_y\":{\"color\":\"#2a3f5f\"},\"marker\":{\"line\":{\"color\":\"#E5ECF6\",\"width\":0.5},\"pattern\":{\"fillmode\":\"overlay\",\"size\":10,\"solidity\":0.2}},\"type\":\"bar\"}],\"scattergeo\":[{\"type\":\"scattergeo\",\"marker\":{\"colorbar\":{\"outlinewidth\":0,\"ticks\":\"\"}}}],\"scatterpolar\":[{\"type\":\"scatterpolar\",\"marker\":{\"colorbar\":{\"outlinewidth\":0,\"ticks\":\"\"}}}],\"histogram\":[{\"marker\":{\"pattern\":{\"fillmode\":\"overlay\",\"size\":10,\"solidity\":0.2}},\"type\":\"histogram\"}],\"scattergl\":[{\"type\":\"scattergl\",\"marker\":{\"colorbar\":{\"outlinewidth\":0,\"ticks\":\"\"}}}],\"scatter3d\":[{\"type\":\"scatter3d\",\"line\":{\"colorbar\":{\"outlinewidth\":0,\"ticks\":\"\"}},\"marker\":{\"colorbar\":{\"outlinewidth\":0,\"ticks\":\"\"}}}],\"scattermapbox\":[{\"type\":\"scattermapbox\",\"marker\":{\"colorbar\":{\"outlinewidth\":0,\"ticks\":\"\"}}}],\"scatterternary\":[{\"type\":\"scatterternary\",\"marker\":{\"colorbar\":{\"outlinewidth\":0,\"ticks\":\"\"}}}],\"scattercarpet\":[{\"type\":\"scattercarpet\",\"marker\":{\"colorbar\":{\"outlinewidth\":0,\"ticks\":\"\"}}}],\"carpet\":[{\"aaxis\":{\"endlinecolor\":\"#2a3f5f\",\"gridcolor\":\"white\",\"linecolor\":\"white\",\"minorgridcolor\":\"white\",\"startlinecolor\":\"#2a3f5f\"},\"baxis\":{\"endlinecolor\":\"#2a3f5f\",\"gridcolor\":\"white\",\"linecolor\":\"white\",\"minorgridcolor\":\"white\",\"startlinecolor\":\"#2a3f5f\"},\"type\":\"carpet\"}],\"table\":[{\"cells\":{\"fill\":{\"color\":\"#EBF0F8\"},\"line\":{\"color\":\"white\"}},\"header\":{\"fill\":{\"color\":\"#C8D4E3\"},\"line\":{\"color\":\"white\"}},\"type\":\"table\"}],\"barpolar\":[{\"marker\":{\"line\":{\"color\":\"#E5ECF6\",\"width\":0.5},\"pattern\":{\"fillmode\":\"overlay\",\"size\":10,\"solidity\":0.2}},\"type\":\"barpolar\"}],\"pie\":[{\"automargin\":true,\"type\":\"pie\"}]},\"layout\":{\"autotypenumbers\":\"strict\",\"colorway\":[\"#636efa\",\"#EF553B\",\"#00cc96\",\"#ab63fa\",\"#FFA15A\",\"#19d3f3\",\"#FF6692\",\"#B6E880\",\"#FF97FF\",\"#FECB52\"],\"font\":{\"color\":\"#2a3f5f\"},\"hovermode\":\"closest\",\"hoverlabel\":{\"align\":\"left\"},\"paper_bgcolor\":\"white\",\"plot_bgcolor\":\"#E5ECF6\",\"polar\":{\"bgcolor\":\"#E5ECF6\",\"angularaxis\":{\"gridcolor\":\"white\",\"linecolor\":\"white\",\"ticks\":\"\"},\"radialaxis\":{\"gridcolor\":\"white\",\"linecolor\":\"white\",\"ticks\":\"\"}},\"ternary\":{\"bgcolor\":\"#E5ECF6\",\"aaxis\":{\"gridcolor\":\"white\",\"linecolor\":\"white\",\"ticks\":\"\"},\"baxis\":{\"gridcolor\":\"white\",\"linecolor\":\"white\",\"ticks\":\"\"},\"caxis\":{\"gridcolor\":\"white\",\"linecolor\":\"white\",\"ticks\":\"\"}},\"coloraxis\":{\"colorbar\":{\"outlinewidth\":0,\"ticks\":\"\"}},\"colorscale\":{\"sequential\":[[0.0,\"#0d0887\"],[0.1111111111111111,\"#46039f\"],[0.2222222222222222,\"#7201a8\"],[0.3333333333333333,\"#9c179e\"],[0.4444444444444444,\"#bd3786\"],[0.5555555555555556,\"#d8576b\"],[0.6666666666666666,\"#ed7953\"],[0.7777777777777778,\"#fb9f3a\"],[0.8888888888888888,\"#fdca26\"],[1.0,\"#f0f921\"]],\"sequentialminus\":[[0.0,\"#0d0887\"],[0.1111111111111111,\"#46039f\"],[0.2222222222222222,\"#7201a8\"],[0.3333333333333333,\"#9c179e\"],[0.4444444444444444,\"#bd3786\"],[0.5555555555555556,\"#d8576b\"],[0.6666666666666666,\"#ed7953\"],[0.7777777777777778,\"#fb9f3a\"],[0.8888888888888888,\"#fdca26\"],[1.0,\"#f0f921\"]],\"diverging\":[[0,\"#8e0152\"],[0.1,\"#c51b7d\"],[0.2,\"#de77ae\"],[0.3,\"#f1b6da\"],[0.4,\"#fde0ef\"],[0.5,\"#f7f7f7\"],[0.6,\"#e6f5d0\"],[0.7,\"#b8e186\"],[0.8,\"#7fbc41\"],[0.9,\"#4d9221\"],[1,\"#276419\"]]},\"xaxis\":{\"gridcolor\":\"white\",\"linecolor\":\"white\",\"ticks\":\"\",\"title\":{\"standoff\":15},\"zerolinecolor\":\"white\",\"automargin\":true,\"zerolinewidth\":2},\"yaxis\":{\"gridcolor\":\"white\",\"linecolor\":\"white\",\"ticks\":\"\",\"title\":{\"standoff\":15},\"zerolinecolor\":\"white\",\"automargin\":true,\"zerolinewidth\":2},\"scene\":{\"xaxis\":{\"backgroundcolor\":\"#E5ECF6\",\"gridcolor\":\"white\",\"linecolor\":\"white\",\"showbackground\":true,\"ticks\":\"\",\"zerolinecolor\":\"white\",\"gridwidth\":2},\"yaxis\":{\"backgroundcolor\":\"#E5ECF6\",\"gridcolor\":\"white\",\"linecolor\":\"white\",\"showbackground\":true,\"ticks\":\"\",\"zerolinecolor\":\"white\",\"gridwidth\":2},\"zaxis\":{\"backgroundcolor\":\"#E5ECF6\",\"gridcolor\":\"white\",\"linecolor\":\"white\",\"showbackground\":true,\"ticks\":\"\",\"zerolinecolor\":\"white\",\"gridwidth\":2}},\"shapedefaults\":{\"line\":{\"color\":\"#2a3f5f\"}},\"annotationdefaults\":{\"arrowcolor\":\"#2a3f5f\",\"arrowhead\":0,\"arrowwidth\":1},\"geo\":{\"bgcolor\":\"white\",\"landcolor\":\"#E5ECF6\",\"subunitcolor\":\"white\",\"showland\":true,\"showlakes\":true,\"lakecolor\":\"white\"},\"title\":{\"x\":0.05},\"mapbox\":{\"style\":\"light\"}}},\"legend\":{\"itemsizing\":\"trace\",\"orientation\":\"v\"},\"title\":{\"text\":\"Grid Search — 3D interactivo (toggle por cp y depth)\"},\"scene\":{\"xaxis\":{\"title\":{\"text\":\"minsplit\"}},\"yaxis\":{\"title\":{\"text\":\"depth\"}},\"zaxis\":{\"title\":{\"text\":\"ganancia_mean\"}}},\"updatemenus\":[{\"buttons\":[{\"args\":[{\"visible\":[true,true,true,true,true,false,false,false,false,false,false,false,false,false,false]},{\"title\":\"Grid Search — 3D interactivo (toggle por cp y depth) — cp=-0.1\"}],\"label\":\"-0.1\",\"method\":\"update\"},{\"args\":[{\"visible\":[false,false,false,false,false,true,true,true,true,true,false,false,false,false,false]},{\"title\":\"Grid Search — 3D interactivo (toggle por cp y depth) — cp=-0.05\"}],\"label\":\"-0.05\",\"method\":\"update\"},{\"args\":[{\"visible\":[false,false,false,false,false,false,false,false,false,false,true,true,true,true,true]},{\"title\":\"Grid Search — 3D interactivo (toggle por cp y depth) — cp=-0.01\"}],\"label\":\"-0.01\",\"method\":\"update\"}],\"direction\":\"down\",\"showactive\":true,\"type\":\"dropdown\",\"x\":0.08,\"xanchor\":\"left\",\"y\":1.12,\"yanchor\":\"top\"}]},                        {\"responsive\": true}                    )                };                            </script>        </div>\n",
              "</div>\n",
              "\n",
              "<div class=\"section\">\n",
              "  <h2>Parallel Coordinates</h2>\n",
              "  <div>                            <div id=\"fc0e4025-fe42-440f-aa20-630f9f7b3545\" class=\"plotly-graph-div\" style=\"height:100%; width:100%;\"></div>            <script type=\"text/javascript\">                                    window.PLOTLYENV=window.PLOTLYENV || {};                                    if (document.getElementById(\"fc0e4025-fe42-440f-aa20-630f9f7b3545\")) {                    Plotly.newPlot(                        \"fc0e4025-fe42-440f-aa20-630f9f7b3545\",                        [{\"dimensions\":[{\"label\":\"cp\",\"values\":[-0.1,-0.1,-0.1,-0.1,-0.1,-0.1,-0.1,-0.1,-0.1,-0.1,-0.1,-0.1,-0.1,-0.1,-0.1,-0.1,-0.1,-0.1,-0.1,-0.1,-0.1,-0.1,-0.1,-0.1,-0.1,-0.1,-0.1,-0.1,-0.1,-0.1,-0.1,-0.1,-0.1,-0.1,-0.1,-0.1,-0.1,-0.1,-0.1,-0.1,-0.1,-0.1,-0.1,-0.1,-0.1,-0.1,-0.1,-0.1,-0.1,-0.1,-0.05,-0.05,-0.05,-0.05,-0.05,-0.05,-0.05,-0.05,-0.05,-0.05,-0.05,-0.05,-0.05,-0.05,-0.05,-0.05,-0.05,-0.05,-0.05,-0.05,-0.05,-0.05,-0.05,-0.05,-0.05,-0.05,-0.05,-0.05,-0.05,-0.05,-0.05,-0.05,-0.05,-0.05,-0.05,-0.05,-0.05,-0.05,-0.05,-0.05,-0.05,-0.05,-0.05,-0.05,-0.05,-0.05,-0.05,-0.05,-0.05,-0.05,-0.01,-0.01,-0.01,-0.01,-0.01,-0.01,-0.01,-0.01,-0.01,-0.01,-0.01,-0.01,-0.01,-0.01,-0.01,-0.01,-0.01,-0.01,-0.01,-0.01,-0.01,-0.01,-0.01,-0.01,-0.01,-0.01,-0.01,-0.01,-0.01,-0.01,-0.01,-0.01,-0.01,-0.01,-0.01,-0.01,-0.01,-0.01,-0.01,-0.01,-0.01,-0.01,-0.01,-0.01,-0.01,-0.01,-0.01,-0.01,-0.01,-0.01]},{\"label\":\"depth\",\"values\":[6,6,6,6,6,6,6,6,6,6,8,8,8,8,8,8,8,8,8,8,10,10,10,10,10,10,10,10,10,10,12,12,12,12,12,12,12,12,12,12,14,14,14,14,14,14,14,14,14,14,6,6,6,6,6,6,6,6,6,6,8,8,8,8,8,8,8,8,8,8,10,10,10,10,10,10,10,10,10,10,12,12,12,12,12,12,12,12,12,12,14,14,14,14,14,14,14,14,14,14,6,6,6,6,6,6,6,6,6,6,8,8,8,8,8,8,8,8,8,8,10,10,10,10,10,10,10,10,10,10,12,12,12,12,12,12,12,12,12,12,14,14,14,14,14,14,14,14,14,14]},{\"label\":\"minsplit\",\"values\":[100,100,100,100,100,200,200,200,200,200,100,100,100,100,100,200,200,200,200,200,100,100,100,100,100,200,200,200,200,200,100,100,100,100,100,200,200,200,200,200,100,100,100,100,100,200,200,200,200,200,100,100,100,100,100,200,200,200,200,200,100,100,100,100,100,200,200,200,200,200,100,100,100,100,100,200,200,200,200,200,100,100,100,100,100,200,200,200,200,200,100,100,100,100,100,200,200,200,200,200,100,100,100,100,100,200,200,200,200,200,100,100,100,100,100,200,200,200,200,200,100,100,100,100,100,200,200,200,200,200,100,100,100,100,100,200,200,200,200,200,100,100,100,100,100,200,200,200,200,200]},{\"label\":\"minbucket\",\"values\":[5,10,20,30,40,5,10,20,30,40,5,10,20,30,40,5,10,20,30,40,5,10,20,30,40,5,10,20,30,40,5,10,20,30,40,5,10,20,30,40,5,10,20,30,40,5,10,20,30,40,5,10,20,30,40,5,10,20,30,40,5,10,20,30,40,5,10,20,30,40,5,10,20,30,40,5,10,20,30,40,5,10,20,30,40,5,10,20,30,40,5,10,20,30,40,5,10,20,30,40,5,10,20,30,40,5,10,20,30,40,5,10,20,30,40,5,10,20,30,40,5,10,20,30,40,5,10,20,30,40,5,10,20,30,40,5,10,20,30,40,5,10,20,30,40,5,10,20,30,40]},{\"label\":\"ganancia\",\"values\":[55520000.0,56060000.0,57610000.0,55460000.0,54470000.0,55520000.0,56060000.0,57520000.0,57330000.0,56240000.0,55020000.0,51390000.0,51490000.0,51230000.0,50060000.0,54580000.0,52620000.0,54010000.0,52820000.0,51520000.0,47410000.0,41980000.0,46140000.0,50250000.0,48780000.0,50930000.0,46840000.0,49230000.0,50720000.0,50820000.0,45850000.0,47170000.0,41120000.0,46060000.0,46540000.0,49090000.0,50910000.0,43590000.0,45080000.0,47910000.0,45170000.0,44270000.0,40150000.0,44750000.0,44130000.0,50360000.0,47820000.0,42470000.0,43680000.0,45080000.0,55520000.0,56060000.0,57610000.0,55460000.0,54470000.0,55520000.0,56060000.0,57520000.0,57330000.0,56240000.0,55020000.0,51390000.0,51490000.0,51230000.0,50060000.0,54580000.0,52620000.0,54010000.0,52820000.0,51520000.0,47410000.0,41980000.0,46140000.0,50250000.0,48780000.0,50930000.0,46840000.0,49230000.0,50720000.0,50820000.0,45850000.0,47170000.0,41120000.0,46060000.0,46540000.0,49090000.0,50910000.0,43590000.0,45080000.0,47910000.0,45170000.0,44270000.0,40150000.0,44750000.0,44130000.0,50360000.0,47820000.0,42470000.0,43680000.0,45080000.0,55520000.0,56060000.0,57610000.0,55460000.0,54470000.0,55520000.0,56060000.0,57520000.0,57330000.0,56240000.0,55020000.0,51390000.0,51490000.0,51230000.0,50060000.0,54580000.0,52620000.0,54010000.0,52820000.0,51520000.0,47410000.0,41980000.0,46140000.0,50250000.0,48780000.0,50930000.0,46840000.0,49230000.0,50720000.0,50820000.0,45850000.0,47170000.0,41120000.0,46060000.0,46540000.0,49090000.0,50910000.0,43590000.0,45080000.0,47910000.0,45170000.0,44270000.0,40150000.0,44750000.0,44130000.0,50360000.0,47820000.0,42470000.0,43680000.0,45080000.0]}],\"line\":{\"cmax\":57610000.0,\"cmin\":40150000.0,\"color\":[55520000.0,56060000.0,57610000.0,55460000.0,54470000.0,55520000.0,56060000.0,57520000.0,57330000.0,56240000.0,55020000.0,51390000.0,51490000.0,51230000.0,50060000.0,54580000.0,52620000.0,54010000.0,52820000.0,51520000.0,47410000.0,41980000.0,46140000.0,50250000.0,48780000.0,50930000.0,46840000.0,49230000.0,50720000.0,50820000.0,45850000.0,47170000.0,41120000.0,46060000.0,46540000.0,49090000.0,50910000.0,43590000.0,45080000.0,47910000.0,45170000.0,44270000.0,40150000.0,44750000.0,44130000.0,50360000.0,47820000.0,42470000.0,43680000.0,45080000.0,55520000.0,56060000.0,57610000.0,55460000.0,54470000.0,55520000.0,56060000.0,57520000.0,57330000.0,56240000.0,55020000.0,51390000.0,51490000.0,51230000.0,50060000.0,54580000.0,52620000.0,54010000.0,52820000.0,51520000.0,47410000.0,41980000.0,46140000.0,50250000.0,48780000.0,50930000.0,46840000.0,49230000.0,50720000.0,50820000.0,45850000.0,47170000.0,41120000.0,46060000.0,46540000.0,49090000.0,50910000.0,43590000.0,45080000.0,47910000.0,45170000.0,44270000.0,40150000.0,44750000.0,44130000.0,50360000.0,47820000.0,42470000.0,43680000.0,45080000.0,55520000.0,56060000.0,57610000.0,55460000.0,54470000.0,55520000.0,56060000.0,57520000.0,57330000.0,56240000.0,55020000.0,51390000.0,51490000.0,51230000.0,50060000.0,54580000.0,52620000.0,54010000.0,52820000.0,51520000.0,47410000.0,41980000.0,46140000.0,50250000.0,48780000.0,50930000.0,46840000.0,49230000.0,50720000.0,50820000.0,45850000.0,47170000.0,41120000.0,46060000.0,46540000.0,49090000.0,50910000.0,43590000.0,45080000.0,47910000.0,45170000.0,44270000.0,40150000.0,44750000.0,44130000.0,50360000.0,47820000.0,42470000.0,43680000.0,45080000.0],\"colorscale\":[[0.0,\"#440154\"],[0.1111111111111111,\"#482878\"],[0.2222222222222222,\"#3e4989\"],[0.3333333333333333,\"#31688e\"],[0.4444444444444444,\"#26828e\"],[0.5555555555555556,\"#1f9e89\"],[0.6666666666666666,\"#35b779\"],[0.7777777777777778,\"#6ece58\"],[0.8888888888888888,\"#b5de2b\"],[1.0,\"#fde725\"]],\"showscale\":true},\"type\":\"parcoords\"}],                        {\"template\":{\"data\":{\"histogram2dcontour\":[{\"type\":\"histogram2dcontour\",\"colorbar\":{\"outlinewidth\":0,\"ticks\":\"\"},\"colorscale\":[[0.0,\"#0d0887\"],[0.1111111111111111,\"#46039f\"],[0.2222222222222222,\"#7201a8\"],[0.3333333333333333,\"#9c179e\"],[0.4444444444444444,\"#bd3786\"],[0.5555555555555556,\"#d8576b\"],[0.6666666666666666,\"#ed7953\"],[0.7777777777777778,\"#fb9f3a\"],[0.8888888888888888,\"#fdca26\"],[1.0,\"#f0f921\"]]}],\"choropleth\":[{\"type\":\"choropleth\",\"colorbar\":{\"outlinewidth\":0,\"ticks\":\"\"}}],\"histogram2d\":[{\"type\":\"histogram2d\",\"colorbar\":{\"outlinewidth\":0,\"ticks\":\"\"},\"colorscale\":[[0.0,\"#0d0887\"],[0.1111111111111111,\"#46039f\"],[0.2222222222222222,\"#7201a8\"],[0.3333333333333333,\"#9c179e\"],[0.4444444444444444,\"#bd3786\"],[0.5555555555555556,\"#d8576b\"],[0.6666666666666666,\"#ed7953\"],[0.7777777777777778,\"#fb9f3a\"],[0.8888888888888888,\"#fdca26\"],[1.0,\"#f0f921\"]]}],\"heatmap\":[{\"type\":\"heatmap\",\"colorbar\":{\"outlinewidth\":0,\"ticks\":\"\"},\"colorscale\":[[0.0,\"#0d0887\"],[0.1111111111111111,\"#46039f\"],[0.2222222222222222,\"#7201a8\"],[0.3333333333333333,\"#9c179e\"],[0.4444444444444444,\"#bd3786\"],[0.5555555555555556,\"#d8576b\"],[0.6666666666666666,\"#ed7953\"],[0.7777777777777778,\"#fb9f3a\"],[0.8888888888888888,\"#fdca26\"],[1.0,\"#f0f921\"]]}],\"heatmapgl\":[{\"type\":\"heatmapgl\",\"colorbar\":{\"outlinewidth\":0,\"ticks\":\"\"},\"colorscale\":[[0.0,\"#0d0887\"],[0.1111111111111111,\"#46039f\"],[0.2222222222222222,\"#7201a8\"],[0.3333333333333333,\"#9c179e\"],[0.4444444444444444,\"#bd3786\"],[0.5555555555555556,\"#d8576b\"],[0.6666666666666666,\"#ed7953\"],[0.7777777777777778,\"#fb9f3a\"],[0.8888888888888888,\"#fdca26\"],[1.0,\"#f0f921\"]]}],\"contourcarpet\":[{\"type\":\"contourcarpet\",\"colorbar\":{\"outlinewidth\":0,\"ticks\":\"\"}}],\"contour\":[{\"type\":\"contour\",\"colorbar\":{\"outlinewidth\":0,\"ticks\":\"\"},\"colorscale\":[[0.0,\"#0d0887\"],[0.1111111111111111,\"#46039f\"],[0.2222222222222222,\"#7201a8\"],[0.3333333333333333,\"#9c179e\"],[0.4444444444444444,\"#bd3786\"],[0.5555555555555556,\"#d8576b\"],[0.6666666666666666,\"#ed7953\"],[0.7777777777777778,\"#fb9f3a\"],[0.8888888888888888,\"#fdca26\"],[1.0,\"#f0f921\"]]}],\"surface\":[{\"type\":\"surface\",\"colorbar\":{\"outlinewidth\":0,\"ticks\":\"\"},\"colorscale\":[[0.0,\"#0d0887\"],[0.1111111111111111,\"#46039f\"],[0.2222222222222222,\"#7201a8\"],[0.3333333333333333,\"#9c179e\"],[0.4444444444444444,\"#bd3786\"],[0.5555555555555556,\"#d8576b\"],[0.6666666666666666,\"#ed7953\"],[0.7777777777777778,\"#fb9f3a\"],[0.8888888888888888,\"#fdca26\"],[1.0,\"#f0f921\"]]}],\"mesh3d\":[{\"type\":\"mesh3d\",\"colorbar\":{\"outlinewidth\":0,\"ticks\":\"\"}}],\"scatter\":[{\"fillpattern\":{\"fillmode\":\"overlay\",\"size\":10,\"solidity\":0.2},\"type\":\"scatter\"}],\"parcoords\":[{\"type\":\"parcoords\",\"line\":{\"colorbar\":{\"outlinewidth\":0,\"ticks\":\"\"}}}],\"scatterpolargl\":[{\"type\":\"scatterpolargl\",\"marker\":{\"colorbar\":{\"outlinewidth\":0,\"ticks\":\"\"}}}],\"bar\":[{\"error_x\":{\"color\":\"#2a3f5f\"},\"error_y\":{\"color\":\"#2a3f5f\"},\"marker\":{\"line\":{\"color\":\"#E5ECF6\",\"width\":0.5},\"pattern\":{\"fillmode\":\"overlay\",\"size\":10,\"solidity\":0.2}},\"type\":\"bar\"}],\"scattergeo\":[{\"type\":\"scattergeo\",\"marker\":{\"colorbar\":{\"outlinewidth\":0,\"ticks\":\"\"}}}],\"scatterpolar\":[{\"type\":\"scatterpolar\",\"marker\":{\"colorbar\":{\"outlinewidth\":0,\"ticks\":\"\"}}}],\"histogram\":[{\"marker\":{\"pattern\":{\"fillmode\":\"overlay\",\"size\":10,\"solidity\":0.2}},\"type\":\"histogram\"}],\"scattergl\":[{\"type\":\"scattergl\",\"marker\":{\"colorbar\":{\"outlinewidth\":0,\"ticks\":\"\"}}}],\"scatter3d\":[{\"type\":\"scatter3d\",\"line\":{\"colorbar\":{\"outlinewidth\":0,\"ticks\":\"\"}},\"marker\":{\"colorbar\":{\"outlinewidth\":0,\"ticks\":\"\"}}}],\"scattermapbox\":[{\"type\":\"scattermapbox\",\"marker\":{\"colorbar\":{\"outlinewidth\":0,\"ticks\":\"\"}}}],\"scatterternary\":[{\"type\":\"scatterternary\",\"marker\":{\"colorbar\":{\"outlinewidth\":0,\"ticks\":\"\"}}}],\"scattercarpet\":[{\"type\":\"scattercarpet\",\"marker\":{\"colorbar\":{\"outlinewidth\":0,\"ticks\":\"\"}}}],\"carpet\":[{\"aaxis\":{\"endlinecolor\":\"#2a3f5f\",\"gridcolor\":\"white\",\"linecolor\":\"white\",\"minorgridcolor\":\"white\",\"startlinecolor\":\"#2a3f5f\"},\"baxis\":{\"endlinecolor\":\"#2a3f5f\",\"gridcolor\":\"white\",\"linecolor\":\"white\",\"minorgridcolor\":\"white\",\"startlinecolor\":\"#2a3f5f\"},\"type\":\"carpet\"}],\"table\":[{\"cells\":{\"fill\":{\"color\":\"#EBF0F8\"},\"line\":{\"color\":\"white\"}},\"header\":{\"fill\":{\"color\":\"#C8D4E3\"},\"line\":{\"color\":\"white\"}},\"type\":\"table\"}],\"barpolar\":[{\"marker\":{\"line\":{\"color\":\"#E5ECF6\",\"width\":0.5},\"pattern\":{\"fillmode\":\"overlay\",\"size\":10,\"solidity\":0.2}},\"type\":\"barpolar\"}],\"pie\":[{\"automargin\":true,\"type\":\"pie\"}]},\"layout\":{\"autotypenumbers\":\"strict\",\"colorway\":[\"#636efa\",\"#EF553B\",\"#00cc96\",\"#ab63fa\",\"#FFA15A\",\"#19d3f3\",\"#FF6692\",\"#B6E880\",\"#FF97FF\",\"#FECB52\"],\"font\":{\"color\":\"#2a3f5f\"},\"hovermode\":\"closest\",\"hoverlabel\":{\"align\":\"left\"},\"paper_bgcolor\":\"white\",\"plot_bgcolor\":\"#E5ECF6\",\"polar\":{\"bgcolor\":\"#E5ECF6\",\"angularaxis\":{\"gridcolor\":\"white\",\"linecolor\":\"white\",\"ticks\":\"\"},\"radialaxis\":{\"gridcolor\":\"white\",\"linecolor\":\"white\",\"ticks\":\"\"}},\"ternary\":{\"bgcolor\":\"#E5ECF6\",\"aaxis\":{\"gridcolor\":\"white\",\"linecolor\":\"white\",\"ticks\":\"\"},\"baxis\":{\"gridcolor\":\"white\",\"linecolor\":\"white\",\"ticks\":\"\"},\"caxis\":{\"gridcolor\":\"white\",\"linecolor\":\"white\",\"ticks\":\"\"}},\"coloraxis\":{\"colorbar\":{\"outlinewidth\":0,\"ticks\":\"\"}},\"colorscale\":{\"sequential\":[[0.0,\"#0d0887\"],[0.1111111111111111,\"#46039f\"],[0.2222222222222222,\"#7201a8\"],[0.3333333333333333,\"#9c179e\"],[0.4444444444444444,\"#bd3786\"],[0.5555555555555556,\"#d8576b\"],[0.6666666666666666,\"#ed7953\"],[0.7777777777777778,\"#fb9f3a\"],[0.8888888888888888,\"#fdca26\"],[1.0,\"#f0f921\"]],\"sequentialminus\":[[0.0,\"#0d0887\"],[0.1111111111111111,\"#46039f\"],[0.2222222222222222,\"#7201a8\"],[0.3333333333333333,\"#9c179e\"],[0.4444444444444444,\"#bd3786\"],[0.5555555555555556,\"#d8576b\"],[0.6666666666666666,\"#ed7953\"],[0.7777777777777778,\"#fb9f3a\"],[0.8888888888888888,\"#fdca26\"],[1.0,\"#f0f921\"]],\"diverging\":[[0,\"#8e0152\"],[0.1,\"#c51b7d\"],[0.2,\"#de77ae\"],[0.3,\"#f1b6da\"],[0.4,\"#fde0ef\"],[0.5,\"#f7f7f7\"],[0.6,\"#e6f5d0\"],[0.7,\"#b8e186\"],[0.8,\"#7fbc41\"],[0.9,\"#4d9221\"],[1,\"#276419\"]]},\"xaxis\":{\"gridcolor\":\"white\",\"linecolor\":\"white\",\"ticks\":\"\",\"title\":{\"standoff\":15},\"zerolinecolor\":\"white\",\"automargin\":true,\"zerolinewidth\":2},\"yaxis\":{\"gridcolor\":\"white\",\"linecolor\":\"white\",\"ticks\":\"\",\"title\":{\"standoff\":15},\"zerolinecolor\":\"white\",\"automargin\":true,\"zerolinewidth\":2},\"scene\":{\"xaxis\":{\"backgroundcolor\":\"#E5ECF6\",\"gridcolor\":\"white\",\"linecolor\":\"white\",\"showbackground\":true,\"ticks\":\"\",\"zerolinecolor\":\"white\",\"gridwidth\":2},\"yaxis\":{\"backgroundcolor\":\"#E5ECF6\",\"gridcolor\":\"white\",\"linecolor\":\"white\",\"showbackground\":true,\"ticks\":\"\",\"zerolinecolor\":\"white\",\"gridwidth\":2},\"zaxis\":{\"backgroundcolor\":\"#E5ECF6\",\"gridcolor\":\"white\",\"linecolor\":\"white\",\"showbackground\":true,\"ticks\":\"\",\"zerolinecolor\":\"white\",\"gridwidth\":2}},\"shapedefaults\":{\"line\":{\"color\":\"#2a3f5f\"}},\"annotationdefaults\":{\"arrowcolor\":\"#2a3f5f\",\"arrowhead\":0,\"arrowwidth\":1},\"geo\":{\"bgcolor\":\"white\",\"landcolor\":\"#E5ECF6\",\"subunitcolor\":\"white\",\"showland\":true,\"showlakes\":true,\"lakecolor\":\"white\"},\"title\":{\"x\":0.05},\"mapbox\":{\"style\":\"light\"}}},\"title\":{\"text\":\"Grid Search — Parallel Coordinates\"}},                        {\"responsive\": true}                    )                };                            </script>        </div>\n",
              "</div>\n",
              "\n",
              "<hr/>\n",
              "<p class=\"caption\">Generado automáticamente.</p>\n",
              "</body>\n",
              "</html>\n"
            ]
          },
          "metadata": {}
        },
        {
          "output_type": "display_data",
          "data": {
            "text/plain": [
              "<IPython.core.display.HTML object>"
            ],
            "text/html": [
              "<h3>Dashboard (IFrame desde /content):</h3>"
            ]
          },
          "metadata": {}
        },
        {
          "output_type": "display_data",
          "data": {
            "text/plain": [
              "<IPython.lib.display.IFrame at 0x7f2934ab7260>"
            ],
            "text/html": [
              "\n",
              "        <iframe\n",
              "            width=\"100%\"\n",
              "            height=\"680\"\n",
              "            src=\"/files/gridsearch_dashboard_interactivo.html\"\n",
              "            frameborder=\"0\"\n",
              "            allowfullscreen\n",
              "            \n",
              "        ></iframe>\n",
              "        "
            ]
          },
          "metadata": {}
        }
      ]
    }
  ]
}