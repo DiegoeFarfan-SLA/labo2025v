{
  "nbformat": 4,
  "nbformat_minor": 0,
  "metadata": {
    "colab": {
      "provenance": [],
      "include_colab_link": true
    },
    "kernelspec": {
      "name": "ir",
      "display_name": "R"
    },
    "language_info": {
      "name": "R"
    }
  },
  "cells": [
    {
      "cell_type": "markdown",
      "metadata": {
        "id": "view-in-github",
        "colab_type": "text"
      },
      "source": [
        "<a href=\"https://colab.research.google.com/github/DiegoeFarfan-SLA/labo2025v/blob/main/src/rpart/201_ComparandoModelos-COMPLETO.ipynb\" target=\"_parent\"><img src=\"https://colab.research.google.com/assets/colab-badge.svg\" alt=\"Open In Colab\"/></a>"
      ]
    },
    {
      "cell_type": "markdown",
      "source": [
        "# Comparando Modelos"
      ],
      "metadata": {
        "id": "5DrvzQ9BsXmX"
      }
    },
    {
      "cell_type": "markdown",
      "source": [
        "Estamos en la  Clase 02\n",
        "<br> El objetivo de la materia es lograr la mejor predicción para nuestro probleama, para lo que se probarán pipelines con decenas de alternativas, será indispensable comparar varios modelos predictivos entre sí y decidir cual es el mejor\n",
        "<br> La tarea no es tan sencilla"
      ],
      "metadata": {
        "id": "Y2U9lu16sgta"
      }
    },
    {
      "cell_type": "markdown",
      "source": [
        "## Seteo del ambiente en Google Colab"
      ],
      "metadata": {
        "id": "kmLygy1TYPfg"
      }
    },
    {
      "cell_type": "markdown",
      "source": [
        "Esta parte se debe correr con el runtime en Python3\n",
        "<br>Ir al menu, Runtime -> Change Runtime Tipe -> Runtime type ->  **Python 3**"
      ],
      "metadata": {
        "id": "OikOm5K2YU3X"
      }
    },
    {
      "cell_type": "markdown",
      "source": [
        "Conectar la virtual machine donde esta corriendo Google Colab con el  Google Drive, para poder tener persistencia de archivos"
      ],
      "metadata": {
        "id": "4fmV5LyZdFyI"
      }
    },
    {
      "cell_type": "code",
      "source": [
        "# primero establecer el Runtime de Python 3\n",
        "from google.colab import drive\n",
        "drive.mount('/content/.drive')"
      ],
      "metadata": {
        "id": "ilEZ-bE2VybW",
        "outputId": "da896289-965a-42f0-b11e-2d0f24c6fd38",
        "colab": {
          "base_uri": "https://localhost:8080/",
          "height": 0
        }
      },
      "execution_count": 1,
      "outputs": [
        {
          "output_type": "stream",
          "name": "stdout",
          "text": [
            "Mounted at /content/.drive\n"
          ]
        }
      ]
    },
    {
      "cell_type": "markdown",
      "source": [
        "Para correr la siguiente celda es fundamental en Arranque en Frio haber copiado el archivo kaggle.json al Google Drive, en la carpeta indicada en el instructivo\n",
        "\n",
        "<br>los siguientes comando estan en shell script de Linux\n",
        "*   Crear las carpetas en el Google Drive\n",
        "*   \"instalar\" el archivo kaggle.json desde el Google Drive a la virtual machine para que pueda ser utilizado por la libreria  kaggle de Python\n",
        "*   Bajar el  **dataset_pequeno**  al  Google Drive  y tambien al disco local de la virtual machine que esta corriendo Google Colab\n",
        "\n"
      ],
      "metadata": {
        "id": "ilaKtqWldeWg"
      }
    },
    {
      "cell_type": "code",
      "source": [
        "%%shell\n",
        "\n",
        "mkdir -p \"/content/.drive/My Drive/labo1\"\n",
        "mkdir -p \"/content/buckets\"\n",
        "ln -s \"/content/.drive/My Drive/labo1\" /content/buckets/b1\n",
        "\n",
        "mkdir -p ~/.kaggle\n",
        "cp /content/buckets/b1/kaggle/kaggle.json  ~/.kaggle\n",
        "chmod 600 ~/.kaggle/kaggle.json\n",
        "\n",
        "\n",
        "mkdir -p /content/buckets/b1/exp\n",
        "mkdir -p /content/buckets/b1/datasets\n",
        "mkdir -p /content/datasets\n",
        "\n",
        "\n",
        "\n",
        "archivo_origen=\"https://storage.googleapis.com/open-courses/austral2025-af91/dataset_pequeno.csv\"\n",
        "archivo_destino=\"/content/datasets/dataset_pequeno.csv\"\n",
        "archivo_destino_bucket=\"/content/buckets/b1/datasets/dataset_pequeno.csv\"\n",
        "\n",
        "if ! test -f $archivo_destino_bucket; then\n",
        "  wget  $archivo_origen  -O $archivo_destino_bucket\n",
        "fi\n",
        "\n",
        "\n",
        "if ! test -f $archivo_destino; then\n",
        "  cp  $archivo_destino_bucket  $archivo_destino\n",
        "fi\n"
      ],
      "metadata": {
        "id": "W8dQFI5QYCFa",
        "outputId": "533f6066-f2ef-4eac-a753-ef3b1e46228d",
        "colab": {
          "base_uri": "https://localhost:8080/",
          "height": 0
        }
      },
      "execution_count": 2,
      "outputs": [
        {
          "output_type": "stream",
          "name": "stdout",
          "text": [
            "--2025-10-14 19:32:45--  https://storage.googleapis.com/open-courses/austral2025-af91/dataset_pequeno.csv\n",
            "Resolving storage.googleapis.com (storage.googleapis.com)... 74.125.196.207, 108.177.11.207, 173.194.216.207, ...\n",
            "Connecting to storage.googleapis.com (storage.googleapis.com)|74.125.196.207|:443... connected.\n",
            "HTTP request sent, awaiting response... 200 OK\n",
            "Length: 168083585 (160M) [text/csv]\n",
            "Saving to: ‘/content/buckets/b1/datasets/dataset_pequeno.csv’\n",
            "\n",
            "/content/buckets/b1 100%[===================>] 160.30M  49.6MB/s    in 3.3s    \n",
            "\n",
            "2025-10-14 19:32:49 (49.2 MB/s) - ‘/content/buckets/b1/datasets/dataset_pequeno.csv’ saved [168083585/168083585]\n",
            "\n"
          ]
        },
        {
          "output_type": "execute_result",
          "data": {
            "text/plain": []
          },
          "metadata": {},
          "execution_count": 2
        }
      ]
    },
    {
      "cell_type": "markdown",
      "source": [
        "# 1  Particion Training/Testing\n",
        "## Clase 02  Experimento 1"
      ],
      "metadata": {
        "id": "iV32-NeesVp6"
      }
    },
    {
      "cell_type": "markdown",
      "source": [
        "## 1.1  Objetivos\n",
        "Dado que es el primer experimento de la asignatura, acercar a l@s estudiantes las mejores prácticas de operación del ambiente de Google Cloud, realizando una minuciosa demostración en vivo narrando todas las consideraciones pertinentes para evitar accidentes, daños a terceros y a equipos.\n",
        "Dar soporte en el acto a  l@s estudiantes que necesitan ayuda para terminar de configurar el ambiente Google Cloud .\n",
        "<br>Repaso del concepto de  partición de un dataset al azar, estratificada en la clase\n",
        "<br>Dado que es el primer script que se mostrará en vivo a l@s estudiantes,  realizar una visita guiada del  mismo, su estructura y detalles.\n",
        "<br>Repaso del algoritmo Arbol de Decisión sus hiperparámetros, y la implementación con la librería  rpart.  Funciones  rpart::rpart  y rpart::predict\n",
        "<br>Concepto de replicabilidad de los experimentos mediante las semillas de los generadores de secuencias de números pseudoaleatorios.\n",
        "<br>Finalmente, el principal objetivo de este experimento es lograr que l@s estudiantes dimensionen la enorme variabilidad del error de medición de la ganancia de un árbol de decisión al realizar una partición <training, testing>,  contener la sorpresa de los estudiantes, descartar a la simple particion <training, testing> como método,  y construir en conjunto una solucion natural al problema."
      ],
      "metadata": {
        "id": "84Pnj9gVwpXB"
      }
    },
    {
      "cell_type": "markdown",
      "source": [
        "## 1.2 Introduccion"
      ],
      "metadata": {
        "id": "L9Cn0WThw37Y"
      }
    },
    {
      "cell_type": "markdown",
      "source": [
        "![Particiohn Training/Testing](https://storage.googleapis.com/open-courses/austral2025-af91/labo1r/C2_E1_particion.jpg)"
      ],
      "metadata": {
        "id": "ZELZ0R4itUVG"
      }
    },
    {
      "cell_type": "markdown",
      "source": [
        "![Dos tipos de error](https://storage.googleapis.com/open-courses/austral2025-af91/labo1r/C2_E1_target.jpg)"
      ],
      "metadata": {
        "id": "Wtc1ho58xLk-"
      }
    },
    {
      "cell_type": "markdown",
      "source": [
        "## 1.3  Bibliografía\n",
        "\n",
        "Demšar, J. [Statistical comparisons of classifiers over multiple data sets](https://www.jmlr.org/papers/volume7/demsar06a/demsar06a.pdf) J. Mach. Learn. Res. 7, 1–30 (2006).   \n",
        "Starmer, J. [Machine Learning Fundamentals: Cross Validation](https://www.youtube.com/watch?v=fSytzGwwBVw)Machine Learning Fundamentals: Cross Validation, StatQuest with Josh Starmer youtube channel, (2018)\n",
        "Hastie, T.[The elements of statistical learning: data mining, inference, and prediction](https://hastie.su.domains/Papers/ESLII.pdf) , volume 2. Springer, 2009  ( Chapter 7 Model Assessment and Selection )"
      ],
      "metadata": {
        "id": "oRWtRV34xZRT"
      }
    },
    {
      "cell_type": "markdown",
      "source": [
        "## 1.4 Codigo"
      ],
      "metadata": {
        "id": "VcgTQ2-Pyb8q"
      }
    },
    {
      "cell_type": "markdown",
      "source": [
        "Esta parte se debe correr con el runtime en lenguaje **R** Ir al menu, Runtime -> Change Runtime Tipe -> Runtime type -> R"
      ],
      "metadata": {
        "id": "SBXPU-_tabMb"
      }
    },
    {
      "cell_type": "markdown",
      "source": [
        "limpio el ambiente de R"
      ],
      "metadata": {
        "id": "SE94XRhWsxkX"
      }
    },
    {
      "cell_type": "code",
      "source": [
        "# limpio la memoria\n",
        "rm(list=ls(all.names=TRUE)) # remove all objects\n",
        "gc(full=TRUE, verbose=FALSE) # garbage collection"
      ],
      "metadata": {
        "id": "oZG_4br6szlT",
        "outputId": "a228073f-b691-4b77-8d50-5cfcb1d77fab",
        "colab": {
          "base_uri": "https://localhost:8080/",
          "height": 130
        }
      },
      "execution_count": 1,
      "outputs": [
        {
          "output_type": "display_data",
          "data": {
            "text/html": [
              "<table class=\"dataframe\">\n",
              "<caption>A matrix: 2 × 6 of type dbl</caption>\n",
              "<thead>\n",
              "\t<tr><th></th><th scope=col>used</th><th scope=col>(Mb)</th><th scope=col>gc trigger</th><th scope=col>(Mb)</th><th scope=col>max used</th><th scope=col>(Mb)</th></tr>\n",
              "</thead>\n",
              "<tbody>\n",
              "\t<tr><th scope=row>Ncells</th><td> 657244</td><td>35.2</td><td>1454471</td><td>77.7</td><td>1326139</td><td>70.9</td></tr>\n",
              "\t<tr><th scope=row>Vcells</th><td>1220271</td><td> 9.4</td><td>8388608</td><td>64.0</td><td>1975128</td><td>15.1</td></tr>\n",
              "</tbody>\n",
              "</table>\n"
            ],
            "text/markdown": "\nA matrix: 2 × 6 of type dbl\n\n| <!--/--> | used | (Mb) | gc trigger | (Mb) | max used | (Mb) |\n|---|---|---|---|---|---|---|\n| Ncells |  657244 | 35.2 | 1454471 | 77.7 | 1326139 | 70.9 |\n| Vcells | 1220271 |  9.4 | 8388608 | 64.0 | 1975128 | 15.1 |\n\n",
            "text/latex": "A matrix: 2 × 6 of type dbl\n\\begin{tabular}{r|llllll}\n  & used & (Mb) & gc trigger & (Mb) & max used & (Mb)\\\\\n\\hline\n\tNcells &  657244 & 35.2 & 1454471 & 77.7 & 1326139 & 70.9\\\\\n\tVcells & 1220271 &  9.4 & 8388608 & 64.0 & 1975128 & 15.1\\\\\n\\end{tabular}\n",
            "text/plain": [
              "       used    (Mb) gc trigger (Mb) max used (Mb)\n",
              "Ncells  657244 35.2 1454471    77.7 1326139  70.9\n",
              "Vcells 1220271  9.4 8388608    64.0 1975128  15.1"
            ]
          },
          "metadata": {}
        }
      ]
    },
    {
      "cell_type": "code",
      "source": [
        "Sys.time()"
      ],
      "metadata": {
        "id": "pJ8SsVA5ssnf",
        "outputId": "7b19e9f5-4629-49a3-e8c4-0efebeb75694",
        "colab": {
          "base_uri": "https://localhost:8080/",
          "height": 34
        }
      },
      "execution_count": 2,
      "outputs": [
        {
          "output_type": "display_data",
          "data": {
            "text/plain": [
              "[1] \"2025-10-14 19:34:30 UTC\""
            ]
          },
          "metadata": {}
        }
      ]
    },
    {
      "cell_type": "markdown",
      "source": [
        "* Instalacion de la libreria  rpart.plot  para dibujar el arbol\n",
        "* invocacion de las librerias  **data.table** y  **rpart**"
      ],
      "metadata": {
        "id": "3BrrQ47PeEb2"
      }
    },
    {
      "cell_type": "code",
      "source": [
        "# cargo las librerias que necesito\n",
        "require(\"data.table\")\n",
        "require(\"rpart\")\n"
      ],
      "metadata": {
        "id": "SxO-0Ql0khn6",
        "outputId": "b739ec18-c81d-471d-b220-4b17cacc0819",
        "colab": {
          "base_uri": "https://localhost:8080/",
          "height": 0
        }
      },
      "execution_count": 3,
      "outputs": [
        {
          "output_type": "stream",
          "name": "stderr",
          "text": [
            "Loading required package: data.table\n",
            "\n",
            "Loading required package: rpart\n",
            "\n"
          ]
        }
      ]
    },
    {
      "cell_type": "markdown",
      "source": [
        "###  Accion a Realizar\n",
        "PARAM$semilla  debe tener su primer semilla aleatoria"
      ],
      "metadata": {
        "id": "ZG9fCnZh3bWV"
      }
    },
    {
      "cell_type": "code",
      "source": [
        "PARAM <- list()\n",
        "PARAM$semilla <- 304879  # aqui debe ir su primer semilla\n",
        "PARAM$training_pct <- 70L  # entre  1L y 99L\n",
        "\n",
        "PARAM$rpart <- list (\n",
        "  \"cp\" = -1, # complejidad minima\n",
        "  \"minsplit\" = 170, # minima cantidad de regs en un nodo para hacer el split\n",
        "  \"minbucket\" = 70, # minima cantidad de regs en una hoja\n",
        "  \"maxdepth\" = 7 # profundidad máxima del arbol\n",
        ")\n"
      ],
      "metadata": {
        "id": "0nx5_OcE3Y9c"
      },
      "execution_count": 4,
      "outputs": []
    },
    {
      "cell_type": "code",
      "source": [
        "# particionar agrega una columna llamada fold a un dataset\n",
        "#  que consiste en una particion estratificada segun agrupa\n",
        "\n",
        "# particionar( data=dataset, division=c(70,30),\n",
        "#  agrupa=clase_ternaria, seed=semilla)   crea una particion 70, 30\n",
        "\n",
        "particionar <- function(\n",
        "    data, division, agrupa = \"\",\n",
        "    campo = \"fold\", start = 1, seed = NA) {\n",
        "  if (!is.na(seed)) set.seed(seed)\n",
        "\n",
        "  bloque <- unlist(mapply(function(x, y) {\n",
        "    rep(y, x)\n",
        "  }, division, seq(from = start, length.out = length(division))))\n",
        "\n",
        "  data[, (campo) := sample(rep(bloque, ceiling(.N / length(bloque))))[1:.N],\n",
        "    by = agrupa\n",
        "  ]\n",
        "}\n"
      ],
      "metadata": {
        "id": "8HLE9Dx80gjH"
      },
      "execution_count": 5,
      "outputs": []
    },
    {
      "cell_type": "code",
      "source": [
        "# carpeta de trabajo\n",
        "setwd(\"/content/buckets/b1/exp\")\n",
        "experimento <- \"exp201\"\n",
        "dir.create(experimento, showWarnings=FALSE)\n",
        "setwd( paste0(\"/content/buckets/b1/exp/\", experimento ))"
      ],
      "metadata": {
        "id": "sC4_nqcm0nUs"
      },
      "execution_count": 6,
      "outputs": []
    },
    {
      "cell_type": "code",
      "source": [
        "# lectura del dataset\n",
        "dataset <- fread(\"/content/datasets/dataset_pequeno.csv\")\n",
        "\n",
        "# trabajo solo con los datos con clase, es decir 202107\n",
        "dataset <- dataset[clase_ternaria != \"\"]"
      ],
      "metadata": {
        "id": "6yIEsZOw07q8"
      },
      "execution_count": 7,
      "outputs": []
    },
    {
      "cell_type": "code",
      "source": [
        "# particiono estratificadamente el dataset 70%, 30%\n",
        "particionar(dataset,\n",
        "  division = c(PARAM$training_pct, 100L -PARAM$training_pct),\n",
        "  agrupa = \"clase_ternaria\",\n",
        "  seed = PARAM$semilla # aqui se usa SU semilla\n",
        ")\n",
        "\n"
      ],
      "metadata": {
        "id": "FAO1Hhd52b5d"
      },
      "execution_count": 8,
      "outputs": []
    },
    {
      "cell_type": "code",
      "source": [
        "# genero el modelo\n",
        "# quiero predecir clase_ternaria a partir del resto\n",
        "# fold==1  es training,  el 70% de los datos\n",
        "modelo <- rpart(\"clase_ternaria ~ .\",\n",
        "  data = dataset[fold == 1],  # fold==1  es training, el 70% de los datos\n",
        "  xval = 0,\n",
        "  control = PARAM$rpart # aqui van los parametros\n",
        ")\n"
      ],
      "metadata": {
        "id": "s3UnHSLP2gN6"
      },
      "execution_count": 9,
      "outputs": []
    },
    {
      "cell_type": "code",
      "source": [
        "# aplico el modelo a los datos de testing\n",
        "prediccion <- predict(modelo, # el modelo que genere recien\n",
        "  dataset[fold == 2], # fold==2  es testing, el 30% de los datos\n",
        "  type = \"prob\"\n",
        ") # type= \"prob\"  es que devuelva la probabilidad\n"
      ],
      "metadata": {
        "id": "paQphV4A2jGz"
      },
      "execution_count": 11,
      "outputs": []
    },
    {
      "cell_type": "code",
      "source": [
        "tb_prediccion <- as.data.table(list(\n",
        "  \"clase_ternaria\"=dataset[fold == 2, clase_ternaria],\n",
        "  \"prob\"=prediccion[, \"BAJA+2\"]\n",
        "))"
      ],
      "metadata": {
        "id": "fuLZ75pA29dT"
      },
      "execution_count": 12,
      "outputs": []
    },
    {
      "cell_type": "code",
      "source": [
        "# calculo la ganancia de cada registro\n",
        "tb_prediccion[, ganancia := ifelse(clase_ternaria == \"BAJA+2\", 117000, -3000)]"
      ],
      "metadata": {
        "id": "LuG6ql_t3kOI"
      },
      "execution_count": 13,
      "outputs": []
    },
    {
      "cell_type": "code",
      "source": [
        "# calculo la clase\n",
        "tb_prediccion[, Predicted := prob > (1/40) ]"
      ],
      "metadata": {
        "id": "xJ3WTMez3leO"
      },
      "execution_count": 14,
      "outputs": []
    },
    {
      "cell_type": "code",
      "source": [
        "ganancia_test <-  tb_prediccion[ Predicted==TRUE,  sum(ganancia)]"
      ],
      "metadata": {
        "id": "cFQPacen4Wq6"
      },
      "execution_count": 15,
      "outputs": []
    },
    {
      "cell_type": "code",
      "source": [
        "# normalizo la ganancia\n",
        "ganancia_test_normalizada <- ganancia_test / (( 100 - PARAM$training_pct ) / 100 )"
      ],
      "metadata": {
        "id": "dHjz0zhN4-nZ"
      },
      "execution_count": 16,
      "outputs": []
    },
    {
      "cell_type": "code",
      "source": [
        "estimulos <- tb_prediccion[ Predicted==TRUE, .N]\n",
        "aciertos <- tb_prediccion[ Predicted & clase_ternaria == \"BAJA+2\", .N]\n"
      ],
      "metadata": {
        "id": "D7RUdTb95F6B"
      },
      "execution_count": 17,
      "outputs": []
    },
    {
      "cell_type": "code",
      "source": [
        "# Resultado Final\n",
        "cat(\"Testing total: \", dataset[fold == 2, .N], \"\\n\")\n",
        "cat(\"Testing BAJA+2: \", dataset[fold == 2 & clase_ternaria == \"BAJA+2\", .N], \"\\n\")\n",
        "\n",
        "cat(\"Estimulos: \", estimulos, \"\\n\")\n",
        "cat(\"Aciertos (BAJA+2): \", aciertos, \"\\n\")\n",
        "\n",
        "cat(\"Ganancia en testing (normalizada): \", ganancia_test_normalizada, \"\\n\")\n"
      ],
      "metadata": {
        "id": "Lu1KM6fy5U7h",
        "outputId": "f259ff04-1d12-48c8-8faf-3b2a2bc3142f",
        "colab": {
          "base_uri": "https://localhost:8080/",
          "height": 0
        }
      },
      "execution_count": 18,
      "outputs": [
        {
          "output_type": "stream",
          "name": "stdout",
          "text": [
            "Testing total:  49384 \n",
            "Testing BAJA+2:  377 \n",
            "Estimulos:  3504 \n",
            "Aciertos (BAJA+2):  210 \n",
            "Ganancia en testing (normalizada):  48960000 \n"
          ]
        }
      ]
    },
    {
      "cell_type": "markdown",
      "source": [
        "### Acciones a realizar\n",
        "* Reportar la  *Ganancia en testing (normalizada)* <br> en la planilla colaborativa hoja  **C2-1sem**\n",
        "* Se discutirá en clase la variabilidad de las ganancias obtenidas de distintos alumnos"
      ],
      "metadata": {
        "id": "kHs-YoFB5rUa"
      }
    },
    {
      "cell_type": "markdown",
      "source": [
        "\n",
        "\n",
        "---\n",
        "\n"
      ],
      "metadata": {
        "id": "LBl_eIeO7WuM"
      }
    },
    {
      "cell_type": "markdown",
      "source": [
        "# 2  Medición Monte Carlo Cross Validation\n",
        "## Clase 02  Experimento 2"
      ],
      "metadata": {
        "id": "h43UCq9y7UlT"
      }
    },
    {
      "cell_type": "markdown",
      "source": [
        "## 2.1  Objetivos\n",
        "Mostrar el funcionamiento de la Montecarlo Cross Validation y que l@s estudiantes aprecien la disminución de la varianza de dicha metodología.\n",
        "Relación con el Teorema Central del Límite"
      ],
      "metadata": {
        "id": "wHPchGXK80VU"
      }
    },
    {
      "cell_type": "markdown",
      "source": [
        "## 2.2 Introduccion\n",
        "\n",
        "![Montecarlo](https://storage.googleapis.com/open-courses/austral2025-af91/labo1r/C2_E2_montecarlo.jpg)\n",
        "\n",
        "![Curva normal](https://storage.googleapis.com/open-courses/austral2025-af91/labo1r/C2_E2_normal.jpg)\n",
        "\n",
        "![Teorema Central del Limite](https://storage.googleapis.com/open-courses/austral2025-af91/labo1r/C2_E2_teoremacentralLimite.jpg)\n",
        "\n"
      ],
      "metadata": {
        "id": "g6YzACxl9DzS"
      }
    },
    {
      "cell_type": "markdown",
      "source": [],
      "metadata": {
        "id": "7laod2t4ArsH"
      }
    },
    {
      "cell_type": "markdown",
      "source": [
        "## 2.3  Bibliografía\n",
        "\n",
        "Demšar, J. [Statistical comparisons of classifiers over multiple data sets](https://www.jmlr.org/papers/volume7/demsar06a/demsar06a.pdf) J. Mach. Learn. Res. 7, 1–30 (2006).   \n",
        "Starmer, J. [Machine Learning Fundamentals: Cross Validation](https://www.youtube.com/watch?v=fSytzGwwBVw)Machine Learning Fundamentals: Cross Validation, StatQuest with Josh Starmer youtube channel, (2018)\n",
        "Hastie, T.[The elements of statistical learning: data mining, inference, and prediction](https://hastie.su.domains/Papers/ESLII.pdf) , volume 2. Springer, 2009  ( Chapter 7 Model Assessment and Selection )"
      ],
      "metadata": {
        "id": "lFcJeRAkAr-q"
      }
    },
    {
      "cell_type": "code",
      "source": [],
      "metadata": {
        "id": "KXSuYXQ26cLV"
      },
      "execution_count": null,
      "outputs": []
    },
    {
      "cell_type": "markdown",
      "source": [
        "## 2.4 Codigo  Montecarlo"
      ],
      "metadata": {
        "id": "0ztZzYolA2WK"
      }
    },
    {
      "cell_type": "markdown",
      "source": [
        "El código de la Montecarlo Cross Validation es notablemente más complejo que el anterior de una simple partición training/testing\n",
        "<br> Se crea la funcion ArbolEstimarGanancia()  que dada una semilla realiza la partición  training/testing, entrena en training, aplica el modelo a testing, y se calculan las ganancias\n",
        "<br> Se utiliza la funcion **mcmapply**  de R para aplicar ArbolEstimarGanancia a todos los elementos del vector de semillas"
      ],
      "metadata": {
        "id": "KLa06ZsiC-Oz"
      }
    },
    {
      "cell_type": "markdown",
      "source": [
        "Esta parte se debe correr con el runtime en lenguaje **R** Ir al menu, Runtime -> Change Runtime Tipe -> Runtime type -> R"
      ],
      "metadata": {
        "id": "ivFiBBOQA2Ws"
      }
    },
    {
      "cell_type": "markdown",
      "source": [
        "limpio el ambiente de R"
      ],
      "metadata": {
        "id": "TMSAQDXuA2Ws"
      }
    },
    {
      "cell_type": "code",
      "source": [
        "# limpio la memoria\n",
        "rm(list=ls(all.names=TRUE)) # remove all objects\n",
        "gc(full=TRUE, verbose=FALSE) # garbage collection"
      ],
      "metadata": {
        "id": "eakzb8y2A2Wt",
        "outputId": "8dd3343d-3807-4bc6-b5c9-1b12e3f75197",
        "colab": {
          "base_uri": "https://localhost:8080/",
          "height": 130
        }
      },
      "execution_count": 27,
      "outputs": [
        {
          "output_type": "display_data",
          "data": {
            "text/html": [
              "<table class=\"dataframe\">\n",
              "<caption>A matrix: 2 × 6 of type dbl</caption>\n",
              "<thead>\n",
              "\t<tr><th></th><th scope=col>used</th><th scope=col>(Mb)</th><th scope=col>gc trigger</th><th scope=col>(Mb)</th><th scope=col>max used</th><th scope=col>(Mb)</th></tr>\n",
              "</thead>\n",
              "<tbody>\n",
              "\t<tr><th scope=row>Ncells</th><td> 752787</td><td>40.3</td><td> 1454471</td><td> 77.7</td><td>  1454471</td><td> 77.7</td></tr>\n",
              "\t<tr><th scope=row>Vcells</th><td>1425480</td><td>10.9</td><td>67925760</td><td>518.3</td><td>103913292</td><td>792.8</td></tr>\n",
              "</tbody>\n",
              "</table>\n"
            ],
            "text/markdown": "\nA matrix: 2 × 6 of type dbl\n\n| <!--/--> | used | (Mb) | gc trigger | (Mb) | max used | (Mb) |\n|---|---|---|---|---|---|---|\n| Ncells |  752787 | 40.3 |  1454471 |  77.7 |   1454471 |  77.7 |\n| Vcells | 1425480 | 10.9 | 67925760 | 518.3 | 103913292 | 792.8 |\n\n",
            "text/latex": "A matrix: 2 × 6 of type dbl\n\\begin{tabular}{r|llllll}\n  & used & (Mb) & gc trigger & (Mb) & max used & (Mb)\\\\\n\\hline\n\tNcells &  752787 & 40.3 &  1454471 &  77.7 &   1454471 &  77.7\\\\\n\tVcells & 1425480 & 10.9 & 67925760 & 518.3 & 103913292 & 792.8\\\\\n\\end{tabular}\n",
            "text/plain": [
              "       used    (Mb) gc trigger (Mb)  max used  (Mb) \n",
              "Ncells  752787 40.3  1454471    77.7   1454471  77.7\n",
              "Vcells 1425480 10.9 67925760   518.3 103913292 792.8"
            ]
          },
          "metadata": {}
        }
      ]
    },
    {
      "cell_type": "markdown",
      "source": [
        "* Instalacion de la libreria  rpart.plot  para dibujar el arbol\n",
        "* invocacion de las librerias  **data.table** y  **rpart**"
      ],
      "metadata": {
        "id": "559RkeYZA2Wv"
      }
    },
    {
      "cell_type": "code",
      "source": [
        "# cargo las librerias que necesito\n",
        "require(\"data.table\")\n",
        "require(\"rpart\")\n",
        "require(\"parallel\")"
      ],
      "metadata": {
        "id": "yf_S_HlsA2Wv"
      },
      "execution_count": 28,
      "outputs": []
    },
    {
      "cell_type": "markdown",
      "source": [
        "###  Accion a Realizar\n",
        "PARAM$semillas  debe tener sus cinco semillas aleatorias"
      ],
      "metadata": {
        "id": "a4oz2ulCA2Ww"
      }
    },
    {
      "cell_type": "code",
      "source": [
        "PARAM <- list()\n",
        "PARAM$semillas <- c(304879, 304849, 304771, 304541, 301913)  # aqui debe ir sus CINCO\n",
        "PARAM$training_pct <- 70L  # entre  1L y 99L\n",
        "\n",
        "PARAM$rpart <- list (\n",
        "  \"cp\" = -1, # complejidad minima\n",
        "  \"minsplit\" = 170, # minima cantidad de regs en un nodo para hacer el split\n",
        "  \"minbucket\" = 70, # minima cantidad de regs en una hoja\n",
        "  \"maxdepth\" = 7 # profundidad máxima del arbol\n",
        ")\n"
      ],
      "metadata": {
        "id": "yQ2OAP5AA2Wx"
      },
      "execution_count": 29,
      "outputs": []
    },
    {
      "cell_type": "code",
      "source": [
        "# particionar agrega una columna llamada fold a un dataset\n",
        "#  que consiste en una particion estratificada segun agrupa\n",
        "\n",
        "# particionar( data=dataset, division=c(70,30),\n",
        "#  agrupa=clase_ternaria, seed=semilla)   crea una particion 70, 30\n",
        "\n",
        "particionar <- function(\n",
        "    data, division, agrupa = \"\",\n",
        "    campo = \"fold\", start = 1, seed = NA) {\n",
        "  if (!is.na(seed)) set.seed(seed)\n",
        "\n",
        "  bloque <- unlist(mapply(function(x, y) {\n",
        "    rep(y, x)\n",
        "  }, division, seq(from = start, length.out = length(division))))\n",
        "\n",
        "  data[, (campo) := sample(rep(bloque, ceiling(.N / length(bloque))))[1:.N],\n",
        "    by = agrupa\n",
        "  ]\n",
        "}\n"
      ],
      "metadata": {
        "id": "97dMCVJWA2Wy"
      },
      "execution_count": 30,
      "outputs": []
    },
    {
      "cell_type": "code",
      "source": [
        "\n",
        "ArbolEstimarGanancia <- function(semilla, param_basicos) {\n",
        "  # particiono estratificadamente el dataset\n",
        "  particionar(dataset,\n",
        "    division = c(param_basicos$training_pct, 100L -param_basicos$training_pct),\n",
        "    agrupa = \"clase_ternaria\",\n",
        "    seed = semilla # aqui se usa SU semilla\n",
        "  )\n",
        "\n",
        "  # genero el modelo\n",
        "  # predecir clase_ternaria a partir del resto\n",
        "  modelo <- rpart(\"clase_ternaria ~ .\",\n",
        "    data = dataset[fold == 1], # fold==1  es training,  el 70% de los datos\n",
        "    xval = 0,\n",
        "    control = param_basicos$rpart\n",
        "  ) # aqui van los parametros del arbol\n",
        "\n",
        "  # aplico el modelo a los datos de testing\n",
        "  prediccion <- predict(modelo, # el modelo que genere recien\n",
        "    dataset[fold == 2], # fold==2  es testing, el 30% de los datos\n",
        "    type = \"prob\"\n",
        "  ) # type= \"prob\"  es que devuelva la probabilidad\n",
        "\n",
        "  # prediccion es una matriz con TRES columnas,\n",
        "  #  llamadas \"BAJA+1\", \"BAJA+2\"  y \"CONTINUA\"\n",
        "  # cada columna es el vector de probabilidades\n",
        "\n",
        "\n",
        "  # calculo la ganancia en testing  qu es fold==2\n",
        "  ganancia_test <- dataset[\n",
        "    fold == 2,\n",
        "    sum(ifelse(prediccion[, \"BAJA+2\"] > 0.025,\n",
        "      ifelse(clase_ternaria == \"BAJA+2\", 117000, -3000),\n",
        "      0\n",
        "    ))\n",
        "  ]\n",
        "\n",
        "  # escalo la ganancia como si fuera todo el dataset\n",
        "  ganancia_test_normalizada <- ganancia_test / (( 100 - PARAM$training_pct ) / 100 )\n",
        "\n",
        "  return(list(\n",
        "    \"semilla\" = semilla,\n",
        "    \"testing\" = dataset[fold == 2, .N],\n",
        "    \"testing_pos\" = dataset[fold == 2 & clase_ternaria == \"BAJA+2\", .N],\n",
        "    \"envios\" = dataset[fold == 2, sum(prediccion[, \"BAJA+2\"] > 0.025)],\n",
        "    \"aciertos\" = dataset[\n",
        "        fold == 2,\n",
        "        sum(prediccion[, \"BAJA+2\"] > 0.025 & clase_ternaria == \"BAJA+2\")\n",
        "    ],\n",
        "    \"ganancia_test\" = ganancia_test_normalizada\n",
        "  ))\n",
        "}\n"
      ],
      "metadata": {
        "id": "GroZSZoVBuZ5"
      },
      "execution_count": 31,
      "outputs": []
    },
    {
      "cell_type": "code",
      "source": [
        "# carpeta de trabajo\n",
        "setwd(\"/content/buckets/b1/exp\")\n",
        "experimento <- \"exp202\"\n",
        "dir.create(experimento, showWarnings=FALSE)\n",
        "setwd( paste0(\"/content/buckets/b1/exp/\", experimento ))"
      ],
      "metadata": {
        "id": "dJIBIX6kA2Wy"
      },
      "execution_count": 32,
      "outputs": []
    },
    {
      "cell_type": "code",
      "source": [
        "# lectura del dataset\n",
        "dataset <- fread(\"/content/datasets/dataset_pequeno.csv\")\n",
        "\n",
        "# trabajo solo con los datos con clase, es decir 202107\n",
        "dataset <- dataset[clase_ternaria != \"\"]"
      ],
      "metadata": {
        "id": "tKiACdU2A2Wz"
      },
      "execution_count": 33,
      "outputs": []
    },
    {
      "cell_type": "code",
      "source": [
        "\n",
        "# la funcion mcmapply  llama a la funcion ArbolEstimarGanancia\n",
        "#  tantas veces como valores tenga el vector  PARAM$semillas\n",
        "salidas <- mcmapply(ArbolEstimarGanancia,\n",
        "  PARAM$semillas, # paso el vector de semillas\n",
        "  MoreArgs = list(PARAM), # aqui paso el segundo parametro\n",
        "  SIMPLIFY = FALSE,\n",
        "  mc.cores = detectCores()\n",
        ")\n",
        "\n",
        "# muestro la lista de las salidas en testing\n",
        "#  para la particion realizada con cada semilla\n",
        "salidas\n"
      ],
      "metadata": {
        "id": "64OdfeyxCMDF",
        "outputId": "e006b3de-7c6b-4be3-c0df-5cfa257b8f86",
        "colab": {
          "base_uri": "https://localhost:8080/",
          "height": 1087
        }
      },
      "execution_count": 34,
      "outputs": [
        {
          "output_type": "display_data",
          "data": {
            "text/html": [
              "<ol>\n",
              "\t<li><dl>\n",
              "\t<dt>$semilla</dt>\n",
              "\t\t<dd>304879</dd>\n",
              "\t<dt>$testing</dt>\n",
              "\t\t<dd>49384</dd>\n",
              "\t<dt>$testing_pos</dt>\n",
              "\t\t<dd>377</dd>\n",
              "\t<dt>$envios</dt>\n",
              "\t\t<dd>3504</dd>\n",
              "\t<dt>$aciertos</dt>\n",
              "\t\t<dd>210</dd>\n",
              "\t<dt>$ganancia_test</dt>\n",
              "\t\t<dd>48960000</dd>\n",
              "</dl>\n",
              "</li>\n",
              "\t<li><dl>\n",
              "\t<dt>$semilla</dt>\n",
              "\t\t<dd>304849</dd>\n",
              "\t<dt>$testing</dt>\n",
              "\t\t<dd>49383</dd>\n",
              "\t<dt>$testing_pos</dt>\n",
              "\t\t<dd>376</dd>\n",
              "\t<dt>$envios</dt>\n",
              "\t\t<dd>2731</dd>\n",
              "\t<dt>$aciertos</dt>\n",
              "\t\t<dd>188</dd>\n",
              "\t<dt>$ganancia_test</dt>\n",
              "\t\t<dd>47890000</dd>\n",
              "</dl>\n",
              "</li>\n",
              "\t<li><dl>\n",
              "\t<dt>$semilla</dt>\n",
              "\t\t<dd>304771</dd>\n",
              "\t<dt>$testing</dt>\n",
              "\t\t<dd>49383</dd>\n",
              "\t<dt>$testing_pos</dt>\n",
              "\t\t<dd>379</dd>\n",
              "\t<dt>$envios</dt>\n",
              "\t\t<dd>3513</dd>\n",
              "\t<dt>$aciertos</dt>\n",
              "\t\t<dd>213</dd>\n",
              "\t<dt>$ganancia_test</dt>\n",
              "\t\t<dd>50070000</dd>\n",
              "</dl>\n",
              "</li>\n",
              "\t<li><dl>\n",
              "\t<dt>$semilla</dt>\n",
              "\t\t<dd>304541</dd>\n",
              "\t<dt>$testing</dt>\n",
              "\t\t<dd>49384</dd>\n",
              "\t<dt>$testing_pos</dt>\n",
              "\t\t<dd>376</dd>\n",
              "\t<dt>$envios</dt>\n",
              "\t\t<dd>3101</dd>\n",
              "\t<dt>$aciertos</dt>\n",
              "\t\t<dd>206</dd>\n",
              "\t<dt>$ganancia_test</dt>\n",
              "\t\t<dd>51390000</dd>\n",
              "</dl>\n",
              "</li>\n",
              "\t<li><dl>\n",
              "\t<dt>$semilla</dt>\n",
              "\t\t<dd>301913</dd>\n",
              "\t<dt>$testing</dt>\n",
              "\t\t<dd>49372</dd>\n",
              "\t<dt>$testing_pos</dt>\n",
              "\t\t<dd>368</dd>\n",
              "\t<dt>$envios</dt>\n",
              "\t\t<dd>3384</dd>\n",
              "\t<dt>$aciertos</dt>\n",
              "\t\t<dd>186</dd>\n",
              "\t<dt>$ganancia_test</dt>\n",
              "\t\t<dd>40560000</dd>\n",
              "</dl>\n",
              "</li>\n",
              "</ol>\n"
            ],
            "text/markdown": "1. $semilla\n:   304879\n$testing\n:   49384\n$testing_pos\n:   377\n$envios\n:   3504\n$aciertos\n:   210\n$ganancia_test\n:   48960000\n\n\n\n2. $semilla\n:   304849\n$testing\n:   49383\n$testing_pos\n:   376\n$envios\n:   2731\n$aciertos\n:   188\n$ganancia_test\n:   47890000\n\n\n\n3. $semilla\n:   304771\n$testing\n:   49383\n$testing_pos\n:   379\n$envios\n:   3513\n$aciertos\n:   213\n$ganancia_test\n:   50070000\n\n\n\n4. $semilla\n:   304541\n$testing\n:   49384\n$testing_pos\n:   376\n$envios\n:   3101\n$aciertos\n:   206\n$ganancia_test\n:   51390000\n\n\n\n5. $semilla\n:   301913\n$testing\n:   49372\n$testing_pos\n:   368\n$envios\n:   3384\n$aciertos\n:   186\n$ganancia_test\n:   40560000\n\n\n\n\n\n",
            "text/latex": "\\begin{enumerate}\n\\item \\begin{description}\n\\item[\\$semilla] 304879\n\\item[\\$testing] 49384\n\\item[\\$testing\\_pos] 377\n\\item[\\$envios] 3504\n\\item[\\$aciertos] 210\n\\item[\\$ganancia\\_test] 48960000\n\\end{description}\n\n\\item \\begin{description}\n\\item[\\$semilla] 304849\n\\item[\\$testing] 49383\n\\item[\\$testing\\_pos] 376\n\\item[\\$envios] 2731\n\\item[\\$aciertos] 188\n\\item[\\$ganancia\\_test] 47890000\n\\end{description}\n\n\\item \\begin{description}\n\\item[\\$semilla] 304771\n\\item[\\$testing] 49383\n\\item[\\$testing\\_pos] 379\n\\item[\\$envios] 3513\n\\item[\\$aciertos] 213\n\\item[\\$ganancia\\_test] 50070000\n\\end{description}\n\n\\item \\begin{description}\n\\item[\\$semilla] 304541\n\\item[\\$testing] 49384\n\\item[\\$testing\\_pos] 376\n\\item[\\$envios] 3101\n\\item[\\$aciertos] 206\n\\item[\\$ganancia\\_test] 51390000\n\\end{description}\n\n\\item \\begin{description}\n\\item[\\$semilla] 301913\n\\item[\\$testing] 49372\n\\item[\\$testing\\_pos] 368\n\\item[\\$envios] 3384\n\\item[\\$aciertos] 186\n\\item[\\$ganancia\\_test] 40560000\n\\end{description}\n\n\\end{enumerate}\n",
            "text/plain": [
              "[[1]]\n",
              "[[1]]$semilla\n",
              "[1] 304879\n",
              "\n",
              "[[1]]$testing\n",
              "[1] 49384\n",
              "\n",
              "[[1]]$testing_pos\n",
              "[1] 377\n",
              "\n",
              "[[1]]$envios\n",
              "[1] 3504\n",
              "\n",
              "[[1]]$aciertos\n",
              "[1] 210\n",
              "\n",
              "[[1]]$ganancia_test\n",
              "[1] 48960000\n",
              "\n",
              "\n",
              "[[2]]\n",
              "[[2]]$semilla\n",
              "[1] 304849\n",
              "\n",
              "[[2]]$testing\n",
              "[1] 49383\n",
              "\n",
              "[[2]]$testing_pos\n",
              "[1] 376\n",
              "\n",
              "[[2]]$envios\n",
              "[1] 2731\n",
              "\n",
              "[[2]]$aciertos\n",
              "[1] 188\n",
              "\n",
              "[[2]]$ganancia_test\n",
              "[1] 47890000\n",
              "\n",
              "\n",
              "[[3]]\n",
              "[[3]]$semilla\n",
              "[1] 304771\n",
              "\n",
              "[[3]]$testing\n",
              "[1] 49383\n",
              "\n",
              "[[3]]$testing_pos\n",
              "[1] 379\n",
              "\n",
              "[[3]]$envios\n",
              "[1] 3513\n",
              "\n",
              "[[3]]$aciertos\n",
              "[1] 213\n",
              "\n",
              "[[3]]$ganancia_test\n",
              "[1] 50070000\n",
              "\n",
              "\n",
              "[[4]]\n",
              "[[4]]$semilla\n",
              "[1] 304541\n",
              "\n",
              "[[4]]$testing\n",
              "[1] 49384\n",
              "\n",
              "[[4]]$testing_pos\n",
              "[1] 376\n",
              "\n",
              "[[4]]$envios\n",
              "[1] 3101\n",
              "\n",
              "[[4]]$aciertos\n",
              "[1] 206\n",
              "\n",
              "[[4]]$ganancia_test\n",
              "[1] 51390000\n",
              "\n",
              "\n",
              "[[5]]\n",
              "[[5]]$semilla\n",
              "[1] 301913\n",
              "\n",
              "[[5]]$testing\n",
              "[1] 49372\n",
              "\n",
              "[[5]]$testing_pos\n",
              "[1] 368\n",
              "\n",
              "[[5]]$envios\n",
              "[1] 3384\n",
              "\n",
              "[[5]]$aciertos\n",
              "[1] 186\n",
              "\n",
              "[[5]]$ganancia_test\n",
              "[1] 40560000\n",
              "\n"
            ]
          },
          "metadata": {}
        }
      ]
    },
    {
      "cell_type": "code",
      "source": [
        "# paso la lista a vector\n",
        "tb_salida <- rbindlist(salidas)\n",
        "print( tb_salida)"
      ],
      "metadata": {
        "id": "tML9VmH2ECFK",
        "outputId": "3bcf78b9-4ca4-4831-c1b6-08540b1ecb02",
        "colab": {
          "base_uri": "https://localhost:8080/",
          "height": 0
        }
      },
      "execution_count": 35,
      "outputs": [
        {
          "output_type": "stream",
          "name": "stdout",
          "text": [
            "   semilla testing testing_pos envios aciertos ganancia_test\n",
            "     <num>   <int>       <int>  <int>    <int>         <num>\n",
            "1:  304879   49384         377   3504      210      48960000\n",
            "2:  304849   49383         376   2731      188      47890000\n",
            "3:  304771   49383         379   3513      213      50070000\n",
            "4:  304541   49384         376   3101      206      51390000\n",
            "5:  301913   49372         368   3384      186      40560000\n"
          ]
        }
      ]
    },
    {
      "cell_type": "code",
      "source": [
        "# finalmente calculo la media (promedio)  de las ganancias\n",
        "cat( \"ganancia promedio: \", tb_salida[, mean(ganancia_test)], \"\\n\" )"
      ],
      "metadata": {
        "id": "rbHXPfoVENQB",
        "outputId": "2782ace4-7be2-428a-9b17-2c6e56cfa133",
        "colab": {
          "base_uri": "https://localhost:8080/",
          "height": 0
        }
      },
      "execution_count": 36,
      "outputs": [
        {
          "output_type": "stream",
          "name": "stdout",
          "text": [
            "ganancia promedio:  47774000 \n"
          ]
        }
      ]
    },
    {
      "cell_type": "markdown",
      "source": [
        "### Acciones a realizar\n",
        "* Reportar la  *Ganancia Promedio* <br> en la planilla colaborativa hoja  **C2-5sem**\n",
        "* Se discutirá en clase la variabilidad de estos \"ganancia promedio de cinco semillas\""
      ],
      "metadata": {
        "id": "_3xVH6UKA2W6"
      }
    },
    {
      "cell_type": "markdown",
      "source": [
        "\n",
        "\n",
        "---\n",
        "\n"
      ],
      "metadata": {
        "id": "N29m1XGpA2W7"
      }
    },
    {
      "cell_type": "markdown",
      "source": [
        "# 3  Generando n semillas en forma automatica\n",
        "## Clase 02  Experimento 3"
      ],
      "metadata": {
        "id": "zS7WIJciFGc6"
      }
    },
    {
      "cell_type": "markdown",
      "source": [
        "## 3.1  Objetivos\n",
        "Mostrar la creación de nuevas semillas a partir de la librería Primes"
      ],
      "metadata": {
        "id": "VmiFDDDJFUEo"
      }
    },
    {
      "cell_type": "markdown",
      "source": [
        "3.2  Código\n",
        "\n",
        "Como generar muchas semillas a partir de una"
      ],
      "metadata": {
        "id": "Ehe3VfdfFbvg"
      }
    },
    {
      "cell_type": "code",
      "source": [
        "# instalo y cargo la libreria  primes\n",
        "if (!require(\"primes\")) install.packages(\"primes\")\n",
        "require(\"primes\")"
      ],
      "metadata": {
        "id": "X6_dE42yF2-t",
        "outputId": "4f557d89-ba91-4631-d421-98b0a6bad203",
        "colab": {
          "base_uri": "https://localhost:8080/",
          "height": 0
        }
      },
      "execution_count": 37,
      "outputs": [
        {
          "output_type": "stream",
          "name": "stderr",
          "text": [
            "Loading required package: primes\n",
            "\n",
            "Warning message in library(package, lib.loc = lib.loc, character.only = TRUE, logical.return = TRUE, :\n",
            "“there is no package called ‘primes’”\n",
            "Installing package into ‘/usr/local/lib/R/site-library’\n",
            "(as ‘lib’ is unspecified)\n",
            "\n",
            "Loading required package: primes\n",
            "\n"
          ]
        }
      ]
    },
    {
      "cell_type": "code",
      "source": [
        "# genero numeros primos\n",
        "primos <- generate_primes(min = 100000, max = 1000000)\n",
        "\n",
        "\n",
        "set.seed(304879) # inicializo con mi primer semilla\n",
        "\n",
        "# me quedo con por ejemplo 20 primos al azar\n",
        "semillas <- sample(primos, 20 )\n",
        "\n",
        "print( semillas )"
      ],
      "metadata": {
        "id": "yDU9RyV4FNhZ",
        "outputId": "39a682b1-6203-4eff-f9d7-6595388ce53b",
        "colab": {
          "base_uri": "https://localhost:8080/",
          "height": 0
        }
      },
      "execution_count": 38,
      "outputs": [
        {
          "output_type": "stream",
          "name": "stdout",
          "text": [
            " [1] 828941 176321 675391 785963 174197 674159 935581 370663 472123 888047\n",
            "[11] 702281 698251 766739 684961 777859 296353 229763 891493 304501 223009\n"
          ]
        }
      ]
    },
    {
      "cell_type": "markdown",
      "source": [
        "\n",
        "\n",
        "---\n",
        "\n"
      ],
      "metadata": {
        "id": "eD_cO5VTGGea"
      }
    },
    {
      "cell_type": "code",
      "source": [],
      "metadata": {
        "id": "k-rgoA2ZFll4"
      },
      "execution_count": null,
      "outputs": []
    },
    {
      "cell_type": "markdown",
      "source": [
        "# 4  Medición  50-Monte Carlo Cross Validation\n",
        "## Clase 02  Experimento 4"
      ],
      "metadata": {
        "id": "cZi29THsGil_"
      }
    },
    {
      "cell_type": "markdown",
      "source": [
        "## 4.1  Objetivos\n",
        "Calcular la ganancia del modelo utilizando 50 semillas nuevas generadas a partir de mi semilla primigenia."
      ],
      "metadata": {
        "id": "qFNq6ntVGimN"
      }
    },
    {
      "cell_type": "markdown",
      "source": [
        "## 4.4 Codigo  50 Montecarlo"
      ],
      "metadata": {
        "id": "B6KtuhQCGimP"
      }
    },
    {
      "cell_type": "markdown",
      "source": [
        "Esta parte se debe correr con el runtime en lenguaje **R** Ir al menu, Runtime -> Change Runtime Tipe -> Runtime type -> R"
      ],
      "metadata": {
        "id": "LgGgjPQuGimP"
      }
    },
    {
      "cell_type": "markdown",
      "source": [
        "Este punto demora en correr 60 minutos en Google Colab, con lo cual para continuar con el punto siguiente deberá abrir un nuevo Colab"
      ],
      "metadata": {
        "id": "E82ChuO25OYx"
      }
    },
    {
      "cell_type": "markdown",
      "source": [
        "limpio el ambiente de R"
      ],
      "metadata": {
        "id": "a6AxqLwOGimQ"
      }
    },
    {
      "cell_type": "code",
      "source": [
        "# limpio la memoria\n",
        "rm(list=ls(all.names=TRUE)) # remove all objects\n",
        "gc(full=TRUE, verbose=FALSE) # garbage collection"
      ],
      "metadata": {
        "id": "797Ad0_QGimQ",
        "outputId": "3f3b4084-13f1-46bd-ed3a-3ac6d9719ea4",
        "colab": {
          "base_uri": "https://localhost:8080/",
          "height": 130
        }
      },
      "execution_count": 39,
      "outputs": [
        {
          "output_type": "display_data",
          "data": {
            "text/html": [
              "<table class=\"dataframe\">\n",
              "<caption>A matrix: 2 × 6 of type dbl</caption>\n",
              "<thead>\n",
              "\t<tr><th></th><th scope=col>used</th><th scope=col>(Mb)</th><th scope=col>gc trigger</th><th scope=col>(Mb)</th><th scope=col>max used</th><th scope=col>(Mb)</th></tr>\n",
              "</thead>\n",
              "<tbody>\n",
              "\t<tr><th scope=row>Ncells</th><td> 831807</td><td>44.5</td><td> 1454471</td><td> 77.7</td><td>  1454471</td><td> 77.7</td></tr>\n",
              "\t<tr><th scope=row>Vcells</th><td>1567109</td><td>12.0</td><td>53599978</td><td>409.0</td><td>103913292</td><td>792.8</td></tr>\n",
              "</tbody>\n",
              "</table>\n"
            ],
            "text/markdown": "\nA matrix: 2 × 6 of type dbl\n\n| <!--/--> | used | (Mb) | gc trigger | (Mb) | max used | (Mb) |\n|---|---|---|---|---|---|---|\n| Ncells |  831807 | 44.5 |  1454471 |  77.7 |   1454471 |  77.7 |\n| Vcells | 1567109 | 12.0 | 53599978 | 409.0 | 103913292 | 792.8 |\n\n",
            "text/latex": "A matrix: 2 × 6 of type dbl\n\\begin{tabular}{r|llllll}\n  & used & (Mb) & gc trigger & (Mb) & max used & (Mb)\\\\\n\\hline\n\tNcells &  831807 & 44.5 &  1454471 &  77.7 &   1454471 &  77.7\\\\\n\tVcells & 1567109 & 12.0 & 53599978 & 409.0 & 103913292 & 792.8\\\\\n\\end{tabular}\n",
            "text/plain": [
              "       used    (Mb) gc trigger (Mb)  max used  (Mb) \n",
              "Ncells  831807 44.5  1454471    77.7   1454471  77.7\n",
              "Vcells 1567109 12.0 53599978   409.0 103913292 792.8"
            ]
          },
          "metadata": {}
        }
      ]
    },
    {
      "cell_type": "markdown",
      "source": [
        "* Instalacion de la libreria  rpart.plot  para dibujar el arbol\n",
        "* invocacion de las librerias  **data.table** y  **rpart**"
      ],
      "metadata": {
        "id": "v0CepvbjGimQ"
      }
    },
    {
      "cell_type": "code",
      "source": [
        "# cargo las librerias que necesito\n",
        "require(\"data.table\")\n",
        "require(\"rpart\")\n",
        "require(\"parallel\")\n",
        "\n",
        "if (!require(\"primes\")) install.packages(\"primes\")\n",
        "require(\"primes\")"
      ],
      "metadata": {
        "id": "CRkZ1V2_GimR"
      },
      "execution_count": 40,
      "outputs": []
    },
    {
      "cell_type": "markdown",
      "source": [
        "###  Accion a Realizar\n",
        "PARAM$semilla_primigenia  debe reemplazarse por SU primer semilla"
      ],
      "metadata": {
        "id": "PZKJG-nSGimR"
      }
    },
    {
      "cell_type": "code",
      "source": [
        "PARAM <- list()\n",
        "PARAM$semilla_primigenia <- 304879\n",
        "PARAM$qsemillas <- 50\n",
        "PARAM$training_pct <- 70L  # entre  1L y 99L\n",
        "\n",
        "PARAM$rpart <- list (\n",
        "  \"cp\" = -1, # complejidad minima\n",
        "  \"minsplit\" = 170, # minima cantidad de regs en un nodo para hacer el split\n",
        "  \"minbucket\" = 70, # minima cantidad de regs en una hoja\n",
        "  \"maxdepth\" = 7 # profundidad máxima del arbol\n",
        ")\n"
      ],
      "metadata": {
        "id": "4kbkA-2HGimR"
      },
      "execution_count": 41,
      "outputs": []
    },
    {
      "cell_type": "code",
      "source": [
        "# particionar agrega una columna llamada fold a un dataset\n",
        "#  que consiste en una particion estratificada segun agrupa\n",
        "\n",
        "# particionar( data=dataset, division=c(70,30),\n",
        "#  agrupa=clase_ternaria, seed=semilla)   crea una particion 70, 30\n",
        "\n",
        "particionar <- function(\n",
        "    data, division, agrupa = \"\",\n",
        "    campo = \"fold\", start = 1, seed = NA) {\n",
        "  if (!is.na(seed)) set.seed(seed)\n",
        "\n",
        "  bloque <- unlist(mapply(function(x, y) {\n",
        "    rep(y, x)\n",
        "  }, division, seq(from = start, length.out = length(division))))\n",
        "\n",
        "  data[, (campo) := sample(rep(bloque, ceiling(.N / length(bloque))))[1:.N],\n",
        "    by = agrupa\n",
        "  ]\n",
        "}\n"
      ],
      "metadata": {
        "id": "HME0qUeOGimS"
      },
      "execution_count": 42,
      "outputs": []
    },
    {
      "cell_type": "code",
      "source": [
        "\n",
        "ArbolEstimarGanancia <- function(semilla, param_basicos) {\n",
        "  # particiono estratificadamente el dataset\n",
        "  particionar(dataset,\n",
        "    division = c(param_basicos$training_pct, 100L -param_basicos$training_pct),\n",
        "    agrupa = \"clase_ternaria\",\n",
        "    seed = semilla # aqui se usa SU semilla\n",
        "  )\n",
        "\n",
        "  # genero el modelo\n",
        "  # predecir clase_ternaria a partir del resto\n",
        "  modelo <- rpart(\"clase_ternaria ~ .\",\n",
        "    data = dataset[fold == 1], # fold==1  es training,  el 70% de los datos\n",
        "    xval = 0,\n",
        "    control = param_basicos$rpart\n",
        "  ) # aqui van los parametros del arbol\n",
        "\n",
        "  # aplico el modelo a los datos de testing\n",
        "  prediccion <- predict(modelo, # el modelo que genere recien\n",
        "    dataset[fold == 2], # fold==2  es testing, el 30% de los datos\n",
        "    type = \"prob\"\n",
        "  ) # type= \"prob\"  es que devuelva la probabilidad\n",
        "\n",
        "  # prediccion es una matriz con TRES columnas,\n",
        "  #  llamadas \"BAJA+1\", \"BAJA+2\"  y \"CONTINUA\"\n",
        "  # cada columna es el vector de probabilidades\n",
        "\n",
        "\n",
        "  # calculo la ganancia en testing  qu es fold==2\n",
        "  ganancia_test <- dataset[\n",
        "    fold == 2,\n",
        "    sum(ifelse(prediccion[, \"BAJA+2\"] > 0.025,\n",
        "      ifelse(clase_ternaria == \"BAJA+2\", 117000, -3000),\n",
        "      0\n",
        "    ))\n",
        "  ]\n",
        "\n",
        "  # escalo la ganancia como si fuera todo el dataset\n",
        "  ganancia_test_normalizada <- ganancia_test / (( 100 - PARAM$training_pct ) / 100 )\n",
        "\n",
        "  return(list(\n",
        "    \"semilla\" = semilla,\n",
        "    \"testing\" = dataset[fold == 2, .N],\n",
        "    \"testing_pos\" = dataset[fold == 2 & clase_ternaria == \"BAJA+2\", .N],\n",
        "    \"envios\" = dataset[fold == 2, sum(prediccion[, \"BAJA+2\"] > 0.025)],\n",
        "    \"aciertos\" = dataset[\n",
        "        fold == 2,\n",
        "        sum(prediccion[, \"BAJA+2\"] > 0.025 & clase_ternaria == \"BAJA+2\")\n",
        "    ],\n",
        "    \"ganancia_test\" = ganancia_test_normalizada\n",
        "  ))\n",
        "}\n"
      ],
      "metadata": {
        "id": "ro9Ufoi-GimS"
      },
      "execution_count": 43,
      "outputs": []
    },
    {
      "cell_type": "code",
      "source": [
        "# carpeta de trabajo\n",
        "setwd(\"/content/buckets/b1/exp\")\n",
        "experimento <- \"exp204\"\n",
        "dir.create(experimento, showWarnings=FALSE)\n",
        "setwd( paste0(\"/content/buckets/b1/exp/\", experimento ))"
      ],
      "metadata": {
        "id": "gz7LgltwGimT"
      },
      "execution_count": 44,
      "outputs": []
    },
    {
      "cell_type": "code",
      "source": [
        "# lectura del dataset\n",
        "dataset <- fread(\"/content/datasets/dataset_pequeno.csv\")\n",
        "\n",
        "# trabajo solo con los datos con clase, es decir 202107\n",
        "dataset <- dataset[clase_ternaria != \"\"]"
      ],
      "metadata": {
        "id": "xRXKHeLeGimT"
      },
      "execution_count": 45,
      "outputs": []
    },
    {
      "cell_type": "code",
      "source": [
        "# genero numeros primos\n",
        "primos <- generate_primes(min = 100000, max = 1000000)\n",
        "set.seed(PARAM$semilla_primigenia) # inicializo\n",
        "\n",
        "# me quedo con PARAM$qsemillas   semillas\n",
        "PARAM$semillas <- sample(primos, PARAM$qsemillas )"
      ],
      "metadata": {
        "id": "MdpZ10qiHSZy"
      },
      "execution_count": 46,
      "outputs": []
    },
    {
      "cell_type": "code",
      "source": [
        "\n",
        "# la funcion mcmapply  llama a la funcion ArbolEstimarGanancia\n",
        "#  tantas veces como valores tenga el vector  PARAM$semillas\n",
        "salidas <- mcmapply(ArbolEstimarGanancia,\n",
        "  PARAM$semillas, # paso el vector de semillas\n",
        "  MoreArgs = list(PARAM), # aqui paso el segundo parametro\n",
        "  SIMPLIFY = FALSE,\n",
        "  mc.cores = detectCores()\n",
        ")\n",
        "\n",
        "# muestro la lista de las salidas en testing\n",
        "#  para la particion realizada con cada semilla\n",
        "salidas\n"
      ],
      "metadata": {
        "id": "r-YaawpgGimU",
        "outputId": "b075ebb3-b42b-46c2-f512-b6777df51aa4",
        "colab": {
          "base_uri": "https://localhost:8080/",
          "height": 10465
        }
      },
      "execution_count": 47,
      "outputs": [
        {
          "output_type": "display_data",
          "data": {
            "text/html": [
              "<ol>\n",
              "\t<li><dl>\n",
              "\t<dt>$semilla</dt>\n",
              "\t\t<dd>828941</dd>\n",
              "\t<dt>$testing</dt>\n",
              "\t\t<dd>49383</dd>\n",
              "\t<dt>$testing_pos</dt>\n",
              "\t\t<dd>374</dd>\n",
              "\t<dt>$envios</dt>\n",
              "\t\t<dd>3700</dd>\n",
              "\t<dt>$aciertos</dt>\n",
              "\t\t<dd>226</dd>\n",
              "\t<dt>$ganancia_test</dt>\n",
              "\t\t<dd>53400000</dd>\n",
              "</dl>\n",
              "</li>\n",
              "\t<li><dl>\n",
              "\t<dt>$semilla</dt>\n",
              "\t\t<dd>176321</dd>\n",
              "\t<dt>$testing</dt>\n",
              "\t\t<dd>49378</dd>\n",
              "\t<dt>$testing_pos</dt>\n",
              "\t\t<dd>369</dd>\n",
              "\t<dt>$envios</dt>\n",
              "\t\t<dd>3824</dd>\n",
              "\t<dt>$aciertos</dt>\n",
              "\t\t<dd>197</dd>\n",
              "\t<dt>$ganancia_test</dt>\n",
              "\t\t<dd>40560000</dd>\n",
              "</dl>\n",
              "</li>\n",
              "\t<li><dl>\n",
              "\t<dt>$semilla</dt>\n",
              "\t\t<dd>675391</dd>\n",
              "\t<dt>$testing</dt>\n",
              "\t\t<dd>49399</dd>\n",
              "\t<dt>$testing_pos</dt>\n",
              "\t\t<dd>380</dd>\n",
              "\t<dt>$envios</dt>\n",
              "\t\t<dd>3237</dd>\n",
              "\t<dt>$aciertos</dt>\n",
              "\t\t<dd>202</dd>\n",
              "\t<dt>$ganancia_test</dt>\n",
              "\t\t<dd>48430000</dd>\n",
              "</dl>\n",
              "</li>\n",
              "\t<li><dl>\n",
              "\t<dt>$semilla</dt>\n",
              "\t\t<dd>785963</dd>\n",
              "\t<dt>$testing</dt>\n",
              "\t\t<dd>49383</dd>\n",
              "\t<dt>$testing_pos</dt>\n",
              "\t\t<dd>374</dd>\n",
              "\t<dt>$envios</dt>\n",
              "\t\t<dd>3883</dd>\n",
              "\t<dt>$aciertos</dt>\n",
              "\t\t<dd>221</dd>\n",
              "\t<dt>$ganancia_test</dt>\n",
              "\t\t<dd>49570000</dd>\n",
              "</dl>\n",
              "</li>\n",
              "\t<li><dl>\n",
              "\t<dt>$semilla</dt>\n",
              "\t\t<dd>174197</dd>\n",
              "\t<dt>$testing</dt>\n",
              "\t\t<dd>49383</dd>\n",
              "\t<dt>$testing_pos</dt>\n",
              "\t\t<dd>373</dd>\n",
              "\t<dt>$envios</dt>\n",
              "\t\t<dd>3465</dd>\n",
              "\t<dt>$aciertos</dt>\n",
              "\t\t<dd>199</dd>\n",
              "\t<dt>$ganancia_test</dt>\n",
              "\t\t<dd>44950000</dd>\n",
              "</dl>\n",
              "</li>\n",
              "\t<li><dl>\n",
              "\t<dt>$semilla</dt>\n",
              "\t\t<dd>674159</dd>\n",
              "\t<dt>$testing</dt>\n",
              "\t\t<dd>49387</dd>\n",
              "\t<dt>$testing_pos</dt>\n",
              "\t\t<dd>377</dd>\n",
              "\t<dt>$envios</dt>\n",
              "\t\t<dd>3863</dd>\n",
              "\t<dt>$aciertos</dt>\n",
              "\t\t<dd>204</dd>\n",
              "\t<dt>$ganancia_test</dt>\n",
              "\t\t<dd>42970000</dd>\n",
              "</dl>\n",
              "</li>\n",
              "\t<li><dl>\n",
              "\t<dt>$semilla</dt>\n",
              "\t\t<dd>935581</dd>\n",
              "\t<dt>$testing</dt>\n",
              "\t\t<dd>49386</dd>\n",
              "\t<dt>$testing_pos</dt>\n",
              "\t\t<dd>379</dd>\n",
              "\t<dt>$envios</dt>\n",
              "\t\t<dd>4465</dd>\n",
              "\t<dt>$aciertos</dt>\n",
              "\t\t<dd>242</dd>\n",
              "\t<dt>$ganancia_test</dt>\n",
              "\t\t<dd>52150000</dd>\n",
              "</dl>\n",
              "</li>\n",
              "\t<li><dl>\n",
              "\t<dt>$semilla</dt>\n",
              "\t\t<dd>370663</dd>\n",
              "\t<dt>$testing</dt>\n",
              "\t\t<dd>49389</dd>\n",
              "\t<dt>$testing_pos</dt>\n",
              "\t\t<dd>379</dd>\n",
              "\t<dt>$envios</dt>\n",
              "\t\t<dd>3685</dd>\n",
              "\t<dt>$aciertos</dt>\n",
              "\t\t<dd>212</dd>\n",
              "\t<dt>$ganancia_test</dt>\n",
              "\t\t<dd>47950000</dd>\n",
              "</dl>\n",
              "</li>\n",
              "\t<li><dl>\n",
              "\t<dt>$semilla</dt>\n",
              "\t\t<dd>472123</dd>\n",
              "\t<dt>$testing</dt>\n",
              "\t\t<dd>49389</dd>\n",
              "\t<dt>$testing_pos</dt>\n",
              "\t\t<dd>372</dd>\n",
              "\t<dt>$envios</dt>\n",
              "\t\t<dd>4015</dd>\n",
              "\t<dt>$aciertos</dt>\n",
              "\t\t<dd>228</dd>\n",
              "\t<dt>$ganancia_test</dt>\n",
              "\t\t<dd>51050000</dd>\n",
              "</dl>\n",
              "</li>\n",
              "\t<li><dl>\n",
              "\t<dt>$semilla</dt>\n",
              "\t\t<dd>888047</dd>\n",
              "\t<dt>$testing</dt>\n",
              "\t\t<dd>49371</dd>\n",
              "\t<dt>$testing_pos</dt>\n",
              "\t\t<dd>372</dd>\n",
              "\t<dt>$envios</dt>\n",
              "\t\t<dd>3384</dd>\n",
              "\t<dt>$aciertos</dt>\n",
              "\t\t<dd>205</dd>\n",
              "\t<dt>$ganancia_test</dt>\n",
              "\t\t<dd>48160000</dd>\n",
              "</dl>\n",
              "</li>\n",
              "\t<li><dl>\n",
              "\t<dt>$semilla</dt>\n",
              "\t\t<dd>702281</dd>\n",
              "\t<dt>$testing</dt>\n",
              "\t\t<dd>49380</dd>\n",
              "\t<dt>$testing_pos</dt>\n",
              "\t\t<dd>374</dd>\n",
              "\t<dt>$envios</dt>\n",
              "\t\t<dd>3173</dd>\n",
              "\t<dt>$aciertos</dt>\n",
              "\t\t<dd>205</dd>\n",
              "\t<dt>$ganancia_test</dt>\n",
              "\t\t<dd>50270000</dd>\n",
              "</dl>\n",
              "</li>\n",
              "\t<li><dl>\n",
              "\t<dt>$semilla</dt>\n",
              "\t\t<dd>698251</dd>\n",
              "\t<dt>$testing</dt>\n",
              "\t\t<dd>49383</dd>\n",
              "\t<dt>$testing_pos</dt>\n",
              "\t\t<dd>377</dd>\n",
              "\t<dt>$envios</dt>\n",
              "\t\t<dd>2866</dd>\n",
              "\t<dt>$aciertos</dt>\n",
              "\t\t<dd>183</dd>\n",
              "\t<dt>$ganancia_test</dt>\n",
              "\t\t<dd>44540000</dd>\n",
              "</dl>\n",
              "</li>\n",
              "\t<li><dl>\n",
              "\t<dt>$semilla</dt>\n",
              "\t\t<dd>766739</dd>\n",
              "\t<dt>$testing</dt>\n",
              "\t\t<dd>49371</dd>\n",
              "\t<dt>$testing_pos</dt>\n",
              "\t\t<dd>374</dd>\n",
              "\t<dt>$envios</dt>\n",
              "\t\t<dd>3335</dd>\n",
              "\t<dt>$aciertos</dt>\n",
              "\t\t<dd>188</dd>\n",
              "\t<dt>$ganancia_test</dt>\n",
              "\t\t<dd>41850000</dd>\n",
              "</dl>\n",
              "</li>\n",
              "\t<li><dl>\n",
              "\t<dt>$semilla</dt>\n",
              "\t\t<dd>684961</dd>\n",
              "\t<dt>$testing</dt>\n",
              "\t\t<dd>49395</dd>\n",
              "\t<dt>$testing_pos</dt>\n",
              "\t\t<dd>375</dd>\n",
              "\t<dt>$envios</dt>\n",
              "\t\t<dd>3944</dd>\n",
              "\t<dt>$aciertos</dt>\n",
              "\t\t<dd>213</dd>\n",
              "\t<dt>$ganancia_test</dt>\n",
              "\t\t<dd>45760000</dd>\n",
              "</dl>\n",
              "</li>\n",
              "\t<li><dl>\n",
              "\t<dt>$semilla</dt>\n",
              "\t\t<dd>777859</dd>\n",
              "\t<dt>$testing</dt>\n",
              "\t\t<dd>49386</dd>\n",
              "\t<dt>$testing_pos</dt>\n",
              "\t\t<dd>375</dd>\n",
              "\t<dt>$envios</dt>\n",
              "\t\t<dd>3468</dd>\n",
              "\t<dt>$aciertos</dt>\n",
              "\t\t<dd>202</dd>\n",
              "\t<dt>$ganancia_test</dt>\n",
              "\t\t<dd>46120000</dd>\n",
              "</dl>\n",
              "</li>\n",
              "\t<li><dl>\n",
              "\t<dt>$semilla</dt>\n",
              "\t\t<dd>296353</dd>\n",
              "\t<dt>$testing</dt>\n",
              "\t\t<dd>49388</dd>\n",
              "\t<dt>$testing_pos</dt>\n",
              "\t\t<dd>382</dd>\n",
              "\t<dt>$envios</dt>\n",
              "\t\t<dd>3448</dd>\n",
              "\t<dt>$aciertos</dt>\n",
              "\t\t<dd>205</dd>\n",
              "\t<dt>$ganancia_test</dt>\n",
              "\t\t<dd>47520000</dd>\n",
              "</dl>\n",
              "</li>\n",
              "\t<li><dl>\n",
              "\t<dt>$semilla</dt>\n",
              "\t\t<dd>229763</dd>\n",
              "\t<dt>$testing</dt>\n",
              "\t\t<dd>49378</dd>\n",
              "\t<dt>$testing_pos</dt>\n",
              "\t\t<dd>374</dd>\n",
              "\t<dt>$envios</dt>\n",
              "\t\t<dd>3006</dd>\n",
              "\t<dt>$aciertos</dt>\n",
              "\t\t<dd>214</dd>\n",
              "\t<dt>$ganancia_test</dt>\n",
              "\t\t<dd>55540000</dd>\n",
              "</dl>\n",
              "</li>\n",
              "\t<li><dl>\n",
              "\t<dt>$semilla</dt>\n",
              "\t\t<dd>891493</dd>\n",
              "\t<dt>$testing</dt>\n",
              "\t\t<dd>49379</dd>\n",
              "\t<dt>$testing_pos</dt>\n",
              "\t\t<dd>374</dd>\n",
              "\t<dt>$envios</dt>\n",
              "\t\t<dd>3597</dd>\n",
              "\t<dt>$aciertos</dt>\n",
              "\t\t<dd>222</dd>\n",
              "\t<dt>$ganancia_test</dt>\n",
              "\t\t<dd>52830000</dd>\n",
              "</dl>\n",
              "</li>\n",
              "\t<li><dl>\n",
              "\t<dt>$semilla</dt>\n",
              "\t\t<dd>304501</dd>\n",
              "\t<dt>$testing</dt>\n",
              "\t\t<dd>49386</dd>\n",
              "\t<dt>$testing_pos</dt>\n",
              "\t\t<dd>370</dd>\n",
              "\t<dt>$envios</dt>\n",
              "\t\t<dd>3774</dd>\n",
              "\t<dt>$aciertos</dt>\n",
              "\t\t<dd>212</dd>\n",
              "\t<dt>$ganancia_test</dt>\n",
              "\t\t<dd>47060000</dd>\n",
              "</dl>\n",
              "</li>\n",
              "\t<li><dl>\n",
              "\t<dt>$semilla</dt>\n",
              "\t\t<dd>223009</dd>\n",
              "\t<dt>$testing</dt>\n",
              "\t\t<dd>49390</dd>\n",
              "\t<dt>$testing_pos</dt>\n",
              "\t\t<dd>378</dd>\n",
              "\t<dt>$envios</dt>\n",
              "\t\t<dd>3367</dd>\n",
              "\t<dt>$aciertos</dt>\n",
              "\t\t<dd>210</dd>\n",
              "\t<dt>$ganancia_test</dt>\n",
              "\t\t<dd>50330000</dd>\n",
              "</dl>\n",
              "</li>\n",
              "\t<li><dl>\n",
              "\t<dt>$semilla</dt>\n",
              "\t\t<dd>143779</dd>\n",
              "\t<dt>$testing</dt>\n",
              "\t\t<dd>49384</dd>\n",
              "\t<dt>$testing_pos</dt>\n",
              "\t\t<dd>379</dd>\n",
              "\t<dt>$envios</dt>\n",
              "\t\t<dd>3919</dd>\n",
              "\t<dt>$aciertos</dt>\n",
              "\t\t<dd>223</dd>\n",
              "\t<dt>$ganancia_test</dt>\n",
              "\t\t<dd>50010000</dd>\n",
              "</dl>\n",
              "</li>\n",
              "\t<li><dl>\n",
              "\t<dt>$semilla</dt>\n",
              "\t\t<dd>133781</dd>\n",
              "\t<dt>$testing</dt>\n",
              "\t\t<dd>49377</dd>\n",
              "\t<dt>$testing_pos</dt>\n",
              "\t\t<dd>373</dd>\n",
              "\t<dt>$envios</dt>\n",
              "\t\t<dd>3843</dd>\n",
              "\t<dt>$aciertos</dt>\n",
              "\t\t<dd>217</dd>\n",
              "\t<dt>$ganancia_test</dt>\n",
              "\t\t<dd>48370000</dd>\n",
              "</dl>\n",
              "</li>\n",
              "\t<li><dl>\n",
              "\t<dt>$semilla</dt>\n",
              "\t\t<dd>453889</dd>\n",
              "\t<dt>$testing</dt>\n",
              "\t\t<dd>49385</dd>\n",
              "\t<dt>$testing_pos</dt>\n",
              "\t\t<dd>373</dd>\n",
              "\t<dt>$envios</dt>\n",
              "\t\t<dd>3742</dd>\n",
              "\t<dt>$aciertos</dt>\n",
              "\t\t<dd>203</dd>\n",
              "\t<dt>$ganancia_test</dt>\n",
              "\t\t<dd>43780000</dd>\n",
              "</dl>\n",
              "</li>\n",
              "\t<li><dl>\n",
              "\t<dt>$semilla</dt>\n",
              "\t\t<dd>992393</dd>\n",
              "\t<dt>$testing</dt>\n",
              "\t\t<dd>49380</dd>\n",
              "\t<dt>$testing_pos</dt>\n",
              "\t\t<dd>375</dd>\n",
              "\t<dt>$envios</dt>\n",
              "\t\t<dd>3505</dd>\n",
              "\t<dt>$aciertos</dt>\n",
              "\t\t<dd>213</dd>\n",
              "\t<dt>$ganancia_test</dt>\n",
              "\t\t<dd>50150000</dd>\n",
              "</dl>\n",
              "</li>\n",
              "\t<li><dl>\n",
              "\t<dt>$semilla</dt>\n",
              "\t\t<dd>669701</dd>\n",
              "\t<dt>$testing</dt>\n",
              "\t\t<dd>49372</dd>\n",
              "\t<dt>$testing_pos</dt>\n",
              "\t\t<dd>375</dd>\n",
              "\t<dt>$envios</dt>\n",
              "\t\t<dd>2552</dd>\n",
              "\t<dt>$aciertos</dt>\n",
              "\t\t<dd>175</dd>\n",
              "\t<dt>$ganancia_test</dt>\n",
              "\t\t<dd>44480000</dd>\n",
              "</dl>\n",
              "</li>\n",
              "\t<li><dl>\n",
              "\t<dt>$semilla</dt>\n",
              "\t\t<dd>247729</dd>\n",
              "\t<dt>$testing</dt>\n",
              "\t\t<dd>49380</dd>\n",
              "\t<dt>$testing_pos</dt>\n",
              "\t\t<dd>380</dd>\n",
              "\t<dt>$envios</dt>\n",
              "\t\t<dd>2738</dd>\n",
              "\t<dt>$aciertos</dt>\n",
              "\t\t<dd>177</dd>\n",
              "\t<dt>$ganancia_test</dt>\n",
              "\t\t<dd>43420000</dd>\n",
              "</dl>\n",
              "</li>\n",
              "\t<li><dl>\n",
              "\t<dt>$semilla</dt>\n",
              "\t\t<dd>341293</dd>\n",
              "\t<dt>$testing</dt>\n",
              "\t\t<dd>49383</dd>\n",
              "\t<dt>$testing_pos</dt>\n",
              "\t\t<dd>377</dd>\n",
              "\t<dt>$envios</dt>\n",
              "\t\t<dd>3228</dd>\n",
              "\t<dt>$aciertos</dt>\n",
              "\t\t<dd>199</dd>\n",
              "\t<dt>$ganancia_test</dt>\n",
              "\t\t<dd>47320000</dd>\n",
              "</dl>\n",
              "</li>\n",
              "\t<li><dl>\n",
              "\t<dt>$semilla</dt>\n",
              "\t\t<dd>986759</dd>\n",
              "\t<dt>$testing</dt>\n",
              "\t\t<dd>49374</dd>\n",
              "\t<dt>$testing_pos</dt>\n",
              "\t\t<dd>373</dd>\n",
              "\t<dt>$envios</dt>\n",
              "\t\t<dd>3454</dd>\n",
              "\t<dt>$aciertos</dt>\n",
              "\t\t<dd>200</dd>\n",
              "\t<dt>$ganancia_test</dt>\n",
              "\t\t<dd>45460000</dd>\n",
              "</dl>\n",
              "</li>\n",
              "\t<li><dl>\n",
              "\t<dt>$semilla</dt>\n",
              "\t\t<dd>994237</dd>\n",
              "\t<dt>$testing</dt>\n",
              "\t\t<dd>49388</dd>\n",
              "\t<dt>$testing_pos</dt>\n",
              "\t\t<dd>376</dd>\n",
              "\t<dt>$envios</dt>\n",
              "\t\t<dd>2980</dd>\n",
              "\t<dt>$aciertos</dt>\n",
              "\t\t<dd>174</dd>\n",
              "\t<dt>$ganancia_test</dt>\n",
              "\t\t<dd>39800000</dd>\n",
              "</dl>\n",
              "</li>\n",
              "\t<li><dl>\n",
              "\t<dt>$semilla</dt>\n",
              "\t\t<dd>116099</dd>\n",
              "\t<dt>$testing</dt>\n",
              "\t\t<dd>49385</dd>\n",
              "\t<dt>$testing_pos</dt>\n",
              "\t\t<dd>383</dd>\n",
              "\t<dt>$envios</dt>\n",
              "\t\t<dd>3161</dd>\n",
              "\t<dt>$aciertos</dt>\n",
              "\t\t<dd>210</dd>\n",
              "\t<dt>$ganancia_test</dt>\n",
              "\t\t<dd>52390000</dd>\n",
              "</dl>\n",
              "</li>\n",
              "\t<li><dl>\n",
              "\t<dt>$semilla</dt>\n",
              "\t\t<dd>366841</dd>\n",
              "\t<dt>$testing</dt>\n",
              "\t\t<dd>49373</dd>\n",
              "\t<dt>$testing_pos</dt>\n",
              "\t\t<dd>370</dd>\n",
              "\t<dt>$envios</dt>\n",
              "\t\t<dd>3143</dd>\n",
              "\t<dt>$aciertos</dt>\n",
              "\t\t<dd>204</dd>\n",
              "\t<dt>$ganancia_test</dt>\n",
              "\t\t<dd>50170000</dd>\n",
              "</dl>\n",
              "</li>\n",
              "\t<li><dl>\n",
              "\t<dt>$semilla</dt>\n",
              "\t\t<dd>120391</dd>\n",
              "\t<dt>$testing</dt>\n",
              "\t\t<dd>49388</dd>\n",
              "\t<dt>$testing_pos</dt>\n",
              "\t\t<dd>373</dd>\n",
              "\t<dt>$envios</dt>\n",
              "\t\t<dd>4535</dd>\n",
              "\t<dt>$aciertos</dt>\n",
              "\t\t<dd>224</dd>\n",
              "\t<dt>$ganancia_test</dt>\n",
              "\t\t<dd>44250000</dd>\n",
              "</dl>\n",
              "</li>\n",
              "\t<li><dl>\n",
              "\t<dt>$semilla</dt>\n",
              "\t\t<dd>285227</dd>\n",
              "\t<dt>$testing</dt>\n",
              "\t\t<dd>49373</dd>\n",
              "\t<dt>$testing_pos</dt>\n",
              "\t\t<dd>374</dd>\n",
              "\t<dt>$envios</dt>\n",
              "\t\t<dd>4110</dd>\n",
              "\t<dt>$aciertos</dt>\n",
              "\t\t<dd>227</dd>\n",
              "\t<dt>$ganancia_test</dt>\n",
              "\t\t<dd>49700000</dd>\n",
              "</dl>\n",
              "</li>\n",
              "\t<li><dl>\n",
              "\t<dt>$semilla</dt>\n",
              "\t\t<dd>476419</dd>\n",
              "\t<dt>$testing</dt>\n",
              "\t\t<dd>49390</dd>\n",
              "\t<dt>$testing_pos</dt>\n",
              "\t\t<dd>379</dd>\n",
              "\t<dt>$envios</dt>\n",
              "\t\t<dd>4074</dd>\n",
              "\t<dt>$aciertos</dt>\n",
              "\t\t<dd>236</dd>\n",
              "\t<dt>$ganancia_test</dt>\n",
              "\t\t<dd>53660000</dd>\n",
              "</dl>\n",
              "</li>\n",
              "\t<li><dl>\n",
              "\t<dt>$semilla</dt>\n",
              "\t\t<dd>150881</dd>\n",
              "\t<dt>$testing</dt>\n",
              "\t\t<dd>49377</dd>\n",
              "\t<dt>$testing_pos</dt>\n",
              "\t\t<dd>379</dd>\n",
              "\t<dt>$envios</dt>\n",
              "\t\t<dd>3236</dd>\n",
              "\t<dt>$aciertos</dt>\n",
              "\t\t<dd>204</dd>\n",
              "\t<dt>$ganancia_test</dt>\n",
              "\t\t<dd>49240000</dd>\n",
              "</dl>\n",
              "</li>\n",
              "\t<li><dl>\n",
              "\t<dt>$semilla</dt>\n",
              "\t\t<dd>833299</dd>\n",
              "\t<dt>$testing</dt>\n",
              "\t\t<dd>49377</dd>\n",
              "\t<dt>$testing_pos</dt>\n",
              "\t\t<dd>377</dd>\n",
              "\t<dt>$envios</dt>\n",
              "\t\t<dd>3413</dd>\n",
              "\t<dt>$aciertos</dt>\n",
              "\t\t<dd>206</dd>\n",
              "\t<dt>$ganancia_test</dt>\n",
              "\t\t<dd>48270000</dd>\n",
              "</dl>\n",
              "</li>\n",
              "\t<li><dl>\n",
              "\t<dt>$semilla</dt>\n",
              "\t\t<dd>975383</dd>\n",
              "\t<dt>$testing</dt>\n",
              "\t\t<dd>49387</dd>\n",
              "\t<dt>$testing_pos</dt>\n",
              "\t\t<dd>375</dd>\n",
              "\t<dt>$envios</dt>\n",
              "\t\t<dd>3772</dd>\n",
              "\t<dt>$aciertos</dt>\n",
              "\t\t<dd>205</dd>\n",
              "\t<dt>$ganancia_test</dt>\n",
              "\t\t<dd>44280000</dd>\n",
              "</dl>\n",
              "</li>\n",
              "\t<li><dl>\n",
              "\t<dt>$semilla</dt>\n",
              "\t\t<dd>110221</dd>\n",
              "\t<dt>$testing</dt>\n",
              "\t\t<dd>49383</dd>\n",
              "\t<dt>$testing_pos</dt>\n",
              "\t\t<dd>375</dd>\n",
              "\t<dt>$envios</dt>\n",
              "\t\t<dd>3581</dd>\n",
              "\t<dt>$aciertos</dt>\n",
              "\t\t<dd>229</dd>\n",
              "\t<dt>$ganancia_test</dt>\n",
              "\t\t<dd>55790000</dd>\n",
              "</dl>\n",
              "</li>\n",
              "\t<li><dl>\n",
              "\t<dt>$semilla</dt>\n",
              "\t\t<dd>293999</dd>\n",
              "\t<dt>$testing</dt>\n",
              "\t\t<dd>49375</dd>\n",
              "\t<dt>$testing_pos</dt>\n",
              "\t\t<dd>373</dd>\n",
              "\t<dt>$envios</dt>\n",
              "\t\t<dd>3559</dd>\n",
              "\t<dt>$aciertos</dt>\n",
              "\t\t<dd>203</dd>\n",
              "\t<dt>$ganancia_test</dt>\n",
              "\t\t<dd>45610000</dd>\n",
              "</dl>\n",
              "</li>\n",
              "\t<li><dl>\n",
              "\t<dt>$semilla</dt>\n",
              "\t\t<dd>316663</dd>\n",
              "\t<dt>$testing</dt>\n",
              "\t\t<dd>49375</dd>\n",
              "\t<dt>$testing_pos</dt>\n",
              "\t\t<dd>373</dd>\n",
              "\t<dt>$envios</dt>\n",
              "\t\t<dd>2794</dd>\n",
              "\t<dt>$aciertos</dt>\n",
              "\t\t<dd>180</dd>\n",
              "\t<dt>$ganancia_test</dt>\n",
              "\t\t<dd>44060000</dd>\n",
              "</dl>\n",
              "</li>\n",
              "\t<li><dl>\n",
              "\t<dt>$semilla</dt>\n",
              "\t\t<dd>485411</dd>\n",
              "\t<dt>$testing</dt>\n",
              "\t\t<dd>49381</dd>\n",
              "\t<dt>$testing_pos</dt>\n",
              "\t\t<dd>373</dd>\n",
              "\t<dt>$envios</dt>\n",
              "\t\t<dd>3232</dd>\n",
              "\t<dt>$aciertos</dt>\n",
              "\t\t<dd>200</dd>\n",
              "\t<dt>$ganancia_test</dt>\n",
              "\t\t<dd>47680000</dd>\n",
              "</dl>\n",
              "</li>\n",
              "\t<li><dl>\n",
              "\t<dt>$semilla</dt>\n",
              "\t\t<dd>326057</dd>\n",
              "\t<dt>$testing</dt>\n",
              "\t\t<dd>49390</dd>\n",
              "\t<dt>$testing_pos</dt>\n",
              "\t\t<dd>380</dd>\n",
              "\t<dt>$envios</dt>\n",
              "\t\t<dd>3447</dd>\n",
              "\t<dt>$aciertos</dt>\n",
              "\t\t<dd>202</dd>\n",
              "\t<dt>$ganancia_test</dt>\n",
              "\t\t<dd>46330000</dd>\n",
              "</dl>\n",
              "</li>\n",
              "\t<li><dl>\n",
              "\t<dt>$semilla</dt>\n",
              "\t\t<dd>214607</dd>\n",
              "\t<dt>$testing</dt>\n",
              "\t\t<dd>49384</dd>\n",
              "\t<dt>$testing_pos</dt>\n",
              "\t\t<dd>375</dd>\n",
              "\t<dt>$envios</dt>\n",
              "\t\t<dd>3239</dd>\n",
              "\t<dt>$aciertos</dt>\n",
              "\t\t<dd>200</dd>\n",
              "\t<dt>$ganancia_test</dt>\n",
              "\t\t<dd>47610000</dd>\n",
              "</dl>\n",
              "</li>\n",
              "\t<li><dl>\n",
              "\t<dt>$semilla</dt>\n",
              "\t\t<dd>447053</dd>\n",
              "\t<dt>$testing</dt>\n",
              "\t\t<dd>49368</dd>\n",
              "\t<dt>$testing_pos</dt>\n",
              "\t\t<dd>369</dd>\n",
              "\t<dt>$envios</dt>\n",
              "\t\t<dd>3655</dd>\n",
              "\t<dt>$aciertos</dt>\n",
              "\t\t<dd>201</dd>\n",
              "\t<dt>$ganancia_test</dt>\n",
              "\t\t<dd>43850000</dd>\n",
              "</dl>\n",
              "</li>\n",
              "\t<li><dl>\n",
              "\t<dt>$semilla</dt>\n",
              "\t\t<dd>284957</dd>\n",
              "\t<dt>$testing</dt>\n",
              "\t\t<dd>49372</dd>\n",
              "\t<dt>$testing_pos</dt>\n",
              "\t\t<dd>369</dd>\n",
              "\t<dt>$envios</dt>\n",
              "\t\t<dd>3198</dd>\n",
              "\t<dt>$aciertos</dt>\n",
              "\t\t<dd>197</dd>\n",
              "\t<dt>$ganancia_test</dt>\n",
              "\t\t<dd>46820000</dd>\n",
              "</dl>\n",
              "</li>\n",
              "\t<li><dl>\n",
              "\t<dt>$semilla</dt>\n",
              "\t\t<dd>690493</dd>\n",
              "\t<dt>$testing</dt>\n",
              "\t\t<dd>49379</dd>\n",
              "\t<dt>$testing_pos</dt>\n",
              "\t\t<dd>378</dd>\n",
              "\t<dt>$envios</dt>\n",
              "\t\t<dd>3298</dd>\n",
              "\t<dt>$aciertos</dt>\n",
              "\t\t<dd>204</dd>\n",
              "\t<dt>$ganancia_test</dt>\n",
              "\t\t<dd>48620000</dd>\n",
              "</dl>\n",
              "</li>\n",
              "\t<li><dl>\n",
              "\t<dt>$semilla</dt>\n",
              "\t\t<dd>392297</dd>\n",
              "\t<dt>$testing</dt>\n",
              "\t\t<dd>49378</dd>\n",
              "\t<dt>$testing_pos</dt>\n",
              "\t\t<dd>378</dd>\n",
              "\t<dt>$envios</dt>\n",
              "\t\t<dd>3783</dd>\n",
              "\t<dt>$aciertos</dt>\n",
              "\t\t<dd>218</dd>\n",
              "\t<dt>$ganancia_test</dt>\n",
              "\t\t<dd>49370000</dd>\n",
              "</dl>\n",
              "</li>\n",
              "\t<li><dl>\n",
              "\t<dt>$semilla</dt>\n",
              "\t\t<dd>236981</dd>\n",
              "\t<dt>$testing</dt>\n",
              "\t\t<dd>49375</dd>\n",
              "\t<dt>$testing_pos</dt>\n",
              "\t\t<dd>374</dd>\n",
              "\t<dt>$envios</dt>\n",
              "\t\t<dd>3153</dd>\n",
              "\t<dt>$aciertos</dt>\n",
              "\t\t<dd>197</dd>\n",
              "\t<dt>$ganancia_test</dt>\n",
              "\t\t<dd>47270000</dd>\n",
              "</dl>\n",
              "</li>\n",
              "\t<li><dl>\n",
              "\t<dt>$semilla</dt>\n",
              "\t\t<dd>956513</dd>\n",
              "\t<dt>$testing</dt>\n",
              "\t\t<dd>49380</dd>\n",
              "\t<dt>$testing_pos</dt>\n",
              "\t\t<dd>376</dd>\n",
              "\t<dt>$envios</dt>\n",
              "\t\t<dd>3340</dd>\n",
              "\t<dt>$aciertos</dt>\n",
              "\t\t<dd>204</dd>\n",
              "\t<dt>$ganancia_test</dt>\n",
              "\t\t<dd>48200000</dd>\n",
              "</dl>\n",
              "</li>\n",
              "\t<li><dl>\n",
              "\t<dt>$semilla</dt>\n",
              "\t\t<dd>518831</dd>\n",
              "\t<dt>$testing</dt>\n",
              "\t\t<dd>49370</dd>\n",
              "\t<dt>$testing_pos</dt>\n",
              "\t\t<dd>376</dd>\n",
              "\t<dt>$envios</dt>\n",
              "\t\t<dd>3394</dd>\n",
              "\t<dt>$aciertos</dt>\n",
              "\t\t<dd>216</dd>\n",
              "\t<dt>$ganancia_test</dt>\n",
              "\t\t<dd>52460000</dd>\n",
              "</dl>\n",
              "</li>\n",
              "</ol>\n"
            ],
            "text/markdown": "1. $semilla\n:   828941\n$testing\n:   49383\n$testing_pos\n:   374\n$envios\n:   3700\n$aciertos\n:   226\n$ganancia_test\n:   53400000\n\n\n\n2. $semilla\n:   176321\n$testing\n:   49378\n$testing_pos\n:   369\n$envios\n:   3824\n$aciertos\n:   197\n$ganancia_test\n:   40560000\n\n\n\n3. $semilla\n:   675391\n$testing\n:   49399\n$testing_pos\n:   380\n$envios\n:   3237\n$aciertos\n:   202\n$ganancia_test\n:   48430000\n\n\n\n4. $semilla\n:   785963\n$testing\n:   49383\n$testing_pos\n:   374\n$envios\n:   3883\n$aciertos\n:   221\n$ganancia_test\n:   49570000\n\n\n\n5. $semilla\n:   174197\n$testing\n:   49383\n$testing_pos\n:   373\n$envios\n:   3465\n$aciertos\n:   199\n$ganancia_test\n:   44950000\n\n\n\n6. $semilla\n:   674159\n$testing\n:   49387\n$testing_pos\n:   377\n$envios\n:   3863\n$aciertos\n:   204\n$ganancia_test\n:   42970000\n\n\n\n7. $semilla\n:   935581\n$testing\n:   49386\n$testing_pos\n:   379\n$envios\n:   4465\n$aciertos\n:   242\n$ganancia_test\n:   52150000\n\n\n\n8. $semilla\n:   370663\n$testing\n:   49389\n$testing_pos\n:   379\n$envios\n:   3685\n$aciertos\n:   212\n$ganancia_test\n:   47950000\n\n\n\n9. $semilla\n:   472123\n$testing\n:   49389\n$testing_pos\n:   372\n$envios\n:   4015\n$aciertos\n:   228\n$ganancia_test\n:   51050000\n\n\n\n10. $semilla\n:   888047\n$testing\n:   49371\n$testing_pos\n:   372\n$envios\n:   3384\n$aciertos\n:   205\n$ganancia_test\n:   48160000\n\n\n\n11. $semilla\n:   702281\n$testing\n:   49380\n$testing_pos\n:   374\n$envios\n:   3173\n$aciertos\n:   205\n$ganancia_test\n:   50270000\n\n\n\n12. $semilla\n:   698251\n$testing\n:   49383\n$testing_pos\n:   377\n$envios\n:   2866\n$aciertos\n:   183\n$ganancia_test\n:   44540000\n\n\n\n13. $semilla\n:   766739\n$testing\n:   49371\n$testing_pos\n:   374\n$envios\n:   3335\n$aciertos\n:   188\n$ganancia_test\n:   41850000\n\n\n\n14. $semilla\n:   684961\n$testing\n:   49395\n$testing_pos\n:   375\n$envios\n:   3944\n$aciertos\n:   213\n$ganancia_test\n:   45760000\n\n\n\n15. $semilla\n:   777859\n$testing\n:   49386\n$testing_pos\n:   375\n$envios\n:   3468\n$aciertos\n:   202\n$ganancia_test\n:   46120000\n\n\n\n16. $semilla\n:   296353\n$testing\n:   49388\n$testing_pos\n:   382\n$envios\n:   3448\n$aciertos\n:   205\n$ganancia_test\n:   47520000\n\n\n\n17. $semilla\n:   229763\n$testing\n:   49378\n$testing_pos\n:   374\n$envios\n:   3006\n$aciertos\n:   214\n$ganancia_test\n:   55540000\n\n\n\n18. $semilla\n:   891493\n$testing\n:   49379\n$testing_pos\n:   374\n$envios\n:   3597\n$aciertos\n:   222\n$ganancia_test\n:   52830000\n\n\n\n19. $semilla\n:   304501\n$testing\n:   49386\n$testing_pos\n:   370\n$envios\n:   3774\n$aciertos\n:   212\n$ganancia_test\n:   47060000\n\n\n\n20. $semilla\n:   223009\n$testing\n:   49390\n$testing_pos\n:   378\n$envios\n:   3367\n$aciertos\n:   210\n$ganancia_test\n:   50330000\n\n\n\n21. $semilla\n:   143779\n$testing\n:   49384\n$testing_pos\n:   379\n$envios\n:   3919\n$aciertos\n:   223\n$ganancia_test\n:   50010000\n\n\n\n22. $semilla\n:   133781\n$testing\n:   49377\n$testing_pos\n:   373\n$envios\n:   3843\n$aciertos\n:   217\n$ganancia_test\n:   48370000\n\n\n\n23. $semilla\n:   453889\n$testing\n:   49385\n$testing_pos\n:   373\n$envios\n:   3742\n$aciertos\n:   203\n$ganancia_test\n:   43780000\n\n\n\n24. $semilla\n:   992393\n$testing\n:   49380\n$testing_pos\n:   375\n$envios\n:   3505\n$aciertos\n:   213\n$ganancia_test\n:   50150000\n\n\n\n25. $semilla\n:   669701\n$testing\n:   49372\n$testing_pos\n:   375\n$envios\n:   2552\n$aciertos\n:   175\n$ganancia_test\n:   44480000\n\n\n\n26. $semilla\n:   247729\n$testing\n:   49380\n$testing_pos\n:   380\n$envios\n:   2738\n$aciertos\n:   177\n$ganancia_test\n:   43420000\n\n\n\n27. $semilla\n:   341293\n$testing\n:   49383\n$testing_pos\n:   377\n$envios\n:   3228\n$aciertos\n:   199\n$ganancia_test\n:   47320000\n\n\n\n28. $semilla\n:   986759\n$testing\n:   49374\n$testing_pos\n:   373\n$envios\n:   3454\n$aciertos\n:   200\n$ganancia_test\n:   45460000\n\n\n\n29. $semilla\n:   994237\n$testing\n:   49388\n$testing_pos\n:   376\n$envios\n:   2980\n$aciertos\n:   174\n$ganancia_test\n:   39800000\n\n\n\n30. $semilla\n:   116099\n$testing\n:   49385\n$testing_pos\n:   383\n$envios\n:   3161\n$aciertos\n:   210\n$ganancia_test\n:   52390000\n\n\n\n31. $semilla\n:   366841\n$testing\n:   49373\n$testing_pos\n:   370\n$envios\n:   3143\n$aciertos\n:   204\n$ganancia_test\n:   50170000\n\n\n\n32. $semilla\n:   120391\n$testing\n:   49388\n$testing_pos\n:   373\n$envios\n:   4535\n$aciertos\n:   224\n$ganancia_test\n:   44250000\n\n\n\n33. $semilla\n:   285227\n$testing\n:   49373\n$testing_pos\n:   374\n$envios\n:   4110\n$aciertos\n:   227\n$ganancia_test\n:   49700000\n\n\n\n34. $semilla\n:   476419\n$testing\n:   49390\n$testing_pos\n:   379\n$envios\n:   4074\n$aciertos\n:   236\n$ganancia_test\n:   53660000\n\n\n\n35. $semilla\n:   150881\n$testing\n:   49377\n$testing_pos\n:   379\n$envios\n:   3236\n$aciertos\n:   204\n$ganancia_test\n:   49240000\n\n\n\n36. $semilla\n:   833299\n$testing\n:   49377\n$testing_pos\n:   377\n$envios\n:   3413\n$aciertos\n:   206\n$ganancia_test\n:   48270000\n\n\n\n37. $semilla\n:   975383\n$testing\n:   49387\n$testing_pos\n:   375\n$envios\n:   3772\n$aciertos\n:   205\n$ganancia_test\n:   44280000\n\n\n\n38. $semilla\n:   110221\n$testing\n:   49383\n$testing_pos\n:   375\n$envios\n:   3581\n$aciertos\n:   229\n$ganancia_test\n:   55790000\n\n\n\n39. $semilla\n:   293999\n$testing\n:   49375\n$testing_pos\n:   373\n$envios\n:   3559\n$aciertos\n:   203\n$ganancia_test\n:   45610000\n\n\n\n40. $semilla\n:   316663\n$testing\n:   49375\n$testing_pos\n:   373\n$envios\n:   2794\n$aciertos\n:   180\n$ganancia_test\n:   44060000\n\n\n\n41. $semilla\n:   485411\n$testing\n:   49381\n$testing_pos\n:   373\n$envios\n:   3232\n$aciertos\n:   200\n$ganancia_test\n:   47680000\n\n\n\n42. $semilla\n:   326057\n$testing\n:   49390\n$testing_pos\n:   380\n$envios\n:   3447\n$aciertos\n:   202\n$ganancia_test\n:   46330000\n\n\n\n43. $semilla\n:   214607\n$testing\n:   49384\n$testing_pos\n:   375\n$envios\n:   3239\n$aciertos\n:   200\n$ganancia_test\n:   47610000\n\n\n\n44. $semilla\n:   447053\n$testing\n:   49368\n$testing_pos\n:   369\n$envios\n:   3655\n$aciertos\n:   201\n$ganancia_test\n:   43850000\n\n\n\n45. $semilla\n:   284957\n$testing\n:   49372\n$testing_pos\n:   369\n$envios\n:   3198\n$aciertos\n:   197\n$ganancia_test\n:   46820000\n\n\n\n46. $semilla\n:   690493\n$testing\n:   49379\n$testing_pos\n:   378\n$envios\n:   3298\n$aciertos\n:   204\n$ganancia_test\n:   48620000\n\n\n\n47. $semilla\n:   392297\n$testing\n:   49378\n$testing_pos\n:   378\n$envios\n:   3783\n$aciertos\n:   218\n$ganancia_test\n:   49370000\n\n\n\n48. $semilla\n:   236981\n$testing\n:   49375\n$testing_pos\n:   374\n$envios\n:   3153\n$aciertos\n:   197\n$ganancia_test\n:   47270000\n\n\n\n49. $semilla\n:   956513\n$testing\n:   49380\n$testing_pos\n:   376\n$envios\n:   3340\n$aciertos\n:   204\n$ganancia_test\n:   48200000\n\n\n\n50. $semilla\n:   518831\n$testing\n:   49370\n$testing_pos\n:   376\n$envios\n:   3394\n$aciertos\n:   216\n$ganancia_test\n:   52460000\n\n\n\n\n\n",
            "text/latex": "\\begin{enumerate}\n\\item \\begin{description}\n\\item[\\$semilla] 828941\n\\item[\\$testing] 49383\n\\item[\\$testing\\_pos] 374\n\\item[\\$envios] 3700\n\\item[\\$aciertos] 226\n\\item[\\$ganancia\\_test] 53400000\n\\end{description}\n\n\\item \\begin{description}\n\\item[\\$semilla] 176321\n\\item[\\$testing] 49378\n\\item[\\$testing\\_pos] 369\n\\item[\\$envios] 3824\n\\item[\\$aciertos] 197\n\\item[\\$ganancia\\_test] 40560000\n\\end{description}\n\n\\item \\begin{description}\n\\item[\\$semilla] 675391\n\\item[\\$testing] 49399\n\\item[\\$testing\\_pos] 380\n\\item[\\$envios] 3237\n\\item[\\$aciertos] 202\n\\item[\\$ganancia\\_test] 48430000\n\\end{description}\n\n\\item \\begin{description}\n\\item[\\$semilla] 785963\n\\item[\\$testing] 49383\n\\item[\\$testing\\_pos] 374\n\\item[\\$envios] 3883\n\\item[\\$aciertos] 221\n\\item[\\$ganancia\\_test] 49570000\n\\end{description}\n\n\\item \\begin{description}\n\\item[\\$semilla] 174197\n\\item[\\$testing] 49383\n\\item[\\$testing\\_pos] 373\n\\item[\\$envios] 3465\n\\item[\\$aciertos] 199\n\\item[\\$ganancia\\_test] 44950000\n\\end{description}\n\n\\item \\begin{description}\n\\item[\\$semilla] 674159\n\\item[\\$testing] 49387\n\\item[\\$testing\\_pos] 377\n\\item[\\$envios] 3863\n\\item[\\$aciertos] 204\n\\item[\\$ganancia\\_test] 42970000\n\\end{description}\n\n\\item \\begin{description}\n\\item[\\$semilla] 935581\n\\item[\\$testing] 49386\n\\item[\\$testing\\_pos] 379\n\\item[\\$envios] 4465\n\\item[\\$aciertos] 242\n\\item[\\$ganancia\\_test] 52150000\n\\end{description}\n\n\\item \\begin{description}\n\\item[\\$semilla] 370663\n\\item[\\$testing] 49389\n\\item[\\$testing\\_pos] 379\n\\item[\\$envios] 3685\n\\item[\\$aciertos] 212\n\\item[\\$ganancia\\_test] 47950000\n\\end{description}\n\n\\item \\begin{description}\n\\item[\\$semilla] 472123\n\\item[\\$testing] 49389\n\\item[\\$testing\\_pos] 372\n\\item[\\$envios] 4015\n\\item[\\$aciertos] 228\n\\item[\\$ganancia\\_test] 51050000\n\\end{description}\n\n\\item \\begin{description}\n\\item[\\$semilla] 888047\n\\item[\\$testing] 49371\n\\item[\\$testing\\_pos] 372\n\\item[\\$envios] 3384\n\\item[\\$aciertos] 205\n\\item[\\$ganancia\\_test] 48160000\n\\end{description}\n\n\\item \\begin{description}\n\\item[\\$semilla] 702281\n\\item[\\$testing] 49380\n\\item[\\$testing\\_pos] 374\n\\item[\\$envios] 3173\n\\item[\\$aciertos] 205\n\\item[\\$ganancia\\_test] 50270000\n\\end{description}\n\n\\item \\begin{description}\n\\item[\\$semilla] 698251\n\\item[\\$testing] 49383\n\\item[\\$testing\\_pos] 377\n\\item[\\$envios] 2866\n\\item[\\$aciertos] 183\n\\item[\\$ganancia\\_test] 44540000\n\\end{description}\n\n\\item \\begin{description}\n\\item[\\$semilla] 766739\n\\item[\\$testing] 49371\n\\item[\\$testing\\_pos] 374\n\\item[\\$envios] 3335\n\\item[\\$aciertos] 188\n\\item[\\$ganancia\\_test] 41850000\n\\end{description}\n\n\\item \\begin{description}\n\\item[\\$semilla] 684961\n\\item[\\$testing] 49395\n\\item[\\$testing\\_pos] 375\n\\item[\\$envios] 3944\n\\item[\\$aciertos] 213\n\\item[\\$ganancia\\_test] 45760000\n\\end{description}\n\n\\item \\begin{description}\n\\item[\\$semilla] 777859\n\\item[\\$testing] 49386\n\\item[\\$testing\\_pos] 375\n\\item[\\$envios] 3468\n\\item[\\$aciertos] 202\n\\item[\\$ganancia\\_test] 46120000\n\\end{description}\n\n\\item \\begin{description}\n\\item[\\$semilla] 296353\n\\item[\\$testing] 49388\n\\item[\\$testing\\_pos] 382\n\\item[\\$envios] 3448\n\\item[\\$aciertos] 205\n\\item[\\$ganancia\\_test] 47520000\n\\end{description}\n\n\\item \\begin{description}\n\\item[\\$semilla] 229763\n\\item[\\$testing] 49378\n\\item[\\$testing\\_pos] 374\n\\item[\\$envios] 3006\n\\item[\\$aciertos] 214\n\\item[\\$ganancia\\_test] 55540000\n\\end{description}\n\n\\item \\begin{description}\n\\item[\\$semilla] 891493\n\\item[\\$testing] 49379\n\\item[\\$testing\\_pos] 374\n\\item[\\$envios] 3597\n\\item[\\$aciertos] 222\n\\item[\\$ganancia\\_test] 52830000\n\\end{description}\n\n\\item \\begin{description}\n\\item[\\$semilla] 304501\n\\item[\\$testing] 49386\n\\item[\\$testing\\_pos] 370\n\\item[\\$envios] 3774\n\\item[\\$aciertos] 212\n\\item[\\$ganancia\\_test] 47060000\n\\end{description}\n\n\\item \\begin{description}\n\\item[\\$semilla] 223009\n\\item[\\$testing] 49390\n\\item[\\$testing\\_pos] 378\n\\item[\\$envios] 3367\n\\item[\\$aciertos] 210\n\\item[\\$ganancia\\_test] 50330000\n\\end{description}\n\n\\item \\begin{description}\n\\item[\\$semilla] 143779\n\\item[\\$testing] 49384\n\\item[\\$testing\\_pos] 379\n\\item[\\$envios] 3919\n\\item[\\$aciertos] 223\n\\item[\\$ganancia\\_test] 50010000\n\\end{description}\n\n\\item \\begin{description}\n\\item[\\$semilla] 133781\n\\item[\\$testing] 49377\n\\item[\\$testing\\_pos] 373\n\\item[\\$envios] 3843\n\\item[\\$aciertos] 217\n\\item[\\$ganancia\\_test] 48370000\n\\end{description}\n\n\\item \\begin{description}\n\\item[\\$semilla] 453889\n\\item[\\$testing] 49385\n\\item[\\$testing\\_pos] 373\n\\item[\\$envios] 3742\n\\item[\\$aciertos] 203\n\\item[\\$ganancia\\_test] 43780000\n\\end{description}\n\n\\item \\begin{description}\n\\item[\\$semilla] 992393\n\\item[\\$testing] 49380\n\\item[\\$testing\\_pos] 375\n\\item[\\$envios] 3505\n\\item[\\$aciertos] 213\n\\item[\\$ganancia\\_test] 50150000\n\\end{description}\n\n\\item \\begin{description}\n\\item[\\$semilla] 669701\n\\item[\\$testing] 49372\n\\item[\\$testing\\_pos] 375\n\\item[\\$envios] 2552\n\\item[\\$aciertos] 175\n\\item[\\$ganancia\\_test] 44480000\n\\end{description}\n\n\\item \\begin{description}\n\\item[\\$semilla] 247729\n\\item[\\$testing] 49380\n\\item[\\$testing\\_pos] 380\n\\item[\\$envios] 2738\n\\item[\\$aciertos] 177\n\\item[\\$ganancia\\_test] 43420000\n\\end{description}\n\n\\item \\begin{description}\n\\item[\\$semilla] 341293\n\\item[\\$testing] 49383\n\\item[\\$testing\\_pos] 377\n\\item[\\$envios] 3228\n\\item[\\$aciertos] 199\n\\item[\\$ganancia\\_test] 47320000\n\\end{description}\n\n\\item \\begin{description}\n\\item[\\$semilla] 986759\n\\item[\\$testing] 49374\n\\item[\\$testing\\_pos] 373\n\\item[\\$envios] 3454\n\\item[\\$aciertos] 200\n\\item[\\$ganancia\\_test] 45460000\n\\end{description}\n\n\\item \\begin{description}\n\\item[\\$semilla] 994237\n\\item[\\$testing] 49388\n\\item[\\$testing\\_pos] 376\n\\item[\\$envios] 2980\n\\item[\\$aciertos] 174\n\\item[\\$ganancia\\_test] 39800000\n\\end{description}\n\n\\item \\begin{description}\n\\item[\\$semilla] 116099\n\\item[\\$testing] 49385\n\\item[\\$testing\\_pos] 383\n\\item[\\$envios] 3161\n\\item[\\$aciertos] 210\n\\item[\\$ganancia\\_test] 52390000\n\\end{description}\n\n\\item \\begin{description}\n\\item[\\$semilla] 366841\n\\item[\\$testing] 49373\n\\item[\\$testing\\_pos] 370\n\\item[\\$envios] 3143\n\\item[\\$aciertos] 204\n\\item[\\$ganancia\\_test] 50170000\n\\end{description}\n\n\\item \\begin{description}\n\\item[\\$semilla] 120391\n\\item[\\$testing] 49388\n\\item[\\$testing\\_pos] 373\n\\item[\\$envios] 4535\n\\item[\\$aciertos] 224\n\\item[\\$ganancia\\_test] 44250000\n\\end{description}\n\n\\item \\begin{description}\n\\item[\\$semilla] 285227\n\\item[\\$testing] 49373\n\\item[\\$testing\\_pos] 374\n\\item[\\$envios] 4110\n\\item[\\$aciertos] 227\n\\item[\\$ganancia\\_test] 49700000\n\\end{description}\n\n\\item \\begin{description}\n\\item[\\$semilla] 476419\n\\item[\\$testing] 49390\n\\item[\\$testing\\_pos] 379\n\\item[\\$envios] 4074\n\\item[\\$aciertos] 236\n\\item[\\$ganancia\\_test] 53660000\n\\end{description}\n\n\\item \\begin{description}\n\\item[\\$semilla] 150881\n\\item[\\$testing] 49377\n\\item[\\$testing\\_pos] 379\n\\item[\\$envios] 3236\n\\item[\\$aciertos] 204\n\\item[\\$ganancia\\_test] 49240000\n\\end{description}\n\n\\item \\begin{description}\n\\item[\\$semilla] 833299\n\\item[\\$testing] 49377\n\\item[\\$testing\\_pos] 377\n\\item[\\$envios] 3413\n\\item[\\$aciertos] 206\n\\item[\\$ganancia\\_test] 48270000\n\\end{description}\n\n\\item \\begin{description}\n\\item[\\$semilla] 975383\n\\item[\\$testing] 49387\n\\item[\\$testing\\_pos] 375\n\\item[\\$envios] 3772\n\\item[\\$aciertos] 205\n\\item[\\$ganancia\\_test] 44280000\n\\end{description}\n\n\\item \\begin{description}\n\\item[\\$semilla] 110221\n\\item[\\$testing] 49383\n\\item[\\$testing\\_pos] 375\n\\item[\\$envios] 3581\n\\item[\\$aciertos] 229\n\\item[\\$ganancia\\_test] 55790000\n\\end{description}\n\n\\item \\begin{description}\n\\item[\\$semilla] 293999\n\\item[\\$testing] 49375\n\\item[\\$testing\\_pos] 373\n\\item[\\$envios] 3559\n\\item[\\$aciertos] 203\n\\item[\\$ganancia\\_test] 45610000\n\\end{description}\n\n\\item \\begin{description}\n\\item[\\$semilla] 316663\n\\item[\\$testing] 49375\n\\item[\\$testing\\_pos] 373\n\\item[\\$envios] 2794\n\\item[\\$aciertos] 180\n\\item[\\$ganancia\\_test] 44060000\n\\end{description}\n\n\\item \\begin{description}\n\\item[\\$semilla] 485411\n\\item[\\$testing] 49381\n\\item[\\$testing\\_pos] 373\n\\item[\\$envios] 3232\n\\item[\\$aciertos] 200\n\\item[\\$ganancia\\_test] 47680000\n\\end{description}\n\n\\item \\begin{description}\n\\item[\\$semilla] 326057\n\\item[\\$testing] 49390\n\\item[\\$testing\\_pos] 380\n\\item[\\$envios] 3447\n\\item[\\$aciertos] 202\n\\item[\\$ganancia\\_test] 46330000\n\\end{description}\n\n\\item \\begin{description}\n\\item[\\$semilla] 214607\n\\item[\\$testing] 49384\n\\item[\\$testing\\_pos] 375\n\\item[\\$envios] 3239\n\\item[\\$aciertos] 200\n\\item[\\$ganancia\\_test] 47610000\n\\end{description}\n\n\\item \\begin{description}\n\\item[\\$semilla] 447053\n\\item[\\$testing] 49368\n\\item[\\$testing\\_pos] 369\n\\item[\\$envios] 3655\n\\item[\\$aciertos] 201\n\\item[\\$ganancia\\_test] 43850000\n\\end{description}\n\n\\item \\begin{description}\n\\item[\\$semilla] 284957\n\\item[\\$testing] 49372\n\\item[\\$testing\\_pos] 369\n\\item[\\$envios] 3198\n\\item[\\$aciertos] 197\n\\item[\\$ganancia\\_test] 46820000\n\\end{description}\n\n\\item \\begin{description}\n\\item[\\$semilla] 690493\n\\item[\\$testing] 49379\n\\item[\\$testing\\_pos] 378\n\\item[\\$envios] 3298\n\\item[\\$aciertos] 204\n\\item[\\$ganancia\\_test] 48620000\n\\end{description}\n\n\\item \\begin{description}\n\\item[\\$semilla] 392297\n\\item[\\$testing] 49378\n\\item[\\$testing\\_pos] 378\n\\item[\\$envios] 3783\n\\item[\\$aciertos] 218\n\\item[\\$ganancia\\_test] 49370000\n\\end{description}\n\n\\item \\begin{description}\n\\item[\\$semilla] 236981\n\\item[\\$testing] 49375\n\\item[\\$testing\\_pos] 374\n\\item[\\$envios] 3153\n\\item[\\$aciertos] 197\n\\item[\\$ganancia\\_test] 47270000\n\\end{description}\n\n\\item \\begin{description}\n\\item[\\$semilla] 956513\n\\item[\\$testing] 49380\n\\item[\\$testing\\_pos] 376\n\\item[\\$envios] 3340\n\\item[\\$aciertos] 204\n\\item[\\$ganancia\\_test] 48200000\n\\end{description}\n\n\\item \\begin{description}\n\\item[\\$semilla] 518831\n\\item[\\$testing] 49370\n\\item[\\$testing\\_pos] 376\n\\item[\\$envios] 3394\n\\item[\\$aciertos] 216\n\\item[\\$ganancia\\_test] 52460000\n\\end{description}\n\n\\end{enumerate}\n",
            "text/plain": [
              "[[1]]\n",
              "[[1]]$semilla\n",
              "[1] 828941\n",
              "\n",
              "[[1]]$testing\n",
              "[1] 49383\n",
              "\n",
              "[[1]]$testing_pos\n",
              "[1] 374\n",
              "\n",
              "[[1]]$envios\n",
              "[1] 3700\n",
              "\n",
              "[[1]]$aciertos\n",
              "[1] 226\n",
              "\n",
              "[[1]]$ganancia_test\n",
              "[1] 53400000\n",
              "\n",
              "\n",
              "[[2]]\n",
              "[[2]]$semilla\n",
              "[1] 176321\n",
              "\n",
              "[[2]]$testing\n",
              "[1] 49378\n",
              "\n",
              "[[2]]$testing_pos\n",
              "[1] 369\n",
              "\n",
              "[[2]]$envios\n",
              "[1] 3824\n",
              "\n",
              "[[2]]$aciertos\n",
              "[1] 197\n",
              "\n",
              "[[2]]$ganancia_test\n",
              "[1] 40560000\n",
              "\n",
              "\n",
              "[[3]]\n",
              "[[3]]$semilla\n",
              "[1] 675391\n",
              "\n",
              "[[3]]$testing\n",
              "[1] 49399\n",
              "\n",
              "[[3]]$testing_pos\n",
              "[1] 380\n",
              "\n",
              "[[3]]$envios\n",
              "[1] 3237\n",
              "\n",
              "[[3]]$aciertos\n",
              "[1] 202\n",
              "\n",
              "[[3]]$ganancia_test\n",
              "[1] 48430000\n",
              "\n",
              "\n",
              "[[4]]\n",
              "[[4]]$semilla\n",
              "[1] 785963\n",
              "\n",
              "[[4]]$testing\n",
              "[1] 49383\n",
              "\n",
              "[[4]]$testing_pos\n",
              "[1] 374\n",
              "\n",
              "[[4]]$envios\n",
              "[1] 3883\n",
              "\n",
              "[[4]]$aciertos\n",
              "[1] 221\n",
              "\n",
              "[[4]]$ganancia_test\n",
              "[1] 49570000\n",
              "\n",
              "\n",
              "[[5]]\n",
              "[[5]]$semilla\n",
              "[1] 174197\n",
              "\n",
              "[[5]]$testing\n",
              "[1] 49383\n",
              "\n",
              "[[5]]$testing_pos\n",
              "[1] 373\n",
              "\n",
              "[[5]]$envios\n",
              "[1] 3465\n",
              "\n",
              "[[5]]$aciertos\n",
              "[1] 199\n",
              "\n",
              "[[5]]$ganancia_test\n",
              "[1] 44950000\n",
              "\n",
              "\n",
              "[[6]]\n",
              "[[6]]$semilla\n",
              "[1] 674159\n",
              "\n",
              "[[6]]$testing\n",
              "[1] 49387\n",
              "\n",
              "[[6]]$testing_pos\n",
              "[1] 377\n",
              "\n",
              "[[6]]$envios\n",
              "[1] 3863\n",
              "\n",
              "[[6]]$aciertos\n",
              "[1] 204\n",
              "\n",
              "[[6]]$ganancia_test\n",
              "[1] 42970000\n",
              "\n",
              "\n",
              "[[7]]\n",
              "[[7]]$semilla\n",
              "[1] 935581\n",
              "\n",
              "[[7]]$testing\n",
              "[1] 49386\n",
              "\n",
              "[[7]]$testing_pos\n",
              "[1] 379\n",
              "\n",
              "[[7]]$envios\n",
              "[1] 4465\n",
              "\n",
              "[[7]]$aciertos\n",
              "[1] 242\n",
              "\n",
              "[[7]]$ganancia_test\n",
              "[1] 52150000\n",
              "\n",
              "\n",
              "[[8]]\n",
              "[[8]]$semilla\n",
              "[1] 370663\n",
              "\n",
              "[[8]]$testing\n",
              "[1] 49389\n",
              "\n",
              "[[8]]$testing_pos\n",
              "[1] 379\n",
              "\n",
              "[[8]]$envios\n",
              "[1] 3685\n",
              "\n",
              "[[8]]$aciertos\n",
              "[1] 212\n",
              "\n",
              "[[8]]$ganancia_test\n",
              "[1] 47950000\n",
              "\n",
              "\n",
              "[[9]]\n",
              "[[9]]$semilla\n",
              "[1] 472123\n",
              "\n",
              "[[9]]$testing\n",
              "[1] 49389\n",
              "\n",
              "[[9]]$testing_pos\n",
              "[1] 372\n",
              "\n",
              "[[9]]$envios\n",
              "[1] 4015\n",
              "\n",
              "[[9]]$aciertos\n",
              "[1] 228\n",
              "\n",
              "[[9]]$ganancia_test\n",
              "[1] 51050000\n",
              "\n",
              "\n",
              "[[10]]\n",
              "[[10]]$semilla\n",
              "[1] 888047\n",
              "\n",
              "[[10]]$testing\n",
              "[1] 49371\n",
              "\n",
              "[[10]]$testing_pos\n",
              "[1] 372\n",
              "\n",
              "[[10]]$envios\n",
              "[1] 3384\n",
              "\n",
              "[[10]]$aciertos\n",
              "[1] 205\n",
              "\n",
              "[[10]]$ganancia_test\n",
              "[1] 48160000\n",
              "\n",
              "\n",
              "[[11]]\n",
              "[[11]]$semilla\n",
              "[1] 702281\n",
              "\n",
              "[[11]]$testing\n",
              "[1] 49380\n",
              "\n",
              "[[11]]$testing_pos\n",
              "[1] 374\n",
              "\n",
              "[[11]]$envios\n",
              "[1] 3173\n",
              "\n",
              "[[11]]$aciertos\n",
              "[1] 205\n",
              "\n",
              "[[11]]$ganancia_test\n",
              "[1] 50270000\n",
              "\n",
              "\n",
              "[[12]]\n",
              "[[12]]$semilla\n",
              "[1] 698251\n",
              "\n",
              "[[12]]$testing\n",
              "[1] 49383\n",
              "\n",
              "[[12]]$testing_pos\n",
              "[1] 377\n",
              "\n",
              "[[12]]$envios\n",
              "[1] 2866\n",
              "\n",
              "[[12]]$aciertos\n",
              "[1] 183\n",
              "\n",
              "[[12]]$ganancia_test\n",
              "[1] 44540000\n",
              "\n",
              "\n",
              "[[13]]\n",
              "[[13]]$semilla\n",
              "[1] 766739\n",
              "\n",
              "[[13]]$testing\n",
              "[1] 49371\n",
              "\n",
              "[[13]]$testing_pos\n",
              "[1] 374\n",
              "\n",
              "[[13]]$envios\n",
              "[1] 3335\n",
              "\n",
              "[[13]]$aciertos\n",
              "[1] 188\n",
              "\n",
              "[[13]]$ganancia_test\n",
              "[1] 41850000\n",
              "\n",
              "\n",
              "[[14]]\n",
              "[[14]]$semilla\n",
              "[1] 684961\n",
              "\n",
              "[[14]]$testing\n",
              "[1] 49395\n",
              "\n",
              "[[14]]$testing_pos\n",
              "[1] 375\n",
              "\n",
              "[[14]]$envios\n",
              "[1] 3944\n",
              "\n",
              "[[14]]$aciertos\n",
              "[1] 213\n",
              "\n",
              "[[14]]$ganancia_test\n",
              "[1] 45760000\n",
              "\n",
              "\n",
              "[[15]]\n",
              "[[15]]$semilla\n",
              "[1] 777859\n",
              "\n",
              "[[15]]$testing\n",
              "[1] 49386\n",
              "\n",
              "[[15]]$testing_pos\n",
              "[1] 375\n",
              "\n",
              "[[15]]$envios\n",
              "[1] 3468\n",
              "\n",
              "[[15]]$aciertos\n",
              "[1] 202\n",
              "\n",
              "[[15]]$ganancia_test\n",
              "[1] 46120000\n",
              "\n",
              "\n",
              "[[16]]\n",
              "[[16]]$semilla\n",
              "[1] 296353\n",
              "\n",
              "[[16]]$testing\n",
              "[1] 49388\n",
              "\n",
              "[[16]]$testing_pos\n",
              "[1] 382\n",
              "\n",
              "[[16]]$envios\n",
              "[1] 3448\n",
              "\n",
              "[[16]]$aciertos\n",
              "[1] 205\n",
              "\n",
              "[[16]]$ganancia_test\n",
              "[1] 47520000\n",
              "\n",
              "\n",
              "[[17]]\n",
              "[[17]]$semilla\n",
              "[1] 229763\n",
              "\n",
              "[[17]]$testing\n",
              "[1] 49378\n",
              "\n",
              "[[17]]$testing_pos\n",
              "[1] 374\n",
              "\n",
              "[[17]]$envios\n",
              "[1] 3006\n",
              "\n",
              "[[17]]$aciertos\n",
              "[1] 214\n",
              "\n",
              "[[17]]$ganancia_test\n",
              "[1] 55540000\n",
              "\n",
              "\n",
              "[[18]]\n",
              "[[18]]$semilla\n",
              "[1] 891493\n",
              "\n",
              "[[18]]$testing\n",
              "[1] 49379\n",
              "\n",
              "[[18]]$testing_pos\n",
              "[1] 374\n",
              "\n",
              "[[18]]$envios\n",
              "[1] 3597\n",
              "\n",
              "[[18]]$aciertos\n",
              "[1] 222\n",
              "\n",
              "[[18]]$ganancia_test\n",
              "[1] 52830000\n",
              "\n",
              "\n",
              "[[19]]\n",
              "[[19]]$semilla\n",
              "[1] 304501\n",
              "\n",
              "[[19]]$testing\n",
              "[1] 49386\n",
              "\n",
              "[[19]]$testing_pos\n",
              "[1] 370\n",
              "\n",
              "[[19]]$envios\n",
              "[1] 3774\n",
              "\n",
              "[[19]]$aciertos\n",
              "[1] 212\n",
              "\n",
              "[[19]]$ganancia_test\n",
              "[1] 47060000\n",
              "\n",
              "\n",
              "[[20]]\n",
              "[[20]]$semilla\n",
              "[1] 223009\n",
              "\n",
              "[[20]]$testing\n",
              "[1] 49390\n",
              "\n",
              "[[20]]$testing_pos\n",
              "[1] 378\n",
              "\n",
              "[[20]]$envios\n",
              "[1] 3367\n",
              "\n",
              "[[20]]$aciertos\n",
              "[1] 210\n",
              "\n",
              "[[20]]$ganancia_test\n",
              "[1] 50330000\n",
              "\n",
              "\n",
              "[[21]]\n",
              "[[21]]$semilla\n",
              "[1] 143779\n",
              "\n",
              "[[21]]$testing\n",
              "[1] 49384\n",
              "\n",
              "[[21]]$testing_pos\n",
              "[1] 379\n",
              "\n",
              "[[21]]$envios\n",
              "[1] 3919\n",
              "\n",
              "[[21]]$aciertos\n",
              "[1] 223\n",
              "\n",
              "[[21]]$ganancia_test\n",
              "[1] 50010000\n",
              "\n",
              "\n",
              "[[22]]\n",
              "[[22]]$semilla\n",
              "[1] 133781\n",
              "\n",
              "[[22]]$testing\n",
              "[1] 49377\n",
              "\n",
              "[[22]]$testing_pos\n",
              "[1] 373\n",
              "\n",
              "[[22]]$envios\n",
              "[1] 3843\n",
              "\n",
              "[[22]]$aciertos\n",
              "[1] 217\n",
              "\n",
              "[[22]]$ganancia_test\n",
              "[1] 48370000\n",
              "\n",
              "\n",
              "[[23]]\n",
              "[[23]]$semilla\n",
              "[1] 453889\n",
              "\n",
              "[[23]]$testing\n",
              "[1] 49385\n",
              "\n",
              "[[23]]$testing_pos\n",
              "[1] 373\n",
              "\n",
              "[[23]]$envios\n",
              "[1] 3742\n",
              "\n",
              "[[23]]$aciertos\n",
              "[1] 203\n",
              "\n",
              "[[23]]$ganancia_test\n",
              "[1] 43780000\n",
              "\n",
              "\n",
              "[[24]]\n",
              "[[24]]$semilla\n",
              "[1] 992393\n",
              "\n",
              "[[24]]$testing\n",
              "[1] 49380\n",
              "\n",
              "[[24]]$testing_pos\n",
              "[1] 375\n",
              "\n",
              "[[24]]$envios\n",
              "[1] 3505\n",
              "\n",
              "[[24]]$aciertos\n",
              "[1] 213\n",
              "\n",
              "[[24]]$ganancia_test\n",
              "[1] 50150000\n",
              "\n",
              "\n",
              "[[25]]\n",
              "[[25]]$semilla\n",
              "[1] 669701\n",
              "\n",
              "[[25]]$testing\n",
              "[1] 49372\n",
              "\n",
              "[[25]]$testing_pos\n",
              "[1] 375\n",
              "\n",
              "[[25]]$envios\n",
              "[1] 2552\n",
              "\n",
              "[[25]]$aciertos\n",
              "[1] 175\n",
              "\n",
              "[[25]]$ganancia_test\n",
              "[1] 44480000\n",
              "\n",
              "\n",
              "[[26]]\n",
              "[[26]]$semilla\n",
              "[1] 247729\n",
              "\n",
              "[[26]]$testing\n",
              "[1] 49380\n",
              "\n",
              "[[26]]$testing_pos\n",
              "[1] 380\n",
              "\n",
              "[[26]]$envios\n",
              "[1] 2738\n",
              "\n",
              "[[26]]$aciertos\n",
              "[1] 177\n",
              "\n",
              "[[26]]$ganancia_test\n",
              "[1] 43420000\n",
              "\n",
              "\n",
              "[[27]]\n",
              "[[27]]$semilla\n",
              "[1] 341293\n",
              "\n",
              "[[27]]$testing\n",
              "[1] 49383\n",
              "\n",
              "[[27]]$testing_pos\n",
              "[1] 377\n",
              "\n",
              "[[27]]$envios\n",
              "[1] 3228\n",
              "\n",
              "[[27]]$aciertos\n",
              "[1] 199\n",
              "\n",
              "[[27]]$ganancia_test\n",
              "[1] 47320000\n",
              "\n",
              "\n",
              "[[28]]\n",
              "[[28]]$semilla\n",
              "[1] 986759\n",
              "\n",
              "[[28]]$testing\n",
              "[1] 49374\n",
              "\n",
              "[[28]]$testing_pos\n",
              "[1] 373\n",
              "\n",
              "[[28]]$envios\n",
              "[1] 3454\n",
              "\n",
              "[[28]]$aciertos\n",
              "[1] 200\n",
              "\n",
              "[[28]]$ganancia_test\n",
              "[1] 45460000\n",
              "\n",
              "\n",
              "[[29]]\n",
              "[[29]]$semilla\n",
              "[1] 994237\n",
              "\n",
              "[[29]]$testing\n",
              "[1] 49388\n",
              "\n",
              "[[29]]$testing_pos\n",
              "[1] 376\n",
              "\n",
              "[[29]]$envios\n",
              "[1] 2980\n",
              "\n",
              "[[29]]$aciertos\n",
              "[1] 174\n",
              "\n",
              "[[29]]$ganancia_test\n",
              "[1] 39800000\n",
              "\n",
              "\n",
              "[[30]]\n",
              "[[30]]$semilla\n",
              "[1] 116099\n",
              "\n",
              "[[30]]$testing\n",
              "[1] 49385\n",
              "\n",
              "[[30]]$testing_pos\n",
              "[1] 383\n",
              "\n",
              "[[30]]$envios\n",
              "[1] 3161\n",
              "\n",
              "[[30]]$aciertos\n",
              "[1] 210\n",
              "\n",
              "[[30]]$ganancia_test\n",
              "[1] 52390000\n",
              "\n",
              "\n",
              "[[31]]\n",
              "[[31]]$semilla\n",
              "[1] 366841\n",
              "\n",
              "[[31]]$testing\n",
              "[1] 49373\n",
              "\n",
              "[[31]]$testing_pos\n",
              "[1] 370\n",
              "\n",
              "[[31]]$envios\n",
              "[1] 3143\n",
              "\n",
              "[[31]]$aciertos\n",
              "[1] 204\n",
              "\n",
              "[[31]]$ganancia_test\n",
              "[1] 50170000\n",
              "\n",
              "\n",
              "[[32]]\n",
              "[[32]]$semilla\n",
              "[1] 120391\n",
              "\n",
              "[[32]]$testing\n",
              "[1] 49388\n",
              "\n",
              "[[32]]$testing_pos\n",
              "[1] 373\n",
              "\n",
              "[[32]]$envios\n",
              "[1] 4535\n",
              "\n",
              "[[32]]$aciertos\n",
              "[1] 224\n",
              "\n",
              "[[32]]$ganancia_test\n",
              "[1] 44250000\n",
              "\n",
              "\n",
              "[[33]]\n",
              "[[33]]$semilla\n",
              "[1] 285227\n",
              "\n",
              "[[33]]$testing\n",
              "[1] 49373\n",
              "\n",
              "[[33]]$testing_pos\n",
              "[1] 374\n",
              "\n",
              "[[33]]$envios\n",
              "[1] 4110\n",
              "\n",
              "[[33]]$aciertos\n",
              "[1] 227\n",
              "\n",
              "[[33]]$ganancia_test\n",
              "[1] 49700000\n",
              "\n",
              "\n",
              "[[34]]\n",
              "[[34]]$semilla\n",
              "[1] 476419\n",
              "\n",
              "[[34]]$testing\n",
              "[1] 49390\n",
              "\n",
              "[[34]]$testing_pos\n",
              "[1] 379\n",
              "\n",
              "[[34]]$envios\n",
              "[1] 4074\n",
              "\n",
              "[[34]]$aciertos\n",
              "[1] 236\n",
              "\n",
              "[[34]]$ganancia_test\n",
              "[1] 53660000\n",
              "\n",
              "\n",
              "[[35]]\n",
              "[[35]]$semilla\n",
              "[1] 150881\n",
              "\n",
              "[[35]]$testing\n",
              "[1] 49377\n",
              "\n",
              "[[35]]$testing_pos\n",
              "[1] 379\n",
              "\n",
              "[[35]]$envios\n",
              "[1] 3236\n",
              "\n",
              "[[35]]$aciertos\n",
              "[1] 204\n",
              "\n",
              "[[35]]$ganancia_test\n",
              "[1] 49240000\n",
              "\n",
              "\n",
              "[[36]]\n",
              "[[36]]$semilla\n",
              "[1] 833299\n",
              "\n",
              "[[36]]$testing\n",
              "[1] 49377\n",
              "\n",
              "[[36]]$testing_pos\n",
              "[1] 377\n",
              "\n",
              "[[36]]$envios\n",
              "[1] 3413\n",
              "\n",
              "[[36]]$aciertos\n",
              "[1] 206\n",
              "\n",
              "[[36]]$ganancia_test\n",
              "[1] 48270000\n",
              "\n",
              "\n",
              "[[37]]\n",
              "[[37]]$semilla\n",
              "[1] 975383\n",
              "\n",
              "[[37]]$testing\n",
              "[1] 49387\n",
              "\n",
              "[[37]]$testing_pos\n",
              "[1] 375\n",
              "\n",
              "[[37]]$envios\n",
              "[1] 3772\n",
              "\n",
              "[[37]]$aciertos\n",
              "[1] 205\n",
              "\n",
              "[[37]]$ganancia_test\n",
              "[1] 44280000\n",
              "\n",
              "\n",
              "[[38]]\n",
              "[[38]]$semilla\n",
              "[1] 110221\n",
              "\n",
              "[[38]]$testing\n",
              "[1] 49383\n",
              "\n",
              "[[38]]$testing_pos\n",
              "[1] 375\n",
              "\n",
              "[[38]]$envios\n",
              "[1] 3581\n",
              "\n",
              "[[38]]$aciertos\n",
              "[1] 229\n",
              "\n",
              "[[38]]$ganancia_test\n",
              "[1] 55790000\n",
              "\n",
              "\n",
              "[[39]]\n",
              "[[39]]$semilla\n",
              "[1] 293999\n",
              "\n",
              "[[39]]$testing\n",
              "[1] 49375\n",
              "\n",
              "[[39]]$testing_pos\n",
              "[1] 373\n",
              "\n",
              "[[39]]$envios\n",
              "[1] 3559\n",
              "\n",
              "[[39]]$aciertos\n",
              "[1] 203\n",
              "\n",
              "[[39]]$ganancia_test\n",
              "[1] 45610000\n",
              "\n",
              "\n",
              "[[40]]\n",
              "[[40]]$semilla\n",
              "[1] 316663\n",
              "\n",
              "[[40]]$testing\n",
              "[1] 49375\n",
              "\n",
              "[[40]]$testing_pos\n",
              "[1] 373\n",
              "\n",
              "[[40]]$envios\n",
              "[1] 2794\n",
              "\n",
              "[[40]]$aciertos\n",
              "[1] 180\n",
              "\n",
              "[[40]]$ganancia_test\n",
              "[1] 44060000\n",
              "\n",
              "\n",
              "[[41]]\n",
              "[[41]]$semilla\n",
              "[1] 485411\n",
              "\n",
              "[[41]]$testing\n",
              "[1] 49381\n",
              "\n",
              "[[41]]$testing_pos\n",
              "[1] 373\n",
              "\n",
              "[[41]]$envios\n",
              "[1] 3232\n",
              "\n",
              "[[41]]$aciertos\n",
              "[1] 200\n",
              "\n",
              "[[41]]$ganancia_test\n",
              "[1] 47680000\n",
              "\n",
              "\n",
              "[[42]]\n",
              "[[42]]$semilla\n",
              "[1] 326057\n",
              "\n",
              "[[42]]$testing\n",
              "[1] 49390\n",
              "\n",
              "[[42]]$testing_pos\n",
              "[1] 380\n",
              "\n",
              "[[42]]$envios\n",
              "[1] 3447\n",
              "\n",
              "[[42]]$aciertos\n",
              "[1] 202\n",
              "\n",
              "[[42]]$ganancia_test\n",
              "[1] 46330000\n",
              "\n",
              "\n",
              "[[43]]\n",
              "[[43]]$semilla\n",
              "[1] 214607\n",
              "\n",
              "[[43]]$testing\n",
              "[1] 49384\n",
              "\n",
              "[[43]]$testing_pos\n",
              "[1] 375\n",
              "\n",
              "[[43]]$envios\n",
              "[1] 3239\n",
              "\n",
              "[[43]]$aciertos\n",
              "[1] 200\n",
              "\n",
              "[[43]]$ganancia_test\n",
              "[1] 47610000\n",
              "\n",
              "\n",
              "[[44]]\n",
              "[[44]]$semilla\n",
              "[1] 447053\n",
              "\n",
              "[[44]]$testing\n",
              "[1] 49368\n",
              "\n",
              "[[44]]$testing_pos\n",
              "[1] 369\n",
              "\n",
              "[[44]]$envios\n",
              "[1] 3655\n",
              "\n",
              "[[44]]$aciertos\n",
              "[1] 201\n",
              "\n",
              "[[44]]$ganancia_test\n",
              "[1] 43850000\n",
              "\n",
              "\n",
              "[[45]]\n",
              "[[45]]$semilla\n",
              "[1] 284957\n",
              "\n",
              "[[45]]$testing\n",
              "[1] 49372\n",
              "\n",
              "[[45]]$testing_pos\n",
              "[1] 369\n",
              "\n",
              "[[45]]$envios\n",
              "[1] 3198\n",
              "\n",
              "[[45]]$aciertos\n",
              "[1] 197\n",
              "\n",
              "[[45]]$ganancia_test\n",
              "[1] 46820000\n",
              "\n",
              "\n",
              "[[46]]\n",
              "[[46]]$semilla\n",
              "[1] 690493\n",
              "\n",
              "[[46]]$testing\n",
              "[1] 49379\n",
              "\n",
              "[[46]]$testing_pos\n",
              "[1] 378\n",
              "\n",
              "[[46]]$envios\n",
              "[1] 3298\n",
              "\n",
              "[[46]]$aciertos\n",
              "[1] 204\n",
              "\n",
              "[[46]]$ganancia_test\n",
              "[1] 48620000\n",
              "\n",
              "\n",
              "[[47]]\n",
              "[[47]]$semilla\n",
              "[1] 392297\n",
              "\n",
              "[[47]]$testing\n",
              "[1] 49378\n",
              "\n",
              "[[47]]$testing_pos\n",
              "[1] 378\n",
              "\n",
              "[[47]]$envios\n",
              "[1] 3783\n",
              "\n",
              "[[47]]$aciertos\n",
              "[1] 218\n",
              "\n",
              "[[47]]$ganancia_test\n",
              "[1] 49370000\n",
              "\n",
              "\n",
              "[[48]]\n",
              "[[48]]$semilla\n",
              "[1] 236981\n",
              "\n",
              "[[48]]$testing\n",
              "[1] 49375\n",
              "\n",
              "[[48]]$testing_pos\n",
              "[1] 374\n",
              "\n",
              "[[48]]$envios\n",
              "[1] 3153\n",
              "\n",
              "[[48]]$aciertos\n",
              "[1] 197\n",
              "\n",
              "[[48]]$ganancia_test\n",
              "[1] 47270000\n",
              "\n",
              "\n",
              "[[49]]\n",
              "[[49]]$semilla\n",
              "[1] 956513\n",
              "\n",
              "[[49]]$testing\n",
              "[1] 49380\n",
              "\n",
              "[[49]]$testing_pos\n",
              "[1] 376\n",
              "\n",
              "[[49]]$envios\n",
              "[1] 3340\n",
              "\n",
              "[[49]]$aciertos\n",
              "[1] 204\n",
              "\n",
              "[[49]]$ganancia_test\n",
              "[1] 48200000\n",
              "\n",
              "\n",
              "[[50]]\n",
              "[[50]]$semilla\n",
              "[1] 518831\n",
              "\n",
              "[[50]]$testing\n",
              "[1] 49370\n",
              "\n",
              "[[50]]$testing_pos\n",
              "[1] 376\n",
              "\n",
              "[[50]]$envios\n",
              "[1] 3394\n",
              "\n",
              "[[50]]$aciertos\n",
              "[1] 216\n",
              "\n",
              "[[50]]$ganancia_test\n",
              "[1] 52460000\n",
              "\n"
            ]
          },
          "metadata": {}
        }
      ]
    },
    {
      "cell_type": "code",
      "source": [
        "# paso la lista a vector\n",
        "tb_salida <- rbindlist(salidas)\n",
        "print( tb_salida)"
      ],
      "metadata": {
        "id": "unGWiKRMGimU",
        "outputId": "462a4c45-b08d-4e0d-ae0d-a915fd42c700",
        "colab": {
          "base_uri": "https://localhost:8080/",
          "height": 0
        }
      },
      "execution_count": 48,
      "outputs": [
        {
          "output_type": "stream",
          "name": "stdout",
          "text": [
            "    semilla testing testing_pos envios aciertos ganancia_test\n",
            "      <int>   <int>       <int>  <int>    <int>         <num>\n",
            " 1:  828941   49383         374   3700      226      53400000\n",
            " 2:  176321   49378         369   3824      197      40560000\n",
            " 3:  675391   49399         380   3237      202      48430000\n",
            " 4:  785963   49383         374   3883      221      49570000\n",
            " 5:  174197   49383         373   3465      199      44950000\n",
            " 6:  674159   49387         377   3863      204      42970000\n",
            " 7:  935581   49386         379   4465      242      52150000\n",
            " 8:  370663   49389         379   3685      212      47950000\n",
            " 9:  472123   49389         372   4015      228      51050000\n",
            "10:  888047   49371         372   3384      205      48160000\n",
            "11:  702281   49380         374   3173      205      50270000\n",
            "12:  698251   49383         377   2866      183      44540000\n",
            "13:  766739   49371         374   3335      188      41850000\n",
            "14:  684961   49395         375   3944      213      45760000\n",
            "15:  777859   49386         375   3468      202      46120000\n",
            "16:  296353   49388         382   3448      205      47520000\n",
            "17:  229763   49378         374   3006      214      55540000\n",
            "18:  891493   49379         374   3597      222      52830000\n",
            "19:  304501   49386         370   3774      212      47060000\n",
            "20:  223009   49390         378   3367      210      50330000\n",
            "21:  143779   49384         379   3919      223      50010000\n",
            "22:  133781   49377         373   3843      217      48370000\n",
            "23:  453889   49385         373   3742      203      43780000\n",
            "24:  992393   49380         375   3505      213      50150000\n",
            "25:  669701   49372         375   2552      175      44480000\n",
            "26:  247729   49380         380   2738      177      43420000\n",
            "27:  341293   49383         377   3228      199      47320000\n",
            "28:  986759   49374         373   3454      200      45460000\n",
            "29:  994237   49388         376   2980      174      39800000\n",
            "30:  116099   49385         383   3161      210      52390000\n",
            "31:  366841   49373         370   3143      204      50170000\n",
            "32:  120391   49388         373   4535      224      44250000\n",
            "33:  285227   49373         374   4110      227      49700000\n",
            "34:  476419   49390         379   4074      236      53660000\n",
            "35:  150881   49377         379   3236      204      49240000\n",
            "36:  833299   49377         377   3413      206      48270000\n",
            "37:  975383   49387         375   3772      205      44280000\n",
            "38:  110221   49383         375   3581      229      55790000\n",
            "39:  293999   49375         373   3559      203      45610000\n",
            "40:  316663   49375         373   2794      180      44060000\n",
            "41:  485411   49381         373   3232      200      47680000\n",
            "42:  326057   49390         380   3447      202      46330000\n",
            "43:  214607   49384         375   3239      200      47610000\n",
            "44:  447053   49368         369   3655      201      43850000\n",
            "45:  284957   49372         369   3198      197      46820000\n",
            "46:  690493   49379         378   3298      204      48620000\n",
            "47:  392297   49378         378   3783      218      49370000\n",
            "48:  236981   49375         374   3153      197      47270000\n",
            "49:  956513   49380         376   3340      204      48200000\n",
            "50:  518831   49370         376   3394      216      52460000\n",
            "    semilla testing testing_pos envios aciertos ganancia_test\n"
          ]
        }
      ]
    },
    {
      "cell_type": "code",
      "source": [
        "# calulo la salida\n",
        "for( i in seq(10, 50, 10) )\n",
        "{\n",
        "  cat( i, \"\\t\", tb_salida[ 1:i, mean(ganancia_test)], \"\\n\" )\n",
        "}\n"
      ],
      "metadata": {
        "id": "oGoadhBKGimV",
        "outputId": "dcbdcf41-5ebe-4711-e1f6-ddb1323f8565",
        "colab": {
          "base_uri": "https://localhost:8080/",
          "height": 0
        }
      },
      "execution_count": 49,
      "outputs": [
        {
          "output_type": "stream",
          "name": "stdout",
          "text": [
            "10 \t 47919000 \n",
            "20 \t 48050500 \n",
            "30 \t 47539667 \n",
            "40 \t 47780500 \n",
            "50 \t 47788600 \n"
          ]
        }
      ]
    },
    {
      "cell_type": "markdown",
      "source": [
        "### Acciones a realizar\n",
        "* Reportar la  los resultados en la planilla colaborativa hoja  **C2-nsem**\n",
        "* Se discutirá en clase la variabilidad de las distintas cantidades de semillas"
      ],
      "metadata": {
        "id": "dO9yQKt7GimV"
      }
    },
    {
      "cell_type": "markdown",
      "source": [
        "\n",
        "\n",
        "---\n",
        "\n"
      ],
      "metadata": {
        "id": "ziFKwIlBGimW"
      }
    },
    {
      "cell_type": "markdown",
      "source": [
        "# 5  DiezMil -Monte Carlo Cross Validation\n",
        "## Clase 02  Experimento 5"
      ],
      "metadata": {
        "id": "2jncHe-KJLUg"
      }
    },
    {
      "cell_type": "markdown",
      "source": [
        "Mostrar a los estudiantes el resultado de un experimento en donde se ha corrido una Monte Carlo Cross Validation utilizando diez mil semillas y relacionar la cantidad de semillas con el resultado del Teorema Central del Límite\n",
        "<br>Los resultados se muestran en esta misma guia y se comentan en clase,Bajo ningún concepto se solicitará a l@s estudiantes hacer este experimento en clase ya que lleva varias horas en correr.\n"
      ],
      "metadata": {
        "id": "vUzSGZGOJZq8"
      }
    },
    {
      "cell_type": "markdown",
      "source": [
        "Aqui usted NO debe correr absolutamente nada, el experimento ya fue corrido por la cátedra y le muestra los resultados."
      ],
      "metadata": {
        "id": "G0YGjTMxuTSg"
      }
    },
    {
      "cell_type": "markdown",
      "source": [
        "## 5.1\n",
        "Estos resultados han sido corridos por la cátedra.\n",
        "\n",
        "![Distribucion de las ganancias](https://storage.googleapis.com/open-courses/austral2025-af91/labo1r/C2_E5_distribucion.jpg)"
      ],
      "metadata": {
        "id": "7NRUb3WtJikc"
      }
    },
    {
      "cell_type": "markdown",
      "source": [
        "![salida](https://storage.googleapis.com/open-courses/austral2025-af91/labo1r/C2_E5_salida.jpg)"
      ],
      "metadata": {
        "id": "tZ4X8wdSKc7G"
      }
    },
    {
      "cell_type": "markdown",
      "source": [
        "![tabla](https://storage.googleapis.com/open-courses/austral2025-af91/labo1r/C2_E5_tabla.jpg)\n",
        "\n",
        " 2    ~    1,96  =  3605406.2 / 1836264.3\n",
        "\n",
        "Por el teorema central del límite, un aumento de 4 veces de la cantidad de registros que se promedian el desvio estandar disminuye 2 veces ,  raiz(4 ) = 2"
      ],
      "metadata": {
        "id": "EsL5ukNWKS71"
      }
    },
    {
      "cell_type": "markdown",
      "source": [
        "\n",
        "\n",
        "---\n",
        "\n"
      ],
      "metadata": {
        "id": "OTLq8TC4LR0c"
      }
    },
    {
      "cell_type": "markdown",
      "source": [
        "# 6 Comparando dos distintos  modelos\n",
        "## Clase 02  Experimento 6"
      ],
      "metadata": {
        "id": "sAS1bfL8LmBv"
      }
    },
    {
      "cell_type": "markdown",
      "source": [
        "## 6.1  Objetivos\n",
        "Presentar a los alumnos la dificultad que se presenta ante la comparación de dos modelos, uno posee un poder predictivo claramente mayor al otro.\n",
        "Comparación simple de media de ganancias, versus probabilidad que un modelo sea superior a otro."
      ],
      "metadata": {
        "id": "KzwdMJDZLmB9"
      }
    },
    {
      "cell_type": "markdown",
      "source": [
        "## 6.2 Introduccion\n",
        "Estos son los dos arboles de muy distinta profundidad.\n",
        "<br>¿Cuál de ellos es mejor? ¿Cuál elijo?\n",
        "\n",
        "| Hiperparámetro | Arbol 1 | Arbol 2 |\n",
        "| --- | --: |  ---: |\n",
        "| cp | -1 | -1 |\n",
        "|minsplit | 170 | 250 |\n",
        "|minbucket | 70 | 125 |\n",
        "|maxdepth | 7 | 20 |\n",
        "\n"
      ],
      "metadata": {
        "id": "DDyFNmJ9L_CW"
      }
    },
    {
      "cell_type": "markdown",
      "source": [
        "## 6.3 Codigo dos distintos modelos"
      ],
      "metadata": {
        "id": "bQfwNsVzNrtI"
      }
    },
    {
      "cell_type": "markdown",
      "source": [
        "Esta parte se debe correr con el runtime en lenguaje **R** Ir al menu, Runtime -> Change Runtime Tipe -> Runtime type -> R"
      ],
      "metadata": {
        "id": "Ku7qQgKjNruJ"
      }
    },
    {
      "cell_type": "markdown",
      "source": [
        "El tiempo de corrida es de alrededor de 40 minutos"
      ],
      "metadata": {
        "id": "6jCdS3NMuKei"
      }
    },
    {
      "cell_type": "markdown",
      "source": [
        "limpio el ambiente de R"
      ],
      "metadata": {
        "id": "Z1EUBeHyNruK"
      }
    },
    {
      "cell_type": "code",
      "source": [
        "# limpio la memoria\n",
        "rm(list=ls(all.names=TRUE)) # remove all objects\n",
        "gc(full=TRUE, verbose=FALSE) # garbage collection"
      ],
      "metadata": {
        "id": "GxbC4V3zNruM",
        "outputId": "cea4e47c-12c6-429f-f211-a592ca874fe1",
        "colab": {
          "base_uri": "https://localhost:8080/",
          "height": 130
        }
      },
      "execution_count": 50,
      "outputs": [
        {
          "output_type": "display_data",
          "data": {
            "text/html": [
              "<table class=\"dataframe\">\n",
              "<caption>A matrix: 2 × 6 of type dbl</caption>\n",
              "<thead>\n",
              "\t<tr><th></th><th scope=col>used</th><th scope=col>(Mb)</th><th scope=col>gc trigger</th><th scope=col>(Mb)</th><th scope=col>max used</th><th scope=col>(Mb)</th></tr>\n",
              "</thead>\n",
              "<tbody>\n",
              "\t<tr><th scope=row>Ncells</th><td> 832386</td><td>44.5</td><td> 1454471</td><td> 77.7</td><td>  1454471</td><td> 77.7</td></tr>\n",
              "\t<tr><th scope=row>Vcells</th><td>1568373</td><td>12.0</td><td>52506221</td><td>400.6</td><td>103913292</td><td>792.8</td></tr>\n",
              "</tbody>\n",
              "</table>\n"
            ],
            "text/markdown": "\nA matrix: 2 × 6 of type dbl\n\n| <!--/--> | used | (Mb) | gc trigger | (Mb) | max used | (Mb) |\n|---|---|---|---|---|---|---|\n| Ncells |  832386 | 44.5 |  1454471 |  77.7 |   1454471 |  77.7 |\n| Vcells | 1568373 | 12.0 | 52506221 | 400.6 | 103913292 | 792.8 |\n\n",
            "text/latex": "A matrix: 2 × 6 of type dbl\n\\begin{tabular}{r|llllll}\n  & used & (Mb) & gc trigger & (Mb) & max used & (Mb)\\\\\n\\hline\n\tNcells &  832386 & 44.5 &  1454471 &  77.7 &   1454471 &  77.7\\\\\n\tVcells & 1568373 & 12.0 & 52506221 & 400.6 & 103913292 & 792.8\\\\\n\\end{tabular}\n",
            "text/plain": [
              "       used    (Mb) gc trigger (Mb)  max used  (Mb) \n",
              "Ncells  832386 44.5  1454471    77.7   1454471  77.7\n",
              "Vcells 1568373 12.0 52506221   400.6 103913292 792.8"
            ]
          },
          "metadata": {}
        }
      ]
    },
    {
      "cell_type": "markdown",
      "source": [
        "* Instalacion de la libreria  rpart.plot  para dibujar el arbol\n",
        "* invocacion de las librerias  **data.table** y  **rpart**"
      ],
      "metadata": {
        "id": "i2WkSCIhNruQ"
      }
    },
    {
      "cell_type": "code",
      "source": [
        "# cargo las librerias que necesito\n",
        "require(\"data.table\")\n",
        "require(\"rpart\")\n",
        "require(\"parallel\")\n",
        "\n",
        "if (!require(\"primes\")) install.packages(\"primes\")\n",
        "require(\"primes\")\n",
        "\n",
        "require(\"ggplot2\")"
      ],
      "metadata": {
        "id": "3bMsgZJWNruR",
        "outputId": "b28084ba-28b3-4f9a-8abe-c3cba3dc68f9",
        "colab": {
          "base_uri": "https://localhost:8080/",
          "height": 0
        }
      },
      "execution_count": 51,
      "outputs": [
        {
          "output_type": "stream",
          "name": "stderr",
          "text": [
            "Loading required package: ggplot2\n",
            "\n"
          ]
        }
      ]
    },
    {
      "cell_type": "markdown",
      "source": [
        "###  Accion a Realizar\n",
        "PARAM$semilla_primigenia  debe reemplazarse por SU primer semilla"
      ],
      "metadata": {
        "id": "t1lTXrKaNruT"
      }
    },
    {
      "cell_type": "code",
      "source": [
        "PARAM <- list()\n",
        "PARAM$semilla_primigenia <- 304879\n",
        "PARAM$qsemillas <- 20\n",
        "PARAM$training_pct <- 70L     # entre 1 y 100\n"
      ],
      "metadata": {
        "id": "QFbPtTCMNruV"
      },
      "execution_count": 52,
      "outputs": []
    },
    {
      "cell_type": "code",
      "source": [
        "# los dos arboles\n",
        "PARAM$rpart1 <- list (\n",
        "  \"cp\" = -1,\n",
        "  \"minsplit\" = 170,\n",
        "  \"minbucket\" = 70,\n",
        "  \"maxdepth\" = 7\n",
        ")\n",
        "\n",
        "\n",
        "PARAM$rpart2 <- list (\n",
        "  \"cp\" = -1,\n",
        "  \"minsplit\" = 250,\n",
        "  \"minbucket\" = 125,\n",
        "  \"maxdepth\" = 20\n",
        ")"
      ],
      "metadata": {
        "id": "GiBGk7WKQv2V"
      },
      "execution_count": 53,
      "outputs": []
    },
    {
      "cell_type": "code",
      "source": [
        "# particionar agrega una columna llamada fold a un dataset\n",
        "#  que consiste en una particion estratificada segun agrupa\n",
        "\n",
        "# particionar( data=dataset, division=c(70,30),\n",
        "#  agrupa=clase_ternaria, seed=semilla)   crea una particion 70, 30\n",
        "\n",
        "particionar <- function(\n",
        "    data, division, agrupa = \"\",\n",
        "    campo = \"fold\", start = 1, seed = NA) {\n",
        "  if (!is.na(seed)) set.seed(seed)\n",
        "\n",
        "  bloque <- unlist(mapply(function(x, y) {\n",
        "    rep(y, x)\n",
        "  }, division, seq(from = start, length.out = length(division))))\n",
        "\n",
        "  data[, (campo) := sample(rep(bloque, ceiling(.N / length(bloque))))[1:.N],\n",
        "    by = agrupa\n",
        "  ]\n",
        "}\n"
      ],
      "metadata": {
        "id": "2BabfKg7NruX"
      },
      "execution_count": 54,
      "outputs": []
    },
    {
      "cell_type": "code",
      "source": [
        "DosArbolesEstimarGanancia <- function(semilla, training_pct, param_rpart1, param_rpart2) {\n",
        "\n",
        "  # fuerzo impresion\n",
        "  print( paste( semilla, Sys.time()) )\n",
        "  flush.console()\n",
        "\n",
        "  # particiono estratificadamente el dataset\n",
        "  particionar(dataset,\n",
        "    division = c(training_pct, 100L -training_pct),\n",
        "    agrupa = \"clase_ternaria\",\n",
        "    seed = semilla # aqui se usa SU semilla\n",
        "  )\n",
        "\n",
        "  # genero el modelo\n",
        "  # predecir clase_ternaria a partir del resto\n",
        "  modelo1 <- rpart(\"clase_ternaria ~ .\",\n",
        "    data = dataset[fold == 1], # fold==1  es training,  el 70% de los datos\n",
        "    xval = 0,\n",
        "    control = param_rpart1\n",
        "  ) # aqui van los parametros del arbol\n",
        "\n",
        "  # aplico el modelo a los datos de testing\n",
        "  prediccion1 <- predict(modelo1, # el modelo que genere recien\n",
        "    dataset[fold == 2], # fold==2  es testing, el 30% de los datos\n",
        "    type = \"prob\"\n",
        "  ) # type= \"prob\"  es que devuelva la probabilidad\n",
        "\n",
        "\n",
        "  # calculo la ganancia en testing  qu es fold==2\n",
        "  ganancia_test1 <- dataset[\n",
        "    fold == 2,\n",
        "    sum(ifelse(prediccion1[, \"BAJA+2\"] > 0.025,\n",
        "      ifelse(clase_ternaria == \"BAJA+2\", 117000, -3000),\n",
        "      0\n",
        "    ))\n",
        "  ]\n",
        "\n",
        "  # escalo la ganancia como si fuera todo el dataset\n",
        "  ganancia_test_normalizada1 <- ganancia_test1 / (( 100 - training_pct ) / 100 )\n",
        "\n",
        "  modelo2 <- rpart(\"clase_ternaria ~ .\",\n",
        "    data = dataset[fold == 1], # fold==1  es training,  el 70% de los datos\n",
        "    xval = 0,\n",
        "    control = param_rpart2\n",
        "  ) # aqui van los parametros del arbol\n",
        "\n",
        "  # aplico el modelo a los datos de testing\n",
        "  prediccion2 <- predict(modelo2, # el modelo que genere recien\n",
        "    dataset[fold == 2], # fold==2  es testing, el 30% de los datos\n",
        "    type = \"prob\"\n",
        "  ) # type= \"prob\"  es que devuelva la probabilidad\n",
        "\n",
        "\n",
        "  # calculo la ganancia en testing  qu es fold==2\n",
        "  ganancia_test2 <- dataset[\n",
        "    fold == 2,\n",
        "    sum(ifelse(prediccion2[, \"BAJA+2\"] > 0.025,\n",
        "      ifelse(clase_ternaria == \"BAJA+2\", 117000, -3000),\n",
        "      0\n",
        "    ))\n",
        "  ]\n",
        "\n",
        "  # escalo la ganancia como si fuera todo el dataset\n",
        "  ganancia_test_normalizada2 <- ganancia_test2 / (( 100 - training_pct ) / 100 )\n",
        "\n",
        "  return(list(\n",
        "    \"semilla\" = semilla,\n",
        "    \"ganancia1\" = ganancia_test_normalizada1,\n",
        "    \"ganancia2\" = ganancia_test_normalizada2\n",
        "  ))\n",
        "}"
      ],
      "metadata": {
        "id": "YrGJgj4UNruZ"
      },
      "execution_count": 55,
      "outputs": []
    },
    {
      "cell_type": "code",
      "source": [
        "# carpeta de trabajo\n",
        "setwd(\"/content/buckets/b1/exp\")\n",
        "experimento <- \"exp206\"\n",
        "dir.create(experimento, showWarnings=FALSE)\n",
        "setwd( paste0(\"/content/buckets/b1/exp/\", experimento ))"
      ],
      "metadata": {
        "id": "2C2yjgQVNrud"
      },
      "execution_count": 56,
      "outputs": []
    },
    {
      "cell_type": "code",
      "source": [
        "# lectura del dataset\n",
        "dataset <- fread(\"/content/datasets/dataset_pequeno.csv\")\n",
        "\n",
        "# trabajo solo con los datos con clase, es decir 202107\n",
        "dataset <- dataset[clase_ternaria != \"\"]"
      ],
      "metadata": {
        "id": "oQeGcBnPNrug"
      },
      "execution_count": 57,
      "outputs": []
    },
    {
      "cell_type": "code",
      "source": [
        "detectCores()"
      ],
      "metadata": {
        "id": "gXKI2eXO9Osx",
        "outputId": "bdb3e694-9ab7-4e3c-efb3-852b2caa19d7",
        "colab": {
          "base_uri": "https://localhost:8080/",
          "height": 34
        }
      },
      "execution_count": 58,
      "outputs": [
        {
          "output_type": "display_data",
          "data": {
            "text/html": [
              "2"
            ],
            "text/markdown": "2",
            "text/latex": "2",
            "text/plain": [
              "[1] 2"
            ]
          },
          "metadata": {}
        }
      ]
    },
    {
      "cell_type": "code",
      "source": [
        "# genero numeros primos\n",
        "primos <- generate_primes(min = 100000, max = 1000000)\n",
        "set.seed(PARAM$semilla_primigenia) # inicializo\n",
        "\n",
        "# me quedo con PARAM$qsemillas   semillas\n",
        "PARAM$semillas <- sample(primos, PARAM$qsemillas )"
      ],
      "metadata": {
        "id": "tU8S7_5ANrui"
      },
      "execution_count": 59,
      "outputs": []
    },
    {
      "cell_type": "code",
      "source": [
        "# demora interminables 60 minutos en correr en Google Colab\n",
        "Sys.time()\n",
        "\n",
        "salidas <- mcmapply( DosArbolesEstimarGanancia,\n",
        "  PARAM$semillas, # paso el vector de semillas\n",
        "  MoreArgs = list(PARAM$training_pct, PARAM$rpart1, PARAM$rpart2), # aqui paso el segundo parametro\n",
        "  SIMPLIFY = FALSE,\n",
        "  mc.cores = detectCores()\n",
        ")\n",
        "\n",
        "Sys.time()"
      ],
      "metadata": {
        "id": "mlF66CgxcHF3",
        "outputId": "6088682d-d751-409a-e8e0-121f0949b5cc",
        "colab": {
          "base_uri": "https://localhost:8080/",
          "height": 52
        }
      },
      "execution_count": 60,
      "outputs": [
        {
          "output_type": "display_data",
          "data": {
            "text/plain": [
              "[1] \"2025-10-14 21:58:52 UTC\""
            ]
          },
          "metadata": {}
        },
        {
          "output_type": "display_data",
          "data": {
            "text/plain": [
              "[1] \"2025-10-14 22:55:17 UTC\""
            ]
          },
          "metadata": {}
        }
      ]
    },
    {
      "cell_type": "code",
      "source": [
        "# paso la lista a vector\n",
        "tb_salida <- rbindlist(salidas)\n",
        "tb_salida"
      ],
      "metadata": {
        "id": "_g-_kccdNrum",
        "outputId": "18e877ff-7e4d-4ab7-927e-4ec6338611c6",
        "colab": {
          "base_uri": "https://localhost:8080/",
          "height": 726
        }
      },
      "execution_count": 61,
      "outputs": [
        {
          "output_type": "display_data",
          "data": {
            "text/html": [
              "<table class=\"dataframe\">\n",
              "<caption>A data.table: 20 × 3</caption>\n",
              "<thead>\n",
              "\t<tr><th scope=col>semilla</th><th scope=col>ganancia1</th><th scope=col>ganancia2</th></tr>\n",
              "\t<tr><th scope=col>&lt;int&gt;</th><th scope=col>&lt;dbl&gt;</th><th scope=col>&lt;dbl&gt;</th></tr>\n",
              "</thead>\n",
              "<tbody>\n",
              "\t<tr><td>828941</td><td>53400000</td><td>39930000</td></tr>\n",
              "\t<tr><td>176321</td><td>40560000</td><td>34150000</td></tr>\n",
              "\t<tr><td>675391</td><td>48430000</td><td>39130000</td></tr>\n",
              "\t<tr><td>785963</td><td>49570000</td><td>42120000</td></tr>\n",
              "\t<tr><td>174197</td><td>44950000</td><td>46070000</td></tr>\n",
              "\t<tr><td>674159</td><td>42970000</td><td>42610000</td></tr>\n",
              "\t<tr><td>935581</td><td>52150000</td><td>38460000</td></tr>\n",
              "\t<tr><td>370663</td><td>47950000</td><td>45130000</td></tr>\n",
              "\t<tr><td>472123</td><td>51050000</td><td>49520000</td></tr>\n",
              "\t<tr><td>888047</td><td>48160000</td><td>40460000</td></tr>\n",
              "\t<tr><td>702281</td><td>50270000</td><td>41700000</td></tr>\n",
              "\t<tr><td>698251</td><td>44540000</td><td>40880000</td></tr>\n",
              "\t<tr><td>766739</td><td>41850000</td><td>38240000</td></tr>\n",
              "\t<tr><td>684961</td><td>45760000</td><td>39780000</td></tr>\n",
              "\t<tr><td>777859</td><td>46120000</td><td>36340000</td></tr>\n",
              "\t<tr><td>296353</td><td>47520000</td><td>42560000</td></tr>\n",
              "\t<tr><td>229763</td><td>55540000</td><td>43450000</td></tr>\n",
              "\t<tr><td>891493</td><td>52830000</td><td>46590000</td></tr>\n",
              "\t<tr><td>304501</td><td>47060000</td><td>43520000</td></tr>\n",
              "\t<tr><td>223009</td><td>50330000</td><td>47400000</td></tr>\n",
              "</tbody>\n",
              "</table>\n"
            ],
            "text/markdown": "\nA data.table: 20 × 3\n\n| semilla &lt;int&gt; | ganancia1 &lt;dbl&gt; | ganancia2 &lt;dbl&gt; |\n|---|---|---|\n| 828941 | 53400000 | 39930000 |\n| 176321 | 40560000 | 34150000 |\n| 675391 | 48430000 | 39130000 |\n| 785963 | 49570000 | 42120000 |\n| 174197 | 44950000 | 46070000 |\n| 674159 | 42970000 | 42610000 |\n| 935581 | 52150000 | 38460000 |\n| 370663 | 47950000 | 45130000 |\n| 472123 | 51050000 | 49520000 |\n| 888047 | 48160000 | 40460000 |\n| 702281 | 50270000 | 41700000 |\n| 698251 | 44540000 | 40880000 |\n| 766739 | 41850000 | 38240000 |\n| 684961 | 45760000 | 39780000 |\n| 777859 | 46120000 | 36340000 |\n| 296353 | 47520000 | 42560000 |\n| 229763 | 55540000 | 43450000 |\n| 891493 | 52830000 | 46590000 |\n| 304501 | 47060000 | 43520000 |\n| 223009 | 50330000 | 47400000 |\n\n",
            "text/latex": "A data.table: 20 × 3\n\\begin{tabular}{lll}\n semilla & ganancia1 & ganancia2\\\\\n <int> & <dbl> & <dbl>\\\\\n\\hline\n\t 828941 & 53400000 & 39930000\\\\\n\t 176321 & 40560000 & 34150000\\\\\n\t 675391 & 48430000 & 39130000\\\\\n\t 785963 & 49570000 & 42120000\\\\\n\t 174197 & 44950000 & 46070000\\\\\n\t 674159 & 42970000 & 42610000\\\\\n\t 935581 & 52150000 & 38460000\\\\\n\t 370663 & 47950000 & 45130000\\\\\n\t 472123 & 51050000 & 49520000\\\\\n\t 888047 & 48160000 & 40460000\\\\\n\t 702281 & 50270000 & 41700000\\\\\n\t 698251 & 44540000 & 40880000\\\\\n\t 766739 & 41850000 & 38240000\\\\\n\t 684961 & 45760000 & 39780000\\\\\n\t 777859 & 46120000 & 36340000\\\\\n\t 296353 & 47520000 & 42560000\\\\\n\t 229763 & 55540000 & 43450000\\\\\n\t 891493 & 52830000 & 46590000\\\\\n\t 304501 & 47060000 & 43520000\\\\\n\t 223009 & 50330000 & 47400000\\\\\n\\end{tabular}\n",
            "text/plain": [
              "   semilla ganancia1 ganancia2\n",
              "1  828941  53400000  39930000 \n",
              "2  176321  40560000  34150000 \n",
              "3  675391  48430000  39130000 \n",
              "4  785963  49570000  42120000 \n",
              "5  174197  44950000  46070000 \n",
              "6  674159  42970000  42610000 \n",
              "7  935581  52150000  38460000 \n",
              "8  370663  47950000  45130000 \n",
              "9  472123  51050000  49520000 \n",
              "10 888047  48160000  40460000 \n",
              "11 702281  50270000  41700000 \n",
              "12 698251  44540000  40880000 \n",
              "13 766739  41850000  38240000 \n",
              "14 684961  45760000  39780000 \n",
              "15 777859  46120000  36340000 \n",
              "16 296353  47520000  42560000 \n",
              "17 229763  55540000  43450000 \n",
              "18 891493  52830000  46590000 \n",
              "19 304501  47060000  43520000 \n",
              "20 223009  50330000  47400000 "
            ]
          },
          "metadata": {}
        }
      ]
    },
    {
      "cell_type": "code",
      "source": [
        "grafico <- ggplot( tb_salida, aes(x=ganancia1)) + geom_density(alpha=0.25, fill=\"green\", color=\"green\")  +\n",
        "             geom_density(data=tb_salida, aes(x=ganancia2), fill=\"purple\", color=\"purple\",  alpha=0.10)\n",
        "\n",
        "print(grafico)"
      ],
      "metadata": {
        "id": "-O0rg6btNrun",
        "outputId": "b635230f-d9c1-4d11-ffab-d99234f32b70",
        "colab": {
          "base_uri": "https://localhost:8080/",
          "height": 437
        }
      },
      "execution_count": 62,
      "outputs": [
        {
          "output_type": "display_data",
          "data": {
            "text/plain": [
              "plot without title"
            ],
            "image/png": "[encoded data removed]"
          },
          "metadata": {
            "image/png": {
              "width": 420,
              "height": 420
            }
          }
        }
      ]
    },
    {
      "cell_type": "code",
      "source": [
        "# imprimo en un .pdf  que va a la carpeta del experimento\n",
        "pdf(\"densidad_dos.pdf\")\n",
        "print(grafico)\n",
        "dev.off()"
      ],
      "metadata": {
        "id": "uSqrazOyU_LC",
        "outputId": "2986bca2-dd1d-4069-dfe7-c072a1e1b9e5",
        "colab": {
          "base_uri": "https://localhost:8080/",
          "height": 34
        }
      },
      "execution_count": 63,
      "outputs": [
        {
          "output_type": "display_data",
          "data": {
            "text/html": [
              "<strong>agg_record_432863386:</strong> 2"
            ],
            "text/markdown": "**agg_record_432863386:** 2",
            "text/latex": "\\textbf{agg\\textbackslash{}\\_record\\textbackslash{}\\_432863386:} 2",
            "text/plain": [
              "agg_record_432863386 \n",
              "                   2 "
            ]
          },
          "metadata": {}
        }
      ]
    },
    {
      "cell_type": "code",
      "source": [
        "print( tb_salida[ , list( \"arbol1\" = mean( ganancia1),  \"arbol2\" = mean(ganancia2) ) ] )\n",
        "\n",
        "print( tb_salida[ , list( \"prob( m1 > m2)\" = sum(ganancia1 > ganancia2 )/ .N ) ]  )"
      ],
      "metadata": {
        "id": "LGv0LB_4R7US",
        "outputId": "1bf5aa56-6e40-4185-f53d-0be0242fe60c",
        "colab": {
          "base_uri": "https://localhost:8080/",
          "height": 0
        }
      },
      "execution_count": 64,
      "outputs": [
        {
          "output_type": "stream",
          "name": "stdout",
          "text": [
            "     arbol1   arbol2\n",
            "      <num>    <num>\n",
            "1: 48050500 41902000\n",
            "   prob( m1 > m2)\n",
            "            <num>\n",
            "1:           0.95\n"
          ]
        }
      ]
    },
    {
      "cell_type": "markdown",
      "source": [
        "### Acciones a realizar\n",
        "* Reportar la  los resultados en la planilla colaborativa hoja  **C2-dosModelos**\n",
        "* ¿Todos los alumnos hubieran elegido el mismo modelo aun con 20 semillas?"
      ],
      "metadata": {
        "id": "F6lFJf1VTi8b"
      }
    },
    {
      "cell_type": "markdown",
      "source": [
        "\n",
        "\n",
        "---\n",
        "\n"
      ],
      "metadata": {
        "id": "aOpy-XBKTi8n"
      }
    },
    {
      "cell_type": "markdown",
      "source": [
        "# 7 Comparando dos buenos  modelos\n",
        "## Clase 02  Experimento 7"
      ],
      "metadata": {
        "id": "EdzjiJf-dsEK"
      }
    },
    {
      "cell_type": "markdown",
      "source": [
        "## 7.1  Objetivos\n",
        "Presentar a los alumnos la dificultad que surge en la comparación de dos muy distintos, pero ambos buenos, modelos predictivos, y el costo computacional asociado a esa comparación\n",
        "<br>Comparación simple de media de ganancias, versus probabilidad que un modelo sea superior a otro.\n",
        "<br>Limitaciones de la MonteCarlo Cross Validation\n",
        "<br>Existencia del Test de Wilcoxon"
      ],
      "metadata": {
        "id": "FcBjp5XxdsEt"
      }
    },
    {
      "cell_type": "markdown",
      "source": [
        "## 7.2 Introduccion\n",
        "Estos son los dos arboles de muy distinta profundidad.\n",
        "<br>¿Cuál de ellos es mejor? ¿Cuál elijo?\n",
        "\n",
        "| Hiperparámetro | Arbol 1 | Arbol 2 |\n",
        "| --- | --: |  ---: |\n",
        "| cp | -1 | -1 |\n",
        "|minsplit | 170 | 1900 |\n",
        "|minbucket | 70 | 800 |\n",
        "|maxdepth | 7 | 3 |\n",
        "\n"
      ],
      "metadata": {
        "id": "tYcOIcwCdsEu"
      }
    },
    {
      "cell_type": "markdown",
      "source": [
        "## 7.3 Dos buenos modelos"
      ],
      "metadata": {
        "id": "r0NDA7GgdsEu"
      }
    },
    {
      "cell_type": "markdown",
      "source": [
        "Esta parte se debe correr con el runtime en lenguaje **R** Ir al menu, Runtime -> Change Runtime Tipe -> Runtime type -> R"
      ],
      "metadata": {
        "id": "21SJmGd7dsEv"
      }
    },
    {
      "cell_type": "markdown",
      "source": [
        "El tiempo de corrida es de alrededor de 50 minutos"
      ],
      "metadata": {
        "id": "Ne0e08KUt87w"
      }
    },
    {
      "cell_type": "markdown",
      "source": [
        "limpio el ambiente de R"
      ],
      "metadata": {
        "id": "q02SEGNwdsEv"
      }
    },
    {
      "cell_type": "code",
      "source": [
        "# limpio la memoria\n",
        "rm(list=ls(all.names=TRUE)) # remove all objects\n",
        "gc(full=TRUE, verbose=FALSE) # garbage collection"
      ],
      "metadata": {
        "id": "6c2ZJstWdsEw",
        "outputId": "e278c306-ade1-4029-941c-6f173bae1c9a",
        "colab": {
          "base_uri": "https://localhost:8080/",
          "height": 130
        }
      },
      "execution_count": 65,
      "outputs": [
        {
          "output_type": "display_data",
          "data": {
            "text/html": [
              "<table class=\"dataframe\">\n",
              "<caption>A matrix: 2 × 6 of type dbl</caption>\n",
              "<thead>\n",
              "\t<tr><th></th><th scope=col>used</th><th scope=col>(Mb)</th><th scope=col>gc trigger</th><th scope=col>(Mb)</th><th scope=col>max used</th><th scope=col>(Mb)</th></tr>\n",
              "</thead>\n",
              "<tbody>\n",
              "\t<tr><th scope=row>Ncells</th><td>1422733</td><td>76.0</td><td> 2534560</td><td>135.4</td><td>  2534560</td><td>135.4</td></tr>\n",
              "\t<tr><th scope=row>Vcells</th><td>2585795</td><td>19.8</td><td>51664994</td><td>394.2</td><td>103913292</td><td>792.8</td></tr>\n",
              "</tbody>\n",
              "</table>\n"
            ],
            "text/markdown": "\nA matrix: 2 × 6 of type dbl\n\n| <!--/--> | used | (Mb) | gc trigger | (Mb) | max used | (Mb) |\n|---|---|---|---|---|---|---|\n| Ncells | 1422733 | 76.0 |  2534560 | 135.4 |   2534560 | 135.4 |\n| Vcells | 2585795 | 19.8 | 51664994 | 394.2 | 103913292 | 792.8 |\n\n",
            "text/latex": "A matrix: 2 × 6 of type dbl\n\\begin{tabular}{r|llllll}\n  & used & (Mb) & gc trigger & (Mb) & max used & (Mb)\\\\\n\\hline\n\tNcells & 1422733 & 76.0 &  2534560 & 135.4 &   2534560 & 135.4\\\\\n\tVcells & 2585795 & 19.8 & 51664994 & 394.2 & 103913292 & 792.8\\\\\n\\end{tabular}\n",
            "text/plain": [
              "       used    (Mb) gc trigger (Mb)  max used  (Mb) \n",
              "Ncells 1422733 76.0  2534560   135.4   2534560 135.4\n",
              "Vcells 2585795 19.8 51664994   394.2 103913292 792.8"
            ]
          },
          "metadata": {}
        }
      ]
    },
    {
      "cell_type": "markdown",
      "source": [
        "* Instalacion de la libreria  rpart.plot  para dibujar el arbol\n",
        "* invocacion de las librerias  **data.table** y  **rpart**"
      ],
      "metadata": {
        "id": "62MIW0r1dsEx"
      }
    },
    {
      "cell_type": "code",
      "source": [
        "# cargo las librerias que necesito\n",
        "require(\"data.table\")\n",
        "require(\"rpart\")\n",
        "require(\"parallel\")\n",
        "\n",
        "if (!require(\"primes\")) install.packages(\"primes\")\n",
        "require(\"primes\")\n",
        "\n",
        "require(\"ggplot2\")"
      ],
      "metadata": {
        "id": "2Ke4n-N8dsEy"
      },
      "execution_count": 66,
      "outputs": []
    },
    {
      "cell_type": "markdown",
      "source": [
        "###  Accion a Realizar\n",
        "PARAM$semilla_primigenia  debe reemplazarse por SU primer semilla"
      ],
      "metadata": {
        "id": "UHSoeqi4dsEz"
      }
    },
    {
      "cell_type": "code",
      "source": [
        "PARAM <- list()\n",
        "PARAM$semilla_primigenia <- 304879\n",
        "PARAM$qsemillas <- 50\n",
        "PARAM$training_pct <- 70L     # entre 1 y 100\n"
      ],
      "metadata": {
        "id": "f08_sqfAdsEz"
      },
      "execution_count": 67,
      "outputs": []
    },
    {
      "cell_type": "code",
      "source": [
        "# los dos arboles\n",
        "PARAM$rpart1 <- list (\n",
        "  \"cp\" = -1,\n",
        "  \"minsplit\" = 170,\n",
        "  \"minbucket\" = 70,\n",
        "  \"maxdepth\" = 7\n",
        ")\n",
        "\n",
        "\n",
        "PARAM$rpart2 <- list (\n",
        "  \"cp\" = -1,\n",
        "  \"minsplit\" = 1900,\n",
        "  \"minbucket\" = 800,\n",
        "  \"maxdepth\" = 3\n",
        ")\n"
      ],
      "metadata": {
        "id": "L735D9rydsE0"
      },
      "execution_count": 68,
      "outputs": []
    },
    {
      "cell_type": "code",
      "source": [
        "# particionar agrega una columna llamada fold a un dataset\n",
        "#  que consiste en una particion estratificada segun agrupa\n",
        "\n",
        "# particionar( data=dataset, division=c(70,30),\n",
        "#  agrupa=clase_ternaria, seed=semilla)   crea una particion 70, 30\n",
        "\n",
        "particionar <- function(\n",
        "    data, division, agrupa = \"\",\n",
        "    campo = \"fold\", start = 1, seed = NA) {\n",
        "  if (!is.na(seed)) set.seed(seed)\n",
        "\n",
        "  bloque <- unlist(mapply(function(x, y) {\n",
        "    rep(y, x)\n",
        "  }, division, seq(from = start, length.out = length(division))))\n",
        "\n",
        "  data[, (campo) := sample(rep(bloque, ceiling(.N / length(bloque))))[1:.N],\n",
        "    by = agrupa\n",
        "  ]\n",
        "}\n"
      ],
      "metadata": {
        "id": "O56epLUGdsE1"
      },
      "execution_count": 69,
      "outputs": []
    },
    {
      "cell_type": "code",
      "source": [
        "DosArbolesEstimarGanancia <- function(semilla, training_pct, param_rpart1, param_rpart2) {\n",
        "  # fuerzo impresion\n",
        "  print( paste( semilla, Sys.time()) )\n",
        "  flush.console()\n",
        "\n",
        "  # particiono estratificadamente el dataset\n",
        "  particionar(dataset,\n",
        "    division = c(training_pct, 100L -training_pct),\n",
        "    agrupa = \"clase_ternaria\",\n",
        "    seed = semilla # aqui se usa SU semilla\n",
        "  )\n",
        "\n",
        "  # genero el modelo\n",
        "  # predecir clase_ternaria a partir del resto\n",
        "  modelo1 <- rpart(\"clase_ternaria ~ .\",\n",
        "    data = dataset[fold == 1], # fold==1  es training,  el 70% de los datos\n",
        "    xval = 0,\n",
        "    control = param_rpart1\n",
        "  ) # aqui van los parametros del arbol\n",
        "\n",
        "  # aplico el modelo a los datos de testing\n",
        "  prediccion1 <- predict(modelo1, # el modelo que genere recien\n",
        "    dataset[fold == 2], # fold==2  es testing, el 30% de los datos\n",
        "    type = \"prob\"\n",
        "  ) # type= \"prob\"  es que devuelva la probabilidad\n",
        "\n",
        "\n",
        "  # calculo la ganancia en testing  qu es fold==2\n",
        "  ganancia_test1 <- dataset[\n",
        "    fold == 2,\n",
        "    sum(ifelse(prediccion1[, \"BAJA+2\"] > 0.025,\n",
        "      ifelse(clase_ternaria == \"BAJA+2\", 117000, -3000),\n",
        "      0\n",
        "    ))\n",
        "  ]\n",
        "\n",
        "  # escalo la ganancia como si fuera todo el dataset\n",
        "  ganancia_test_normalizada1 <- ganancia_test1 / (( 100 - training_pct ) / 100 )\n",
        "\n",
        "  modelo2 <- rpart(\"clase_ternaria ~ .\",\n",
        "    data = dataset[fold == 1], # fold==1  es training,  el 70% de los datos\n",
        "    xval = 0,\n",
        "    control = param_rpart2\n",
        "  ) # aqui van los parametros del arbol\n",
        "\n",
        "  # aplico el modelo a los datos de testing\n",
        "  prediccion2 <- predict(modelo2, # el modelo que genere recien\n",
        "    dataset[fold == 2], # fold==2  es testing, el 30% de los datos\n",
        "    type = \"prob\"\n",
        "  ) # type= \"prob\"  es que devuelva la probabilidad\n",
        "\n",
        "\n",
        "  # calculo la ganancia en testing  qu es fold==2\n",
        "  ganancia_test2 <- dataset[\n",
        "    fold == 2,\n",
        "    sum(ifelse(prediccion2[, \"BAJA+2\"] > 0.025,\n",
        "      ifelse(clase_ternaria == \"BAJA+2\", 117000, -3000),\n",
        "      0\n",
        "    ))\n",
        "  ]\n",
        "\n",
        "  # escalo la ganancia como si fuera todo el dataset\n",
        "  ganancia_test_normalizada2 <- ganancia_test2 / (( 100 - training_pct ) / 100 )\n",
        "\n",
        "  return(list(\n",
        "    \"semilla\" = semilla,\n",
        "    \"ganancia1\" = ganancia_test_normalizada1,\n",
        "    \"ganancia2\" = ganancia_test_normalizada2\n",
        "  ))\n",
        "}"
      ],
      "metadata": {
        "id": "Bv_NorLhdsE1"
      },
      "execution_count": 70,
      "outputs": []
    },
    {
      "cell_type": "code",
      "source": [
        "# carpeta de trabajo\n",
        "setwd(\"/content/buckets/b1/exp\")\n",
        "experimento <- \"exp206\"\n",
        "dir.create(experimento, showWarnings=FALSE)\n",
        "setwd( paste0(\"/content/buckets/b1/exp/\", experimento ))"
      ],
      "metadata": {
        "id": "N9GarblIdsE3"
      },
      "execution_count": 71,
      "outputs": []
    },
    {
      "cell_type": "code",
      "source": [
        "# lectura del dataset\n",
        "dataset <- fread(\"/content/datasets/dataset_pequeno.csv\")\n",
        "\n",
        "# trabajo solo con los datos con clase, es decir 202107\n",
        "dataset <- dataset[clase_ternaria != \"\"]"
      ],
      "metadata": {
        "id": "Z05r3wdTdsE3"
      },
      "execution_count": 72,
      "outputs": []
    },
    {
      "cell_type": "code",
      "source": [
        "# genero numeros primos\n",
        "primos <- generate_primes(min = 100000, max = 1000000)\n",
        "set.seed(PARAM$semilla_primigenia) # inicializo\n",
        "\n",
        "# me quedo con PARAM$qsemillas   semillas\n",
        "PARAM$semillas <- sample(primos, PARAM$qsemillas )"
      ],
      "metadata": {
        "id": "m8ODrVrndsE4"
      },
      "execution_count": 73,
      "outputs": []
    },
    {
      "cell_type": "code",
      "source": [
        "# la funcion mcmapply  llama a la funcion DosArbolesEstimarGanancia\n",
        "#  tantas veces como valores tenga el vector  PARAM$semillas\n",
        "Sys.time()\n",
        "\n",
        "salidas <- mcmapply( DosArbolesEstimarGanancia,\n",
        "  PARAM$semillas, # paso el vector de semillas\n",
        "  MoreArgs = list(PARAM$training_pct, PARAM$rpart1, PARAM$rpart2), # aqui paso el segundo parametro\n",
        "  SIMPLIFY = FALSE,\n",
        "  mc.cores = detectCores()\n",
        ")\n",
        "\n",
        "Sys.time()"
      ],
      "metadata": {
        "id": "KQBhUXxJdsE5",
        "outputId": "7c3757ed-3c03-447c-f606-5573216e3448",
        "colab": {
          "base_uri": "https://localhost:8080/",
          "height": 52
        }
      },
      "execution_count": 74,
      "outputs": [
        {
          "output_type": "display_data",
          "data": {
            "text/plain": [
              "[1] \"2025-10-15 01:15:38 UTC\""
            ]
          },
          "metadata": {}
        },
        {
          "output_type": "display_data",
          "data": {
            "text/plain": [
              "[1] \"2025-10-15 02:16:55 UTC\""
            ]
          },
          "metadata": {}
        }
      ]
    },
    {
      "cell_type": "code",
      "source": [
        "# paso la lista a vector\n",
        "tb_salida <- rbindlist(salidas)\n",
        "tb_salida"
      ],
      "metadata": {
        "id": "N0eS1CFFdsE5",
        "outputId": "07992cd2-5555-45bc-b867-c70fb51f14a5",
        "colab": {
          "base_uri": "https://localhost:8080/",
          "height": 1667
        }
      },
      "execution_count": 75,
      "outputs": [
        {
          "output_type": "display_data",
          "data": {
            "text/html": [
              "<table class=\"dataframe\">\n",
              "<caption>A data.table: 50 × 3</caption>\n",
              "<thead>\n",
              "\t<tr><th scope=col>semilla</th><th scope=col>ganancia1</th><th scope=col>ganancia2</th></tr>\n",
              "\t<tr><th scope=col>&lt;int&gt;</th><th scope=col>&lt;dbl&gt;</th><th scope=col>&lt;dbl&gt;</th></tr>\n",
              "</thead>\n",
              "<tbody>\n",
              "\t<tr><td>828941</td><td>53400000</td><td>55510000</td></tr>\n",
              "\t<tr><td>176321</td><td>40560000</td><td>40720000</td></tr>\n",
              "\t<tr><td>675391</td><td>48430000</td><td>46730000</td></tr>\n",
              "\t<tr><td>785963</td><td>49570000</td><td>48380000</td></tr>\n",
              "\t<tr><td>174197</td><td>44950000</td><td>47320000</td></tr>\n",
              "\t<tr><td>674159</td><td>42970000</td><td>46080000</td></tr>\n",
              "\t<tr><td>935581</td><td>52150000</td><td>46980000</td></tr>\n",
              "\t<tr><td>370663</td><td>47950000</td><td>49190000</td></tr>\n",
              "\t<tr><td>472123</td><td>51050000</td><td>52310000</td></tr>\n",
              "\t<tr><td>888047</td><td>48160000</td><td>44690000</td></tr>\n",
              "\t<tr><td>702281</td><td>50270000</td><td>51990000</td></tr>\n",
              "\t<tr><td>698251</td><td>44540000</td><td>43610000</td></tr>\n",
              "\t<tr><td>766739</td><td>41850000</td><td>43120000</td></tr>\n",
              "\t<tr><td>684961</td><td>45760000</td><td>48870000</td></tr>\n",
              "\t<tr><td>777859</td><td>46120000</td><td>48840000</td></tr>\n",
              "\t<tr><td>296353</td><td>47520000</td><td>46980000</td></tr>\n",
              "\t<tr><td>229763</td><td>55540000</td><td>50780000</td></tr>\n",
              "\t<tr><td>891493</td><td>52830000</td><td>51840000</td></tr>\n",
              "\t<tr><td>304501</td><td>47060000</td><td>42230000</td></tr>\n",
              "\t<tr><td>223009</td><td>50330000</td><td>50050000</td></tr>\n",
              "\t<tr><td>143779</td><td>50010000</td><td>48230000</td></tr>\n",
              "\t<tr><td>133781</td><td>48370000</td><td>47090000</td></tr>\n",
              "\t<tr><td>453889</td><td>43780000</td><td>45670000</td></tr>\n",
              "\t<tr><td>992393</td><td>50150000</td><td>46230000</td></tr>\n",
              "\t<tr><td>669701</td><td>44480000</td><td>40480000</td></tr>\n",
              "\t<tr><td>247729</td><td>43420000</td><td>48370000</td></tr>\n",
              "\t<tr><td>341293</td><td>47320000</td><td>51460000</td></tr>\n",
              "\t<tr><td>986759</td><td>45460000</td><td>51710000</td></tr>\n",
              "\t<tr><td>994237</td><td>39800000</td><td>43990000</td></tr>\n",
              "\t<tr><td>116099</td><td>52390000</td><td>47530000</td></tr>\n",
              "\t<tr><td>366841</td><td>50170000</td><td>49750000</td></tr>\n",
              "\t<tr><td>120391</td><td>44250000</td><td>47850000</td></tr>\n",
              "\t<tr><td>285227</td><td>49700000</td><td>50050000</td></tr>\n",
              "\t<tr><td>476419</td><td>53660000</td><td>53660000</td></tr>\n",
              "\t<tr><td>150881</td><td>49240000</td><td>48940000</td></tr>\n",
              "\t<tr><td>833299</td><td>48270000</td><td>47760000</td></tr>\n",
              "\t<tr><td>975383</td><td>44280000</td><td>48270000</td></tr>\n",
              "\t<tr><td>110221</td><td>55790000</td><td>47790000</td></tr>\n",
              "\t<tr><td>293999</td><td>45610000</td><td>43360000</td></tr>\n",
              "\t<tr><td>316663</td><td>44060000</td><td>45390000</td></tr>\n",
              "\t<tr><td>485411</td><td>47680000</td><td>47660000</td></tr>\n",
              "\t<tr><td>326057</td><td>46330000</td><td>51660000</td></tr>\n",
              "\t<tr><td>214607</td><td>47610000</td><td>47030000</td></tr>\n",
              "\t<tr><td>447053</td><td>43850000</td><td>45420000</td></tr>\n",
              "\t<tr><td>284957</td><td>46820000</td><td>45590000</td></tr>\n",
              "\t<tr><td>690493</td><td>48620000</td><td>48380000</td></tr>\n",
              "\t<tr><td>392297</td><td>49370000</td><td>49350000</td></tr>\n",
              "\t<tr><td>236981</td><td>47270000</td><td>47270000</td></tr>\n",
              "\t<tr><td>956513</td><td>48200000</td><td>43200000</td></tr>\n",
              "\t<tr><td>518831</td><td>52460000</td><td>53880000</td></tr>\n",
              "</tbody>\n",
              "</table>\n"
            ],
            "text/markdown": "\nA data.table: 50 × 3\n\n| semilla &lt;int&gt; | ganancia1 &lt;dbl&gt; | ganancia2 &lt;dbl&gt; |\n|---|---|---|\n| 828941 | 53400000 | 55510000 |\n| 176321 | 40560000 | 40720000 |\n| 675391 | 48430000 | 46730000 |\n| 785963 | 49570000 | 48380000 |\n| 174197 | 44950000 | 47320000 |\n| 674159 | 42970000 | 46080000 |\n| 935581 | 52150000 | 46980000 |\n| 370663 | 47950000 | 49190000 |\n| 472123 | 51050000 | 52310000 |\n| 888047 | 48160000 | 44690000 |\n| 702281 | 50270000 | 51990000 |\n| 698251 | 44540000 | 43610000 |\n| 766739 | 41850000 | 43120000 |\n| 684961 | 45760000 | 48870000 |\n| 777859 | 46120000 | 48840000 |\n| 296353 | 47520000 | 46980000 |\n| 229763 | 55540000 | 50780000 |\n| 891493 | 52830000 | 51840000 |\n| 304501 | 47060000 | 42230000 |\n| 223009 | 50330000 | 50050000 |\n| 143779 | 50010000 | 48230000 |\n| 133781 | 48370000 | 47090000 |\n| 453889 | 43780000 | 45670000 |\n| 992393 | 50150000 | 46230000 |\n| 669701 | 44480000 | 40480000 |\n| 247729 | 43420000 | 48370000 |\n| 341293 | 47320000 | 51460000 |\n| 986759 | 45460000 | 51710000 |\n| 994237 | 39800000 | 43990000 |\n| 116099 | 52390000 | 47530000 |\n| 366841 | 50170000 | 49750000 |\n| 120391 | 44250000 | 47850000 |\n| 285227 | 49700000 | 50050000 |\n| 476419 | 53660000 | 53660000 |\n| 150881 | 49240000 | 48940000 |\n| 833299 | 48270000 | 47760000 |\n| 975383 | 44280000 | 48270000 |\n| 110221 | 55790000 | 47790000 |\n| 293999 | 45610000 | 43360000 |\n| 316663 | 44060000 | 45390000 |\n| 485411 | 47680000 | 47660000 |\n| 326057 | 46330000 | 51660000 |\n| 214607 | 47610000 | 47030000 |\n| 447053 | 43850000 | 45420000 |\n| 284957 | 46820000 | 45590000 |\n| 690493 | 48620000 | 48380000 |\n| 392297 | 49370000 | 49350000 |\n| 236981 | 47270000 | 47270000 |\n| 956513 | 48200000 | 43200000 |\n| 518831 | 52460000 | 53880000 |\n\n",
            "text/latex": "A data.table: 50 × 3\n\\begin{tabular}{lll}\n semilla & ganancia1 & ganancia2\\\\\n <int> & <dbl> & <dbl>\\\\\n\\hline\n\t 828941 & 53400000 & 55510000\\\\\n\t 176321 & 40560000 & 40720000\\\\\n\t 675391 & 48430000 & 46730000\\\\\n\t 785963 & 49570000 & 48380000\\\\\n\t 174197 & 44950000 & 47320000\\\\\n\t 674159 & 42970000 & 46080000\\\\\n\t 935581 & 52150000 & 46980000\\\\\n\t 370663 & 47950000 & 49190000\\\\\n\t 472123 & 51050000 & 52310000\\\\\n\t 888047 & 48160000 & 44690000\\\\\n\t 702281 & 50270000 & 51990000\\\\\n\t 698251 & 44540000 & 43610000\\\\\n\t 766739 & 41850000 & 43120000\\\\\n\t 684961 & 45760000 & 48870000\\\\\n\t 777859 & 46120000 & 48840000\\\\\n\t 296353 & 47520000 & 46980000\\\\\n\t 229763 & 55540000 & 50780000\\\\\n\t 891493 & 52830000 & 51840000\\\\\n\t 304501 & 47060000 & 42230000\\\\\n\t 223009 & 50330000 & 50050000\\\\\n\t 143779 & 50010000 & 48230000\\\\\n\t 133781 & 48370000 & 47090000\\\\\n\t 453889 & 43780000 & 45670000\\\\\n\t 992393 & 50150000 & 46230000\\\\\n\t 669701 & 44480000 & 40480000\\\\\n\t 247729 & 43420000 & 48370000\\\\\n\t 341293 & 47320000 & 51460000\\\\\n\t 986759 & 45460000 & 51710000\\\\\n\t 994237 & 39800000 & 43990000\\\\\n\t 116099 & 52390000 & 47530000\\\\\n\t 366841 & 50170000 & 49750000\\\\\n\t 120391 & 44250000 & 47850000\\\\\n\t 285227 & 49700000 & 50050000\\\\\n\t 476419 & 53660000 & 53660000\\\\\n\t 150881 & 49240000 & 48940000\\\\\n\t 833299 & 48270000 & 47760000\\\\\n\t 975383 & 44280000 & 48270000\\\\\n\t 110221 & 55790000 & 47790000\\\\\n\t 293999 & 45610000 & 43360000\\\\\n\t 316663 & 44060000 & 45390000\\\\\n\t 485411 & 47680000 & 47660000\\\\\n\t 326057 & 46330000 & 51660000\\\\\n\t 214607 & 47610000 & 47030000\\\\\n\t 447053 & 43850000 & 45420000\\\\\n\t 284957 & 46820000 & 45590000\\\\\n\t 690493 & 48620000 & 48380000\\\\\n\t 392297 & 49370000 & 49350000\\\\\n\t 236981 & 47270000 & 47270000\\\\\n\t 956513 & 48200000 & 43200000\\\\\n\t 518831 & 52460000 & 53880000\\\\\n\\end{tabular}\n",
            "text/plain": [
              "   semilla ganancia1 ganancia2\n",
              "1  828941  53400000  55510000 \n",
              "2  176321  40560000  40720000 \n",
              "3  675391  48430000  46730000 \n",
              "4  785963  49570000  48380000 \n",
              "5  174197  44950000  47320000 \n",
              "6  674159  42970000  46080000 \n",
              "7  935581  52150000  46980000 \n",
              "8  370663  47950000  49190000 \n",
              "9  472123  51050000  52310000 \n",
              "10 888047  48160000  44690000 \n",
              "11 702281  50270000  51990000 \n",
              "12 698251  44540000  43610000 \n",
              "13 766739  41850000  43120000 \n",
              "14 684961  45760000  48870000 \n",
              "15 777859  46120000  48840000 \n",
              "16 296353  47520000  46980000 \n",
              "17 229763  55540000  50780000 \n",
              "18 891493  52830000  51840000 \n",
              "19 304501  47060000  42230000 \n",
              "20 223009  50330000  50050000 \n",
              "21 143779  50010000  48230000 \n",
              "22 133781  48370000  47090000 \n",
              "23 453889  43780000  45670000 \n",
              "24 992393  50150000  46230000 \n",
              "25 669701  44480000  40480000 \n",
              "26 247729  43420000  48370000 \n",
              "27 341293  47320000  51460000 \n",
              "28 986759  45460000  51710000 \n",
              "29 994237  39800000  43990000 \n",
              "30 116099  52390000  47530000 \n",
              "31 366841  50170000  49750000 \n",
              "32 120391  44250000  47850000 \n",
              "33 285227  49700000  50050000 \n",
              "34 476419  53660000  53660000 \n",
              "35 150881  49240000  48940000 \n",
              "36 833299  48270000  47760000 \n",
              "37 975383  44280000  48270000 \n",
              "38 110221  55790000  47790000 \n",
              "39 293999  45610000  43360000 \n",
              "40 316663  44060000  45390000 \n",
              "41 485411  47680000  47660000 \n",
              "42 326057  46330000  51660000 \n",
              "43 214607  47610000  47030000 \n",
              "44 447053  43850000  45420000 \n",
              "45 284957  46820000  45590000 \n",
              "46 690493  48620000  48380000 \n",
              "47 392297  49370000  49350000 \n",
              "48 236981  47270000  47270000 \n",
              "49 956513  48200000  43200000 \n",
              "50 518831  52460000  53880000 "
            ]
          },
          "metadata": {}
        }
      ]
    },
    {
      "cell_type": "code",
      "source": [
        "grafico <- ggplot( tb_salida, aes(x=ganancia1), fill=\"green\", color=\"green\") + geom_density(alpha=0.25)  +\n",
        "             geom_density(data=tb_salida, aes(x=ganancia2), fill=\"purple\", color=\"purple\",  alpha=0.10)\n",
        "\n",
        "print(grafico)"
      ],
      "metadata": {
        "id": "6vf28ujAdsE6",
        "outputId": "6bda8c8a-550b-4921-9054-5a5ee51b0f35",
        "colab": {
          "base_uri": "https://localhost:8080/",
          "height": 541
        }
      },
      "execution_count": 76,
      "outputs": [
        {
          "output_type": "stream",
          "name": "stderr",
          "text": [
            "Warning message in fortify(data, ...):\n",
            "“\u001b[1m\u001b[22mArguments in `...` must be used.\n",
            "\u001b[31m✖\u001b[39m Problematic arguments:\n",
            "\u001b[36m•\u001b[39m fill = \"green\"\n",
            "\u001b[36m•\u001b[39m color = \"green\"\n",
            "\u001b[36mℹ\u001b[39m Did you misspell an argument name?”\n"
          ]
        },
        {
          "output_type": "display_data",
          "data": {
            "text/plain": [
              "plot without title"
            ],
            "image/png": "[encoded data removed]"
          },
          "metadata": {
            "image/png": {
              "width": 420,
              "height": 420
            }
          }
        }
      ]
    },
    {
      "cell_type": "code",
      "source": [
        "# imprimo en un .pdf  que va a la carpeta del experimento\n",
        "pdf(\"densidad_dos.pdf\")\n",
        "print(grafico)\n",
        "dev.off()"
      ],
      "metadata": {
        "id": "TA9lLa6-dsE6",
        "outputId": "97be7bb4-2adb-4b2b-edc7-00a3b4efa2e9",
        "colab": {
          "base_uri": "https://localhost:8080/",
          "height": 34
        }
      },
      "execution_count": 77,
      "outputs": [
        {
          "output_type": "display_data",
          "data": {
            "text/html": [
              "<strong>agg_record_584488241:</strong> 2"
            ],
            "text/markdown": "**agg_record_584488241:** 2",
            "text/latex": "\\textbf{agg\\textbackslash{}\\_record\\textbackslash{}\\_584488241:} 2",
            "text/plain": [
              "agg_record_584488241 \n",
              "                   2 "
            ]
          },
          "metadata": {}
        }
      ]
    },
    {
      "cell_type": "code",
      "source": [
        "# medias de las ganancias\n",
        "print( tb_salida[ , list( \"arbol1\" = mean( ganancia1),  \"arbol2\" = mean(ganancia2) ) ] )\n"
      ],
      "metadata": {
        "id": "xAOpyZTqdsE7",
        "outputId": "ebc406ce-54db-4e64-87da-eee103f0bc6c",
        "colab": {
          "base_uri": "https://localhost:8080/",
          "height": 0
        }
      },
      "execution_count": 78,
      "outputs": [
        {
          "output_type": "stream",
          "name": "stdout",
          "text": [
            "     arbol1   arbol2\n",
            "      <num>    <num>\n",
            "1: 47788600 47784800\n"
          ]
        }
      ]
    },
    {
      "cell_type": "code",
      "source": [
        "# probabilidad que m1 sea mayor a m2\n",
        "print( tb_salida[ , list( \"prob( m1 > m2)\" = sum(ganancia1 > ganancia2 )/ .N ) ]  )"
      ],
      "metadata": {
        "id": "8rdPIcfzgob7",
        "outputId": "ceae610b-9459-4290-f627-90cb1110bf0f",
        "colab": {
          "base_uri": "https://localhost:8080/",
          "height": 0
        }
      },
      "execution_count": 79,
      "outputs": [
        {
          "output_type": "stream",
          "name": "stdout",
          "text": [
            "   prob( m1 > m2)\n",
            "            <num>\n",
            "1:           0.52\n"
          ]
        }
      ]
    },
    {
      "cell_type": "markdown",
      "source": [
        "### Acciones a realizar\n",
        "* Reportar la  los resultados en la planilla colaborativa hoja  **C2-dosBuenos**\n"
      ],
      "metadata": {
        "id": "nNNJWYRadsE7"
      }
    },
    {
      "cell_type": "markdown",
      "source": [
        "\n",
        "\n",
        "---\n",
        "\n"
      ],
      "metadata": {
        "id": "LTBEq6SEdsE8"
      }
    },
    {
      "cell_type": "markdown",
      "source": [],
      "metadata": {
        "id": "ebcTZX7Sg1Le"
      }
    },
    {
      "cell_type": "markdown",
      "source": [
        "# 8 Test de Wilcoxon\n",
        "## Clase 02  Experimento 8"
      ],
      "metadata": {
        "id": "RAtn4x6Bg1u1"
      }
    },
    {
      "cell_type": "markdown",
      "source": [],
      "metadata": {
        "id": "RWxjnSsVg_ol"
      }
    },
    {
      "cell_type": "markdown",
      "source": [
        "## 8.1  Objetivos\n",
        "\n",
        "¿Como calcular la cantidad mínima de semillas que hacen falta para tener cierta certeza que un modelo es superior a otro?"
      ],
      "metadata": {
        "id": "Gf0LF3ywhAEU"
      }
    },
    {
      "cell_type": "markdown",
      "source": [
        "## 8.2  Introduccion\n",
        "\n",
        "| Hiperparámetro | Arbol 1 | Arbol 2 |\n",
        "| --- | --: |  ---: |\n",
        "| cp | -1 | -1 |\n",
        "|minsplit | 170 | 250 |\n",
        "|minbucket | 70 | 125 |\n",
        "|maxdepth | 7 | 20 |\n",
        "\n",
        "<br>\n",
        "<br>\n",
        "\n",
        "\n",
        "| ordinal | semilla | ganancia1 | ganancia2 | p-value |\n",
        "| --- | --- |  --- |  --- |  --- |\n",
        "| 1 |378821 | 41,470,000 | 37,790,000 | 1.000 |\n",
        "| 2 | 964333  | 48,480,000  | 43,660,000 | 0.500 |\n",
        "| 3 | 187049 | 50,610,000 | 47,840,000 | 0.250 |\n",
        "| 4 | 205151 | 45,580,000 | 44,490,000 | 0.125 |\n",
        "| 5 | 813697 | 52,780,000 | 46,750,000 |  0.063 |\n",
        "| 6 | 344719 | 49,970,000 | 44,300,000 | 0.031 |\n",
        "|7 |127217  |52,810,000 | 42,840,000 |0.016 |\n",
        "| 8 | 464371 | 43,060,000 | 37,300,000 | 0.008 |\n",
        "| 9 | 645137 | 49,660,000 |43,730,000 | 0.004|\n",
        "\n",
        "\n"
      ],
      "metadata": {
        "id": "k4PJGTDViZne"
      }
    },
    {
      "cell_type": "markdown",
      "source": [
        "## 8.3 Codigo Test de Wilcoxon"
      ],
      "metadata": {
        "id": "gAeSRdWRhg61"
      }
    },
    {
      "cell_type": "code",
      "source": [
        "# 1 sola ganancia\n",
        "wilcox.test(\n",
        "  c(41470000),\n",
        "  c(37790000),\n",
        "  paired = TRUE\n",
        ")\n"
      ],
      "metadata": {
        "id": "6r5M0J0HdsE8",
        "outputId": "947157d2-b39e-4161-ffe2-8c9507843af7",
        "colab": {
          "base_uri": "https://localhost:8080/",
          "height": 121
        }
      },
      "execution_count": 80,
      "outputs": [
        {
          "output_type": "display_data",
          "data": {
            "text/plain": [
              "\n",
              "\tWilcoxon signed rank exact test\n",
              "\n",
              "data:  c(41470000) and c(37790000)\n",
              "V = 1, p-value = 1\n",
              "alternative hypothesis: true location shift is not equal to 0\n"
            ]
          },
          "metadata": {}
        }
      ]
    },
    {
      "cell_type": "code",
      "source": [
        "# 2 ganancias\n",
        "wilcox.test(\n",
        "  c(41470000, 48480000),\n",
        "  c(37790000, 43660000),\n",
        "  paired = TRUE\n",
        ")\n"
      ],
      "metadata": {
        "id": "1pscqL9vLzYE",
        "outputId": "3ec07781-b9f2-4380-b896-3a6cab4d0f11",
        "colab": {
          "base_uri": "https://localhost:8080/",
          "height": 121
        }
      },
      "execution_count": 81,
      "outputs": [
        {
          "output_type": "display_data",
          "data": {
            "text/plain": [
              "\n",
              "\tWilcoxon signed rank exact test\n",
              "\n",
              "data:  c(41470000, 48480000) and c(37790000, 43660000)\n",
              "V = 3, p-value = 0.5\n",
              "alternative hypothesis: true location shift is not equal to 0\n"
            ]
          },
          "metadata": {}
        }
      ]
    },
    {
      "cell_type": "code",
      "source": [
        "# 3 ganancias\n",
        "wilcox.test(\n",
        "  c(41470000, 48480000, 50610000),\n",
        "  c(37790000, 43660000, 47840000),\n",
        "  paired = TRUE\n",
        ")"
      ],
      "metadata": {
        "id": "p3f_mtKwhSHA",
        "outputId": "4e030127-5d60-4c05-925b-cbdebdaae601",
        "colab": {
          "base_uri": "https://localhost:8080/",
          "height": 121
        }
      },
      "execution_count": 82,
      "outputs": [
        {
          "output_type": "display_data",
          "data": {
            "text/plain": [
              "\n",
              "\tWilcoxon signed rank exact test\n",
              "\n",
              "data:  c(41470000, 48480000, 50610000) and c(37790000, 43660000, 47840000)\n",
              "V = 6, p-value = 0.25\n",
              "alternative hypothesis: true location shift is not equal to 0\n"
            ]
          },
          "metadata": {}
        }
      ]
    },
    {
      "cell_type": "code",
      "source": [
        "# 4 ganancias\n",
        "wilcox.test(\n",
        "  c(41470000, 48480000, 50610000, 45580000),\n",
        "  c(37790000, 43660000, 47840000, 44490000),\n",
        "  paired = TRUE\n",
        ")\n"
      ],
      "metadata": {
        "id": "-ijX69r9hT6Z",
        "outputId": "3e3aa807-934e-4cea-dc42-98a2c042003e",
        "colab": {
          "base_uri": "https://localhost:8080/",
          "height": 121
        }
      },
      "execution_count": 83,
      "outputs": [
        {
          "output_type": "display_data",
          "data": {
            "text/plain": [
              "\n",
              "\tWilcoxon signed rank exact test\n",
              "\n",
              "data:  c(41470000, 48480000, 50610000, 45580000) and c(37790000, 43660000, 47840000, 44490000)\n",
              "V = 10, p-value = 0.125\n",
              "alternative hypothesis: true location shift is not equal to 0\n"
            ]
          },
          "metadata": {}
        }
      ]
    },
    {
      "cell_type": "code",
      "source": [
        "# 5 ganancias\n",
        "wilcox.test(\n",
        "  c(41470000, 48480000, 50610000, 45580000, 52780000),\n",
        "  c(37790000, 43660000, 47840000, 44490000, 46750000),\n",
        "  paired = TRUE\n",
        ")"
      ],
      "metadata": {
        "id": "X9J_CHGehVfr",
        "outputId": "fe3210e9-492d-4287-d98f-c490e801dac5",
        "colab": {
          "base_uri": "https://localhost:8080/",
          "height": 121
        }
      },
      "execution_count": 84,
      "outputs": [
        {
          "output_type": "display_data",
          "data": {
            "text/plain": [
              "\n",
              "\tWilcoxon signed rank exact test\n",
              "\n",
              "data:  c(41470000, 48480000, 50610000, 45580000, 52780000) and c(37790000, 43660000, 47840000, 44490000, 46750000)\n",
              "V = 15, p-value = 0.0625\n",
              "alternative hypothesis: true location shift is not equal to 0\n"
            ]
          },
          "metadata": {}
        }
      ]
    },
    {
      "cell_type": "code",
      "source": [
        "# 6 ganancias\n",
        "wilcox.test(\n",
        "  c(41470000, 48480000, 50610000, 45580000, 52780000, 49970000),\n",
        "  c(37790000, 43660000, 47840000, 44490000, 46750000, 44300000),\n",
        "  paired = TRUE\n",
        ")"
      ],
      "metadata": {
        "id": "H3CNNonOhXp0",
        "outputId": "26cc275f-58a4-4a04-b2a0-5a4e413f735c",
        "colab": {
          "base_uri": "https://localhost:8080/",
          "height": 121
        }
      },
      "execution_count": 85,
      "outputs": [
        {
          "output_type": "display_data",
          "data": {
            "text/plain": [
              "\n",
              "\tWilcoxon signed rank exact test\n",
              "\n",
              "data:  c(41470000, 48480000, 50610000, 45580000, 52780000, 49970000) and c(37790000, 43660000, 47840000, 44490000, 46750000, 44300000)\n",
              "V = 21, p-value = 0.03125\n",
              "alternative hypothesis: true location shift is not equal to 0\n"
            ]
          },
          "metadata": {}
        }
      ]
    },
    {
      "cell_type": "code",
      "source": [
        "# Finalmente el p-value es  0.03125  < 0.05\n",
        "# hicieron falta  SEIS semillas, seis ganancias, para\n",
        "#   afirmar que el modelo 1 es superior al modelo 2\n",
        "\n",
        "# 7 ganancias\n",
        "wilcox.test(\n",
        "  c(41470000, 48480000, 50610000, 45580000, 52780000, 49970000, 52810000),\n",
        "  c(37790000, 43660000, 47840000, 44490000, 46750000, 44300000, 42840000),\n",
        "  paired = TRUE\n",
        ")\n"
      ],
      "metadata": {
        "id": "NTW8kwY8hamz",
        "outputId": "987baa76-eefc-4de2-a0a5-5cdbeaabbabf",
        "colab": {
          "base_uri": "https://localhost:8080/",
          "height": 121
        }
      },
      "execution_count": 86,
      "outputs": [
        {
          "output_type": "display_data",
          "data": {
            "text/plain": [
              "\n",
              "\tWilcoxon signed rank exact test\n",
              "\n",
              "data:  c(41470000, 48480000, 50610000, 45580000, 52780000, 49970000, 52810000) and c(37790000, 43660000, 47840000, 44490000, 46750000, 44300000, 42840000)\n",
              "V = 28, p-value = 0.01563\n",
              "alternative hypothesis: true location shift is not equal to 0\n"
            ]
          },
          "metadata": {}
        }
      ]
    },
    {
      "cell_type": "code",
      "source": [
        "# 8 ganancias\n",
        "wilcox.test(\n",
        "  c(41470000, 48480000, 50610000, 45580000, 52780000, 49970000, 52810000, 43060000),\n",
        "  c(37790000, 43660000, 47840000, 44490000, 46750000, 44300000, 42840000, 37300000),\n",
        "  paired = TRUE\n",
        ")\n"
      ],
      "metadata": {
        "id": "Xks918w8hcgC",
        "outputId": "5c1fffbd-47fa-4b9b-cd01-155bf4960807",
        "colab": {
          "base_uri": "https://localhost:8080/",
          "height": 121
        }
      },
      "execution_count": 87,
      "outputs": [
        {
          "output_type": "display_data",
          "data": {
            "text/plain": [
              "\n",
              "\tWilcoxon signed rank exact test\n",
              "\n",
              "data:  c(41470000, 48480000, 50610000, 45580000, 52780000, 49970000, 52810000, 43060000) and c(37790000, 43660000, 47840000, 44490000, 46750000, 44300000, 42840000, 37300000)\n",
              "V = 36, p-value = 0.007813\n",
              "alternative hypothesis: true location shift is not equal to 0\n"
            ]
          },
          "metadata": {}
        }
      ]
    },
    {
      "cell_type": "code",
      "source": [
        "# 9 ganancias\n",
        "wilcox.test(\n",
        "  c(41470000, 48480000, 50610000, 45580000, 52780000, 49970000, 52810000, 43060000, 49660000),\n",
        "  c(37790000, 43660000, 47840000, 44490000, 46750000, 44300000, 42840000, 37300000, 43730000),\n",
        "  paired = TRUE\n",
        ")"
      ],
      "metadata": {
        "id": "5x8L1PMGhdJR",
        "outputId": "982b791c-08de-4687-999d-2ae05cca514c",
        "colab": {
          "base_uri": "https://localhost:8080/",
          "height": 121
        }
      },
      "execution_count": 88,
      "outputs": [
        {
          "output_type": "display_data",
          "data": {
            "text/plain": [
              "\n",
              "\tWilcoxon signed rank exact test\n",
              "\n",
              "data:  c(41470000, 48480000, 50610000, 45580000, 52780000, 49970000, 52810000, 43060000, 49660000) and c(37790000, 43660000, 47840000, 44490000, 46750000, 44300000, 42840000, 37300000, 43730000)\n",
              "V = 45, p-value = 0.003906\n",
              "alternative hypothesis: true location shift is not equal to 0\n"
            ]
          },
          "metadata": {}
        }
      ]
    },
    {
      "cell_type": "markdown",
      "source": [
        "\n",
        "\n",
        "---\n",
        "\n"
      ],
      "metadata": {
        "id": "Qjay2WBIkhNm"
      }
    },
    {
      "cell_type": "markdown",
      "source": [
        "# 9 Comparando automaticamente modelos con test de Wilcoxon\n",
        "## Clase 02  Experimento 9"
      ],
      "metadata": {
        "id": "g2aqxlCIk3fk"
      }
    },
    {
      "cell_type": "markdown",
      "source": [],
      "metadata": {
        "id": "FhCY4sH8k3fw"
      }
    },
    {
      "cell_type": "markdown",
      "source": [
        "## 9.1  Objetivos\n",
        "\n",
        "Proveer un script que permita comparar dos arboles de decisión con la librería rpart utilizando la menor cantidad de cómputo que permita el Test de Wilxcoxon"
      ],
      "metadata": {
        "id": "a_ZVBKBHk3fx"
      }
    },
    {
      "cell_type": "markdown",
      "source": [
        "## 9.2  Introduccion\n",
        "\n",
        "| Hiperparámetro | Arbol 1 | Arbol 2 |\n",
        "| --- | --- |  --- |\n",
        "| cp | -1 | -1 |\n",
        "|minsplit | 1050 | 650 |\n",
        "|minbucket | 550 | 300 |\n",
        "|maxdepth |67 | 6 |\n",
        "\n",
        "\n"
      ],
      "metadata": {
        "id": "qCd56L0Ik3fx"
      }
    },
    {
      "cell_type": "markdown",
      "source": [
        "## 9.3 Codigo comparacion automatica Wilcoxon"
      ],
      "metadata": {
        "id": "NBtQsG3vk3fx"
      }
    },
    {
      "cell_type": "markdown",
      "source": [
        "Esta parte se debe correr con el runtime en lenguaje **R** Ir al menu, Runtime -> Change Runtime Tipe -> Runtime type -> R"
      ],
      "metadata": {
        "id": "-ARzDPORlpG6"
      }
    },
    {
      "cell_type": "markdown",
      "source": [
        "limpio el ambiente de R"
      ],
      "metadata": {
        "id": "-Sy-sLMXlpHI"
      }
    },
    {
      "cell_type": "code",
      "source": [
        "# limpio la memoria\n",
        "rm(list=ls(all.names=TRUE)) # remove all objects\n",
        "gc(full=TRUE, verbose=FALSE) # garbage collection"
      ],
      "metadata": {
        "id": "ZpST7lcHlpHI",
        "outputId": "d6ef2a0d-83e6-48ef-ab32-139c4d71e95d",
        "colab": {
          "base_uri": "https://localhost:8080/",
          "height": 130
        }
      },
      "execution_count": 89,
      "outputs": [
        {
          "output_type": "display_data",
          "data": {
            "text/html": [
              "<table class=\"dataframe\">\n",
              "<caption>A matrix: 2 × 6 of type dbl</caption>\n",
              "<thead>\n",
              "\t<tr><th></th><th scope=col>used</th><th scope=col>(Mb)</th><th scope=col>gc trigger</th><th scope=col>(Mb)</th><th scope=col>max used</th><th scope=col>(Mb)</th></tr>\n",
              "</thead>\n",
              "<tbody>\n",
              "\t<tr><th scope=row>Ncells</th><td>1465991</td><td>78.3</td><td> 2534560</td><td>135.4</td><td>  2534560</td><td>135.4</td></tr>\n",
              "\t<tr><th scope=row>Vcells</th><td>2673047</td><td>20.4</td><td>50886701</td><td>388.3</td><td>103913292</td><td>792.8</td></tr>\n",
              "</tbody>\n",
              "</table>\n"
            ],
            "text/markdown": "\nA matrix: 2 × 6 of type dbl\n\n| <!--/--> | used | (Mb) | gc trigger | (Mb) | max used | (Mb) |\n|---|---|---|---|---|---|---|\n| Ncells | 1465991 | 78.3 |  2534560 | 135.4 |   2534560 | 135.4 |\n| Vcells | 2673047 | 20.4 | 50886701 | 388.3 | 103913292 | 792.8 |\n\n",
            "text/latex": "A matrix: 2 × 6 of type dbl\n\\begin{tabular}{r|llllll}\n  & used & (Mb) & gc trigger & (Mb) & max used & (Mb)\\\\\n\\hline\n\tNcells & 1465991 & 78.3 &  2534560 & 135.4 &   2534560 & 135.4\\\\\n\tVcells & 2673047 & 20.4 & 50886701 & 388.3 & 103913292 & 792.8\\\\\n\\end{tabular}\n",
            "text/plain": [
              "       used    (Mb) gc trigger (Mb)  max used  (Mb) \n",
              "Ncells 1465991 78.3  2534560   135.4   2534560 135.4\n",
              "Vcells 2673047 20.4 50886701   388.3 103913292 792.8"
            ]
          },
          "metadata": {}
        }
      ]
    },
    {
      "cell_type": "markdown",
      "source": [
        "* Instalacion de la libreria  rpart.plot  para dibujar el arbol\n",
        "* invocacion de las librerias  **data.table** y  **rpart**"
      ],
      "metadata": {
        "id": "jHhAx3cvlpHJ"
      }
    },
    {
      "cell_type": "code",
      "source": [
        "# cargo las librerias que necesito\n",
        "require(\"data.table\")\n",
        "require(\"rpart\")\n",
        "require(\"parallel\")\n",
        "\n",
        "if (!require(\"primes\")) install.packages(\"primes\")\n",
        "require(\"primes\")\n",
        "\n",
        "require(\"ggplot2\")"
      ],
      "metadata": {
        "id": "cbPnXeeqlpHJ"
      },
      "execution_count": 90,
      "outputs": []
    },
    {
      "cell_type": "markdown",
      "source": [
        "###  Accion a Realizar\n",
        "PARAM$semilla_primigenia  debe reemplazarse por SU primer semilla"
      ],
      "metadata": {
        "id": "_GQk_NEUlpHK"
      }
    },
    {
      "cell_type": "code",
      "source": [
        "PARAM <- list()\n",
        "PARAM$semilla_primigenia <- 304879\n",
        "PARAM$qsemillas_tope <- 50\n",
        "PARAM$training_pct <- 70L     # entre 1 y 100\n"
      ],
      "metadata": {
        "id": "Do801PIHlpHK"
      },
      "execution_count": 91,
      "outputs": []
    },
    {
      "cell_type": "code",
      "source": [
        "# los dos arboles\n",
        "PARAM$rpart1 <- list (\n",
        "  \"cp\" = -1,\n",
        "  \"minsplit\" = 800,\n",
        "  \"minbucket\" = 400,\n",
        "  \"maxdepth\" = 7\n",
        ")\n",
        "\n",
        "\n",
        "PARAM$rpart2 <- list (\n",
        "  \"cp\" = -1,\n",
        "  \"minsplit\" = 650,\n",
        "  \"minbucket\" = 300,\n",
        "  \"maxdepth\" = 6\n",
        ")\n"
      ],
      "metadata": {
        "id": "KlC7gTc7lpHK"
      },
      "execution_count": 92,
      "outputs": []
    },
    {
      "cell_type": "code",
      "source": [
        "# particionar agrega una columna llamada fold a un dataset\n",
        "#  que consiste en una particion estratificada segun agrupa\n",
        "\n",
        "# particionar( data=dataset, division=c(70,30),\n",
        "#  agrupa=clase_ternaria, seed=semilla)   crea una particion 70, 30\n",
        "\n",
        "particionar <- function(\n",
        "    data, division, agrupa = \"\",\n",
        "    campo = \"fold\", start = 1, seed = NA) {\n",
        "  if (!is.na(seed)) set.seed(seed)\n",
        "\n",
        "  bloque <- unlist(mapply(function(x, y) {\n",
        "    rep(y, x)\n",
        "  }, division, seq(from = start, length.out = length(division))))\n",
        "\n",
        "  data[, (campo) := sample(rep(bloque, ceiling(.N / length(bloque))))[1:.N],\n",
        "    by = agrupa\n",
        "  ]\n",
        "}\n"
      ],
      "metadata": {
        "id": "I7hOkZrxlpHL"
      },
      "execution_count": 93,
      "outputs": []
    },
    {
      "cell_type": "code",
      "source": [
        "DosArbolesEstimarGanancia <- function(semilla, training_pct, param_rpart1, param_rpart2) {\n",
        "  # particiono estratificadamente el dataset\n",
        "  particionar(dataset,\n",
        "    division = c(training_pct, 100L -training_pct),\n",
        "    agrupa = \"clase_ternaria\",\n",
        "    seed = semilla # aqui se usa SU semilla\n",
        "  )\n",
        "\n",
        "  # genero el modelo\n",
        "  # predecir clase_ternaria a partir del resto\n",
        "  modelo1 <- rpart(\"clase_ternaria ~ .\",\n",
        "    data = dataset[fold == 1], # fold==1  es training,  el 70% de los datos\n",
        "    xval = 0,\n",
        "    control = param_rpart1\n",
        "  ) # aqui van los parametros del arbol\n",
        "\n",
        "  # aplico el modelo a los datos de testing\n",
        "  prediccion1 <- predict(modelo1, # el modelo que genere recien\n",
        "    dataset[fold == 2], # fold==2  es testing, el 30% de los datos\n",
        "    type = \"prob\"\n",
        "  ) # type= \"prob\"  es que devuelva la probabilidad\n",
        "\n",
        "\n",
        "  # calculo la ganancia en testing  qu es fold==2\n",
        "  ganancia_test1 <- dataset[\n",
        "    fold == 2,\n",
        "    sum(ifelse(prediccion1[, \"BAJA+2\"] > 0.025,\n",
        "      ifelse(clase_ternaria == \"BAJA+2\", 117000, -3000),\n",
        "      0\n",
        "    ))\n",
        "  ]\n",
        "\n",
        "  # escalo la ganancia como si fuera todo el dataset\n",
        "  ganancia_test_normalizada1 <- ganancia_test1 / (( 100 - training_pct ) / 100 )\n",
        "\n",
        "  modelo2 <- rpart(\"clase_ternaria ~ .\",\n",
        "    data = dataset[fold == 1], # fold==1  es training,  el 70% de los datos\n",
        "    xval = 0,\n",
        "    control = param_rpart2\n",
        "  ) # aqui van los parametros del arbol\n",
        "\n",
        "  # aplico el modelo a los datos de testing\n",
        "  prediccion2 <- predict(modelo2, # el modelo que genere recien\n",
        "    dataset[fold == 2], # fold==2  es testing, el 30% de los datos\n",
        "    type = \"prob\"\n",
        "  ) # type= \"prob\"  es que devuelva la probabilidad\n",
        "\n",
        "\n",
        "  # calculo la ganancia en testing  qu es fold==2\n",
        "  ganancia_test2 <- dataset[\n",
        "    fold == 2,\n",
        "    sum(ifelse(prediccion2[, \"BAJA+2\"] > 0.025,\n",
        "      ifelse(clase_ternaria == \"BAJA+2\", 117000, -3000),\n",
        "      0\n",
        "    ))\n",
        "  ]\n",
        "\n",
        "  # escalo la ganancia como si fuera todo el dataset\n",
        "  ganancia_test_normalizada2 <- ganancia_test2 / (( 100 - training_pct ) / 100 )\n",
        "\n",
        "  return(list(\n",
        "    \"semilla\" = semilla,\n",
        "    \"ganancia1\" = ganancia_test_normalizada1,\n",
        "    \"ganancia2\" = ganancia_test_normalizada2\n",
        "  ))\n",
        "}"
      ],
      "metadata": {
        "id": "vFpBSFBYlpHL"
      },
      "execution_count": 94,
      "outputs": []
    },
    {
      "cell_type": "code",
      "source": [
        "# 1  ->  el modelo 1 es mejor\n",
        "# 2  ->  el modelo 2 es mejor\n",
        "# 0  ->  No se pudo determinar con el tope de qsemillas_tope\n",
        "\n",
        "\n",
        "MejorArbol <- function( qsemillas_tope, training_pct, param_rpart1, param_rpart2) {\n",
        "\n",
        "  # genero numeros primos\n",
        "  primos <- generate_primes(min = 100000, max = 1000000)\n",
        "  set.seed(PARAM$semilla_primigenia) # inicializo\n",
        "  # me quedo con PARAM$qsemillas   semillas\n",
        "  semillas <- sample(primos, qsemillas_tope )\n",
        "\n",
        "  pvalue <- 1.0\n",
        "  isem <- 1\n",
        "  vgan1 <- c() # almaceno ganancias del modelo1\n",
        "  vgan2 <- c() # almaceno ganancias del modelo2\n",
        "\n",
        "  while( (isem <= qsemillas_tope)  & (pvalue > 0.05) ) {\n",
        "\n",
        "    res <- DosArbolesEstimarGanancia(\n",
        "       semillas[ isem ],\n",
        "       training_pct,\n",
        "       param_rpart1,\n",
        "       param_rpart2\n",
        "    )\n",
        "\n",
        "    vgan1 <- c( vgan1, res$ganancia1 )\n",
        "    vgan2 <- c( vgan2, res$ganancia2 )\n",
        "\n",
        "    wt <- wilcox.test( vgan1, vgan2, paired=TRUE )\n",
        "    pvalue <- wt$p.value\n",
        "\n",
        "    cat( isem, res$ganancia1, res$ganancia2, pvalue, \"\\n\" )\n",
        "    flush.console()\n",
        "    isem <- isem + 1\n",
        "  }\n",
        "\n",
        "  out <- 0\n",
        "\n",
        "  if( pvalue < 0.05 & mean(vgan1) > mean(vgan2)  )  out <- 1\n",
        "  if( pvalue < 0.05 & mean(vgan1) < mean(vgan2)  )  out <- 2\n",
        "\n",
        "\n",
        "  return( list( \"out\" = out,\n",
        "    \"qsemillas\" = length(vgan1),\n",
        "    \"m1\" = mean( vgan1 ),\n",
        "    \"m2\" = mean( vgan2 )\n",
        "   ) )\n",
        "}\n"
      ],
      "metadata": {
        "id": "Cp8RnA_NmE8g"
      },
      "execution_count": 95,
      "outputs": []
    },
    {
      "cell_type": "code",
      "source": [
        "# carpeta de trabajo\n",
        "setwd(\"/content/buckets/b1/exp\")\n",
        "experimento <- \"exp209\"\n",
        "dir.create(experimento, showWarnings=FALSE)\n",
        "setwd( paste0(\"/content/buckets/b1/exp/\", experimento ))"
      ],
      "metadata": {
        "id": "r1motpfOlpHM"
      },
      "execution_count": 96,
      "outputs": []
    },
    {
      "cell_type": "code",
      "source": [
        "# lectura del dataset\n",
        "dataset <- fread(\"/content/datasets/dataset_pequeno.csv\")\n",
        "\n",
        "# trabajo solo con los datos con clase, es decir 202107\n",
        "dataset <- dataset[clase_ternaria != \"\"]"
      ],
      "metadata": {
        "id": "hT0LaKWumTSu"
      },
      "execution_count": 97,
      "outputs": []
    },
    {
      "cell_type": "code",
      "source": [
        "Sys.time()\n",
        "\n",
        "comparacion <- MejorArbol(\n",
        "   PARAM$qsemillas_tope,\n",
        "   PARAM$training_pct,\n",
        "   PARAM$rpart1,\n",
        "   PARAM$rpart2\n",
        " )\n",
        "\n",
        "\n",
        "print( comparacion )\n",
        "\n",
        "Sys.time()"
      ],
      "metadata": {
        "id": "wsk0F77ambVW",
        "outputId": "ceb9eb4d-700a-448e-873d-53605d3dd810",
        "colab": {
          "base_uri": "https://localhost:8080/",
          "height": 382
        }
      },
      "execution_count": 98,
      "outputs": [
        {
          "output_type": "display_data",
          "data": {
            "text/plain": [
              "[1] \"2025-10-15 02:25:21 UTC\""
            ]
          },
          "metadata": {}
        },
        {
          "output_type": "stream",
          "name": "stdout",
          "text": [
            "1 53950000 57060000 1 \n",
            "2 41350000 45250000 0.5 \n",
            "3 46810000 49610000 0.25 \n",
            "4 49650000 48830000 0.25 \n",
            "5 49420000 51950000 0.125 \n",
            "6 46850000 50590000 0.0625 \n",
            "7 46800000 53400000 0.03125 \n",
            "$out\n",
            "[1] 2\n",
            "\n",
            "$qsemillas\n",
            "[1] 7\n",
            "\n",
            "$m1\n",
            "[1] 47832857\n",
            "\n",
            "$m2\n",
            "[1] 50955714\n",
            "\n"
          ]
        },
        {
          "output_type": "display_data",
          "data": {
            "text/plain": [
              "[1] \"2025-10-15 02:38:23 UTC\""
            ]
          },
          "metadata": {}
        }
      ]
    },
    {
      "cell_type": "markdown",
      "source": [
        "### Acciones a realizar\n",
        "* Reportar la  los resultados en la planilla colaborativa hoja  **C2-Wilcox**\n"
      ],
      "metadata": {
        "id": "d2br1bgJlpHQ"
      }
    },
    {
      "cell_type": "markdown",
      "source": [
        "\n",
        "\n",
        "---\n",
        "\n"
      ],
      "metadata": {
        "id": "x7SebtV2lpHQ"
      }
    }
  ]
}